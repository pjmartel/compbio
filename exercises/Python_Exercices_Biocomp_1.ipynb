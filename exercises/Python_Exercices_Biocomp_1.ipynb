{
 "cells": [
  {
   "cell_type": "markdown",
   "metadata": {},
   "source": [
    "### Exercice 1: Reading FASTA files\n",
    "\n",
    "The FASTA format is a standard file format for storing biological sequences (DNA, RNA and Protein). \n",
    "It's a very simple format, where the first line must start with a \">\"sign and can be followed bv some \n",
    "generic title text on the same line. The following lines will contain the sequence as a list of \n",
    "characters (A, T, G, C or U in the case of nucleic acids) of variable length. The sequence can span \n",
    "one or more lines without a fixed length size. \n",
    "\n",
    "Example of FASTA DNA file:\n",
    "\n",
    "```\n",
    ">LC530718.1 Homo sapiens mitochondrial tRNA-Met, complete sequence\n",
    "AGTAAGGTCAGCTAAATAAGCTATCGGGCCCATACCCCGAAAATGTTGGTTATACCCTTCC\n",
    "CGTACTACCA\n",
    "```\n",
    "\n",
    "The purpose of this exercise is to write a Python code than can read a DNA FASTA file and store the sequence \n",
    "in a `str` variable. The program should check that the file has the format described above, and if not produce\n",
    "an informative error message and stop. The program should also check for invalid characters within the file,\n",
    "because a DNA sequence must contain only \"A\", \"T\", \"G\" or \"C\".\n",
    "The file `LC530718.fasta` can be found in your working folder and you \n",
    "should be able to read it from within your Python code as described in the tutorial.\n",
    "\n",
    "Some tips:\n",
    "1. Make sure you use the \"r\" mode to open the fasta file or you will erase its contents!\n",
    "2. You can use a logical expression of the type `a in \"xyz\"` to check if `a`is one of `x`, `y` or `z`\n",
    "3. You can use the `readline` method of the file descriptor to read each line of the file in turn.\n",
    "4. Remember that each line read by `readline` ends with a `\\n` (end-of-line) character tha must be removed.\n",
    "5. In order to obtain info about a function or method, you can use the `help` python command or write \n",
    "   the name of the class,place a `.` after it and press the TAB key (auto-completion).\n",
    "6. Use the `exit` function from the `sys` module to exit the program in case of an error. Remember,\n",
    "   you must import the `exit` function before you can call it in your program. Use `from sys import exit` \n",
    "   to import the function and make it available to your code. \n",
    "7. Defina uma função para fazer a verificação dos símbolos correctos na sequência. "
   ]
  },
  {
   "cell_type": "code",
   "execution_count": null,
   "metadata": {},
   "outputs": [],
   "source": []
  },
  {
   "cell_type": "markdown",
   "metadata": {},
   "source": [
    "### Exercice 2: Converting your program into a function\n",
    "\n",
    "Convert the previous code into a function that accepts as a parameter the name\n",
    "of a FASTA file and returns the sequence contained in the file. \n",
    "\n",
    "The function should work like this:\n",
    "```\n",
    "In [50]: read_fasta_seq(\"LC530718.fasta\")\n",
    "Reading sequence ' LC530718.1 Homo sapiens mitochondrial tRNA-Met, complete sequence ' from file  LC530718.fasta\n",
    "\n",
    "Out [50]: 'AGTAAGGTCAGCTAAATAAGCTATCGGGCCCATACCCCGAAAATGTTGGTTATACCCTTCCCGTACTACCA'\n",
    "```\n",
    "\n"
   ]
  },
  {
   "cell_type": "code",
   "execution_count": null,
   "metadata": {},
   "outputs": [],
   "source": []
  },
  {
   "cell_type": "markdown",
   "metadata": {},
   "source": [
    "### Exercice 3: Calculate DNA sequence properties\n",
    "\n",
    "Write a code using the previous function that calculates the folloing properties \n",
    "of a DNA sequence:\n",
    "1. Length\n",
    "2. Molecular Weight\n",
    "3. Ratio (A+T)/(G+C) (the ratio between total count of A's and T's divided by total counf of G's and C's.\n",
    "\n",
    "Use the `KU933268.fasta` file as input to test your program. You should get the following results:\n",
    "\n",
    "```\n",
    "Sequence length:  3548\n",
    "Molecular weight: 1156718.60\n",
    "AT/GC ratio: 1.03\n",
    "```\n",
    "\n",
    "NOTE: to calculate the total molecular weight, use the following deoxynucleotide weigths:\n",
    " - dAMP\t331.2 g/mol\n",
    " - dCMP\t307.2 g/mol\n",
    " - dGMP\t347.2 g/mol\n",
    " - dTMP\t322.2 g/mol\n",
    " \n",
    "HINT: look at the 'count' `str` method. \n"
   ]
  },
  {
   "cell_type": "code",
   "execution_count": null,
   "metadata": {},
   "outputs": [],
   "source": []
  }
 ],
 "metadata": {
  "kernelspec": {
   "display_name": "Python 3",
   "language": "python",
   "name": "python3"
  },
  "language_info": {
   "codemirror_mode": {
    "name": "ipython",
    "version": 3
   },
   "file_extension": ".py",
   "mimetype": "text/x-python",
   "name": "python",
   "nbconvert_exporter": "python",
   "pygments_lexer": "ipython3",
   "version": "3.6.9"
  }
 },
 "nbformat": 4,
 "nbformat_minor": 4
}
