{
 "cells": [
  {
   "cell_type": "markdown",
   "metadata": {},
   "source": [
    "### Exercice 1: Reading FASTA files\n",
    "\n",
    "The FASTA format is a standard file format for storing biological sequences (DNA, RNA and Protein). \n",
    "It's a very simple format, where the first line must start with a \">\"sign and can be followed bv some \n",
    "generic title text on the same line. The following lines will contain the sequence as a list of \n",
    "characters (A, T, G, C or U in the case of nucleic acids) of variable length. The sequence can span \n",
    "one or more lines without a fixed length size. \n",
    "\n",
    "Example of FASTA DNA file:\n",
    "\n",
    "```\n",
    ">LC530718.1 Homo sapiens mitochondrial tRNA-Met, complete sequence\n",
    "AGTAAGGTCAGCTAAATAAGCTATCGGGCCCATACCCCGAAAATGTTGGTTATACCCTTCC\n",
    "CGTACTACCA\n",
    "```\n",
    "\n",
    "The purpose of this exercise is to write a Python code than can read a DNA FASTA file and store the sequence \n",
    "in a `str` variable. The program should check that the file has the format described above, and if not produce\n",
    "an informative error message and stop. The program should also check for invalid characters within the file,\n",
    "because a DNA sequence must contain only \"A\", \"T\", \"G\" or \"C\".\n",
    "The file `LC530718.fasta` can be found in your working folder and you \n",
    "should be able to read it from within your Python code as described in the tutorial.\n",
    "\n",
    "Some tips:\n",
    "1. Make sure you use the \"r\" mode to open the fasta file or you will erase its contents!\n",
    "2. You can use a logical expression of the type `a in \"xyz\"` to check if `a`is one of `x`, `y` or `z`\n",
    "3. You can use the `readline` method of the file descriptor to read each line of the file in turn.\n",
    "4. Remember that each line read by `readline` ends with a `\\n` (end-of-line) character tha must be removed.\n",
    "5. In order to obtain info about a function or method, you can use the `help` python command or write \n",
    "   the name of the class,place a `.` after it and press the TAB key (auto-completion).\n",
    "6. Use the `exit` function from the `sys` module to exit the program in case of an error. Remember,\n",
    "   you must import the `exit` function before you can call it in your program. Use `from sys import exit` \n",
    "   to import the function and make it available to your code. \n",
    "7. Defina uma função para fazer a verificação dos símbolos correctos na sequência. "
   ]
  },
  {
   "cell_type": "code",
   "execution_count": null,
   "metadata": {},
   "outputs": [],
   "source": []
  },
  {
   "cell_type": "code",
   "execution_count": 29,
   "metadata": {},
   "outputs": [
    {
     "name": "stdout",
     "output_type": "stream",
     "text": [
      "Header:  LC530718.1 Homo sapiens mitochondrial tRNA-Met, complete sequence\n",
      "Sequence:  AGTAAGGTCAGCTAAATAAGCTATCGGGCCCATACCCCGAAAATGTTGGTTATACCCTTCCCGTACTACCA\n"
     ]
    }
   ],
   "source": [
    "# Solution 1 (usig check function)\n",
    "from sys import exit\n",
    "\n",
    "# define functiono check sequence symbols\n",
    "def check_sequence(seq,symbols):\n",
    "    for a in seq:\n",
    "        if not a in symbols :\n",
    "            print(\"Invalid Character in sequence:\", a)\n",
    "            exit(1)\n",
    "\n",
    "fasta=\"LC530718.fasta\"\n",
    "\n",
    "# open the FASTA file for reading\n",
    "f = open(fasta, \"r\")\n",
    "lines = f.readlines()  # read the lines\n",
    "f.close() # close the file\n",
    "\n",
    "sequence = \"\" # this variable will contain the sequence\n",
    "\n",
    "# check for a valid starting character ('>')\n",
    "if lines[0][0] != '>' : # if first caracter is not '>' execute the lines below\n",
    "    print(\"Error: missing '>' character in FASTA file\") # print error message\n",
    "    exit(1) # exit the program\n",
    "\n",
    "# read the header\n",
    "header = lines[0][1:-1] # first line excluding the first character\n",
    "\n",
    "# read lines one by one\n",
    "for line in lines[1:]: \n",
    "    check_sequence(line[:-1],\"ATGC\") # for each line, check it only contains the ATGC symbols\n",
    "    sequence = sequence + line[:-1] # add the line to the sequence\n",
    "\n",
    "print(\"Header: \", header) # print the sequence header\n",
    "print(\"Sequence: \", sequence)  # print the sequence"
   ]
  },
  {
   "cell_type": "code",
   "execution_count": null,
   "metadata": {},
   "outputs": [],
   "source": []
  },
  {
   "cell_type": "code",
   "execution_count": 30,
   "metadata": {},
   "outputs": [
    {
     "name": "stdout",
     "output_type": "stream",
     "text": [
      "Header:  LC530718.1 Homo sapiens mitochondrial tRNA-Met, complete sequence\n",
      "Sequence:  AGTAAGGTCAGCTAAATAAGCTATCGGGCCCATACCCCGAAAATGTTGGTTATACCCTTCCCGTACTACCA\n"
     ]
    }
   ],
   "source": [
    "## Solution 2 (usig check function + raise)\n",
    "\n",
    "def check_sequence(seq,symbols):\n",
    "    for a in seq:\n",
    "        if not a in symbols :\n",
    "            raise SystemExit(\"Invalid character in sequence: \"+a)\n",
    "\n",
    "fasta=\"LC530718.fasta\"\n",
    "f = open(fasta, \"r\")\n",
    "lines = f.readlines()\n",
    "f.close()\n",
    "\n",
    "sequence = \"\"\n",
    "if lines[0][0] != '>' :\n",
    "    raise SystemExit(\"Error: missing '>' character in FASTA file\")\n",
    "\n",
    "header = lines[0][1:-1]\n",
    "\n",
    "for line in lines[1:]:\n",
    "    check_sequence(line[:-1],\"ATGC\")\n",
    "    sequence = sequence + line[:-1]\n",
    "\n",
    "f.close()\n",
    "print(\"Header: \", header)\n",
    "print(\"Sequence: \", sequence)"
   ]
  },
  {
   "cell_type": "code",
   "execution_count": 31,
   "metadata": {},
   "outputs": [
    {
     "name": "stdout",
     "output_type": "stream",
     "text": [
      "Header:  LC530718.1 Homo sapiens mitochondrial tRNA-Met, complete sequence\n",
      "Sequence:  AGTAAGGTCAGCTAAATAAGCTATCGGGCCCATACCCCGAAAATGTTGGTTATACCCTTCCCGTACTACCA\n"
     ]
    }
   ],
   "source": [
    "## Solution 3 (usig sets)\n",
    "fasta=\"LC530718.fasta\"\n",
    "\n",
    "f = open(fasta, \"r\")\n",
    "lines = f.readlines()\n",
    "f.close()\n",
    "\n",
    "sequence = \"\"\n",
    "\n",
    "if lines[0][0] != '>' :\n",
    "    print(\"Error: missing '>' character in FASTA file\")\n",
    "    exit(1)\n",
    "header = lines[0][1:-1]\n",
    "\n",
    "for line in lines[1:]:\n",
    "    if len(set(line[:-1])-set(\"ATGC\")) != 0 :\n",
    "        print(\"Error: invalid character in DNA sequence.\")\n",
    "        exit(1)\n",
    "    sequence = sequence + line[:-1]\n",
    "\n",
    "f.close()\n",
    "print(\"Header: \", header)\n",
    "print(\"Sequence: \", sequence)\n"
   ]
  },
  {
   "cell_type": "markdown",
   "metadata": {},
   "source": [
    "### Exercice 2: Converting your program into a function\n",
    "\n",
    "Convert the previous code into a function that accepts as a parameter the name\n",
    "of a FASTA file and returns the sequence contained in the file. \n",
    "\n",
    "The function should work like this:\n",
    "```\n",
    "In [50]: read_fasta_seq(\"LC530718.fasta\")\n",
    "Reading sequence ' LC530718.1 Homo sapiens mitochondrial tRNA-Met, complete sequence ' from file  LC530718.fasta\n",
    "\n",
    "Out [50]: 'AGTAAGGTCAGCTAAATAAGCTATCGGGCCCATACCCCGAAAATGTTGGTTATACCCTTCCCGTACTACCA'\n",
    "```\n",
    "\n"
   ]
  },
  {
   "cell_type": "code",
   "execution_count": 32,
   "metadata": {},
   "outputs": [],
   "source": [
    "# Solution 1 (using check function)\n",
    "def read_fasta_seq(name):\n",
    "    \n",
    "    def check_sequence(seq,symbols):\n",
    "        for a in seq:\n",
    "            if not a in symbols :\n",
    "                raise SystemExit(\"Invalid character in sequence: \"+a)\n",
    "        \n",
    "\n",
    "    # Read lines in FASTA file\n",
    "    with open(name, \"r\") as f:\n",
    "        lines = f.readlines()\n",
    "        \n",
    "    sequence = \"\"\n",
    "    \n",
    "    # Check for starting '>' in FASTA file\n",
    "    if lines[0][0] != '>' :\n",
    "        print(\"Error: missing '>' character in FASTA file\")\n",
    "        exit(1)\n",
    "        \n",
    "    header = lines[0][1:-1]\n",
    "\n",
    "    # Check each line for valid characters and add it to the sequence\n",
    "    for line in lines[1:]:\n",
    "        check_sequence(line[:-1],\"ATGC\") # ATGC are the valid DNA characters\n",
    "        sequence = sequence + line[:-1]\n",
    "\n",
    "    # Output the sequence\n",
    "    print(\"Reading sequence '\", header, \"' from file \", name)\n",
    "    return sequence"
   ]
  },
  {
   "cell_type": "code",
   "execution_count": 33,
   "metadata": {},
   "outputs": [
    {
     "name": "stdout",
     "output_type": "stream",
     "text": [
      "Reading sequence ' LC530718.1 Homo sapiens mitochondrial tRNA-Met, complete sequence ' from file  LC530718.fasta\n"
     ]
    },
    {
     "data": {
      "text/plain": [
       "'AGTAAGGTCAGCTAAATAAGCTATCGGGCCCATACCCCGAAAATGTTGGTTATACCCTTCCCGTACTACCA'"
      ]
     },
     "execution_count": 33,
     "metadata": {},
     "output_type": "execute_result"
    }
   ],
   "source": [
    "read_fasta_seq(\"LC530718.fasta\")"
   ]
  },
  {
   "cell_type": "markdown",
   "metadata": {},
   "source": [
    "### Exercice 3: Calculate DNA sequence properties\n",
    "\n",
    "Write a code using the previous function that calculates the folloing properties \n",
    "of a DNA sequence:\n",
    "1. Length\n",
    "2. Molecular Weight\n",
    "3. Ratio (A+T)/(G+C) (the ratio between total count of A's and T's divided by total counf of G's and C's.\n",
    "\n",
    "Use the `KU933268.fasta` file as input to test your program. You should get the following results:\n",
    "\n",
    "```\n",
    "Sequence length:  3548\n",
    "Molecular weight: 1156718.60\n",
    "AT/GC ratio: 1.03\n",
    "```\n",
    "\n",
    "NOTE: to calculate the total molecular weight, use the following deoxynucleotide weigths:\n",
    " - dAMP\t331.2 g/mol\n",
    " - dCMP\t307.2 g/mol\n",
    " - dGMP\t347.2 g/mol\n",
    " - dTMP\t322.2 g/mol\n",
    " \n",
    "HINT: look at the 'count' `str` method. \n"
   ]
  },
  {
   "cell_type": "code",
   "execution_count": 34,
   "metadata": {},
   "outputs": [
    {
     "name": "stdout",
     "output_type": "stream",
     "text": [
      "Reading sequence ' KU933268.1:6312-9859 Gallus gallus haplotype LB lysozyme c gene, complete cds ' from file  KU933268.fasta\n",
      "Sequence length:  3548\n",
      "Molecular weight: 1156718.60\n",
      "AT/GC ratio: 1.03\n"
     ]
    }
   ],
   "source": [
    "# Solution 1\n",
    "name = \"KU933268.fasta\"\n",
    "sequence = read_fasta_seq(name)\n",
    "print(\"Sequence length: \",len(sequence))\n",
    "nA = sequence.count('A')\n",
    "nT = sequence.count('T')\n",
    "nG = sequence.count('G')\n",
    "nC = sequence.count('C')\n",
    "nAT = nA+nT\n",
    "nGC = nG+nC\n",
    "mw = nA*331.2 + nT*322.2 + nG*342.2 + nC*307.2\n",
    "rATGC = nAT / nGC\n",
    "print(\"Molecular weight: {:7.2f}\".format(mw))\n",
    "print(\"AT/GC ratio: {:4.2f}\".format(rATGC))\n"
   ]
  },
  {
   "cell_type": "code",
   "execution_count": null,
   "metadata": {},
   "outputs": [],
   "source": []
  }
 ],
 "metadata": {
  "kernelspec": {
   "display_name": "Python 3",
   "language": "python",
   "name": "python3"
  },
  "language_info": {
   "codemirror_mode": {
    "name": "ipython",
    "version": 3
   },
   "file_extension": ".py",
   "mimetype": "text/x-python",
   "name": "python",
   "nbconvert_exporter": "python",
   "pygments_lexer": "ipython3",
   "version": "3.6.9"
  }
 },
 "nbformat": 4,
 "nbformat_minor": 4
}
