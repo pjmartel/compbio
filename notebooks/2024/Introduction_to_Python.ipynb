{
  "cells": [
    {
      "cell_type": "markdown",
      "metadata": {
        "id": "view-in-github",
        "colab_type": "text"
      },
      "source": [
        "<a href=\"https://colab.research.google.com/github/pjmartel/compbio/blob/master/notebooks/2024/Introduction_to_Python.ipynb\" target=\"_parent\"><img src=\"https://colab.research.google.com/assets/colab-badge.svg\" alt=\"Open In Colab\"/></a>"
      ]
    },
    {
      "cell_type": "markdown",
      "metadata": {
        "id": "gIRfyehLhGdi"
      },
      "source": [
        "### 0. Introduction"
      ]
    },
    {
      "cell_type": "markdown",
      "metadata": {
        "id": "j-jbz6hVhGdj"
      },
      "source": [
        "This document is in a special format called *Jupyter Notebook* that allows **Python Code** and **Text** to be mixed in the same page.\n",
        "The document is hosted in the **Google Colab Environment**, which provides a dedicated *virtual machine* to run the code in the notebook. Before we start, we need to connect the notebook to the virtual machine, which can be done by clicking the \"Connect\" button at the top right of the screen. After a few seconds, the button will change to a green checkmark next to memory (\"RAM\") and storage (\"Disk\") free size indicators - the Colab environment can be run for free, but it's resources are limited.\n",
        "\n",
        "Jupyter Notebook documents are made of *cells*, and each cell can be either a *code* or *text* cell. At this very moment you are reading the contents  of a text cell,\n",
        "but below you will find Python code cells intermingled with text cells. Each text cell can have one or several lines of text, and each code\n",
        "cell can have one or more lines of Python code. To edit text cells, just double-click on them, and the *unformatted* content will be made available. Doing `SHIFT+ENTER` on text cells will revert them to the formatted status, closing the edit mode and moving the cursor over to the next cell (the one immediately below).\n",
        "\n",
        "There are two distinct modes to operate on cells, *command mode* and *edit mode* - to switch between them, use the `ESC` and `ENTER` keys respectively. Press `ESC` to enter command mode, and then `CTRL+M H` to open up a panel containing the shortcuts for all notebooks commands. While in command mode, you can create, edit, copy, paste or delete cells, and do other things like changing cell type between *code* and *markdown* (with the `CTRL+M Y` and `CTRL+M M` commands), saving the notebook or restarting the notebook kernel. Now press `ENTER` (or click on a cell) to enter edit mode - in this mode you can edit the text in the cells, execute cells (with `SHIFT+ENTER`) or execute and create empty cell below (`ALT+ENTER`). Note that code cells have a \"play\" button on the left side, and you can also run them by clicking on that button.\n",
        "\n",
        "Before we start, keep in mind that the code on each cell can affect the results of any other cell (for instance, if you *declare* a variable\n",
        "with a certain value, that variable will automatically be known to every other cell in the notebook). Also, even though the cells in this notebook\n",
        "are laid out in a logical learning progression, they don't need to be run in any specific order -  at any moment you can run any given cell by pressing `SHIFT+ENTER` on it. However, it may be that the cell you are trying to run requires some data declaration or initialization coded on a previous cell -  in that case,  the cell will likely produce an error messages, fail to execute the code or produce a wrong result.\n",
        "\n",
        "Every time you execute a code cell, the *result* of running it will be made available on a window immediately below the code cell. To clear the output of cell, which may be useful for instance\n",
        "when cells produce a large amount of unwanted data or error messages, press `CTRL+M O` to toggle the output of the current cell (the current cell will be the one with the \"play\" symbol on the left side). If you want to clear the output of *all* cells, go to the top menu entry \"Cell\", then \"All Outputs\", then \"Clear\".\n",
        "\n",
        "Whenever you need to open a new cell in the notebook (for instance to test some code or check variable values), you can use the keyboard shortcut\n",
        "`ALT+ENTER` on a given cell: it will evaluate  the cell (like `SHIFT+ENTER`) and open a new empty code cell below it. You can also use the `CTRL+M A` or `CTRL+M B` keys to insert cells (`A`)bove or (`B`)elow the current cell.\n",
        "\n",
        "The notebook will automatically save every few minutes, but if you want to save at a specific time, you can use the `CTRL+S` combination command. Alternatively, click on the \"File\" entry on the top menu and choose the option \"Save and Checkpoint\".\n",
        "\n",
        "**IMPORTANT NOTE:** since you start by opening this file directly from the course page, you will not be able to save any changes to it. You will need to use the command \"Save a copy in Drive\" from the \"File\" menu to make a local copy of the file on your personal Google Drive. After that, changes will automatically be saved to your local copy, or you can use the `CTRL+S` command to save at any desired time.\n",
        "\n",
        "This notebook is divided into various sections, showing different features of the Python language and Jupyter Notebooks.\n",
        "Simply go through it, reading the text cells, evaluating the Python cells, examining the output, and editing/re-running when appropriate. At some points you will find \"Hands-On\" sections - these are small exercises that you should try and solve on your own."
      ]
    },
    {
      "cell_type": "markdown",
      "metadata": {
        "id": "02HvDIeyhGdj"
      },
      "source": [
        "### 1. **Arithmetic expressions and data types**\n",
        "\n",
        "Simple Python arithmetic expressions can be evaluated in code cells - try to change the expression below using the `+`, `-`, `*` and `/` arithmetic operators. Expressions can be of different *data types* including `int` (integer) or  `float`(floating point or real number). The result of evaluating an expression can be of the same or a different data type from its arguments.  (Use `SHIFT+ENTER` on each cell to evaluate it and move to the cell below). Note that if the last line of a cell is a valid expression, its result will be output by default just below the executed cell."
      ]
    },
    {
      "cell_type": "code",
      "execution_count": null,
      "metadata": {
        "id": "wFIuOxjHhGdm",
        "colab": {
          "base_uri": "https://localhost:8080/"
        },
        "outputId": "c327df12-2c5c-40fa-805b-664f3c6cf719"
      },
      "outputs": [
        {
          "output_type": "execute_result",
          "data": {
            "text/plain": [
              "9"
            ]
          },
          "metadata": {},
          "execution_count": 3
        }
      ],
      "source": [
        "5 + 4   # you can write a comment like this, after a \"#\" (hash) sign. The Python interpreter ignores it."
      ]
    },
    {
      "cell_type": "code",
      "source": [
        "5 // 3 # integer division (produces only the integer part of the division result)"
      ],
      "metadata": {
        "id": "duEix7KthGdo",
        "colab": {
          "base_uri": "https://localhost:8080/"
        },
        "outputId": "ee7df9f4-60f3-40fd-b8c4-0b5b6bb90190"
      },
      "execution_count": null,
      "outputs": [
        {
          "output_type": "execute_result",
          "data": {
            "text/plain": [
              "1"
            ]
          },
          "metadata": {},
          "execution_count": 4
        }
      ]
    },
    {
      "cell_type": "code",
      "execution_count": null,
      "metadata": {
        "id": "FrVa4SBEhGdp",
        "colab": {
          "base_uri": "https://localhost:8080/"
        },
        "outputId": "88f0aa9b-78d4-47bf-8da1-11741afb666d"
      },
      "outputs": [
        {
          "output_type": "execute_result",
          "data": {
            "text/plain": [
              "1.6666666666666667"
            ]
          },
          "metadata": {},
          "execution_count": 5
        }
      ],
      "source": [
        "5 / 3 # non integer division, the result is a real number, also called a \"floating point number\""
      ]
    },
    {
      "cell_type": "code",
      "execution_count": null,
      "metadata": {
        "id": "jOR5AtXghGdr",
        "colab": {
          "base_uri": "https://localhost:8080/"
        },
        "outputId": "72056b2e-e6bb-4012-e27f-392a6ccbeb6b"
      },
      "outputs": [
        {
          "output_type": "execute_result",
          "data": {
            "text/plain": [
              "125"
            ]
          },
          "metadata": {},
          "execution_count": 6
        }
      ],
      "source": [
        "5**3 # exponentiation (5 to the power of 3)"
      ]
    },
    {
      "cell_type": "code",
      "execution_count": null,
      "metadata": {
        "id": "YxmgKlBhhGdt",
        "colab": {
          "base_uri": "https://localhost:8080/"
        },
        "outputId": "5e6d162e-9e63-41d4-81eb-51e7aa9f29f9"
      },
      "outputs": [
        {
          "output_type": "execute_result",
          "data": {
            "text/plain": [
              "1"
            ]
          },
          "metadata": {},
          "execution_count": 7
        }
      ],
      "source": [
        "5 % 2  # remainder function (modulus)"
      ]
    },
    {
      "cell_type": "markdown",
      "metadata": {
        "id": "1KXvZ143YDn6"
      },
      "source": [
        "Built-in `divmod` function does the sames as \"//\" and \"%\"."
      ]
    },
    {
      "cell_type": "code",
      "execution_count": null,
      "metadata": {
        "id": "CmRrgg_SX-iW",
        "colab": {
          "base_uri": "https://localhost:8080/"
        },
        "outputId": "d52d7e4f-168e-4d02-a44f-fff21bd42284"
      },
      "outputs": [
        {
          "output_type": "execute_result",
          "data": {
            "text/plain": [
              "(2, 1)"
            ]
          },
          "metadata": {},
          "execution_count": 8
        }
      ],
      "source": [
        "divmod(5,2)     # 5  divided by 2 is 2 with remainder 1"
      ]
    },
    {
      "cell_type": "markdown",
      "metadata": {
        "id": "drP0fEF6hGdu"
      },
      "source": [
        "### 2. **Declaring variables**\n",
        "\n",
        "A *variable* is a way of storing a number, text or other piece of data for later usage. Variable names can have one or mores letters or numbers. A value is assigned to a variable by using the `=` sign. Examples:"
      ]
    },
    {
      "cell_type": "code",
      "execution_count": null,
      "metadata": {
        "id": "uCLl21tqhGdv"
      },
      "outputs": [],
      "source": [
        "a = 3    # the variable \"a\" has now the value 3"
      ]
    },
    {
      "cell_type": "code",
      "execution_count": null,
      "metadata": {
        "id": "9Mi4S0mLhGdy"
      },
      "outputs": [],
      "source": [
        "b = 1.345 # the variable \"b\" has now the value 1.345"
      ]
    },
    {
      "cell_type": "code",
      "execution_count": null,
      "metadata": {
        "id": "9myS1dUGhGd0"
      },
      "outputs": [],
      "source": [
        "distance = a + 2   # Guess what the value of \"distance\" is"
      ]
    },
    {
      "cell_type": "code",
      "source": [
        "c = a+b\n",
        "c"
      ],
      "metadata": {
        "colab": {
          "base_uri": "https://localhost:8080/"
        },
        "id": "5lObSTz9oMKM",
        "outputId": "e68108ba-b350-4fa8-9ebc-66662eb37966"
      },
      "execution_count": null,
      "outputs": [
        {
          "output_type": "execute_result",
          "data": {
            "text/plain": [
              "4.345"
            ]
          },
          "metadata": {},
          "execution_count": 14
        }
      ]
    },
    {
      "cell_type": "markdown",
      "source": [
        "Notice how the last three cells didn't produce any otput as result. That's because the assignation statement (making a variable '=' to a value) does not eval to anything."
      ],
      "metadata": {
        "id": "0SLO6VYTVKaU"
      }
    },
    {
      "cell_type": "markdown",
      "metadata": {
        "id": "irix8SCqcIML"
      },
      "source": [
        "Now we evaluate the variable \"distance\" by executing a cell with just its name :"
      ]
    },
    {
      "cell_type": "code",
      "execution_count": null,
      "metadata": {
        "id": "q5HPz3-XhGd2",
        "colab": {
          "base_uri": "https://localhost:8080/"
        },
        "outputId": "027eacc2-4c82-4d67-8085-4a7fe23b8c64"
      },
      "outputs": [
        {
          "output_type": "execute_result",
          "data": {
            "text/plain": [
              "5"
            ]
          },
          "metadata": {},
          "execution_count": 15
        }
      ],
      "source": [
        "distance"
      ]
    },
    {
      "cell_type": "markdown",
      "metadata": {
        "id": "bgwpxhsMJ9CL"
      },
      "source": [
        "You may also use the `print` command to produce formatted output. In many cases you won't need it, because code cells by default produce as output the result of evaluating their last line. A line containing a single variable is evaluated as the contents of that variable. Check the examples below.\n",
        "\n",
        "**NOTE:** One potential advantage of using the \"print\" command is that you can return a value from any line in the cell, not just the last one."
      ]
    },
    {
      "cell_type": "code",
      "execution_count": null,
      "metadata": {
        "id": "M-mp7nG-hGd3",
        "colab": {
          "base_uri": "https://localhost:8080/"
        },
        "outputId": "e0231a8e-352f-4d0a-a141-017c43463582"
      },
      "outputs": [
        {
          "output_type": "stream",
          "name": "stdout",
          "text": [
            "The value is:  5.6899999999999995\n"
          ]
        }
      ],
      "source": [
        "print(\"The value is: \",2*b+3)"
      ]
    },
    {
      "cell_type": "code",
      "execution_count": null,
      "metadata": {
        "id": "IdOIasXbPxLk",
        "colab": {
          "base_uri": "https://localhost:8080/"
        },
        "outputId": "857f2f3b-80bd-40be-930d-a4365de76f4d"
      },
      "outputs": [
        {
          "output_type": "execute_result",
          "data": {
            "text/plain": [
              "('The value is: ', 5.6899999999999995)"
            ]
          },
          "metadata": {},
          "execution_count": 17
        }
      ],
      "source": [
        "\"The value is: \",2*b+3"
      ]
    },
    {
      "cell_type": "code",
      "execution_count": null,
      "metadata": {
        "id": "LJwIGJbfhGd5",
        "colab": {
          "base_uri": "https://localhost:8080/"
        },
        "outputId": "b1e8779f-9c40-4381-aeb6-254b92ac8390"
      },
      "outputs": [
        {
          "output_type": "execute_result",
          "data": {
            "text/plain": [
              "5.6899999999999995"
            ]
          },
          "metadata": {},
          "execution_count": 18
        }
      ],
      "source": [
        "2*b+3"
      ]
    },
    {
      "cell_type": "markdown",
      "metadata": {
        "id": "WBNZDzbIJ9CL"
      },
      "source": [
        "The type of variables and expressions can be checked with the `type` function:"
      ]
    },
    {
      "cell_type": "code",
      "execution_count": null,
      "metadata": {
        "id": "bpLc_9FRJ9CL",
        "colab": {
          "base_uri": "https://localhost:8080/"
        },
        "outputId": "b79aff16-b974-40a7-9116-38a10e3909f4"
      },
      "outputs": [
        {
          "output_type": "execute_result",
          "data": {
            "text/plain": [
              "int"
            ]
          },
          "metadata": {},
          "execution_count": 19
        }
      ],
      "source": [
        "type(a)"
      ]
    },
    {
      "cell_type": "code",
      "execution_count": null,
      "metadata": {
        "id": "OFPVLydQJ9CM",
        "colab": {
          "base_uri": "https://localhost:8080/"
        },
        "outputId": "66204ef6-a531-4d45-f934-b983877e8f41"
      },
      "outputs": [
        {
          "output_type": "execute_result",
          "data": {
            "text/plain": [
              "float"
            ]
          },
          "metadata": {},
          "execution_count": 20
        }
      ],
      "source": [
        "type(b)"
      ]
    },
    {
      "cell_type": "code",
      "execution_count": null,
      "metadata": {
        "id": "0xTboU20J9CM",
        "colab": {
          "base_uri": "https://localhost:8080/"
        },
        "outputId": "d2c09632-8de0-4006-e3c3-7d5a46247b41"
      },
      "outputs": [
        {
          "output_type": "execute_result",
          "data": {
            "text/plain": [
              "int"
            ]
          },
          "metadata": {},
          "execution_count": 21
        }
      ],
      "source": [
        "type(distance)"
      ]
    },
    {
      "cell_type": "markdown",
      "metadata": {
        "id": "hlMsgYPPJ9CM"
      },
      "source": [
        "There are some rules and restrictions concerning the naming of variables:"
      ]
    },
    {
      "cell_type": "code",
      "execution_count": null,
      "metadata": {
        "id": "JLiEr4eKhGd7"
      },
      "outputs": [],
      "source": [
        "bas = 2  # variable names cannot start with a number"
      ]
    },
    {
      "cell_type": "code",
      "execution_count": null,
      "metadata": {
        "id": "gyiS3SRwhGd8",
        "colab": {
          "base_uri": "https://localhost:8080/",
          "height": 109
        },
        "outputId": "2a7fe576-4789-41bf-a75a-d108d3f85bc7"
      },
      "outputs": [
        {
          "output_type": "error",
          "ename": "SyntaxError",
          "evalue": "invalid syntax (<ipython-input-23-c9208bd2163d>, line 1)",
          "traceback": [
            "\u001b[0;36m  File \u001b[0;32m\"<ipython-input-23-c9208bd2163d>\"\u001b[0;36m, line \u001b[0;32m1\u001b[0m\n\u001b[0;31m    ba! = 3   # `!#$%&/(){}[]`cannot be used on a variable name\u001b[0m\n\u001b[0m      ^\u001b[0m\n\u001b[0;31mSyntaxError\u001b[0m\u001b[0;31m:\u001b[0m invalid syntax\n"
          ]
        }
      ],
      "source": [
        "ba! = 3   # `!#$%&/(){}[]`cannot be used on a variable name"
      ]
    },
    {
      "cell_type": "markdown",
      "metadata": {
        "id": "qExCGCsXY3rr"
      },
      "source": [
        "DO NOT declare a variable with  the name of a built-function. Here's what may happen:"
      ]
    },
    {
      "cell_type": "code",
      "execution_count": null,
      "metadata": {
        "id": "0dBqMUkoQghR"
      },
      "outputs": [],
      "source": [
        "print = 3"
      ]
    },
    {
      "cell_type": "code",
      "execution_count": null,
      "metadata": {
        "id": "PCuICIEGZHtA",
        "colab": {
          "base_uri": "https://localhost:8080/",
          "height": 145
        },
        "outputId": "36ab965a-7565-4b9b-c1fa-c8caa58d9121"
      },
      "outputs": [
        {
          "output_type": "error",
          "ename": "TypeError",
          "evalue": "'int' object is not callable",
          "traceback": [
            "\u001b[0;31m---------------------------------------------------------------------------\u001b[0m",
            "\u001b[0;31mTypeError\u001b[0m                                 Traceback (most recent call last)",
            "\u001b[0;32m<ipython-input-24-ebef8289f476>\u001b[0m in \u001b[0;36m<cell line: 1>\u001b[0;34m()\u001b[0m\n\u001b[0;32m----> 1\u001b[0;31m \u001b[0mprint\u001b[0m\u001b[0;34m(\u001b[0m\u001b[0;34m\"asdfsdf\"\u001b[0m\u001b[0;34m)\u001b[0m\u001b[0;34m\u001b[0m\u001b[0;34m\u001b[0m\u001b[0m\n\u001b[0m",
            "\u001b[0;31mTypeError\u001b[0m: 'int' object is not callable"
          ]
        }
      ],
      "source": [
        "print(\"asdfsdf\")"
      ]
    },
    {
      "cell_type": "markdown",
      "metadata": {
        "id": "xBhn4dngcYtv"
      },
      "source": [
        "The above error message is produced because Python no longer recognizes `print` as an in-built python function - you obliterated the its original meaning with the `print` variable definition. So you are in fact trying to call what is now an integer variable as a function, hence the `int object is not callable` message.\n",
        "\n",
        "We can fix this by erasing your `print` variable definition with the `del` command:"
      ]
    },
    {
      "cell_type": "code",
      "execution_count": null,
      "metadata": {
        "id": "eqJVQWGCZRuR"
      },
      "outputs": [],
      "source": [
        "del print"
      ]
    },
    {
      "cell_type": "markdown",
      "metadata": {
        "id": "ifr3F_J-J9CM"
      },
      "source": [
        "...and now \"print\" works again as a function:"
      ]
    },
    {
      "cell_type": "code",
      "execution_count": null,
      "metadata": {
        "id": "n8LsH6dOZXiK",
        "colab": {
          "base_uri": "https://localhost:8080/"
        },
        "outputId": "d2f5b3b9-d0fa-4298-86c4-3d99e4d72c9d"
      },
      "outputs": [
        {
          "output_type": "stream",
          "name": "stdout",
          "text": [
            "sdfsf\n"
          ]
        }
      ],
      "source": [
        "print(\"sdfsf\")"
      ]
    },
    {
      "cell_type": "markdown",
      "metadata": {
        "id": "Tq1nuVNUc6Nz"
      },
      "source": [
        "It is important to know what names cannot be used for variables, and so here's a way to list all reserved keywords in the Python language:"
      ]
    },
    {
      "cell_type": "code",
      "execution_count": null,
      "metadata": {
        "id": "Ahhc3KMtZinq",
        "colab": {
          "base_uri": "https://localhost:8080/"
        },
        "outputId": "f94584ec-6620-40fb-f90a-d103de57b682"
      },
      "outputs": [
        {
          "output_type": "execute_result",
          "data": {
            "text/plain": [
              "['False',\n",
              " 'None',\n",
              " 'True',\n",
              " 'and',\n",
              " 'as',\n",
              " 'assert',\n",
              " 'async',\n",
              " 'await',\n",
              " 'break',\n",
              " 'class',\n",
              " 'continue',\n",
              " 'def',\n",
              " 'del',\n",
              " 'elif',\n",
              " 'else',\n",
              " 'except',\n",
              " 'finally',\n",
              " 'for',\n",
              " 'from',\n",
              " 'global',\n",
              " 'if',\n",
              " 'import',\n",
              " 'in',\n",
              " 'is',\n",
              " 'lambda',\n",
              " 'nonlocal',\n",
              " 'not',\n",
              " 'or',\n",
              " 'pass',\n",
              " 'raise',\n",
              " 'return',\n",
              " 'try',\n",
              " 'while',\n",
              " 'with',\n",
              " 'yield']"
            ]
          },
          "metadata": {},
          "execution_count": 28
        }
      ],
      "source": [
        "import keyword\n",
        "keyword.kwlist"
      ]
    },
    {
      "cell_type": "markdown",
      "metadata": {
        "id": "Upamy4eNJ9CM"
      },
      "source": [
        "**NOTE:** notice the use of the `import` keyword. This is used to make *Python modules* available to be used by our program code. Entire modules can be imported, or just specific functions. In this case we imported the entire `keyword`module, and then used it's `kwlist` attribute (more on modules and import below)."
      ]
    },
    {
      "cell_type": "markdown",
      "metadata": {
        "id": "NlqFqGyshGd-"
      },
      "source": [
        "### 3. **Variables and their data types**\n",
        "\n",
        "Variables can be of different types like `int` (integer), `float` (real number), `str` (string, a chain of characters lie a word or pharse, etc.) and other types we will discuss later. Not all types can be combined in an expression. `float` and `int` can be combined, but not `int` and `str`."
      ]
    },
    {
      "cell_type": "code",
      "execution_count": null,
      "metadata": {
        "id": "kqucWiQghGd_"
      },
      "outputs": [],
      "source": [
        "5 // 3   # the result of this expression is integer (integer division)"
      ]
    },
    {
      "cell_type": "code",
      "execution_count": null,
      "metadata": {
        "id": "tXV-CL6mhGeA"
      },
      "outputs": [],
      "source": [
        "5 / 3 # the result of this expression is float (floating point division)"
      ]
    },
    {
      "cell_type": "code",
      "execution_count": null,
      "metadata": {
        "id": "SF7fYO38hGeC"
      },
      "outputs": [],
      "source": [
        "6 // 2   # Notice the difference between this..."
      ]
    },
    {
      "cell_type": "code",
      "execution_count": null,
      "metadata": {
        "id": "Nf2YA61ohGeE"
      },
      "outputs": [],
      "source": [
        "6 / 2    #.... and this"
      ]
    },
    {
      "cell_type": "markdown",
      "metadata": {
        "id": "bUsqwmMYhGeG"
      },
      "source": [
        "Floats and integers can be added together,  and the result is float.  \n",
        "\n",
        "**HANDS-ON:** Guess (and check it editing the below cell), what are the results of adding `int` with `int` or `float` with `float`. Floats will be printed with decimal point, and integers not."
      ]
    },
    {
      "cell_type": "code",
      "execution_count": null,
      "metadata": {
        "id": "bkaKHex1hGeH"
      },
      "outputs": [],
      "source": [
        "3.0 + 13"
      ]
    },
    {
      "cell_type": "markdown",
      "metadata": {
        "id": "2guo6AeEG0HN"
      },
      "source": [
        "**String variables** are used to store *text* rather than numbers. They data type is called `str` and single (') or double (\") quotes can be used to enclose a string variable"
      ]
    },
    {
      "cell_type": "code",
      "execution_count": null,
      "metadata": {
        "id": "p6095grPhGeK"
      },
      "outputs": [],
      "source": [
        "'aaa' # strings are represented between '' or \"\""
      ]
    },
    {
      "cell_type": "code",
      "execution_count": null,
      "metadata": {
        "id": "-42kqzuGhGeL"
      },
      "outputs": [],
      "source": [
        "'aaa'+'bbb' # strings can be added together (concatenation)"
      ]
    },
    {
      "cell_type": "code",
      "source": [
        "'aaa'+\"bbb\" # This is the same, because you can enclose strings with \"\" or ''"
      ],
      "metadata": {
        "id": "r9_z4mJmtWBz"
      },
      "execution_count": null,
      "outputs": []
    },
    {
      "cell_type": "code",
      "execution_count": null,
      "metadata": {
        "id": "rlG7jJtnhGeN"
      },
      "outputs": [],
      "source": [
        "'aaa'+123 # strings cannot be combined with integers"
      ]
    },
    {
      "cell_type": "markdown",
      "metadata": {
        "id": "z5aQkLDWHnBv"
      },
      "source": [
        "**Remember**: \"123\" and 123 are **NOT** the same"
      ]
    },
    {
      "cell_type": "code",
      "execution_count": null,
      "metadata": {
        "id": "tseEJkipIAc6"
      },
      "outputs": [],
      "source": [
        "123+'123'"
      ]
    },
    {
      "cell_type": "markdown",
      "metadata": {
        "id": "9_XS8y9SIF4G"
      },
      "source": [
        "Sring variables are declared just like any other variable:"
      ]
    },
    {
      "cell_type": "code",
      "execution_count": null,
      "metadata": {
        "id": "YxWPng_OIKFp"
      },
      "outputs": [],
      "source": [
        "first_name='James'\n",
        "last_name='Bond'"
      ]
    },
    {
      "cell_type": "code",
      "execution_count": null,
      "metadata": {
        "id": "Wx6E9C21IY51"
      },
      "outputs": [],
      "source": [
        "print(first_name)"
      ]
    },
    {
      "cell_type": "code",
      "execution_count": null,
      "metadata": {
        "id": "VGeQF2UeIbFX"
      },
      "outputs": [],
      "source": [
        "print(\"My name is\",last_name, first_name,last_name)"
      ]
    },
    {
      "cell_type": "code",
      "execution_count": null,
      "metadata": {
        "id": "j0mbBnspI4tI"
      },
      "outputs": [],
      "source": [
        "full_name = first_name+' '+last_name"
      ]
    },
    {
      "cell_type": "markdown",
      "metadata": {
        "id": "lRZOeQtIJFdN"
      },
      "source": [
        "In the above cell, why do we need the `' '` between first and last name ?"
      ]
    },
    {
      "cell_type": "code",
      "execution_count": null,
      "metadata": {
        "id": "KcmrBFltJAYt"
      },
      "outputs": [],
      "source": [
        "print(full_name)"
      ]
    },
    {
      "cell_type": "markdown",
      "metadata": {
        "id": "BhapoAYkJN4u"
      },
      "source": [
        "You may wonder why we use the `print` statement at all. If we type:"
      ]
    },
    {
      "cell_type": "code",
      "execution_count": null,
      "metadata": {
        "id": "5J4feQhQJT1z"
      },
      "outputs": [],
      "source": [
        "full_name"
      ]
    },
    {
      "cell_type": "markdown",
      "metadata": {
        "id": "Z88xxS30JbGP"
      },
      "source": [
        "... the cell evaluates to the contents of our \"full_name\" variable and displays it. But when you require your output to be properly *formatted*, this won't do. The above example would look better if we did something like this:"
      ]
    },
    {
      "cell_type": "code",
      "execution_count": null,
      "metadata": {
        "id": "zs1jn2XdJ9CR"
      },
      "outputs": [],
      "source": [
        "print(\"My name is\", last_name,',',first_name, last_name)"
      ]
    },
    {
      "cell_type": "markdown",
      "metadata": {
        "id": "yYOiU1IBJ9CR"
      },
      "source": [
        "Or we could use a more advanced way of formatting the output string with the `format` string method:"
      ]
    },
    {
      "cell_type": "code",
      "execution_count": null,
      "metadata": {
        "id": "ZISyJh5UJ9CR"
      },
      "outputs": [],
      "source": [
        "print(\"My name is {1}, {0} {1}\".format(first_name, last_name)) # Avoid space before the comma"
      ]
    },
    {
      "cell_type": "markdown",
      "metadata": {
        "id": "YfT3f47RJ9CR"
      },
      "source": [
        "Also, you may want to produce more than one ouput in your cell, for instance:"
      ]
    },
    {
      "cell_type": "code",
      "execution_count": null,
      "metadata": {
        "id": "-I-vAJed6RHb"
      },
      "outputs": [],
      "source": [
        "print(1)\n",
        "print(2)\n",
        "print(3)"
      ]
    },
    {
      "cell_type": "markdown",
      "metadata": {
        "id": "1mu-lXIcJ9CR"
      },
      "source": [
        "Compare the ouput above with the one produced by the following cell:"
      ]
    },
    {
      "cell_type": "code",
      "execution_count": null,
      "metadata": {
        "id": "_yF8T2ahJ9CR"
      },
      "outputs": [],
      "source": [
        "# Only the very last line will produce ouput by evaluation!\n",
        "1\n",
        "2\n",
        "3"
      ]
    },
    {
      "cell_type": "markdown",
      "metadata": {
        "id": "NmFCgcmwJ9CS"
      },
      "source": [
        "You will see plenty of examples of formatted print statements below."
      ]
    },
    {
      "cell_type": "markdown",
      "metadata": {
        "id": "ePN7GoNKJ9CS"
      },
      "source": [
        "**NOTE:** string constants can be enclosed in a pair of matching \"\" or '', and either way is syntactically correct. Howeever, if your string variable contains any `\"`, then you will need to enclose it in `''`. and  vice versa. For instance:"
      ]
    },
    {
      "cell_type": "code",
      "execution_count": null,
      "metadata": {
        "id": "5FoSlilRJ9CS"
      },
      "outputs": [],
      "source": [
        "a = 'The word \"red\" is three letters long.'\n",
        "a"
      ]
    },
    {
      "cell_type": "markdown",
      "metadata": {
        "id": "ykqLHxbCJ9CS"
      },
      "source": [
        "or:"
      ]
    },
    {
      "cell_type": "code",
      "execution_count": null,
      "metadata": {
        "id": "mYa_WRj3J9CS"
      },
      "outputs": [],
      "source": [
        "a = \"The word 'red' is three letters long.\"\n",
        "a"
      ]
    },
    {
      "cell_type": "markdown",
      "metadata": {
        "id": "MEGb-J1pJ9CS"
      },
      "source": [
        "but not"
      ]
    },
    {
      "cell_type": "code",
      "execution_count": null,
      "metadata": {
        "id": "t2W6KWVTJ9CS"
      },
      "outputs": [],
      "source": [
        "a = \"The word \"red\" is three letters long\"\n",
        "a"
      ]
    },
    {
      "cell_type": "markdown",
      "metadata": {
        "id": "qvBmjx90hGeO"
      },
      "source": [
        "The built-in `str` function converts `integer` to `string` or `float` to `string`. Notice how strigs are written within encloing `' '`characters.\n"
      ]
    },
    {
      "cell_type": "code",
      "execution_count": null,
      "metadata": {
        "id": "-yK3uZEZhGeP"
      },
      "outputs": [],
      "source": [
        "str(123)"
      ]
    },
    {
      "cell_type": "code",
      "execution_count": null,
      "metadata": {
        "id": "3EtFk8d5hGeR"
      },
      "outputs": [],
      "source": [
        "str(3.1416)"
      ]
    },
    {
      "cell_type": "markdown",
      "metadata": {
        "id": "y29cEy1ehGeS"
      },
      "source": [
        "The built-in `float` function converts `string` to `float` or `int` to `float`"
      ]
    },
    {
      "cell_type": "code",
      "execution_count": null,
      "metadata": {
        "id": "_Jyfv0-XhGeT"
      },
      "outputs": [],
      "source": [
        "float(\"1.333\") # the built-in float function converts \"str\" to \"float\""
      ]
    },
    {
      "cell_type": "code",
      "execution_count": null,
      "metadata": {
        "id": "4JZTntHIhGeU"
      },
      "outputs": [],
      "source": [
        "float(123)"
      ]
    },
    {
      "cell_type": "markdown",
      "metadata": {
        "id": "E8dLeVUTQqJq"
      },
      "source": [
        "This doesn't work:"
      ]
    },
    {
      "cell_type": "code",
      "execution_count": null,
      "metadata": {
        "id": "vBFq2wlJQtO3"
      },
      "outputs": [],
      "source": [
        "\"42\"+10.0"
      ]
    },
    {
      "cell_type": "markdown",
      "metadata": {
        "id": "VFDf4XwWQ1cq"
      },
      "source": [
        "Bu this does:"
      ]
    },
    {
      "cell_type": "code",
      "execution_count": null,
      "metadata": {
        "id": "D6FqsBE0Q0X9"
      },
      "outputs": [],
      "source": [
        "float(\"42\")+10"
      ]
    },
    {
      "cell_type": "markdown",
      "metadata": {
        "id": "COyFlVlgJ9CT"
      },
      "source": [
        "**Magic commands** are special Jupyter notebook commands starting with the '%'. These are not part of the Python language, but rather they belong to the notebook system and do specific notebook functions. The '%who' notebook command is very useful to know all the variables we have defined on owr notebook name space (a name space contains the set of all defined variables on our current Python code."
      ]
    },
    {
      "cell_type": "code",
      "execution_count": null,
      "metadata": {
        "id": "i1ai2hOvUrjs"
      },
      "outputs": [],
      "source": [
        "# Magic command to list python varibales defined in the notebooks\n",
        "%who"
      ]
    },
    {
      "cell_type": "markdown",
      "source": [
        "The above variables are all that are defined at this time in the notebook, and they may be used in a cell anywhere on the notebook."
      ],
      "metadata": {
        "id": "nkSD56djpWdD"
      }
    },
    {
      "cell_type": "markdown",
      "metadata": {
        "id": "2JxGrxmthGeW"
      },
      "source": [
        "### 4. **Mathematical functions**\n",
        "\n",
        "We have just met two functions,  `float` and `str` that are an integral part of the Python language. These functions are called *built-in* because they don't require any additional commands or external modules to make them available to the programmer. Here's a list of the Python built-in functions:\n",
        "\n",
        "\n",
        "\n",
        "```\n",
        "['abs', 'all', 'any', 'ascii', 'bin', 'callable', 'chr', 'compile',\n",
        "       'delattr', 'dir', 'divmod', 'eval', 'exec', 'format', 'getattr',\n",
        "       'globals', 'hasattr', 'hash', 'hex', 'id', 'isinstance',\n",
        "       'issubclass', 'iter', 'len', 'locals', 'max', 'min', 'next', 'oct',\n",
        "       'ord', 'pow', 'print', 'repr', 'round', 'setattr', 'sorted', 'sum',\n",
        "       'vars', 'open']\n",
        "```\n",
        "\n",
        "\n",
        "\n",
        "However, the large majority of functions that we may ever want to use in Python programs do not fall in this category - rather than being built-in, they need to be **imported** from a Python **module**. The common mathematical functions, including `sqrt`, `sin`, `cos`, `log` and `exp` all need to be imported from the `math` module."
      ]
    },
    {
      "cell_type": "markdown",
      "metadata": {
        "id": "ACQwTAbmhGeW"
      },
      "source": [
        "Go ahead and try to use the `cos` function, as if it were a built-in function:"
      ]
    },
    {
      "cell_type": "code",
      "execution_count": null,
      "metadata": {
        "id": "IUamscYThGeX",
        "colab": {
          "base_uri": "https://localhost:8080/"
        },
        "outputId": "40b0c369-be59-41cd-afce-0c228d12e24b"
      },
      "outputs": [
        {
          "output_type": "execute_result",
          "data": {
            "text/plain": [
              "0.7924383724359255"
            ]
          },
          "metadata": {},
          "execution_count": 32
        }
      ],
      "source": [
        "cos(0.656)"
      ]
    },
    {
      "cell_type": "markdown",
      "metadata": {
        "id": "AnDRcarfN5to"
      },
      "source": [
        "Since `cos` is not built-in and you did not previously import it from a module, Python doesn't know about it (hence the \"NameError\")"
      ]
    },
    {
      "cell_type": "markdown",
      "metadata": {
        "id": "zSjKFXdQhGeZ"
      },
      "source": [
        "In order to use the `cos` function, we will need to do this:"
      ]
    },
    {
      "cell_type": "code",
      "execution_count": null,
      "metadata": {
        "id": "ZKNztLeZhGeZ"
      },
      "outputs": [],
      "source": [
        "from math import cos"
      ]
    },
    {
      "cell_type": "markdown",
      "metadata": {
        "id": "14zgIqithGeb"
      },
      "source": [
        "The previous command tells the Python interpreter to fetch (import) the `cos` function from the `math` library. Now let's try again:"
      ]
    },
    {
      "cell_type": "code",
      "execution_count": null,
      "metadata": {
        "id": "g820DjnDhGeb",
        "colab": {
          "base_uri": "https://localhost:8080/"
        },
        "outputId": "eaf61ea2-8a95-4d20-bb59-e48298317bf1"
      },
      "outputs": [
        {
          "output_type": "execute_result",
          "data": {
            "text/plain": [
              "0.7924383724359255"
            ]
          },
          "metadata": {},
          "execution_count": 33
        }
      ],
      "source": [
        "cos(0.656)"
      ]
    },
    {
      "cell_type": "markdown",
      "metadata": {
        "id": "tT5tY67YhGeh"
      },
      "source": [
        "**HANDS-ON:** Now try to edit the previous two cells in order to calculate the square root of 2. The square root function is named `sqrt`"
      ]
    },
    {
      "cell_type": "markdown",
      "metadata": {
        "id": "B1OOZx0shGej"
      },
      "source": [
        "Instead of importing a specific function, we could also import the entire `math` **module**, like this:"
      ]
    },
    {
      "cell_type": "code",
      "execution_count": null,
      "metadata": {
        "id": "W3fQoSSohGek"
      },
      "outputs": [],
      "source": [
        "import math"
      ]
    },
    {
      "cell_type": "markdown",
      "metadata": {
        "id": "Uf9Z3-6jhGem"
      },
      "source": [
        "and now let's say we want to assign the `sin` of 0.23 to the variable name \"csin\""
      ]
    },
    {
      "cell_type": "code",
      "execution_count": null,
      "metadata": {
        "id": "uYTDrIbqhGem"
      },
      "outputs": [],
      "source": [
        "csin = math.sin(0.23)"
      ]
    },
    {
      "cell_type": "code",
      "execution_count": null,
      "metadata": {
        "id": "OquX3FnthGen",
        "colab": {
          "base_uri": "https://localhost:8080/"
        },
        "outputId": "7edec6a3-675f-42e4-c5c1-058ea05b03c0"
      },
      "outputs": [
        {
          "output_type": "stream",
          "name": "stdout",
          "text": [
            "0.2279775235351884\n"
          ]
        }
      ],
      "source": [
        "print(csin) # The print function is used to write output in nicer ways than simply entering the variable in the cell"
      ]
    },
    {
      "cell_type": "markdown",
      "metadata": {
        "id": "h-X8qaoQhGep"
      },
      "source": [
        "Now *every* function available in the `math` library can be called by prepending the word \"math.\" to its name. But what functions are there to call?? We can find them by using the `dir` built-in function:"
      ]
    },
    {
      "cell_type": "code",
      "execution_count": null,
      "metadata": {
        "id": "CqRaakRrhGep",
        "colab": {
          "base_uri": "https://localhost:8080/"
        },
        "outputId": "15c09867-79a3-408c-a36a-1cc6dd799791"
      },
      "outputs": [
        {
          "output_type": "execute_result",
          "data": {
            "text/plain": [
              "['__doc__',\n",
              " '__loader__',\n",
              " '__name__',\n",
              " '__package__',\n",
              " '__spec__',\n",
              " 'acos',\n",
              " 'acosh',\n",
              " 'asin',\n",
              " 'asinh',\n",
              " 'atan',\n",
              " 'atan2',\n",
              " 'atanh',\n",
              " 'ceil',\n",
              " 'comb',\n",
              " 'copysign',\n",
              " 'cos',\n",
              " 'cosh',\n",
              " 'degrees',\n",
              " 'dist',\n",
              " 'e',\n",
              " 'erf',\n",
              " 'erfc',\n",
              " 'exp',\n",
              " 'expm1',\n",
              " 'fabs',\n",
              " 'factorial',\n",
              " 'floor',\n",
              " 'fmod',\n",
              " 'frexp',\n",
              " 'fsum',\n",
              " 'gamma',\n",
              " 'gcd',\n",
              " 'hypot',\n",
              " 'inf',\n",
              " 'isclose',\n",
              " 'isfinite',\n",
              " 'isinf',\n",
              " 'isnan',\n",
              " 'isqrt',\n",
              " 'lcm',\n",
              " 'ldexp',\n",
              " 'lgamma',\n",
              " 'log',\n",
              " 'log10',\n",
              " 'log1p',\n",
              " 'log2',\n",
              " 'modf',\n",
              " 'nan',\n",
              " 'nextafter',\n",
              " 'perm',\n",
              " 'pi',\n",
              " 'pow',\n",
              " 'prod',\n",
              " 'radians',\n",
              " 'remainder',\n",
              " 'sin',\n",
              " 'sinh',\n",
              " 'sqrt',\n",
              " 'tan',\n",
              " 'tanh',\n",
              " 'tau',\n",
              " 'trunc',\n",
              " 'ulp']"
            ]
          },
          "metadata": {},
          "execution_count": 37
        }
      ],
      "source": [
        "dir(math)"
      ]
    },
    {
      "cell_type": "markdown",
      "metadata": {
        "id": "8nqNhu-KhGeq"
      },
      "source": [
        "The output of the `dir` command is a `list` (another data type, see below), containing a `str` for each function or variable in the `math` module (never mind the first five strings, they denote special module variables that are not meant to be called directly).\n",
        "\n",
        "So, for instance the decimal logarithm can be calculated using the `log10` function just like this:"
      ]
    },
    {
      "cell_type": "code",
      "execution_count": null,
      "metadata": {
        "id": "5M8SeljmhGer",
        "colab": {
          "base_uri": "https://localhost:8080/"
        },
        "outputId": "e7ce27fc-2831-4dfa-eadb-58f3e5163822"
      },
      "outputs": [
        {
          "output_type": "execute_result",
          "data": {
            "text/plain": [
              "3.141592653589793"
            ]
          },
          "metadata": {},
          "execution_count": 39
        }
      ],
      "source": [
        "math.log10(3)"
      ]
    },
    {
      "cell_type": "markdown",
      "metadata": {
        "id": "1SnZMLsXhGet"
      },
      "source": [
        "**HANDS-ON:** Try changing the above cell to compute different math functions."
      ]
    },
    {
      "cell_type": "markdown",
      "metadata": {
        "id": "CTOIX6BqGz5C"
      },
      "source": [
        "There is another way to import all functions in a module, but it is generally best to avoid it. You can do this:"
      ]
    },
    {
      "cell_type": "code",
      "execution_count": null,
      "metadata": {
        "id": "bH-oNLvYel27"
      },
      "outputs": [],
      "source": [
        "from math import *"
      ]
    },
    {
      "cell_type": "code",
      "source": [
        "sqrt(2)"
      ],
      "metadata": {
        "colab": {
          "base_uri": "https://localhost:8080/"
        },
        "id": "vQB-a2IxvItQ",
        "outputId": "3e3675f6-1fa5-4280-8854-4c4dffbd9134"
      },
      "execution_count": null,
      "outputs": [
        {
          "output_type": "execute_result",
          "data": {
            "text/plain": [
              "1.4142135623730951"
            ]
          },
          "metadata": {},
          "execution_count": 45
        }
      ]
    },
    {
      "cell_type": "markdown",
      "metadata": {
        "id": "TsvGwReCHJcA"
      },
      "source": [
        "From this point on, all functions in the math module are part of the notebook's *name space*, meaning they can be called without prepending anythin to the function name. Let's use the %who magic command to see which symbols are currently defined in our name space:"
      ]
    },
    {
      "cell_type": "code",
      "execution_count": null,
      "metadata": {
        "id": "KS3ciWJBeoi3",
        "colab": {
          "base_uri": "https://localhost:8080/"
        },
        "outputId": "853bb15d-359c-42eb-d42d-d91d73f07574"
      },
      "outputs": [
        {
          "output_type": "stream",
          "name": "stdout",
          "text": [
            "a\t acos\t acosh\t asin\t asinh\t atan\t atan2\t atanh\t b\t \n",
            "bas\t c\t ceil\t comb\t copysign\t cos\t cosh\t csin\t degrees\t \n",
            "dist\t distance\t e\t erf\t erfc\t exp\t expm1\t fabs\t factorial\t \n",
            "floor\t fmod\t frexp\t fsum\t gamma\t gcd\t hypot\t inf\t isclose\t \n",
            "isfinite\t isinf\t isnan\t isqrt\t keyword\t lcm\t ldexp\t lgamma\t log\t \n",
            "log10\t log1p\t log2\t math\t modf\t nan\t nextafter\t perm\t pi\t \n",
            "pow\t prod\t radians\t remainder\t sin\t sinh\t sqrt\t tan\t tanh\t \n",
            "tau\t trunc\t ulp\t \n"
          ]
        }
      ],
      "source": [
        "%who"
      ]
    },
    {
      "cell_type": "markdown",
      "metadata": {
        "id": "qbC3s7H0Hmgk"
      },
      "source": [
        "As you see, **all** functions in the math module are now in the name space, so for instance if you want to compute an arc tangent (`atan`' function), you can just do this:"
      ]
    },
    {
      "cell_type": "code",
      "execution_count": null,
      "metadata": {
        "id": "C54ANZCTeuMG",
        "colab": {
          "base_uri": "https://localhost:8080/"
        },
        "outputId": "965cab44-a836-4b94-e25b-258c5f237a23"
      },
      "outputs": [
        {
          "output_type": "execute_result",
          "data": {
            "text/plain": [
              "1.1071487177940904"
            ]
          },
          "metadata": {},
          "execution_count": 46
        }
      ],
      "source": [
        "atan(2)"
      ]
    },
    {
      "cell_type": "markdown",
      "metadata": {
        "id": "um1e-VilH60j"
      },
      "source": [
        "Why is this a bad approach ?.... Because an imported module can define *hundreds* of functions, objects  and attributes whose names you cannot know in advance. It may very well happen that some of those names collide with identifiers that you have yourself previously defined, and these will be overwritten by the new module defintions, wreaking havoc in your code - it's a very dangerous thing to do. The only scenario where this acceptable is if you are just playing around with very small snippets of non-reusable code and having defined a very minimal set of variables."
      ]
    },
    {
      "cell_type": "markdown",
      "metadata": {
        "id": "hAzWoqhChGeu"
      },
      "source": [
        "### 5. **List Objects**\n",
        "\n",
        "Lists are what the name indicates: ordered collections of objects that can be of the same or different types.\n",
        "\n",
        "Lists are enclosed in rectangular brackets `[]`:"
      ]
    },
    {
      "cell_type": "code",
      "execution_count": null,
      "metadata": {
        "id": "0OcpcHgHhGeu",
        "colab": {
          "base_uri": "https://localhost:8080/"
        },
        "outputId": "296297c1-1494-499b-99e4-17518b13facb"
      },
      "outputs": [
        {
          "output_type": "execute_result",
          "data": {
            "text/plain": [
              "[1, 2, 4, 6, 9]"
            ]
          },
          "metadata": {},
          "execution_count": 47
        }
      ],
      "source": [
        "[1,2,4,6,9] # is a list of integers"
      ]
    },
    {
      "cell_type": "markdown",
      "metadata": {
        "id": "TnrLkg1SJpSe"
      },
      "source": [
        "List can combine elements of different types:"
      ]
    },
    {
      "cell_type": "code",
      "execution_count": null,
      "metadata": {
        "id": "2-DRy704hGex",
        "colab": {
          "base_uri": "https://localhost:8080/"
        },
        "outputId": "20190381-e91c-47ff-c753-9d462b7925b6"
      },
      "outputs": [
        {
          "output_type": "execute_result",
          "data": {
            "text/plain": [
              "[1, 'dfdf', 3.454]"
            ]
          },
          "metadata": {},
          "execution_count": 48
        }
      ],
      "source": [
        "[1,\"dfdf\",3.454] #  is a list of integers, floats and strings"
      ]
    },
    {
      "cell_type": "markdown",
      "metadata": {
        "id": "pzJhaGeZJyrM"
      },
      "source": [
        "In particular, lists can contain other lists as elements:"
      ]
    },
    {
      "cell_type": "code",
      "execution_count": null,
      "metadata": {
        "id": "zqnjqgBGhGez",
        "colab": {
          "base_uri": "https://localhost:8080/"
        },
        "outputId": "f09d8f2d-901c-4473-b442-8097e8b41eef"
      },
      "outputs": [
        {
          "output_type": "execute_result",
          "data": {
            "text/plain": [
              "[1, 2, [3, 2]]"
            ]
          },
          "metadata": {},
          "execution_count": 49
        }
      ],
      "source": [
        "[1, 2, [3, 2]]  # a list with elements of type list (nested lists)"
      ]
    },
    {
      "cell_type": "markdown",
      "metadata": {
        "id": "E9EucU_xhGe2"
      },
      "source": [
        "Let's declare a variable of type `list`"
      ]
    },
    {
      "cell_type": "code",
      "execution_count": null,
      "metadata": {
        "id": "Oau6orE-hGe2"
      },
      "outputs": [],
      "source": [
        "myList = [2, 3, 5, 7, 11, 13, 17, 19, 21]"
      ]
    },
    {
      "cell_type": "markdown",
      "metadata": {
        "id": "2iyrc02ohGe5"
      },
      "source": [
        "A given element of this list can be accessed by index:"
      ]
    },
    {
      "cell_type": "code",
      "execution_count": null,
      "metadata": {
        "id": "ToarVKZmhGe5",
        "colab": {
          "base_uri": "https://localhost:8080/"
        },
        "outputId": "8c0d2fd4-bb30-48df-9330-1fa8a1a879b7"
      },
      "outputs": [
        {
          "output_type": "execute_result",
          "data": {
            "text/plain": [
              "7"
            ]
          },
          "metadata": {},
          "execution_count": 51
        }
      ],
      "source": [
        "myList[3]"
      ]
    },
    {
      "cell_type": "markdown",
      "metadata": {
        "id": "Pw-5niOJhGe9"
      },
      "source": [
        "**IMPORTANT: Notice that indices start at zero (not 1 like in R and other programming languages); that is, in Python the 4th number (7) has index 3 and not 4**"
      ]
    },
    {
      "cell_type": "markdown",
      "metadata": {
        "id": "Z-JbQeFShGe-"
      },
      "source": [
        "Consider the following **code** (a set of instructions in Python Language):"
      ]
    },
    {
      "cell_type": "code",
      "execution_count": null,
      "metadata": {
        "id": "y1OgPshMhGe-"
      },
      "outputs": [],
      "source": [
        "a = myList[4]\n",
        "b = a + 5"
      ]
    },
    {
      "cell_type": "markdown",
      "metadata": {
        "id": "F1GwI7NwhGe_"
      },
      "source": [
        "**HANDS-ON**: What do you think the value of \"b\" will be ? After making you guess, execute the next cell to find out."
      ]
    },
    {
      "cell_type": "code",
      "execution_count": null,
      "metadata": {
        "id": "80ID1HYghGe_",
        "colab": {
          "base_uri": "https://localhost:8080/"
        },
        "outputId": "72b17f7c-b69a-4066-90f7-7319090926df"
      },
      "outputs": [
        {
          "output_type": "stream",
          "name": "stdout",
          "text": [
            "16\n"
          ]
        }
      ],
      "source": [
        "print(b) # This is the Python print function, for now does the same as typing the variable itself"
      ]
    },
    {
      "cell_type": "markdown",
      "metadata": {
        "id": "CLWKECmHhGfB"
      },
      "source": [
        "It is also possible to refer to a **range** of values within a list (it's called a \"slice\" in Python):"
      ]
    },
    {
      "cell_type": "code",
      "execution_count": null,
      "metadata": {
        "id": "YwASWPTFhGfB",
        "colab": {
          "base_uri": "https://localhost:8080/"
        },
        "outputId": "e6c31181-fea2-4a30-b681-36ac704b7b12"
      },
      "outputs": [
        {
          "output_type": "execute_result",
          "data": {
            "text/plain": [
              "[11, 13, 17, 19]"
            ]
          },
          "metadata": {},
          "execution_count": 55
        }
      ],
      "source": [
        "myList[4:8]"
      ]
    },
    {
      "cell_type": "markdown",
      "metadata": {
        "id": "LDH4NOt2hGfF"
      },
      "source": [
        "The result is a list containing the elements of myList from position 4 to position 7.   \n",
        "\n",
        "**IMPORTANT NOTE**: notice that the element number 8 is not included, even though it's used as upper value in the range. That's just how Python works, you will have to get used to it.\n",
        "\n",
        "General form of slice notation:\n",
        "\n",
        "\n",
        "```\n",
        "a[start:end:step]\n",
        "```\n",
        "means elements from \"start\" (included) to \"end\" (excluded) with a spacing of \"step\" elements (\"step\" is 1 by default)\n"
      ]
    },
    {
      "cell_type": "code",
      "execution_count": null,
      "metadata": {
        "id": "1iJbYlEQLEPz",
        "colab": {
          "base_uri": "https://localhost:8080/"
        },
        "outputId": "d69ed987-48e7-4a3c-a3a3-3ddd93ffb826"
      },
      "outputs": [
        {
          "output_type": "execute_result",
          "data": {
            "text/plain": [
              "[3, 7, 13]"
            ]
          },
          "metadata": {},
          "execution_count": 56
        }
      ],
      "source": [
        "myList[1:7:2]  # from element 1 to 6, skipping 1"
      ]
    },
    {
      "cell_type": "markdown",
      "metadata": {
        "id": "bF-TrUujJ9CW"
      },
      "source": [
        "You can omit either `start`, `end` or `step`, so for instance:"
      ]
    },
    {
      "cell_type": "code",
      "execution_count": null,
      "metadata": {
        "id": "t_BDWNXdJ9CW",
        "colab": {
          "base_uri": "https://localhost:8080/"
        },
        "outputId": "39fffec6-8c3a-4c53-a5f2-f788e9f44abc"
      },
      "outputs": [
        {
          "output_type": "execute_result",
          "data": {
            "text/plain": [
              "[3, 5, 7, 11, 13, 17, 19, 21]"
            ]
          },
          "metadata": {},
          "execution_count": 57
        }
      ],
      "source": [
        "myList[1:]"
      ]
    },
    {
      "cell_type": "markdown",
      "metadata": {
        "id": "pUqQ4n5QJ9CW"
      },
      "source": [
        "returns all elements except the first one, and"
      ]
    },
    {
      "cell_type": "code",
      "execution_count": null,
      "metadata": {
        "id": "JXSMTKQAJ9CW",
        "colab": {
          "base_uri": "https://localhost:8080/"
        },
        "outputId": "0558c948-35d1-4cba-a48b-711576abdfee"
      },
      "outputs": [
        {
          "output_type": "execute_result",
          "data": {
            "text/plain": [
              "[2, 3, 5, 7]"
            ]
          },
          "metadata": {},
          "execution_count": 58
        }
      ],
      "source": [
        "myList[:4]"
      ]
    },
    {
      "cell_type": "markdown",
      "metadata": {
        "id": "geNfKpAcJ9CW"
      },
      "source": [
        "returns the first 4 elements. You can also use negative values for `start` and `end`, and they will count *back* from the last element:"
      ]
    },
    {
      "cell_type": "code",
      "execution_count": null,
      "metadata": {
        "id": "IWr7zUcuJ9CW",
        "colab": {
          "base_uri": "https://localhost:8080/"
        },
        "outputId": "8fb71ffc-2fe9-41d9-a057-ae634b7c4dfe"
      },
      "outputs": [
        {
          "output_type": "execute_result",
          "data": {
            "text/plain": [
              "21"
            ]
          },
          "metadata": {},
          "execution_count": 59
        }
      ],
      "source": [
        "myList[-1]"
      ]
    },
    {
      "cell_type": "markdown",
      "metadata": {
        "id": "kl-m1yoHJ9CW"
      },
      "source": [
        "so `myList[-1]` is a quick way to return the last element from a list. To retrieve the last 3 elements, one can do:"
      ]
    },
    {
      "cell_type": "code",
      "execution_count": null,
      "metadata": {
        "id": "dQvtl0EJJ9CW",
        "colab": {
          "base_uri": "https://localhost:8080/"
        },
        "outputId": "2b81ea40-88f2-4b05-9dd7-5c777f2b2782"
      },
      "outputs": [
        {
          "output_type": "execute_result",
          "data": {
            "text/plain": [
              "[17, 19, 21]"
            ]
          },
          "metadata": {},
          "execution_count": 60
        }
      ],
      "source": [
        "myList[-3:]"
      ]
    },
    {
      "cell_type": "markdown",
      "metadata": {
        "id": "WfJtVaZMJ9CW"
      },
      "source": [
        "A negative value can also be used in `step`, and a quick trick to print a list in reverse is to do:"
      ]
    },
    {
      "cell_type": "code",
      "execution_count": null,
      "metadata": {
        "id": "1qE271ooJ9CW",
        "colab": {
          "base_uri": "https://localhost:8080/"
        },
        "outputId": "12e878f4-36c1-44af-c68e-807d2a848f63"
      },
      "outputs": [
        {
          "output_type": "execute_result",
          "data": {
            "text/plain": [
              "[21, 19, 17, 13, 11, 7, 5, 3, 2]"
            ]
          },
          "metadata": {},
          "execution_count": 61
        }
      ],
      "source": [
        "myList[::-1]"
      ]
    },
    {
      "cell_type": "markdown",
      "metadata": {
        "id": "5YOt3kVrhGfF"
      },
      "source": [
        "Lists are *dynamic* Python objects (also called *mutable* in Python jargon), so we can add elements to or remove elements from them after they are created. For that, we need a set of special functions called *list methods*. Let's see how the `append` method works."
      ]
    },
    {
      "cell_type": "code",
      "execution_count": null,
      "metadata": {
        "id": "zA5mxWOrhGfF"
      },
      "outputs": [],
      "source": [
        "myList.append(23)  # methods are separated from the variable name by a \".\""
      ]
    },
    {
      "cell_type": "code",
      "execution_count": null,
      "metadata": {
        "id": "hMEBuZcIhGfG",
        "colab": {
          "base_uri": "https://localhost:8080/"
        },
        "outputId": "a7f05c06-a4fc-45c2-b70a-b85296b03d71"
      },
      "outputs": [
        {
          "output_type": "stream",
          "name": "stdout",
          "text": [
            "[2, 3, 5, 7, 11, 13, 17, 19, 21, 23]\n"
          ]
        }
      ],
      "source": [
        "print(myList)"
      ]
    },
    {
      "cell_type": "markdown",
      "metadata": {
        "id": "NF6BUTe6hGfJ"
      },
      "source": [
        "As you see, our list has another element at the end, the number 23. What about removing an element ? Let's do it whith the method `pop`"
      ]
    },
    {
      "cell_type": "code",
      "execution_count": null,
      "metadata": {
        "id": "OlAWWt7JhGfK",
        "colab": {
          "base_uri": "https://localhost:8080/"
        },
        "outputId": "74a2d0ad-0757-4aba-ccab-7f9b376b1e91"
      },
      "outputs": [
        {
          "output_type": "execute_result",
          "data": {
            "text/plain": [
              "23"
            ]
          },
          "metadata": {},
          "execution_count": 69
        }
      ],
      "source": [
        "myList.pop()"
      ]
    },
    {
      "cell_type": "markdown",
      "metadata": {
        "id": "FCfPDTXKhGfL"
      },
      "source": [
        "Notice the `pop` method *returned* a value, which was print as the ouput of the command. Compare this with the `append` command, which returned nothing. Let's check our list again."
      ]
    },
    {
      "cell_type": "code",
      "execution_count": null,
      "metadata": {
        "id": "LyoLHvtVhGfL",
        "scrolled": true,
        "colab": {
          "base_uri": "https://localhost:8080/"
        },
        "outputId": "92710300-6e1e-4f55-ff30-a52206994d52"
      },
      "outputs": [
        {
          "output_type": "stream",
          "name": "stdout",
          "text": [
            "[2, 3, 5, 7, 11, 13, 17, 19, 21]\n"
          ]
        }
      ],
      "source": [
        "print(myList)"
      ]
    },
    {
      "cell_type": "markdown",
      "metadata": {
        "id": "ZpCDz-tThGfN"
      },
      "source": [
        "The last element was removed, and the list is back to its original form."
      ]
    },
    {
      "cell_type": "markdown",
      "metadata": {
        "id": "YpRxedULhGfN"
      },
      "source": [
        "**HANDS-ON**: Now, try to guess what's happening here:"
      ]
    },
    {
      "cell_type": "code",
      "execution_count": null,
      "metadata": {
        "id": "zpkNtx7NhGfO"
      },
      "outputs": [],
      "source": [
        "a = myList.pop()"
      ]
    },
    {
      "cell_type": "code",
      "source": [
        "a"
      ],
      "metadata": {
        "colab": {
          "base_uri": "https://localhost:8080/"
        },
        "id": "It6SazL11U2g",
        "outputId": "7d47b0f3-8f7f-4f9a-f3ef-b9af9901066e"
      },
      "execution_count": null,
      "outputs": [
        {
          "output_type": "execute_result",
          "data": {
            "text/plain": [
              "19"
            ]
          },
          "metadata": {},
          "execution_count": 73
        }
      ]
    },
    {
      "cell_type": "markdown",
      "metadata": {
        "id": "ddPsJwFahGfP"
      },
      "source": [
        "**HANDS-ON**: What is the value of \"a\" ? Try inserting a cell below this one using the `ALT+ENTER` command, and print the value of variable `a` using that cell."
      ]
    },
    {
      "cell_type": "markdown",
      "metadata": {
        "id": "RFMK8-18hGfS"
      },
      "source": [
        "That's right, variable `a` contains the value 21, i.e. the removed last element of our list. This is what the *return* value is for: something to be assigned to a variable, or printed.  Our \"myList\" object now contains one fewer element:"
      ]
    },
    {
      "cell_type": "code",
      "execution_count": null,
      "metadata": {
        "id": "OYX5HL5_hGfP",
        "colab": {
          "base_uri": "https://localhost:8080/"
        },
        "outputId": "cc2c6a86-07e5-422a-89f8-743a4403a56c"
      },
      "outputs": [
        {
          "output_type": "stream",
          "name": "stdout",
          "text": [
            "[2, 3, 5, 7, 11, 13, 17]\n"
          ]
        }
      ],
      "source": [
        "print(myList)"
      ]
    },
    {
      "cell_type": "markdown",
      "metadata": {
        "id": "h7YzX8P7hGfS"
      },
      "source": [
        "That's great, but what if we want to insert or remove a variable in any position other than the last ? To insert a value at a specific position we can use the predictably named  `insert` method:"
      ]
    },
    {
      "cell_type": "code",
      "execution_count": null,
      "metadata": {
        "id": "8VCUXY_4hGfT"
      },
      "outputs": [],
      "source": [
        "myList.insert(4,100)"
      ]
    },
    {
      "cell_type": "code",
      "execution_count": null,
      "metadata": {
        "id": "NMR5T2gshGfU",
        "colab": {
          "base_uri": "https://localhost:8080/"
        },
        "outputId": "723ffffc-5425-4eed-ccea-24aa100d1c07"
      },
      "outputs": [
        {
          "output_type": "execute_result",
          "data": {
            "text/plain": [
              "[2, 3, 5, 7, 100, 11, 13, 17]"
            ]
          },
          "metadata": {},
          "execution_count": 76
        }
      ],
      "source": [
        "myList"
      ]
    },
    {
      "cell_type": "markdown",
      "metadata": {
        "id": "DmC0lOjvhGfX"
      },
      "source": [
        "**Explanation:** The value \"100\" is inserted *after* the fourth element."
      ]
    },
    {
      "cell_type": "markdown",
      "metadata": {
        "id": "uzs7fJlGJ9CX"
      },
      "source": [
        "To remove an element at a specific position, we can use `pop` method again, but witha difference:"
      ]
    },
    {
      "cell_type": "code",
      "execution_count": null,
      "metadata": {
        "id": "S2zERxbwhGfX"
      },
      "outputs": [],
      "source": [
        "a = myList.pop(4)"
      ]
    },
    {
      "cell_type": "code",
      "execution_count": null,
      "metadata": {
        "id": "9LeKNqvIhGfY",
        "colab": {
          "base_uri": "https://localhost:8080/"
        },
        "outputId": "0f751d57-b290-4f61-8767-817fb101b678"
      },
      "outputs": [
        {
          "output_type": "execute_result",
          "data": {
            "text/plain": [
              "100"
            ]
          },
          "metadata": {},
          "execution_count": 78
        }
      ],
      "source": [
        "a"
      ]
    },
    {
      "cell_type": "code",
      "source": [
        "myList"
      ],
      "metadata": {
        "colab": {
          "base_uri": "https://localhost:8080/"
        },
        "id": "lJas9AnA10QB",
        "outputId": "bd54b031-6e14-4f2b-8862-526aaac27927"
      },
      "execution_count": null,
      "outputs": [
        {
          "output_type": "execute_result",
          "data": {
            "text/plain": [
              "[2, 3, 5, 7, 11, 13, 17]"
            ]
          },
          "metadata": {},
          "execution_count": 79
        }
      ]
    },
    {
      "cell_type": "markdown",
      "metadata": {
        "id": "Y0gvDkKKhGfZ"
      },
      "source": [
        "In this instance the `pop` method has a number between the round brackets. This number is called an *argument* to the `pop` method. This particular argument indicates the position of the number to be *popped* (i.e. removed)."
      ]
    },
    {
      "cell_type": "code",
      "execution_count": null,
      "metadata": {
        "id": "ZpGPvi6ahGfa",
        "colab": {
          "base_uri": "https://localhost:8080/"
        },
        "outputId": "e1434e11-a150-48c3-eca2-5bda85c59aa4"
      },
      "outputs": [
        {
          "output_type": "execute_result",
          "data": {
            "text/plain": [
              "[2, 3, 5, 7, 11, 13, 17]"
            ]
          },
          "metadata": {},
          "execution_count": 80
        }
      ],
      "source": [
        "myList"
      ]
    },
    {
      "cell_type": "markdown",
      "metadata": {
        "id": "kFd1JnrVhGfb"
      },
      "source": [
        "The Python Language has several other *list methods*, you can check them at https://www.programiz.com/python-programming/methods/list"
      ]
    },
    {
      "cell_type": "markdown",
      "metadata": {
        "id": "GrVdU4SUhGfc"
      },
      "source": [
        "We can also use the `dir` function to list all the methods available to the `list` type."
      ]
    },
    {
      "cell_type": "code",
      "source": [
        "type(myList)"
      ],
      "metadata": {
        "colab": {
          "base_uri": "https://localhost:8080/"
        },
        "id": "iWIQpI9q7tQW",
        "outputId": "fb8783dd-c9f4-44ca-fa94-9966c02e76c5"
      },
      "execution_count": null,
      "outputs": [
        {
          "output_type": "execute_result",
          "data": {
            "text/plain": [
              "list"
            ]
          },
          "metadata": {},
          "execution_count": 82
        }
      ]
    },
    {
      "cell_type": "code",
      "execution_count": null,
      "metadata": {
        "id": "ekXJQ_-Ln-Bc",
        "colab": {
          "base_uri": "https://localhost:8080/"
        },
        "outputId": "5f1e9d00-b4c5-4d6f-9857-7931a48bde0e"
      },
      "outputs": [
        {
          "output_type": "execute_result",
          "data": {
            "text/plain": [
              "['__add__',\n",
              " '__class__',\n",
              " '__class_getitem__',\n",
              " '__contains__',\n",
              " '__delattr__',\n",
              " '__delitem__',\n",
              " '__dir__',\n",
              " '__doc__',\n",
              " '__eq__',\n",
              " '__format__',\n",
              " '__ge__',\n",
              " '__getattribute__',\n",
              " '__getitem__',\n",
              " '__gt__',\n",
              " '__hash__',\n",
              " '__iadd__',\n",
              " '__imul__',\n",
              " '__init__',\n",
              " '__init_subclass__',\n",
              " '__iter__',\n",
              " '__le__',\n",
              " '__len__',\n",
              " '__lt__',\n",
              " '__mul__',\n",
              " '__ne__',\n",
              " '__new__',\n",
              " '__reduce__',\n",
              " '__reduce_ex__',\n",
              " '__repr__',\n",
              " '__reversed__',\n",
              " '__rmul__',\n",
              " '__setattr__',\n",
              " '__setitem__',\n",
              " '__sizeof__',\n",
              " '__str__',\n",
              " '__subclasshook__',\n",
              " 'append',\n",
              " 'clear',\n",
              " 'copy',\n",
              " 'count',\n",
              " 'extend',\n",
              " 'index',\n",
              " 'insert',\n",
              " 'pop',\n",
              " 'remove',\n",
              " 'reverse',\n",
              " 'sort']"
            ]
          },
          "metadata": {},
          "execution_count": 83
        }
      ],
      "source": [
        "dir(list)"
      ]
    },
    {
      "cell_type": "markdown",
      "metadata": {
        "id": "CsRMt8erJ9CX"
      },
      "source": [
        "Again, we ignore the \"internal\" methods starting with `__`and consider only the last 11 methods: `append`, `clear`, `copy`, `count`, `extend`, `index`, `insert`, `pop`, `remove`, `reverse`, `sort`. A very convenient way to learn about what methods do is to use the Python built-in `help` function, for instance:"
      ]
    },
    {
      "cell_type": "code",
      "source": [
        "LLL = [67,3,24,35, 100, 2]"
      ],
      "metadata": {
        "id": "rYW6yzw38hw5"
      },
      "execution_count": null,
      "outputs": []
    },
    {
      "cell_type": "code",
      "source": [
        "LLL.sort()"
      ],
      "metadata": {
        "id": "T0t2XI2f8lqw"
      },
      "execution_count": null,
      "outputs": []
    },
    {
      "cell_type": "code",
      "source": [
        "LLL"
      ],
      "metadata": {
        "colab": {
          "base_uri": "https://localhost:8080/"
        },
        "id": "eMJjju7k8q4B",
        "outputId": "168c4533-ccb3-4d9e-b9ca-20076e2a0c04"
      },
      "execution_count": null,
      "outputs": [
        {
          "output_type": "execute_result",
          "data": {
            "text/plain": [
              "[2, 3, 24, 35, 67, 100]"
            ]
          },
          "metadata": {},
          "execution_count": 99
        }
      ]
    },
    {
      "cell_type": "code",
      "execution_count": null,
      "metadata": {
        "id": "AC3dTPI4J9CY",
        "colab": {
          "base_uri": "https://localhost:8080/"
        },
        "outputId": "d54989a9-d788-4bc2-cf16-1ea7d71993ec"
      },
      "outputs": [
        {
          "output_type": "stream",
          "name": "stdout",
          "text": [
            "Help on method_descriptor:\n",
            "\n",
            "clear(self, /)\n",
            "    Remove all items from list.\n",
            "\n"
          ]
        }
      ],
      "source": [
        "help(list.clear)"
      ]
    },
    {
      "cell_type": "markdown",
      "metadata": {
        "id": "kKFQTohDJ9CY"
      },
      "source": [
        "**HANDS-ON:** explore the various list methods and try to apply them to myList."
      ]
    },
    {
      "cell_type": "markdown",
      "metadata": {
        "id": "GA0vF-BehGfe"
      },
      "source": [
        "A very useful built-in Python function that we can use with `list` objects is `len` (for length). It simply returns the number of elements in the list:"
      ]
    },
    {
      "cell_type": "code",
      "execution_count": null,
      "metadata": {
        "id": "pB9jlewAhGfe",
        "colab": {
          "base_uri": "https://localhost:8080/"
        },
        "outputId": "a843e28b-bbcc-4661-cb52-6273c686b962"
      },
      "outputs": [
        {
          "output_type": "execute_result",
          "data": {
            "text/plain": [
              "7"
            ]
          },
          "metadata": {},
          "execution_count": 102
        }
      ],
      "source": [
        "len(myList)"
      ]
    },
    {
      "cell_type": "markdown",
      "metadata": {
        "id": "-WMgaTUxhGff"
      },
      "source": [
        "And by the way, we can also use `len` with strings. Not surprisingly, it returns the number of characters, i.e. the length of a string in characters (notice that spaces are also characters):"
      ]
    },
    {
      "cell_type": "code",
      "execution_count": null,
      "metadata": {
        "id": "DOhZzYqEhGfg",
        "colab": {
          "base_uri": "https://localhost:8080/"
        },
        "outputId": "aa6ce8bb-65d2-4593-8bda-018c4356f4a1"
      },
      "outputs": [
        {
          "output_type": "execute_result",
          "data": {
            "text/plain": [
              "16"
            ]
          },
          "metadata": {},
          "execution_count": 103
        }
      ],
      "source": [
        "myString= \"This is a string\"\n",
        "len(myString)"
      ]
    },
    {
      "cell_type": "markdown",
      "metadata": {
        "id": "XIR4tNCEhGfh"
      },
      "source": [
        "In actual fact, string objects are somewhat like lists (with a big difference we'll discuss later) in that they can be *indexed* much in the same way:"
      ]
    },
    {
      "cell_type": "code",
      "execution_count": null,
      "metadata": {
        "id": "8g3ad9IqhGfh",
        "colab": {
          "base_uri": "https://localhost:8080/",
          "height": 35
        },
        "outputId": "3e293309-9b6a-4d38-9dd6-53a8aa8f8898"
      },
      "outputs": [
        {
          "output_type": "execute_result",
          "data": {
            "text/plain": [
              "'s'"
            ],
            "application/vnd.google.colaboratory.intrinsic+json": {
              "type": "string"
            }
          },
          "metadata": {},
          "execution_count": 104
        }
      ],
      "source": [
        "myString[3]"
      ]
    },
    {
      "cell_type": "code",
      "execution_count": null,
      "metadata": {
        "id": "AVpKnZ9QhGfj",
        "colab": {
          "base_uri": "https://localhost:8080/",
          "height": 35
        },
        "outputId": "05def2c7-ce38-45b3-cb0f-41f6418aec3b"
      },
      "outputs": [
        {
          "output_type": "execute_result",
          "data": {
            "text/plain": [
              "'a string'"
            ],
            "application/vnd.google.colaboratory.intrinsic+json": {
              "type": "string"
            }
          },
          "metadata": {},
          "execution_count": 105
        }
      ],
      "source": [
        "myString[8:16]"
      ]
    },
    {
      "cell_type": "markdown",
      "metadata": {
        "id": "kjXT2KzNJ9CY"
      },
      "source": [
        "and also:"
      ]
    },
    {
      "cell_type": "code",
      "execution_count": null,
      "metadata": {
        "id": "TewDpDXPJ9CY",
        "colab": {
          "base_uri": "https://localhost:8080/",
          "height": 35
        },
        "outputId": "14ff0405-e9cb-4224-9a8b-c8708fb014e8"
      },
      "outputs": [
        {
          "output_type": "execute_result",
          "data": {
            "text/plain": [
              "'gnirts a si sihT'"
            ],
            "application/vnd.google.colaboratory.intrinsic+json": {
              "type": "string"
            }
          },
          "metadata": {},
          "execution_count": 106
        }
      ],
      "source": [
        "myString[::-1]"
      ]
    },
    {
      "cell_type": "markdown",
      "metadata": {
        "id": "OIuPFZbKhGfl"
      },
      "source": [
        "In Python, we say that data types like `str` and `list` are ***iterables*** because they can be indexed in this way."
      ]
    },
    {
      "cell_type": "markdown",
      "metadata": {
        "id": "Gbbxq38NJ9CY"
      },
      "source": [
        "### 6. **Immutable types: Strings and Tuples**"
      ]
    },
    {
      "cell_type": "markdown",
      "metadata": {
        "id": "hJqIz90aJ9CY"
      },
      "source": [
        "We have just seen that string variables can be indexed in much the same way as lists, using a slice notation bound by the same rules. This is typical of *iterable* objects in Python. However, while lists are dynamic objects whose contents can be changed by the user at any time, strings are *immutable* objects whose content cannot be changed. So you can do this:"
      ]
    },
    {
      "cell_type": "code",
      "execution_count": null,
      "metadata": {
        "id": "hbH_iqi_J9CY",
        "colab": {
          "base_uri": "https://localhost:8080/"
        },
        "outputId": "939fd7f0-7698-4bac-e910-cbe5ce0b2de3"
      },
      "outputs": [
        {
          "output_type": "stream",
          "name": "stdout",
          "text": [
            "[1, 2, 3]\n",
            "[1, 100, 3]\n"
          ]
        }
      ],
      "source": [
        "myList = [1, 2, 3]\n",
        "print(myList)\n",
        "myList[1] = 100\n",
        "print(myList)"
      ]
    },
    {
      "cell_type": "markdown",
      "metadata": {
        "id": "rN2TQAf_J9CY"
      },
      "source": [
        "but if you try to do something similar with a string:"
      ]
    },
    {
      "cell_type": "code",
      "execution_count": null,
      "metadata": {
        "id": "Ui89rsZWJ9CY",
        "colab": {
          "base_uri": "https://localhost:8080/",
          "height": 163
        },
        "outputId": "5e7c8128-3bfe-41aa-c1ec-c0dd8b21d0cf"
      },
      "outputs": [
        {
          "output_type": "error",
          "ename": "TypeError",
          "evalue": "'str' object does not support item assignment",
          "traceback": [
            "\u001b[0;31m---------------------------------------------------------------------------\u001b[0m",
            "\u001b[0;31mTypeError\u001b[0m                                 Traceback (most recent call last)",
            "\u001b[0;32m<ipython-input-108-de96a377022f>\u001b[0m in \u001b[0;36m<cell line: 2>\u001b[0;34m()\u001b[0m\n\u001b[1;32m      1\u001b[0m \u001b[0mmyString\u001b[0m \u001b[0;34m=\u001b[0m \u001b[0;34m\"house\"\u001b[0m\u001b[0;34m\u001b[0m\u001b[0;34m\u001b[0m\u001b[0m\n\u001b[0;32m----> 2\u001b[0;31m \u001b[0mmyString\u001b[0m\u001b[0;34m[\u001b[0m\u001b[0;36m0\u001b[0m\u001b[0;34m]\u001b[0m \u001b[0;34m=\u001b[0m \u001b[0;34m'm'\u001b[0m\u001b[0;34m\u001b[0m\u001b[0;34m\u001b[0m\u001b[0m\n\u001b[0m",
            "\u001b[0;31mTypeError\u001b[0m: 'str' object does not support item assignment"
          ]
        }
      ],
      "source": [
        "myString = \"house\"\n",
        "myString[0] = 'm'"
      ]
    },
    {
      "cell_type": "markdown",
      "metadata": {
        "id": "kiAUtdW8J9CY"
      },
      "source": [
        "you get an error message to the effect that string objects *do not support item assignemt*. That is, they are static objects. Any time you would want to mutate a string, you will have to create instead a new string with the contents changed in the intended way. So coming back to the previous example:"
      ]
    },
    {
      "cell_type": "code",
      "execution_count": null,
      "metadata": {
        "id": "Ujd1TzPLJ9CZ",
        "colab": {
          "base_uri": "https://localhost:8080/"
        },
        "outputId": "bb48bcc0-4feb-4755-a425-41f1c20319d7"
      },
      "outputs": [
        {
          "output_type": "stream",
          "name": "stdout",
          "text": [
            "mouse\n"
          ]
        }
      ],
      "source": [
        "myString = \"house\"\n",
        "myNewString = \"m\"+myString[1:]\n",
        "print(myNewString)"
      ]
    },
    {
      "cell_type": "markdown",
      "metadata": {
        "id": "ukaIyIQqJ9CZ"
      },
      "source": [
        "Strings are text variables, and text is really important for us humans when we create computer code, particularly in terms of how we format it to make things more readable. Strings support many method to modify, format, align, search and filter text. Rember, however, that these methods will *always* return a new string, because string variables cannot be modified. For instance:"
      ]
    },
    {
      "cell_type": "code",
      "execution_count": null,
      "metadata": {
        "id": "ULE-TJBPJ9CZ",
        "colab": {
          "base_uri": "https://localhost:8080/",
          "height": 35
        },
        "outputId": "2f17327b-00cb-4b70-c134-a63c87b4a8ce"
      },
      "outputs": [
        {
          "output_type": "execute_result",
          "data": {
            "text/plain": [
              "'HOUSE'"
            ],
            "application/vnd.google.colaboratory.intrinsic+json": {
              "type": "string"
            }
          },
          "metadata": {},
          "execution_count": 111
        }
      ],
      "source": [
        "myString.upper()"
      ]
    },
    {
      "cell_type": "markdown",
      "metadata": {
        "id": "7Uc6sn9RJ9CZ"
      },
      "source": [
        "returns a new string that is the upper case version of original string. And"
      ]
    },
    {
      "cell_type": "code",
      "execution_count": null,
      "metadata": {
        "id": "FBJOQoiDJ9CZ",
        "colab": {
          "base_uri": "https://localhost:8080/",
          "height": 35
        },
        "outputId": "6ffc1376-5a4a-41e3-871f-e575f03355dc"
      },
      "outputs": [
        {
          "output_type": "execute_result",
          "data": {
            "text/plain": [
              "'This string needs trimming'"
            ],
            "application/vnd.google.colaboratory.intrinsic+json": {
              "type": "string"
            }
          },
          "metadata": {},
          "execution_count": 112
        }
      ],
      "source": [
        "myString = \"   This string needs trimming  \"\n",
        "myTrimmedString = myString.strip()\n",
        "myTrimmedString"
      ]
    },
    {
      "cell_type": "markdown",
      "metadata": {
        "id": "1e_G1WUvJ9CZ"
      },
      "source": [
        "the `strip`method removes the leading and trailing spaces out of string variable.\n",
        "\n",
        "The `split`method will split a sting in its containing words, producing a list as output:"
      ]
    },
    {
      "cell_type": "code",
      "execution_count": null,
      "metadata": {
        "id": "-9Ko2hDoJ9CZ",
        "colab": {
          "base_uri": "https://localhost:8080/"
        },
        "outputId": "0ee3eca4-ecff-4737-8591-3b441b52afbb"
      },
      "outputs": [
        {
          "output_type": "execute_result",
          "data": {
            "text/plain": [
              "['This', 'string', 'needs', 'trimming']"
            ]
          },
          "metadata": {},
          "execution_count": 113
        }
      ],
      "source": [
        "myTrimmedString.split()"
      ]
    },
    {
      "cell_type": "markdown",
      "metadata": {
        "id": "B4ZhuL29J9CZ"
      },
      "source": [
        "To check the list of of string methods, you can do the following:"
      ]
    },
    {
      "cell_type": "code",
      "execution_count": null,
      "metadata": {
        "id": "7YvJDQmEJ9CZ",
        "colab": {
          "base_uri": "https://localhost:8080/"
        },
        "outputId": "89c86666-e760-4fa6-fa71-7d5bb5ebf359"
      },
      "outputs": [
        {
          "output_type": "execute_result",
          "data": {
            "text/plain": [
              "['__add__',\n",
              " '__class__',\n",
              " '__contains__',\n",
              " '__delattr__',\n",
              " '__dir__',\n",
              " '__doc__',\n",
              " '__eq__',\n",
              " '__format__',\n",
              " '__ge__',\n",
              " '__getattribute__',\n",
              " '__getitem__',\n",
              " '__getnewargs__',\n",
              " '__gt__',\n",
              " '__hash__',\n",
              " '__init__',\n",
              " '__init_subclass__',\n",
              " '__iter__',\n",
              " '__le__',\n",
              " '__len__',\n",
              " '__lt__',\n",
              " '__mod__',\n",
              " '__mul__',\n",
              " '__ne__',\n",
              " '__new__',\n",
              " '__reduce__',\n",
              " '__reduce_ex__',\n",
              " '__repr__',\n",
              " '__rmod__',\n",
              " '__rmul__',\n",
              " '__setattr__',\n",
              " '__sizeof__',\n",
              " '__str__',\n",
              " '__subclasshook__',\n",
              " 'capitalize',\n",
              " 'casefold',\n",
              " 'center',\n",
              " 'count',\n",
              " 'encode',\n",
              " 'endswith',\n",
              " 'expandtabs',\n",
              " 'find',\n",
              " 'format',\n",
              " 'format_map',\n",
              " 'index',\n",
              " 'isalnum',\n",
              " 'isalpha',\n",
              " 'isascii',\n",
              " 'isdecimal',\n",
              " 'isdigit',\n",
              " 'isidentifier',\n",
              " 'islower',\n",
              " 'isnumeric',\n",
              " 'isprintable',\n",
              " 'isspace',\n",
              " 'istitle',\n",
              " 'isupper',\n",
              " 'join',\n",
              " 'ljust',\n",
              " 'lower',\n",
              " 'lstrip',\n",
              " 'maketrans',\n",
              " 'partition',\n",
              " 'removeprefix',\n",
              " 'removesuffix',\n",
              " 'replace',\n",
              " 'rfind',\n",
              " 'rindex',\n",
              " 'rjust',\n",
              " 'rpartition',\n",
              " 'rsplit',\n",
              " 'rstrip',\n",
              " 'split',\n",
              " 'splitlines',\n",
              " 'startswith',\n",
              " 'strip',\n",
              " 'swapcase',\n",
              " 'title',\n",
              " 'translate',\n",
              " 'upper',\n",
              " 'zfill']"
            ]
          },
          "metadata": {},
          "execution_count": 114
        }
      ],
      "source": [
        "dir(str)"
      ]
    },
    {
      "cell_type": "markdown",
      "metadata": {
        "id": "PGFNPagtJ9CZ"
      },
      "source": [
        "again, methods starting with `__` are internals and should be ignored at this point. You can use `help(str.method)` to get information on a particular method:"
      ]
    },
    {
      "cell_type": "code",
      "execution_count": null,
      "metadata": {
        "id": "R1sAAFeEJ9CZ",
        "colab": {
          "base_uri": "https://localhost:8080/"
        },
        "outputId": "bd64e385-232d-42ad-b02b-c1d58d4080f4"
      },
      "outputs": [
        {
          "output_type": "stream",
          "name": "stdout",
          "text": [
            "Help on method_descriptor:\n",
            "\n",
            "swapcase(self, /)\n",
            "    Convert uppercase characters to lowercase and lowercase characters to uppercase.\n",
            "\n"
          ]
        }
      ],
      "source": [
        "help(str.swapcase)"
      ]
    },
    {
      "cell_type": "markdown",
      "metadata": {
        "id": "dUBbaBvzJ9CZ"
      },
      "source": [
        "You can also check the full list of string methods at https://www.programiz.com/python-programming/methods/string, with examples."
      ]
    },
    {
      "cell_type": "markdown",
      "source": [
        "**HANDS-ON:** Define a string variable with value 'ThisIsAMouse' . Now create a another string variable where you replace the *seventh* character of the first variable with with an 'H'. (*Hint:* use slicing)"
      ],
      "metadata": {
        "id": "tLV-rjFhy_Wc"
      }
    },
    {
      "cell_type": "markdown",
      "metadata": {
        "id": "Yk_fGp4fJ9CZ"
      },
      "source": [
        "The other important type of immutable Pyhon objects are **tuples**.Tuples are immutable collections of items, and they are also *iterable*, so their elements can be retrieved using slice notation. They are represented using roound brackets `()` :"
      ]
    },
    {
      "cell_type": "code",
      "execution_count": null,
      "metadata": {
        "id": "UAKb8QoLJ9CZ",
        "colab": {
          "base_uri": "https://localhost:8080/"
        },
        "outputId": "187401e2-1503-4c04-df2e-aec64cad547b"
      },
      "outputs": [
        {
          "output_type": "execute_result",
          "data": {
            "text/plain": [
              "tuple"
            ]
          },
          "metadata": {},
          "execution_count": 121
        }
      ],
      "source": [
        "myTuple = (1, \"house\", 5.3)\n",
        "type(myTuple)"
      ]
    },
    {
      "cell_type": "code",
      "execution_count": null,
      "metadata": {
        "id": "UIA0lgLMJ9CZ",
        "colab": {
          "base_uri": "https://localhost:8080/",
          "height": 35
        },
        "outputId": "8cbb7882-a735-4209-ca34-9453e93a428a"
      },
      "outputs": [
        {
          "output_type": "execute_result",
          "data": {
            "text/plain": [
              "'house'"
            ],
            "application/vnd.google.colaboratory.intrinsic+json": {
              "type": "string"
            }
          },
          "metadata": {},
          "execution_count": 122
        }
      ],
      "source": [
        "myTuple[1]"
      ]
    },
    {
      "cell_type": "code",
      "execution_count": null,
      "metadata": {
        "id": "540mlxh8J9CZ",
        "colab": {
          "base_uri": "https://localhost:8080/",
          "height": 145
        },
        "outputId": "52176b68-be6d-495b-fdc4-5b8067d40dde"
      },
      "outputs": [
        {
          "output_type": "error",
          "ename": "TypeError",
          "evalue": "'tuple' object does not support item assignment",
          "traceback": [
            "\u001b[0;31m---------------------------------------------------------------------------\u001b[0m",
            "\u001b[0;31mTypeError\u001b[0m                                 Traceback (most recent call last)",
            "\u001b[0;32m<ipython-input-123-f88e0f6d6d51>\u001b[0m in \u001b[0;36m<cell line: 1>\u001b[0;34m()\u001b[0m\n\u001b[0;32m----> 1\u001b[0;31m \u001b[0mmyTuple\u001b[0m\u001b[0;34m[\u001b[0m\u001b[0;36m1\u001b[0m\u001b[0;34m]\u001b[0m \u001b[0;34m=\u001b[0m \u001b[0;34m\"something\"\u001b[0m \u001b[0;31m# Tuples are immutable, this will produce an error\u001b[0m\u001b[0;34m\u001b[0m\u001b[0;34m\u001b[0m\u001b[0m\n\u001b[0m",
            "\u001b[0;31mTypeError\u001b[0m: 'tuple' object does not support item assignment"
          ]
        }
      ],
      "source": [
        "myTuple[1] = \"something\" # Tuples are immutable, this will produce an error"
      ]
    },
    {
      "cell_type": "markdown",
      "metadata": {
        "id": "p0cQlDA_J9CZ"
      },
      "source": [
        "Tuples suppoart *packing*and *unplacking* of elements:"
      ]
    },
    {
      "cell_type": "code",
      "execution_count": null,
      "metadata": {
        "id": "8ut2HqHEJ9CZ",
        "colab": {
          "base_uri": "https://localhost:8080/"
        },
        "outputId": "23ecc228-b1c1-466f-db10-9acba36d10c8"
      },
      "outputs": [
        {
          "output_type": "stream",
          "name": "stdout",
          "text": [
            "('red', 'green', 'blue', 'orange')\n",
            "red green blue orange\n"
          ]
        }
      ],
      "source": [
        "myTuple = (\"red\", \"green\", \"blue\", \"orange\") # packing elements into a tuple\n",
        "print(myTuple)\n",
        "color1, color2, color3, color4 = myTuple # unpacking tuple elements into variables\n",
        "print(color1, color2, color3, color4)"
      ]
    },
    {
      "cell_type": "code",
      "source": [
        "dir(tuple)"
      ],
      "metadata": {
        "colab": {
          "base_uri": "https://localhost:8080/"
        },
        "id": "m83Z5XvHEF5N",
        "outputId": "4cd53aa6-eb11-4b2e-aa2a-3d9280ad3b65"
      },
      "execution_count": null,
      "outputs": [
        {
          "output_type": "execute_result",
          "data": {
            "text/plain": [
              "['__add__',\n",
              " '__class__',\n",
              " '__class_getitem__',\n",
              " '__contains__',\n",
              " '__delattr__',\n",
              " '__dir__',\n",
              " '__doc__',\n",
              " '__eq__',\n",
              " '__format__',\n",
              " '__ge__',\n",
              " '__getattribute__',\n",
              " '__getitem__',\n",
              " '__getnewargs__',\n",
              " '__gt__',\n",
              " '__hash__',\n",
              " '__init__',\n",
              " '__init_subclass__',\n",
              " '__iter__',\n",
              " '__le__',\n",
              " '__len__',\n",
              " '__lt__',\n",
              " '__mul__',\n",
              " '__ne__',\n",
              " '__new__',\n",
              " '__reduce__',\n",
              " '__reduce_ex__',\n",
              " '__repr__',\n",
              " '__rmul__',\n",
              " '__setattr__',\n",
              " '__sizeof__',\n",
              " '__str__',\n",
              " '__subclasshook__',\n",
              " 'count',\n",
              " 'index']"
            ]
          },
          "metadata": {},
          "execution_count": 126
        }
      ]
    },
    {
      "cell_type": "markdown",
      "metadata": {
        "id": "xh5rYTlZJ9CZ"
      },
      "source": [
        "Tuples have only two built-in methods, `count`and `index`:"
      ]
    },
    {
      "cell_type": "code",
      "execution_count": null,
      "metadata": {
        "id": "3-zz_J0yJ9Ca",
        "colab": {
          "base_uri": "https://localhost:8080/"
        },
        "outputId": "534f8935-457c-42f2-b824-b3551a3f17af"
      },
      "outputs": [
        {
          "output_type": "execute_result",
          "data": {
            "text/plain": [
              "['count', 'index']"
            ]
          },
          "metadata": {},
          "execution_count": 128
        }
      ],
      "source": [
        "[method for method in dir(tuple) if method[0] =='_'] # Skips methods whose name starts with '_'"
      ]
    },
    {
      "cell_type": "markdown",
      "metadata": {
        "id": "1kwQdpxtJ9Ca"
      },
      "source": [
        "**NOTE:** produce the above output we used a *list comprehension*. It shoud be self explantory, but if in doubt ask the instructor help."
      ]
    },
    {
      "cell_type": "markdown",
      "metadata": {
        "id": "FD4TWeCDJ9Ca"
      },
      "source": [
        "**HANDS-ON:** Use the `help`command to find out what the methods `count` and `index` do."
      ]
    },
    {
      "cell_type": "code",
      "source": [
        "help(tuple.index)"
      ],
      "metadata": {
        "colab": {
          "base_uri": "https://localhost:8080/"
        },
        "id": "v6dZBiaNEx3K",
        "outputId": "73692cd8-d526-4021-cc4c-39677e562b09"
      },
      "execution_count": null,
      "outputs": [
        {
          "output_type": "stream",
          "name": "stdout",
          "text": [
            "Help on method_descriptor:\n",
            "\n",
            "index(self, value, start=0, stop=9223372036854775807, /)\n",
            "    Return first index of value.\n",
            "    \n",
            "    Raises ValueError if the value is not present.\n",
            "\n"
          ]
        }
      ]
    },
    {
      "cell_type": "markdown",
      "metadata": {
        "id": "WbmLHEuqhGfl"
      },
      "source": [
        "### 7. **Iteration and Programming**"
      ]
    },
    {
      "cell_type": "markdown",
      "metadata": {
        "id": "Q479mZVYhGfm"
      },
      "source": [
        "Python is a programming language. However, it would be a long shot to call what we did so far \"programming\". Programs are sets of computer instructions that are to be executed in a specific order depending on a number of conditions. What we did was to print the value of some Python objects, to assign values to variables and to look at the effect of some functions and their return values. That is **not** programming.\n",
        "\n",
        "But wait... maybe we did something akin to programming, when we wrote cells containing more than one Python instruction. Consider the following cell:"
      ]
    },
    {
      "cell_type": "code",
      "execution_count": null,
      "metadata": {
        "id": "DX0yOQdyhGfm",
        "colab": {
          "base_uri": "https://localhost:8080/"
        },
        "outputId": "a6dffe9f-02a4-4046-e517-b55b37acc93c"
      },
      "outputs": [
        {
          "output_type": "stream",
          "name": "stdout",
          "text": [
            "3\n"
          ]
        }
      ],
      "source": [
        "a = 1\n",
        "b = 2\n",
        "c = a + b\n",
        "print(c)"
      ]
    },
    {
      "cell_type": "markdown",
      "metadata": {
        "id": "BT6K6ZedhGfn"
      },
      "source": [
        "The previous cell contains a ***sequence*** of instructions that the Python interpreter executes in turn. First the value 1 is assigned to variable `a`, then the value 2 is assigned to variable `b`, then the sum of variables `a` and `b` is assigned to variable `c`, then value of `c` is printed. This *\"then, then, then, ...\"* is what programming is about, *executing series of instructions in sequence*. However, programming would be very unpractical (and useless) if we had to **explicitly** write down every instruction we want our program to execute.\n",
        "\n",
        "To better apreciate this crucial point, consider the following problem. We have a list of product prices that we have stored in a Python object of type... list, of course:"
      ]
    },
    {
      "cell_type": "code",
      "execution_count": null,
      "metadata": {
        "id": "hdeFTu7ohGfo"
      },
      "outputs": [],
      "source": [
        "Prices = [24.04, 12.22, 21.43, 26.11, 11.01, 27.59, 31.15, 18.91, 19.58, 17.66, 17.6, 12.96, 17.26, 4.76, 19.62]"
      ]
    },
    {
      "cell_type": "markdown",
      "metadata": {
        "id": "tULe7CohhGfo"
      },
      "source": [
        "And we want to update the list by adding a 23% VAT to each price. We could go like this:"
      ]
    },
    {
      "cell_type": "code",
      "execution_count": null,
      "metadata": {
        "id": "yD5GSV5uhGfp"
      },
      "outputs": [],
      "source": [
        "Prices[0] = Prices[0] * 1.23\n",
        "Prices[1] = Prices[1] * 1.23\n",
        "Prices[2] = Prices[2] * 1.23\n",
        "Prices[3] = Prices[3] * 1.23\n",
        "# and so on until Prices[14] since there are 15 elements in our list."
      ]
    },
    {
      "cell_type": "markdown",
      "metadata": {
        "id": "_-RyJmyDhGfp"
      },
      "source": [
        "Ok, we could do this in a short time. But suppose we had 1000 prices ? There must be a better way to tell the computer to perform those 1000 instructions, but without having to *explicitly* type them.\n",
        "\n",
        "That's where the real programming starts. We need to tell the computer to *iterate over the full list and update each price in turn*. Here's one way we could do it with Python:"
      ]
    },
    {
      "cell_type": "code",
      "execution_count": null,
      "metadata": {
        "id": "KlaSmoz2hGfq"
      },
      "outputs": [],
      "source": [
        "Prices = [24.04, 12.22, 21.43, 26.11, 11.01, 27.59, 31.15, 18.91, 19.58, 17.66, 17.6, 12.96, 17.26, 4.76, 19.62]\n",
        "for i in range(len(Prices)): # there are 15 elements in our price list\n",
        "    Prices[i] = Prices[i] * 1.23  # this line  is an _indented_ block (one \"Tab\" to the right)"
      ]
    },
    {
      "cell_type": "markdown",
      "metadata": {
        "id": "_tAKdIqFhGfq"
      },
      "source": [
        "So, what's going on here ? Let's try to break it down in steps:\n",
        "1. We have a line starting with `for`... this is a Python command used to create `for` loops. It tells the Python interpreter to assign the variable `i` to *each* value in range(15)\n",
        "2. What is range(15)? It's just a kind of shortand for the list `[0,1,2,3,4,5,6,7,8,9,10,11,12,13,14]` so that the computer will assign to `i` the values from 0 to 14 each in turn. (NOTE: as with index slices, the upper value in range is 1 above the limit, so in this case it stops at 14)\n",
        "3. For each value of `i`, execute the line inside the loop (notice that the line after the instruction `for` is *indented*, meaning that the line is moved to the right). It will do:   \n",
        "`i=0, Prices[0] = Prices[0] * 1.23`, *then* `i=1, Prices[1] = Prices[1] * 1.23`, and so on until 14."
      ]
    },
    {
      "cell_type": "markdown",
      "metadata": {
        "id": "ljRkLcE8hGfr"
      },
      "source": [
        "Let's check that the \"Prices\" list now contains the updated values:"
      ]
    },
    {
      "cell_type": "code",
      "execution_count": null,
      "metadata": {
        "id": "3_J8zDq_hGfr",
        "colab": {
          "base_uri": "https://localhost:8080/"
        },
        "outputId": "27c64d08-32bb-406d-e50e-be0ca07f0d42"
      },
      "outputs": [
        {
          "output_type": "stream",
          "name": "stdout",
          "text": [
            "[29.5692, 15.0306, 26.3589, 32.1153, 13.5423, 33.9357, 38.314499999999995, 23.2593, 24.083399999999997, 21.721799999999998, 21.648, 15.940800000000001, 21.2298, 5.8548, 24.1326]\n"
          ]
        }
      ],
      "source": [
        "print(Prices)"
      ]
    },
    {
      "cell_type": "markdown",
      "metadata": {
        "id": "Amsx0mKWhGft"
      },
      "source": [
        "Notice that `range(15)` is like a list (to be precise it is not a list, but let's leave that for now), so it may be that we could use any list on our `for` loop. For instance:"
      ]
    },
    {
      "cell_type": "code",
      "execution_count": null,
      "metadata": {
        "id": "uZxGyMzDhGft",
        "colab": {
          "base_uri": "https://localhost:8080/"
        },
        "outputId": "62b53a8f-1538-4f04-c9d6-6337af6480fa"
      },
      "outputs": [
        {
          "output_type": "stream",
          "name": "stdout",
          "text": [
            "2956.92\n",
            "1503.06\n",
            "2635.89\n",
            "3211.5299999999997\n",
            "1354.23\n",
            "3393.5699999999997\n",
            "3831.4499999999994\n",
            "2325.93\n",
            "2408.3399999999997\n",
            "2172.18\n",
            "2164.8\n",
            "1594.0800000000002\n",
            "2122.98\n",
            "585.48\n",
            "2413.26\n"
          ]
        }
      ],
      "source": [
        "for p in Prices:\n",
        "    print(p*100)"
      ]
    },
    {
      "cell_type": "code",
      "source": [
        "Prices = [24.04, 12.22, 21.43, 26.11, 11.01, 27.59, 31.15, 18.91, 19.58, 17.66, 17.6, 12.96, 17.26, 4.76, 19.62]\n"
      ],
      "metadata": {
        "id": "Ic0LyUfrLOLT"
      },
      "execution_count": null,
      "outputs": []
    },
    {
      "cell_type": "code",
      "source": [
        "updated_prices = Prices[:]\n",
        "for i in range(len(Prices)):\n",
        "  updated_prices[i] = Prices[i] * 1.23"
      ],
      "metadata": {
        "id": "WLjd5uASLPf_"
      },
      "execution_count": null,
      "outputs": []
    },
    {
      "cell_type": "code",
      "source": [
        "updated_prices"
      ],
      "metadata": {
        "colab": {
          "base_uri": "https://localhost:8080/"
        },
        "id": "wMKNT-3ANfAO",
        "outputId": "7c6d667f-560f-48c6-ced9-7fd54660ded2"
      },
      "execution_count": null,
      "outputs": [
        {
          "output_type": "execute_result",
          "data": {
            "text/plain": [
              "[29.5692,\n",
              " 15.0306,\n",
              " 26.3589,\n",
              " 32.1153,\n",
              " 13.5423,\n",
              " 33.9357,\n",
              " 38.314499999999995,\n",
              " 23.2593,\n",
              " 24.083399999999997,\n",
              " 21.721799999999998,\n",
              " 21.648,\n",
              " 15.940800000000001,\n",
              " 21.2298,\n",
              " 5.8548,\n",
              " 24.1326]"
            ]
          },
          "metadata": {},
          "execution_count": 165
        }
      ]
    },
    {
      "cell_type": "code",
      "source": [
        "print(updated_prices)"
      ],
      "metadata": {
        "colab": {
          "base_uri": "https://localhost:8080/"
        },
        "id": "gwJJvR_GMIPO",
        "outputId": "33a8c741-e254-42cf-9f5d-56709e6b9b79"
      },
      "execution_count": null,
      "outputs": [
        {
          "output_type": "stream",
          "name": "stdout",
          "text": [
            "[29.5692, 15.0306, 26.3589, 32.1153, 13.5423, 33.9357, 38.314499999999995, 23.2593, 24.083399999999997, 21.721799999999998, 21.648, 15.940800000000001, 21.2298, 5.8548, 24.1326]\n"
          ]
        }
      ]
    },
    {
      "cell_type": "code",
      "source": [
        "print(Prices)"
      ],
      "metadata": {
        "colab": {
          "base_uri": "https://localhost:8080/"
        },
        "id": "kfjIkzqnMTZ_",
        "outputId": "d9cc4ff4-5d2c-404c-c029-a22df3e9f204"
      },
      "execution_count": null,
      "outputs": [
        {
          "output_type": "stream",
          "name": "stdout",
          "text": [
            "[36.370115999999996, 18.487638, 32.421447, 39.501819, 16.657028999999998, 41.740911, 47.12683499999999, 28.608939, 29.622581999999998, 26.717813999999997, 26.62704, 19.607184, 26.112654, 7.201404, 29.683098]\n"
          ]
        }
      ]
    },
    {
      "cell_type": "markdown",
      "metadata": {
        "id": "Csafoq6GhGfu"
      },
      "source": [
        "The `for` loop assigns each value of \"Prices\" to the variable \"p\" in turn, and prints the result of multiplying that value by 100."
      ]
    },
    {
      "cell_type": "markdown",
      "metadata": {
        "id": "iwFinrjrkcvT"
      },
      "source": [
        "The general form of a Python for loop is\n",
        "\n",
        "```\n",
        "for variable(s) in iterable:\n",
        "            statement(s)\n",
        "```\n",
        "\n",
        "where \"iterable\" is any expression than can return successive values, like a list or a str.  Note that \"statement(s)\" must be indendented to make them part of the for loop (and at the same level, or an error will ensue)."
      ]
    },
    {
      "cell_type": "markdown",
      "metadata": {
        "id": "JpQ6yLpnhGfu"
      },
      "source": [
        "The list of printed values is ugly and hard to read, because some valuese show a lot of digits after the decimal point - they are *unformatted*. Normally we would like to round this number to a specific number of digits. The  `format` string method allows us to do this (among many other things):"
      ]
    },
    {
      "cell_type": "code",
      "execution_count": null,
      "metadata": {
        "id": "sV8AfWd3hGfv",
        "colab": {
          "base_uri": "https://localhost:8080/"
        },
        "outputId": "a3c13249-d63f-436e-e12f-df414f3c89b4"
      },
      "outputs": [
        {
          "output_type": "stream",
          "name": "stdout",
          "text": [
            "2404.00\n",
            "1222.00\n",
            "2143.00\n",
            "2611.00\n",
            "1101.00\n",
            "2759.00\n",
            "3115.00\n",
            "1891.00\n",
            "1958.00\n",
            "1766.00\n",
            "1760.00\n",
            "1296.00\n",
            "1726.00\n",
            " 476.00\n",
            "1962.00\n"
          ]
        }
      ],
      "source": [
        "for price in Prices:\n",
        "    print(\"{:7.2f}\".format(price*100))"
      ]
    },
    {
      "cell_type": "markdown",
      "metadata": {
        "id": "0TXQddTPhGfy"
      },
      "source": [
        "The result looks much better. The code `{:7.2f}` indicates that whatever is *inside* the format command should be printed with 2 digits after the decimal point on a field that is 7 characters wide. This allows us to print nicely formatted and aligned tables. Let's go back to our original price list:"
      ]
    },
    {
      "cell_type": "code",
      "execution_count": null,
      "metadata": {
        "id": "_n1VHAf7hGf2"
      },
      "outputs": [],
      "source": [
        "Prices = [24.04, 12.22, 21.43, 26.11, 11.01, 27.59, 31.15, 18.91, 19.58, 17.66, 17.6, 12.96, 17.26, 4.76, 19.62]"
      ]
    },
    {
      "cell_type": "markdown",
      "metadata": {
        "id": "ZjB5tIgChGf3"
      },
      "source": [
        "Suppose we want to print a table with two columns, one for the original prices, and the other for the VAT-adjusted prices. We could do:"
      ]
    },
    {
      "cell_type": "code",
      "execution_count": null,
      "metadata": {
        "id": "Lbid1V88hGf4",
        "colab": {
          "base_uri": "https://localhost:8080/"
        },
        "outputId": "11550855-5324-41f2-b3f5-a8a8cf8de85c"
      },
      "outputs": [
        {
          "output_type": "stream",
          "name": "stdout",
          "text": [
            "|  24.04|  29.57|\n",
            "|  12.22|  15.03|\n",
            "|  21.43|  26.36|\n",
            "|  26.11|  32.12|\n",
            "|  11.01|  13.54|\n",
            "|  27.59|  33.94|\n",
            "|  31.15|  38.31|\n",
            "|  18.91|  23.26|\n",
            "|  19.58|  24.08|\n",
            "|  17.66|  21.72|\n",
            "|  17.60|  21.65|\n",
            "|  12.96|  15.94|\n",
            "|  17.26|  21.23|\n",
            "|   4.76|   5.85|\n",
            "|  19.62|  24.13|\n"
          ]
        }
      ],
      "source": [
        "for p in Prices:\n",
        "    print(\"|{:7.2f}|{:7.2f}|\".format(p,p*1.23))"
      ]
    },
    {
      "cell_type": "markdown",
      "metadata": {
        "id": "wD63TErwhGf6"
      },
      "source": [
        "Notice that the `format` method accepts two arguments, `p` and `p*1.23`, and the string contatins *two* copies of the format code `{:7.2f}` - the two must match in number."
      ]
    },
    {
      "cell_type": "markdown",
      "source": [
        "#### An easy of formatting text: f-strings\n",
        "\n",
        "The Python language has introduced, in recent versions, a much simples and more versatile mechanism for formatting strings, using the following syntax:\n",
        "\n",
        "```\n",
        "f'{<variable>:<format code>} ... {<variable>:<format code>}'\n",
        "```\n",
        "\n",
        "To enable this mechanism, one only needs to prepend the string with the 'f' character it will automaticaly replace the code enclosed  `{}` with the formmated values. Try these examples:\n"
      ],
      "metadata": {
        "id": "63DxHCNyl7d_"
      }
    },
    {
      "cell_type": "code",
      "source": [
        "var1 = 'abcd'\n",
        "var2 = 134500\n",
        "var3 = 25.343455\n",
        "f'The first variable: {var3} The second variable: {var1} {var2}'"
      ],
      "metadata": {
        "colab": {
          "base_uri": "https://localhost:8080/",
          "height": 35
        },
        "id": "JluoOLREnLNH",
        "outputId": "644ec0b6-db73-44a5-dcdc-6479ba6e01a0"
      },
      "execution_count": null,
      "outputs": [
        {
          "output_type": "execute_result",
          "data": {
            "text/plain": [
              "'The first variable: 25.343455 The second variable: abcd 134500'"
            ],
            "application/vnd.google.colaboratory.intrinsic+json": {
              "type": "string"
            }
          },
          "metadata": {},
          "execution_count": 182
        }
      ]
    },
    {
      "cell_type": "markdown",
      "source": [
        "as seen above, the variable names encloed in `{}` are replaced by their vaues. We can use a `:` after the variable name to indicate a specific formatting, e.g.:"
      ],
      "metadata": {
        "id": "WyCaVRNwnec6"
      }
    },
    {
      "cell_type": "code",
      "source": [
        "f'{var3:.3f}, {var1:>10s}, {var2:5.2e}'"
      ],
      "metadata": {
        "colab": {
          "base_uri": "https://localhost:8080/",
          "height": 35
        },
        "id": "kau9Nb0qoC5a",
        "outputId": "5aed5dda-55ca-479c-e3a3-24c624c01ca9"
      },
      "execution_count": null,
      "outputs": [
        {
          "output_type": "execute_result",
          "data": {
            "text/plain": [
              "'25.343,       abcd, 1.34e+05'"
            ],
            "application/vnd.google.colaboratory.intrinsic+json": {
              "type": "string"
            }
          },
          "metadata": {},
          "execution_count": 185
        }
      ]
    },
    {
      "cell_type": "markdown",
      "source": [
        "Note that f-string expressions return a new, formatted string that can be assigned to another variable or printed:"
      ],
      "metadata": {
        "id": "trrJtZzsoru4"
      }
    },
    {
      "cell_type": "code",
      "source": [
        "my_string = f'{var3:.3}, {var1:>10s}, {var2:5.2e}'\n",
        "my_string"
      ],
      "metadata": {
        "colab": {
          "base_uri": "https://localhost:8080/",
          "height": 35
        },
        "id": "RVXMirolo14q",
        "outputId": "ac76da40-62d4-413b-be00-f21cb3a40f01"
      },
      "execution_count": null,
      "outputs": [
        {
          "output_type": "execute_result",
          "data": {
            "text/plain": [
              "'25.3,       abcd, 1.34e+05'"
            ],
            "application/vnd.google.colaboratory.intrinsic+json": {
              "type": "string"
            }
          },
          "metadata": {},
          "execution_count": 10
        }
      ]
    },
    {
      "cell_type": "code",
      "source": [
        "print(f'{var3:.3}, {var1:>10s}, {var2:5.2e}')"
      ],
      "metadata": {
        "colab": {
          "base_uri": "https://localhost:8080/"
        },
        "id": "CSu4tJyCpDjo",
        "outputId": "fb52ceab-b82e-4e5a-b345-60896b3ff325"
      },
      "execution_count": null,
      "outputs": [
        {
          "output_type": "stream",
          "name": "stdout",
          "text": [
            "25.3,       abcd, 1.34e+05\n"
          ]
        }
      ]
    },
    {
      "cell_type": "markdown",
      "source": [
        "(notice the absence of `''` when the `print`function is used."
      ],
      "metadata": {
        "id": "57tBSow-pJ0E"
      }
    },
    {
      "cell_type": "markdown",
      "source": [
        "f-strings provide a handy notation to inspect variable contents:"
      ],
      "metadata": {
        "id": "5WxEjSBcp6v7"
      }
    },
    {
      "cell_type": "code",
      "source": [
        "print(f'{var3 = :.3}, {var1 = }, {var2 = :5.2e}')"
      ],
      "metadata": {
        "colab": {
          "base_uri": "https://localhost:8080/"
        },
        "id": "14ao5-Zjp6AG",
        "outputId": "945b64cf-8e26-4693-be8a-d8be469682c1"
      },
      "execution_count": null,
      "outputs": [
        {
          "output_type": "stream",
          "name": "stdout",
          "text": [
            "var3 = 25.3, var1 = 'abcd', var2 = 1.34e+05\n"
          ]
        }
      ]
    },
    {
      "cell_type": "markdown",
      "metadata": {
        "id": "ADuaPdSxJ9Cb"
      },
      "source": [
        "**NOTE:** *Indentation* is the way blocks of code are defined in the Python language. A block of code is a set of statements that will be executed inside a control structure like a for loop or an if statement. Consider this example:"
      ]
    },
    {
      "cell_type": "code",
      "execution_count": null,
      "metadata": {
        "scrolled": true,
        "id": "frq-h-q_J9Cb",
        "colab": {
          "base_uri": "https://localhost:8080/",
          "height": 109
        },
        "outputId": "9dc527f2-68f3-4374-dbf4-c0104d516eed"
      },
      "outputs": [
        {
          "output_type": "error",
          "ename": "IndentationError",
          "evalue": "unindent does not match any outer indentation level (<tokenize>, line 3)",
          "traceback": [
            "\u001b[0;36m  File \u001b[0;32m\"<tokenize>\"\u001b[0;36m, line \u001b[0;32m3\u001b[0m\n\u001b[0;31m    print(\"Inside the loop.\")\u001b[0m\n\u001b[0m    ^\u001b[0m\n\u001b[0;31mIndentationError\u001b[0m\u001b[0;31m:\u001b[0m unindent does not match any outer indentation level\n"
          ]
        }
      ],
      "source": [
        "for i in [1,2,3]:\n",
        "    print(i)\n",
        "    print(\"Inside the loop.\")"
      ]
    },
    {
      "cell_type": "markdown",
      "metadata": {
        "id": "Bl9SNYyQJ9Cb"
      },
      "source": [
        "...and constrast it with this one:"
      ]
    },
    {
      "cell_type": "code",
      "execution_count": null,
      "metadata": {
        "id": "ZFOWZin5J9Cb",
        "colab": {
          "base_uri": "https://localhost:8080/"
        },
        "outputId": "19a95413-40e4-4ade-be94-28e392a3374a"
      },
      "outputs": [
        {
          "output_type": "stream",
          "name": "stdout",
          "text": [
            "1\n",
            "2\n",
            "3\n",
            "outside the loop.\n"
          ]
        }
      ],
      "source": [
        "for i in [1,2,3]:\n",
        "    print(i)\n",
        "print(\"outside the loop.\")"
      ]
    },
    {
      "cell_type": "markdown",
      "metadata": {
        "id": "So5D_0qMJ9Cb"
      },
      "source": [
        "See what is happening? By moving the last statement to the left (removing *left indentation*),\n",
        "the statement no longer is exectuted as part of the `for` statement code block. Also, Python\n",
        "requires you to be consistent in the identation used. So for instance, the following code will\n",
        "prodece an error message:"
      ]
    },
    {
      "cell_type": "code",
      "execution_count": null,
      "metadata": {
        "id": "xLa4i_VxJ9Cb",
        "colab": {
          "base_uri": "https://localhost:8080/",
          "height": 109
        },
        "outputId": "5a4cbf61-fde1-44fa-bbdc-18e464c7cc2e"
      },
      "outputs": [
        {
          "output_type": "error",
          "ename": "IndentationError",
          "evalue": "unindent does not match any outer indentation level (<tokenize>, line 3)",
          "traceback": [
            "\u001b[0;36m  File \u001b[0;32m\"<tokenize>\"\u001b[0;36m, line \u001b[0;32m3\u001b[0m\n\u001b[0;31m    print(\"badly indented.\")\u001b[0m\n\u001b[0m    ^\u001b[0m\n\u001b[0;31mIndentationError\u001b[0m\u001b[0;31m:\u001b[0m unindent does not match any outer indentation level\n"
          ]
        }
      ],
      "source": [
        "for i in [1,2,3]:\n",
        "    print(i)\n",
        " print(\"badly indented.\")"
      ]
    },
    {
      "cell_type": "markdown",
      "source": [
        "**HANDS-ON:** Using a `for` loop construct, calculate the average price of elements in the \"Prices\" list.\n"
      ],
      "metadata": {
        "id": "OqjuvcxFb2xr"
      }
    },
    {
      "cell_type": "code",
      "source": [],
      "metadata": {
        "id": "OhGpKeHORHl9"
      },
      "execution_count": null,
      "outputs": []
    },
    {
      "cell_type": "markdown",
      "metadata": {
        "id": "5sLCyX4uhGf6"
      },
      "source": [
        "### 8. **Making decisions: conditional programming**"
      ]
    },
    {
      "cell_type": "markdown",
      "metadata": {
        "id": "wxqzUApUhGf7"
      },
      "source": [
        "So now we know how to write programs that repeat statements many times, without us having to type all the stuff the program does. These programs have one important limitation: they will always do the same, no matter what the initial conditions are. Programming becomes really powerful when we introduce *decisions* to be made based on specific circustances, e.g. input values.\n",
        "\n",
        "Let's run the following piece of code:"
      ]
    },
    {
      "cell_type": "code",
      "execution_count": null,
      "metadata": {
        "id": "PhkAPzfuhGf7",
        "colab": {
          "base_uri": "https://localhost:8080/",
          "height": 193
        },
        "outputId": "f9cc7aed-8b2c-4c48-9369-f8821cdb560b"
      },
      "outputs": [
        {
          "name": "stdout",
          "output_type": "stream",
          "text": [
            "Please insert a number in this box and press <ENTER>: -2\n"
          ]
        },
        {
          "output_type": "error",
          "ename": "ValueError",
          "evalue": "math domain error",
          "traceback": [
            "\u001b[0;31m---------------------------------------------------------------------------\u001b[0m",
            "\u001b[0;31mValueError\u001b[0m                                Traceback (most recent call last)",
            "\u001b[0;32m<ipython-input-5-ba19dd18c9df>\u001b[0m in \u001b[0;36m<cell line: 4>\u001b[0;34m()\u001b[0m\n\u001b[1;32m      2\u001b[0m \u001b[0ma\u001b[0m \u001b[0;34m=\u001b[0m \u001b[0minput\u001b[0m\u001b[0;34m(\u001b[0m\u001b[0;34m\"Please insert a number in this box and press <ENTER>: \"\u001b[0m\u001b[0;34m)\u001b[0m\u001b[0;34m\u001b[0m\u001b[0;34m\u001b[0m\u001b[0m\n\u001b[1;32m      3\u001b[0m \u001b[0ma\u001b[0m \u001b[0;34m=\u001b[0m \u001b[0mfloat\u001b[0m\u001b[0;34m(\u001b[0m\u001b[0ma\u001b[0m\u001b[0;34m)\u001b[0m\u001b[0;34m\u001b[0m\u001b[0;34m\u001b[0m\u001b[0m\n\u001b[0;32m----> 4\u001b[0;31m \u001b[0mprint\u001b[0m\u001b[0;34m(\u001b[0m\u001b[0;34m\"The square root of {} is {}\"\u001b[0m\u001b[0;34m.\u001b[0m\u001b[0mformat\u001b[0m\u001b[0;34m(\u001b[0m\u001b[0ma\u001b[0m\u001b[0;34m,\u001b[0m\u001b[0msqrt\u001b[0m\u001b[0;34m(\u001b[0m\u001b[0ma\u001b[0m\u001b[0;34m)\u001b[0m\u001b[0;34m)\u001b[0m\u001b[0;34m)\u001b[0m\u001b[0;34m\u001b[0m\u001b[0;34m\u001b[0m\u001b[0m\n\u001b[0m",
            "\u001b[0;31mValueError\u001b[0m: math domain error"
          ]
        }
      ],
      "source": [
        "from math import sqrt\n",
        "a = input(\"Please insert a number in this box and press <ENTER>: \")\n",
        "a = float(a)\n",
        "print(\"The square root of {} is {}\".format(a,sqrt(a)))"
      ]
    },
    {
      "cell_type": "code",
      "source": [
        "1+1"
      ],
      "metadata": {
        "colab": {
          "base_uri": "https://localhost:8080/"
        },
        "id": "kJhyU4Eh7YeK",
        "outputId": "53560eb9-c8a0-4367-b63d-f7f423b96f80"
      },
      "execution_count": null,
      "outputs": [
        {
          "output_type": "execute_result",
          "data": {
            "text/plain": [
              "2"
            ]
          },
          "metadata": {},
          "execution_count": 4
        }
      ]
    },
    {
      "cell_type": "markdown",
      "metadata": {
        "id": "rhuQmu-qhGf8"
      },
      "source": [
        "Fist, notice we introduced a new *function*, called `input`. This function will prompt the user with a message, and wait for some value to be typed, after which the user must press the ENTER key. The inserted value will be assigned to the variable `a` as a *string*. This last point is really important, and it explains the need for the next line in the code, `a = float(a)`, which replaces the string by it's value as a `float` number (for instance, \"3\" is replaced with 3. Without this line, the call to the `sqrt` function in the next line would produce an error.\n",
        "\n",
        "&nbsp;  \n",
        "**HANDS-ON:** Run the cell with SHIFT+ENTER, try different values in the box and observe the ouput. Try commenting out the line `a = float(a)` (using `# `), run the program again and observe the error it produces.\n",
        "\n",
        "&nbsp;  \n",
        "Have you tried to input a negative value, like -2? ... Try it now, and see what happens - you will get a `ValueError: math domain error` message. This is understandable, because the *real-valued* square root function is not defined for negative arguments. What could we do to prevent a negative user input from producing this ugly error??... That's where *decision* programming comes in. What we want to do is: \"IF the user inputs a negative number, then don't try to calculate the `sqrt` function, but instead produce a warning to the user\". We can do this with the appropriately named **if** statement:"
      ]
    },
    {
      "cell_type": "code",
      "execution_count": null,
      "metadata": {
        "id": "xGcNnm_shGf8",
        "colab": {
          "base_uri": "https://localhost:8080/"
        },
        "outputId": "36cfb13b-a032-4bdb-b9a9-67b75c16d056"
      },
      "outputs": [
        {
          "output_type": "stream",
          "name": "stdout",
          "text": [
            "Please insert a number in this box: 2\n",
            "The square root of 2.0 is 1.4142135623730951\n"
          ]
        }
      ],
      "source": [
        "from math import sqrt\n",
        "a = input(\"Please insert a number in this box: \")\n",
        "a = float(a)\n",
        "if a < 0 :\n",
        "    print(\"WARNING: Invalid user input. Removing the negative sign.\")\n",
        "    a = -a\n",
        "print(\"The square root of {} is {}\".format(a,sqrt(a)))"
      ]
    },
    {
      "cell_type": "markdown",
      "metadata": {
        "id": "eQcSQ8sxhGf8"
      },
      "source": [
        "The general form is on **if statement** is:\n",
        "```\n",
        "if condition :\n",
        "    statement(s)\n",
        "```\n",
        "Meaning that the *statement(s)* will only execute if the condition is **True**.\n",
        "\n",
        "Conditions are *logical* expressions whose value can either be *True* or *False*. Some examples:\n",
        "\n",
        "- a > b (a *greater* than b)\n",
        "- a < b (a *smaller* than b)\n",
        "- a >= b (a *greater* or equal to b)\n",
        "- a <= (a *smaller* or equal to b)\n",
        "- a == b (a *is equal to* b)\n",
        "- a != b (a *is different from* b)\n",
        "\n",
        "Let's try and evaluate a logical expression in a notebook cell:"
      ]
    },
    {
      "cell_type": "code",
      "execution_count": null,
      "metadata": {
        "id": "H4k8YERVhGf9",
        "colab": {
          "base_uri": "https://localhost:8080/"
        },
        "outputId": "1101a038-15e2-43d5-c146-c5877c640d64"
      },
      "outputs": [
        {
          "output_type": "execute_result",
          "data": {
            "text/plain": [
              "True"
            ]
          },
          "metadata": {},
          "execution_count": 10
        }
      ],
      "source": [
        "5 > 4"
      ]
    },
    {
      "cell_type": "markdown",
      "metadata": {
        "id": "KAGU6pIIhGf9"
      },
      "source": [
        "5 is indeed greater than 4, so the result value of this cell is \"True\".\n",
        "\n",
        "**HANDS-ON**: Try to change the above expression in different ways, producing values that are either \"True\" or \"False\"."
      ]
    },
    {
      "cell_type": "markdown",
      "metadata": {
        "id": "Axo94SXWhGf9"
      },
      "source": [
        "In fact, we can assign the resulting \"True\" or \"False\" value to a variable. Run the following code:"
      ]
    },
    {
      "cell_type": "code",
      "execution_count": null,
      "metadata": {
        "id": "UjS5aY-ThGf-",
        "colab": {
          "base_uri": "https://localhost:8080/"
        },
        "outputId": "f98502c5-dbcc-48ab-bc31-f455741fa24b"
      },
      "outputs": [
        {
          "output_type": "stream",
          "name": "stdout",
          "text": [
            "True\n"
          ]
        }
      ],
      "source": [
        "a = 5 > 3\n",
        "print(a)"
      ]
    },
    {
      "cell_type": "markdown",
      "metadata": {
        "id": "3vYyao4RhGf_"
      },
      "source": [
        "The return value of the expression `5 > 3` has been assigned to `a`. That is a new data type, which can only be \"True\" or \"False\", and it is called a `bool` (short for \"boolean\").\n",
        "\n",
        "Check this:"
      ]
    },
    {
      "cell_type": "code",
      "execution_count": null,
      "metadata": {
        "id": "2Lu_ftFdhGgA",
        "colab": {
          "base_uri": "https://localhost:8080/"
        },
        "outputId": "71424f1c-34f7-4862-cad8-6fa42d7a1330"
      },
      "outputs": [
        {
          "output_type": "execute_result",
          "data": {
            "text/plain": [
              "bool"
            ]
          },
          "metadata": {},
          "execution_count": 12
        }
      ],
      "source": [
        "type(a)"
      ]
    },
    {
      "cell_type": "markdown",
      "metadata": {
        "id": "uMBNVETOhGgB"
      },
      "source": [
        "The `type` function is a very useful tool to find out the type of a variable or data object. It can be applied to many different kinds of objects:"
      ]
    },
    {
      "cell_type": "code",
      "execution_count": null,
      "metadata": {
        "id": "A--AMZB3hGgB",
        "colab": {
          "base_uri": "https://localhost:8080/"
        },
        "outputId": "dbcf85ba-d973-4b5b-8e82-47292dab0a69"
      },
      "outputs": [
        {
          "output_type": "execute_result",
          "data": {
            "text/plain": [
              "int"
            ]
          },
          "metadata": {},
          "execution_count": 13
        }
      ],
      "source": [
        "type(3)"
      ]
    },
    {
      "cell_type": "code",
      "execution_count": null,
      "metadata": {
        "id": "KYsFM5NmhGgC",
        "colab": {
          "base_uri": "https://localhost:8080/"
        },
        "outputId": "6a9e74b4-ca6c-4956-951e-73ae7ebc65b8"
      },
      "outputs": [
        {
          "output_type": "execute_result",
          "data": {
            "text/plain": [
              "float"
            ]
          },
          "metadata": {},
          "execution_count": 14
        }
      ],
      "source": [
        "type(3.1416)"
      ]
    },
    {
      "cell_type": "code",
      "execution_count": null,
      "metadata": {
        "id": "GtXftnVZhGgD",
        "colab": {
          "base_uri": "https://localhost:8080/"
        },
        "outputId": "dd0c56ad-abef-4f01-f844-3d353fa744b2"
      },
      "outputs": [
        {
          "output_type": "execute_result",
          "data": {
            "text/plain": [
              "str"
            ]
          },
          "metadata": {},
          "execution_count": 15
        }
      ],
      "source": [
        "type('this is a string')"
      ]
    },
    {
      "cell_type": "code",
      "execution_count": null,
      "metadata": {
        "id": "9l1yZzaXJ9Cc"
      },
      "outputs": [],
      "source": [
        "type([1,2,3,4])"
      ]
    },
    {
      "cell_type": "code",
      "execution_count": null,
      "metadata": {
        "id": "eZsBrQDHJ9Cc",
        "colab": {
          "base_uri": "https://localhost:8080/"
        },
        "outputId": "41336bcf-7117-4d8b-99bf-e586216b5867"
      },
      "outputs": [
        {
          "output_type": "execute_result",
          "data": {
            "text/plain": [
              "builtin_function_or_method"
            ]
          },
          "metadata": {},
          "execution_count": 17
        }
      ],
      "source": [
        "type(print)"
      ]
    },
    {
      "cell_type": "code",
      "execution_count": null,
      "metadata": {
        "id": "HjSLyQMVJ9Cc",
        "colab": {
          "base_uri": "https://localhost:8080/"
        },
        "outputId": "133c0e7f-b3ea-4db4-e46a-15b2bf4646b3"
      },
      "outputs": [
        {
          "output_type": "execute_result",
          "data": {
            "text/plain": [
              "builtin_function_or_method"
            ]
          },
          "metadata": {},
          "execution_count": 18
        }
      ],
      "source": [
        "type(sqrt)"
      ]
    },
    {
      "cell_type": "code",
      "execution_count": null,
      "metadata": {
        "id": "4zeu7s68J9Cc",
        "colab": {
          "base_uri": "https://localhost:8080/"
        },
        "outputId": "24dd7452-c462-49f1-c599-5c489868d3ae"
      },
      "outputs": [
        {
          "output_type": "execute_result",
          "data": {
            "text/plain": [
              "module"
            ]
          },
          "metadata": {},
          "execution_count": 20
        }
      ],
      "source": [
        "import math\n",
        "type(math)"
      ]
    },
    {
      "cell_type": "markdown",
      "metadata": {
        "id": "GW_24AwyhGgE"
      },
      "source": [
        "Boolean expressions can be combined with the operators `and`, `or` and `not`:"
      ]
    },
    {
      "cell_type": "code",
      "execution_count": null,
      "metadata": {
        "id": "rqBbEUqrhGgE",
        "colab": {
          "base_uri": "https://localhost:8080/"
        },
        "outputId": "34b97cc7-b26f-4c9c-f511-72e3c261f418"
      },
      "outputs": [
        {
          "output_type": "execute_result",
          "data": {
            "text/plain": [
              "True"
            ]
          },
          "metadata": {},
          "execution_count": 21
        }
      ],
      "source": [
        "(5 > 3) or (2 > 7)"
      ]
    },
    {
      "cell_type": "markdown",
      "metadata": {
        "id": "w1PBZ9DyhGgF"
      },
      "source": [
        "The \"`a or b`\" expression is `True` when either \"`a`\" or \"`b`\" are `True` (or both). In this case `(5 > 3)` is `True`, so event if `(2 > 7)` is `False` the returned result will be `True`, because one of the expressions is `True` (5 > 3) - the `or` operator will produce `True`  in the case of `True or False`. On the other hand, the following expression using  the  \"`and`\" operator will only evaluate to `True` if **all** its member expressions have the `True`:"
      ]
    },
    {
      "cell_type": "code",
      "execution_count": null,
      "metadata": {
        "id": "fTvGCS4ihGgF",
        "colab": {
          "base_uri": "https://localhost:8080/"
        },
        "outputId": "f26f6188-6d75-443b-c596-5592918f0006"
      },
      "outputs": [
        {
          "output_type": "execute_result",
          "data": {
            "text/plain": [
              "False"
            ]
          },
          "metadata": {},
          "execution_count": 22
        }
      ],
      "source": [
        "(5 > 3) and (2 > 7)"
      ]
    },
    {
      "cell_type": "markdown",
      "metadata": {
        "id": "NnGj3XHZhGgF"
      },
      "source": [
        "In this case, since 2 is not greater than 7, the results is `False`.\n",
        "\n",
        "With logical expressions we can produce very complex conditions based on the values of variables.\n",
        "\n",
        "**HANDS-ON:** Look at the cell below and try to guess what the logical result of running it will be:"
      ]
    },
    {
      "cell_type": "code",
      "execution_count": null,
      "metadata": {
        "id": "n7u1R9PuhGgG",
        "colab": {
          "base_uri": "https://localhost:8080/"
        },
        "outputId": "700c529c-6f12-4a60-ccaf-43d25cc42795"
      },
      "outputs": [
        {
          "output_type": "execute_result",
          "data": {
            "text/plain": [
              "True"
            ]
          },
          "metadata": {},
          "execution_count": 23
        }
      ],
      "source": [
        "a = 3\n",
        "b = 7\n",
        "c = 2\n",
        "x = 9.0\n",
        "((a > b) and not (c > x)) or (x == 9.0)"
      ]
    },
    {
      "cell_type": "markdown",
      "metadata": {
        "id": "p7KgagCEJ9Cd"
      },
      "source": [
        "**NOTE**: It's important to avoid confusion between the `=` and `==` operators in Python.\n",
        "\n",
        "The `=` is the *assignment* operator, and it will assign the *variable* on the left-hand side to the *value* on the right-hand side:"
      ]
    },
    {
      "cell_type": "code",
      "execution_count": null,
      "metadata": {
        "id": "ucE2s3xwJ9Cd"
      },
      "outputs": [],
      "source": [
        "m=3"
      ]
    },
    {
      "cell_type": "markdown",
      "metadata": {
        "id": "Ovh8h2wVJ9Cd"
      },
      "source": [
        "The `==` is the logical *equality* operator and it will return `True` if the left and right-hand side *evaluate* to the same value,and return `False` otherwise:"
      ]
    },
    {
      "cell_type": "code",
      "execution_count": null,
      "metadata": {
        "id": "RhyPZIJmJ9Cd",
        "colab": {
          "base_uri": "https://localhost:8080/"
        },
        "outputId": "78116268-5efd-436a-9b12-eaef97e72ca3"
      },
      "outputs": [
        {
          "output_type": "execute_result",
          "data": {
            "text/plain": [
              "True"
            ]
          },
          "metadata": {},
          "execution_count": 25
        }
      ],
      "source": [
        "m==3"
      ]
    },
    {
      "cell_type": "markdown",
      "metadata": {
        "id": "0sPa4KZPhGgG"
      },
      "source": [
        "Often, the `if` instruction is not enough to express the *logic* of our program. Suppose we want to do something **if** a condition is `True`, and do something **else** if the condition is false. The Python \"`else`\" statement can be combined with `if` like this:\n",
        "\n",
        "```\n",
        "if condition :\n",
        "    statement(s)\n",
        "else :\n",
        "    statement(s)\n",
        "```\n",
        "\n",
        "Let's see it in action. We go back to our `sqrt` program and change it slightly:"
      ]
    },
    {
      "cell_type": "code",
      "source": [],
      "metadata": {
        "id": "0RhXKSqAHDUZ"
      },
      "execution_count": null,
      "outputs": []
    },
    {
      "cell_type": "code",
      "execution_count": null,
      "metadata": {
        "id": "bC-hY59ehGgH"
      },
      "outputs": [],
      "source": [
        "from math import sqrt\n",
        "a = input(\"Please insert a number in this box: \")\n",
        "a = float(a)\n",
        "if a >= 0 :\n",
        "    print(\"The square root of {} is {}\".format(a,sqrt(a)))\n",
        "else:\n",
        "    print(\"Cannot compute the square root of a negative number.\")\n"
      ]
    },
    {
      "cell_type": "markdown",
      "metadata": {
        "id": "PaFWHTvFhGgH"
      },
      "source": [
        "Now our simple program just refuses to compute the square root of a negative number, rather than changing its sign (this is probably what we would want on a real application)."
      ]
    },
    {
      "cell_type": "markdown",
      "metadata": {
        "id": "LUA49dslhGgI"
      },
      "source": [
        "### 9. **More iterations: while**"
      ]
    },
    {
      "cell_type": "markdown",
      "metadata": {
        "id": "5pF5eRbLhGgI"
      },
      "source": [
        "So far we know only one way of automatically repeating program statements, the `for` loop. There is another Python command that can do something similar. It's called `while`, and it is used in this way:\n",
        "\n",
        "```\n",
        "while condition :\n",
        "    statement(s)\n",
        "```\n",
        "\n",
        "Once again, statement(s) must be indented to be part of the block that repeats within the while loop !\n",
        "\n",
        "**HANDS-ON:** Try to guess what the following program does:"
      ]
    },
    {
      "cell_type": "code",
      "execution_count": null,
      "metadata": {
        "id": "2f5YdYRxhGgI",
        "colab": {
          "base_uri": "https://localhost:8080/"
        },
        "outputId": "c4787971-f40d-4b99-e655-91bfac7c0b9c"
      },
      "outputs": [
        {
          "output_type": "stream",
          "name": "stdout",
          "text": [
            "9\n",
            "8\n",
            "7\n",
            "6\n",
            "5\n",
            "4\n",
            "3\n",
            "2\n",
            "1\n",
            "0\n"
          ]
        }
      ],
      "source": [
        "i = 10\n",
        "while i >0 :\n",
        "    i = i -1\n",
        "    print(i)"
      ]
    },
    {
      "cell_type": "markdown",
      "metadata": {
        "id": "Ifwz3TPuhGgJ"
      },
      "source": [
        "The variable `i` works as a *counter* allowing us to repeat what is inside the `while` loop as many times as the initial value (10 in this case)."
      ]
    },
    {
      "cell_type": "markdown",
      "metadata": {
        "id": "dex-neOuhGgK"
      },
      "source": [
        "In fact, `while` loops don't have to systematically go through a list of values like a `for` loop. What a `while` does is to keep executing whatever is inside the loop **while** the condition is `True`. If, for same reason, the condition is always `True` then the loop will *never* stop.   \n",
        "Guess what the following code will do:\n",
        "\n",
        "```\n",
        "while True :\n",
        "    print(\"I will never stop!\")\n",
        "```\n",
        "\n",
        "You guessed it right... it will keep printing \"I will never stop!\", line after line. That's because the condition in the loop is `True`, and obviously `True` can never be `False`!"
      ]
    },
    {
      "cell_type": "markdown",
      "metadata": {
        "id": "mLh7wASrhGgK"
      },
      "source": [
        "Let's use one of these \"always `True`\" to make our square root program more interactive. The program will accept values, validete the input and produce its square root, in a never ending loop:"
      ]
    },
    {
      "cell_type": "code",
      "execution_count": null,
      "metadata": {
        "id": "MUITopCChGgK",
        "colab": {
          "base_uri": "https://localhost:8080/",
          "height": 495
        },
        "outputId": "ffc357c8-9f6f-4785-8a0c-a1d6ea32a5d1"
      },
      "outputs": [
        {
          "output_type": "stream",
          "name": "stdout",
          "text": [
            "Please insert a number in this box: 3\n",
            "The square root of 3.0 is 1.7320508075688772\n",
            "Please insert a number in this box: 4\n",
            "The square root of 4.0 is 2.0\n",
            "Please insert a number in this box: 5\n",
            "The square root of 5.0 is 2.23606797749979\n",
            "Please insert a number in this box: -3\n",
            "Cannot compute the square root of a negative number.\n"
          ]
        },
        {
          "output_type": "error",
          "ename": "KeyboardInterrupt",
          "evalue": "Interrupted by user",
          "traceback": [
            "\u001b[0;31m---------------------------------------------------------------------------\u001b[0m",
            "\u001b[0;31mKeyboardInterrupt\u001b[0m                         Traceback (most recent call last)",
            "\u001b[0;32m<ipython-input-33-96f2ba12ba78>\u001b[0m in \u001b[0;36m<cell line: 2>\u001b[0;34m()\u001b[0m\n\u001b[1;32m      1\u001b[0m \u001b[0;32mfrom\u001b[0m \u001b[0mmath\u001b[0m \u001b[0;32mimport\u001b[0m \u001b[0msqrt\u001b[0m\u001b[0;34m\u001b[0m\u001b[0;34m\u001b[0m\u001b[0m\n\u001b[1;32m      2\u001b[0m \u001b[0;32mwhile\u001b[0m \u001b[0;32mTrue\u001b[0m \u001b[0;34m:\u001b[0m\u001b[0;34m\u001b[0m\u001b[0;34m\u001b[0m\u001b[0m\n\u001b[0;32m----> 3\u001b[0;31m     \u001b[0ma\u001b[0m \u001b[0;34m=\u001b[0m \u001b[0minput\u001b[0m\u001b[0;34m(\u001b[0m\u001b[0;34m\"Please insert a number in this box: \"\u001b[0m\u001b[0;34m)\u001b[0m\u001b[0;34m\u001b[0m\u001b[0;34m\u001b[0m\u001b[0m\n\u001b[0m\u001b[1;32m      4\u001b[0m     \u001b[0ma\u001b[0m \u001b[0;34m=\u001b[0m \u001b[0mfloat\u001b[0m\u001b[0;34m(\u001b[0m\u001b[0ma\u001b[0m\u001b[0;34m)\u001b[0m\u001b[0;34m\u001b[0m\u001b[0;34m\u001b[0m\u001b[0m\n\u001b[1;32m      5\u001b[0m     \u001b[0;32mif\u001b[0m \u001b[0ma\u001b[0m \u001b[0;34m>=\u001b[0m \u001b[0;36m0\u001b[0m \u001b[0;34m:\u001b[0m\u001b[0;34m\u001b[0m\u001b[0;34m\u001b[0m\u001b[0m\n",
            "\u001b[0;32m/usr/local/lib/python3.10/dist-packages/ipykernel/kernelbase.py\u001b[0m in \u001b[0;36mraw_input\u001b[0;34m(self, prompt)\u001b[0m\n\u001b[1;32m    849\u001b[0m                 \u001b[0;34m\"raw_input was called, but this frontend does not support input requests.\"\u001b[0m\u001b[0;34m\u001b[0m\u001b[0;34m\u001b[0m\u001b[0m\n\u001b[1;32m    850\u001b[0m             )\n\u001b[0;32m--> 851\u001b[0;31m         return self._input_request(str(prompt),\n\u001b[0m\u001b[1;32m    852\u001b[0m             \u001b[0mself\u001b[0m\u001b[0;34m.\u001b[0m\u001b[0m_parent_ident\u001b[0m\u001b[0;34m,\u001b[0m\u001b[0;34m\u001b[0m\u001b[0;34m\u001b[0m\u001b[0m\n\u001b[1;32m    853\u001b[0m             \u001b[0mself\u001b[0m\u001b[0;34m.\u001b[0m\u001b[0m_parent_header\u001b[0m\u001b[0;34m,\u001b[0m\u001b[0;34m\u001b[0m\u001b[0;34m\u001b[0m\u001b[0m\n",
            "\u001b[0;32m/usr/local/lib/python3.10/dist-packages/ipykernel/kernelbase.py\u001b[0m in \u001b[0;36m_input_request\u001b[0;34m(self, prompt, ident, parent, password)\u001b[0m\n\u001b[1;32m    893\u001b[0m             \u001b[0;32mexcept\u001b[0m \u001b[0mKeyboardInterrupt\u001b[0m\u001b[0;34m:\u001b[0m\u001b[0;34m\u001b[0m\u001b[0;34m\u001b[0m\u001b[0m\n\u001b[1;32m    894\u001b[0m                 \u001b[0;31m# re-raise KeyboardInterrupt, to truncate traceback\u001b[0m\u001b[0;34m\u001b[0m\u001b[0;34m\u001b[0m\u001b[0m\n\u001b[0;32m--> 895\u001b[0;31m                 \u001b[0;32mraise\u001b[0m \u001b[0mKeyboardInterrupt\u001b[0m\u001b[0;34m(\u001b[0m\u001b[0;34m\"Interrupted by user\"\u001b[0m\u001b[0;34m)\u001b[0m \u001b[0;32mfrom\u001b[0m \u001b[0;32mNone\u001b[0m\u001b[0;34m\u001b[0m\u001b[0;34m\u001b[0m\u001b[0m\n\u001b[0m\u001b[1;32m    896\u001b[0m             \u001b[0;32mexcept\u001b[0m \u001b[0mException\u001b[0m \u001b[0;32mas\u001b[0m \u001b[0me\u001b[0m\u001b[0;34m:\u001b[0m\u001b[0;34m\u001b[0m\u001b[0;34m\u001b[0m\u001b[0m\n\u001b[1;32m    897\u001b[0m                 \u001b[0mself\u001b[0m\u001b[0;34m.\u001b[0m\u001b[0mlog\u001b[0m\u001b[0;34m.\u001b[0m\u001b[0mwarning\u001b[0m\u001b[0;34m(\u001b[0m\u001b[0;34m\"Invalid Message:\"\u001b[0m\u001b[0;34m,\u001b[0m \u001b[0mexc_info\u001b[0m\u001b[0;34m=\u001b[0m\u001b[0;32mTrue\u001b[0m\u001b[0;34m)\u001b[0m\u001b[0;34m\u001b[0m\u001b[0;34m\u001b[0m\u001b[0m\n",
            "\u001b[0;31mKeyboardInterrupt\u001b[0m: Interrupted by user"
          ]
        }
      ],
      "source": [
        "from math import sqrt\n",
        "while True :\n",
        "    a = input(\"Please insert a number in this box: \")\n",
        "    a = float(a)\n",
        "    if a >= 0 :\n",
        "        print(\"The square root of {} is {}\".format(a,sqrt(a)))\n",
        "    else:\n",
        "        print(\"Cannot compute the square root of a negative number.\")\n"
      ]
    },
    {
      "cell_type": "markdown",
      "metadata": {
        "id": "XIYvN3QGhGgO"
      },
      "source": [
        "<!-- See the `*` inside the `In [*]` label left of the cell ? -->\n",
        "See the line rotating around the \"stop\" sign the left of the cell ?\n",
        "It tells us the cell is *busy* running code.  If you now try to execute the following cell:"
      ]
    },
    {
      "cell_type": "code",
      "execution_count": null,
      "metadata": {
        "id": "fSoeFhaRhGgO"
      },
      "outputs": [],
      "source": [
        "1+1"
      ]
    },
    {
      "cell_type": "markdown",
      "metadata": {
        "id": "H18XEzQthGgP"
      },
      "source": [
        "The dashed line rotating around the \"stop\" button tells use that the cell is waiting to run (which can only do after the previous cells has stopped runing). This is because the notebook cannot run two cells at same time.\n",
        "\n",
        "To stop the runnin cell, you need to *interrupt* the notebook *kernel* (a sort of engine that runs under the hood to execute your Python code), and you can do it in two ways: press the cell \"stop\" button, or select the option \"Interrupt\" from the notebook top menu entry \"Runtime\".\n",
        "\n",
        "Never mind the ugly messages output by the cell, it's just the Python interpreter complaining about being rudely stopped. The  previous `1+1` cell can now be executed."
      ]
    },
    {
      "cell_type": "markdown",
      "metadata": {
        "id": "tlxkJKKFhGgP"
      },
      "source": [
        "One way to avoid this type of situation is to provide our program with a way of **stopping** on user request. We could, for example, define that if the user types \"q\" instead of a number, the program will quit. Let's try it:"
      ]
    },
    {
      "cell_type": "code",
      "execution_count": null,
      "metadata": {
        "id": "b-R0_SM7hGgQ",
        "colab": {
          "base_uri": "https://localhost:8080/",
          "height": 228
        },
        "outputId": "c36ae5ad-edef-4850-b6e7-6f79df4687ef"
      },
      "outputs": [
        {
          "name": "stdout",
          "output_type": "stream",
          "text": [
            "Please insert a number in this box: x\n"
          ]
        },
        {
          "output_type": "error",
          "ename": "ValueError",
          "evalue": "could not convert string to float: 'x'",
          "traceback": [
            "\u001b[0;31m---------------------------------------------------------------------------\u001b[0m",
            "\u001b[0;31mValueError\u001b[0m                                Traceback (most recent call last)",
            "\u001b[0;32m<ipython-input-35-91baa699c08a>\u001b[0m in \u001b[0;36m<cell line: 2>\u001b[0;34m()\u001b[0m\n\u001b[1;32m      5\u001b[0m         \u001b[0mprint\u001b[0m\u001b[0;34m(\u001b[0m\u001b[0;34m\"Goodbye.\"\u001b[0m\u001b[0;34m)\u001b[0m\u001b[0;34m\u001b[0m\u001b[0;34m\u001b[0m\u001b[0m\n\u001b[1;32m      6\u001b[0m         \u001b[0;32mbreak\u001b[0m\u001b[0;34m\u001b[0m\u001b[0;34m\u001b[0m\u001b[0m\n\u001b[0;32m----> 7\u001b[0;31m     \u001b[0ma\u001b[0m \u001b[0;34m=\u001b[0m \u001b[0mfloat\u001b[0m\u001b[0;34m(\u001b[0m\u001b[0ma\u001b[0m\u001b[0;34m)\u001b[0m\u001b[0;34m\u001b[0m\u001b[0;34m\u001b[0m\u001b[0m\n\u001b[0m\u001b[1;32m      8\u001b[0m     \u001b[0;32mif\u001b[0m \u001b[0ma\u001b[0m \u001b[0;34m>=\u001b[0m \u001b[0;36m0\u001b[0m\u001b[0;34m:\u001b[0m\u001b[0;34m\u001b[0m\u001b[0;34m\u001b[0m\u001b[0m\n\u001b[1;32m      9\u001b[0m         \u001b[0mprint\u001b[0m\u001b[0;34m(\u001b[0m\u001b[0;34m\"The square root of {} is {}\"\u001b[0m\u001b[0;34m.\u001b[0m\u001b[0mformat\u001b[0m\u001b[0;34m(\u001b[0m\u001b[0ma\u001b[0m\u001b[0;34m,\u001b[0m\u001b[0msqrt\u001b[0m\u001b[0;34m(\u001b[0m\u001b[0ma\u001b[0m\u001b[0;34m)\u001b[0m\u001b[0;34m)\u001b[0m\u001b[0;34m)\u001b[0m\u001b[0;34m\u001b[0m\u001b[0;34m\u001b[0m\u001b[0m\n",
            "\u001b[0;31mValueError\u001b[0m: could not convert string to float: 'x'"
          ]
        }
      ],
      "source": [
        "from math import sqrt\n",
        "while True :\n",
        "    a = input(\"Please insert a number in this box: \")\n",
        "    if a == \"q\" :\n",
        "        print(\"Goodbye.\")\n",
        "        break\n",
        "    a = float(a)\n",
        "    if a >= 0:\n",
        "        print(\"The square root of {} is {}\".format(a,sqrt(a)))\n",
        "    else:\n",
        "        print(\"Cannot compute the square root of a negative number.\")\n"
      ]
    },
    {
      "cell_type": "markdown",
      "metadata": {
        "id": "K0UttADVhGgR"
      },
      "source": [
        "Well, that fixes the stuck (infinite) loop problem. However, there is still a problem with this program. It's very easy to make it crash.\n",
        "\n",
        "**HANDS-ON:** Can you figure out how to make this program exit with an error message? *Hint: What type of invalid input is not accounted for by our program?*\n"
      ]
    },
    {
      "cell_type": "markdown",
      "metadata": {
        "id": "dIFTSxxiJ9Ce"
      },
      "source": [
        "That's right, our program can't deal with user input that does not represent a valid floating point number. Just pressing `ENTER` will make it crash, because the program will read the *null* string (`''`) and that does not represent a valid `float`."
      ]
    },
    {
      "cell_type": "markdown",
      "metadata": {
        "id": "PQI3BNeixYYA"
      },
      "source": [
        "Python has quite advanced ways to deal with error conditions. In fact, any error condition that you have seen making a cell stop could have been *trapped* and bound to a user action, instead of the program abruptly stopping with a screenful of errors. It is good programming practive to try and catch as many error conditions as possible, so that the error handling is done by the coder and not by the Python interpreter or the underlying operating system.,\n",
        "\n",
        "As an example of more advanced error handling, here is a version our square root program than can catch format conversion errors and act appropriately. It uses the \"try/except\" pair of commands and no matter what you type at it, the program won't crash."
      ]
    },
    {
      "cell_type": "code",
      "execution_count": null,
      "metadata": {
        "cellView": "both",
        "id": "fwYJl5vMkA-4"
      },
      "outputs": [],
      "source": [
        "from math import sqrt\n",
        "while True :\n",
        "    a = input(\"Please insert a number in this box: \")\n",
        "    if a == \"q\" :\n",
        "        print(\"Goodbye.\")\n",
        "        break\n",
        "    try:\n",
        "      a = float(a)\n",
        "    except:\n",
        "      print(\"Cannot convert input to float.\")\n",
        "      continue\n",
        "    if a >= 0:\n",
        "        print(\"The square root of {} is {}\".format(a,sqrt(a)))\n",
        "    else:\n",
        "        print(\"Cannot compute the square root of a negative number.\")\n"
      ]
    },
    {
      "cell_type": "code",
      "execution_count": null,
      "metadata": {
        "id": "c58Mn_u3J9Ce"
      },
      "outputs": [],
      "source": [
        "# @title\n",
        "def isfloat(f):\n",
        "    if type(f) in [int, bool ] :\n",
        "      return False\n",
        "    elif type(f) == 'float' :\n",
        "      return True\n",
        "    else :\n",
        "      try:\n",
        "          f = float(f)\n",
        "          return True\n",
        "      except:\n",
        "          return False\n"
      ]
    },
    {
      "cell_type": "code",
      "source": [
        "isfloat(True)"
      ],
      "metadata": {
        "colab": {
          "base_uri": "https://localhost:8080/"
        },
        "id": "fPGPGeO2jMim",
        "outputId": "bc45dc88-4a62-4c14-9b7b-2f67207e1bf5"
      },
      "execution_count": null,
      "outputs": [
        {
          "output_type": "execute_result",
          "data": {
            "text/plain": [
              "False"
            ]
          },
          "metadata": {},
          "execution_count": 161
        }
      ]
    },
    {
      "cell_type": "code",
      "execution_count": null,
      "metadata": {
        "id": "SgHIV8I7J9Cf"
      },
      "outputs": [],
      "source": [
        "# @title\n",
        "from math import sqrt\n",
        "while True :\n",
        "    a = input(\"Please insert a number in this box: \")\n",
        "    if a == \"q\" :\n",
        "        print(\"Goodbye.\")\n",
        "        break\n",
        "    elif not isfloat(a):\n",
        "        print(\"Cannot convert input to float.\")\n",
        "        continue\n",
        "    elif float(a) < 0:\n",
        "        print(\"Cannot compute the square root of a negative number.\")\n",
        "        continue\n",
        "    else:\n",
        "        print(\"The square root of {} is {}\".format(a,sqrt(float(a))))\n"
      ]
    },
    {
      "cell_type": "code",
      "execution_count": null,
      "metadata": {
        "id": "Z03EVa2DJ9Cf",
        "colab": {
          "base_uri": "https://localhost:8080/"
        },
        "outputId": "81b1259e-593b-487d-ea79-20a1f386bb7f"
      },
      "outputs": [
        {
          "output_type": "execute_result",
          "data": {
            "text/plain": [
              "False"
            ]
          },
          "metadata": {},
          "execution_count": 40
        }
      ],
      "source": [
        "# @title\n",
        "isfloat(\"adsfadf\")"
      ]
    },
    {
      "cell_type": "code",
      "execution_count": null,
      "metadata": {
        "id": "C4XiOtofJ9Cf"
      },
      "outputs": [],
      "source": [
        "%who"
      ]
    },
    {
      "cell_type": "markdown",
      "metadata": {
        "id": "hKjVeUd4hGgR"
      },
      "source": [
        "### 10. **Defining our own functions**"
      ]
    },
    {
      "cell_type": "markdown",
      "metadata": {
        "id": "7Kj4xUoDhGgS"
      },
      "source": [
        "We have already learned enough statements (`if`, `else`, `for`, `while`) to do some real programming. However, the serious fun starts when we begin creating our own *functions*. So far we have used a few functions that are Python \"built-ins\" or part of the `math` library. To call the `cos` function, for instance, we do:"
      ]
    },
    {
      "cell_type": "code",
      "execution_count": null,
      "metadata": {
        "id": "r_Ji3QO1hGgS",
        "colab": {
          "base_uri": "https://localhost:8080/"
        },
        "outputId": "929e18de-8b2b-4528-bdfc-fa411673498a"
      },
      "outputs": [
        {
          "output_type": "stream",
          "name": "stdout",
          "text": [
            "-0.9899924966004454\n"
          ]
        }
      ],
      "source": [
        "from math import cos\n",
        "print(cos(3))"
      ]
    },
    {
      "cell_type": "markdown",
      "metadata": {
        "id": "XrSSl09vhGgT"
      },
      "source": [
        "For built-in functions like `len` we don't even have to import anything:"
      ]
    },
    {
      "cell_type": "code",
      "execution_count": null,
      "metadata": {
        "id": "htxVWdFKhGgT",
        "colab": {
          "base_uri": "https://localhost:8080/"
        },
        "outputId": "120d9e11-0cf3-4c96-e5bc-5537ea6c8999"
      },
      "outputs": [
        {
          "output_type": "execute_result",
          "data": {
            "text/plain": [
              "16"
            ]
          },
          "metadata": {},
          "execution_count": 42
        }
      ],
      "source": [
        "len(\"this is a string\")"
      ]
    },
    {
      "cell_type": "markdown",
      "metadata": {
        "id": "3rXCO2xLhGgU"
      },
      "source": [
        "In both cases, the function is a *name* followed by a pair of round brackets enclosing some *argument*. The `cos` function takes a number as argument and *returns* a value, the *cosine* of that number. The `len` function takes a string as argument, and returns its length. Now suppose we want to fashion a new function for some specific purpose. For instance, let's say we wanted to create a function that would add 10 to every number. Assuming the function is called `add_ten`, it would work like this:\n",
        "\n",
        "```python\n",
        "In [1]: add_ten(3)\n",
        "Out[2]: 13\n",
        "```"
      ]
    },
    {
      "cell_type": "markdown",
      "metadata": {
        "id": "5CvFZiyFhGgV"
      },
      "source": [
        "We can indeed create our own functions, using the built-in command `def`. Here is how we would define our \"add_ten\" function:"
      ]
    },
    {
      "cell_type": "code",
      "execution_count": null,
      "metadata": {
        "id": "1zCpX_VchGgV"
      },
      "outputs": [],
      "source": [
        "def add_ten(a):\n",
        "    return 10+a"
      ]
    },
    {
      "cell_type": "markdown",
      "metadata": {
        "id": "H_PmJuQnhGgX"
      },
      "source": [
        "The `x` variable is our *argument*, and the `return` command indicates what the function should return, in this case it is just our argument plus 10."
      ]
    },
    {
      "cell_type": "markdown",
      "metadata": {
        "id": "gkqSDopohGgX"
      },
      "source": [
        "Now that we have defined it, we can use it everywhere."
      ]
    },
    {
      "cell_type": "code",
      "execution_count": null,
      "metadata": {
        "id": "-RlnrLXahGgX",
        "colab": {
          "base_uri": "https://localhost:8080/"
        },
        "outputId": "cd94757b-64c9-4067-d553-04d728e1a259"
      },
      "outputs": [
        {
          "output_type": "execute_result",
          "data": {
            "text/plain": [
              "44"
            ]
          },
          "metadata": {},
          "execution_count": 55
        }
      ],
      "source": [
        "add_ten(34)"
      ]
    },
    {
      "cell_type": "code",
      "execution_count": null,
      "metadata": {
        "id": "XPjkhiEThGgY",
        "colab": {
          "base_uri": "https://localhost:8080/"
        },
        "outputId": "4549fcdf-ed68-4622-a96b-ac497746be01"
      },
      "outputs": [
        {
          "output_type": "execute_result",
          "data": {
            "text/plain": [
              "44.0"
            ]
          },
          "metadata": {},
          "execution_count": 59
        }
      ],
      "source": [
        "add_ten(34.)"
      ]
    },
    {
      "cell_type": "markdown",
      "metadata": {
        "id": "1_HIkE_1hGgZ"
      },
      "source": [
        "**Note:** Functions can have more than one argument. Suppose we wish to create a function that returns the sum of the squares of two numbers:"
      ]
    },
    {
      "cell_type": "code",
      "execution_count": null,
      "metadata": {
        "id": "MVrCsQ-thGgZ"
      },
      "outputs": [],
      "source": [
        "def sum_squares(a,b) :\n",
        "    return a*a+b*b"
      ]
    },
    {
      "cell_type": "code",
      "source": [
        "list(range(5))"
      ],
      "metadata": {
        "colab": {
          "base_uri": "https://localhost:8080/"
        },
        "id": "V6CJnpp7RKDn",
        "outputId": "3a598265-14ac-4028-e6a9-d0748d1b1509"
      },
      "execution_count": null,
      "outputs": [
        {
          "output_type": "execute_result",
          "data": {
            "text/plain": [
              "[0, 1, 2, 3, 4]"
            ]
          },
          "metadata": {},
          "execution_count": 65
        }
      ]
    },
    {
      "cell_type": "code",
      "execution_count": null,
      "metadata": {
        "id": "R6OS245ihGga",
        "colab": {
          "base_uri": "https://localhost:8080/"
        },
        "outputId": "60b1b6fa-7caa-470f-9ea5-5bc333c63933"
      },
      "outputs": [
        {
          "output_type": "execute_result",
          "data": {
            "text/plain": [
              "25"
            ]
          },
          "metadata": {},
          "execution_count": 61
        }
      ],
      "source": [
        "sum_squares(3,4)"
      ]
    },
    {
      "cell_type": "markdown",
      "metadata": {
        "id": "S2UlYj7zhGgb"
      },
      "source": [
        "**HANDS-ON:** Write a function that returns **the sum of the squares of all numbers from 1 to n**. (*Hint*: use a `for` loop with a `range` command inside the function.) Write it in the cell below:"
      ]
    },
    {
      "cell_type": "code",
      "execution_count": null,
      "metadata": {
        "id": "7_VQrENiJ9Cg"
      },
      "outputs": [],
      "source": [
        "def sum_of_squares(n):\n",
        "  sum = 0\n",
        "  for i in range(n+1):\n",
        "    sum += i*i\n",
        "  return sum"
      ]
    },
    {
      "cell_type": "code",
      "source": [
        "sum_of_squares(3.2)"
      ],
      "metadata": {
        "colab": {
          "base_uri": "https://localhost:8080/",
          "height": 263
        },
        "id": "5IgkZbQDSe5u",
        "outputId": "354e434f-94e8-46f4-f956-651ff8b44213"
      },
      "execution_count": null,
      "outputs": [
        {
          "output_type": "error",
          "ename": "TypeError",
          "evalue": "'float' object cannot be interpreted as an integer",
          "traceback": [
            "\u001b[0;31m---------------------------------------------------------------------------\u001b[0m",
            "\u001b[0;31mTypeError\u001b[0m                                 Traceback (most recent call last)",
            "\u001b[0;32m<ipython-input-76-c80e7d2adeff>\u001b[0m in \u001b[0;36m<cell line: 1>\u001b[0;34m()\u001b[0m\n\u001b[0;32m----> 1\u001b[0;31m \u001b[0msum_of_squares\u001b[0m\u001b[0;34m(\u001b[0m\u001b[0;36m3.2\u001b[0m\u001b[0;34m)\u001b[0m\u001b[0;34m\u001b[0m\u001b[0;34m\u001b[0m\u001b[0m\n\u001b[0m",
            "\u001b[0;32m<ipython-input-75-6ba935315232>\u001b[0m in \u001b[0;36msum_of_squares\u001b[0;34m(n)\u001b[0m\n\u001b[1;32m      1\u001b[0m \u001b[0;32mdef\u001b[0m \u001b[0msum_of_squares\u001b[0m\u001b[0;34m(\u001b[0m\u001b[0mn\u001b[0m\u001b[0;34m)\u001b[0m\u001b[0;34m:\u001b[0m\u001b[0;34m\u001b[0m\u001b[0;34m\u001b[0m\u001b[0m\n\u001b[1;32m      2\u001b[0m   \u001b[0msum\u001b[0m \u001b[0;34m=\u001b[0m \u001b[0;36m0\u001b[0m\u001b[0;34m\u001b[0m\u001b[0;34m\u001b[0m\u001b[0m\n\u001b[0;32m----> 3\u001b[0;31m   \u001b[0;32mfor\u001b[0m \u001b[0mi\u001b[0m \u001b[0;32min\u001b[0m \u001b[0mrange\u001b[0m\u001b[0;34m(\u001b[0m\u001b[0mn\u001b[0m\u001b[0;34m+\u001b[0m\u001b[0;36m1\u001b[0m\u001b[0;34m)\u001b[0m\u001b[0;34m:\u001b[0m\u001b[0;34m\u001b[0m\u001b[0;34m\u001b[0m\u001b[0m\n\u001b[0m\u001b[1;32m      4\u001b[0m     \u001b[0msum\u001b[0m \u001b[0;34m+=\u001b[0m \u001b[0mi\u001b[0m\u001b[0;34m*\u001b[0m\u001b[0mi\u001b[0m\u001b[0;34m\u001b[0m\u001b[0;34m\u001b[0m\u001b[0m\n\u001b[1;32m      5\u001b[0m   \u001b[0;32mreturn\u001b[0m \u001b[0msum\u001b[0m\u001b[0;34m\u001b[0m\u001b[0;34m\u001b[0m\u001b[0m\n",
            "\u001b[0;31mTypeError\u001b[0m: 'float' object cannot be interpreted as an integer"
          ]
        }
      ]
    },
    {
      "cell_type": "markdown",
      "metadata": {
        "id": "a2sHyyckJ9Cg"
      },
      "source": [
        "Now check your code against the three possibilities below:"
      ]
    },
    {
      "cell_type": "code",
      "execution_count": null,
      "metadata": {
        "id": "eWFQcpRe6zk5"
      },
      "outputs": [],
      "source": [
        "#@title ####SOLUTION 1\n",
        "def sum_squares_one_to_n(n):\n",
        "  sum = 0\n",
        "  for i in range(n) : # ranges run from 0 to n-1 by default\n",
        "    sum = sum + (i+1)**2\n",
        "  return sum"
      ]
    },
    {
      "cell_type": "code",
      "execution_count": null,
      "metadata": {
        "id": "Mf_8bx7ghGgc"
      },
      "outputs": [],
      "source": [
        "#@title ####SOLUTION 2\n",
        "def sum_squares_one_to_n(n):\n",
        "    sum = 0\n",
        "    for i in range(1,n+1) : # ranges run from 0 to n-1 by default\n",
        "        sum = sum + i*i\n",
        "    return sum"
      ]
    },
    {
      "cell_type": "code",
      "execution_count": null,
      "metadata": {
        "id": "03AuBjC07I7Q"
      },
      "outputs": [],
      "source": [
        "#@title ####SOLUTION 3\n",
        "def sum_squares_one_to_n(n):\n",
        "  return sum([x*x for x in range(1,n+1)])"
      ]
    },
    {
      "cell_type": "code",
      "execution_count": null,
      "metadata": {
        "cellView": "both",
        "id": "CuI46503hGge",
        "colab": {
          "base_uri": "https://localhost:8080/"
        },
        "outputId": "8d9e3458-6137-462d-ad3e-e3b46cc00a6a"
      },
      "outputs": [
        {
          "output_type": "execute_result",
          "data": {
            "text/plain": [
              "30"
            ]
          },
          "metadata": {},
          "execution_count": 70
        }
      ],
      "source": [
        "sum_squares_one_to_n(4)"
      ]
    },
    {
      "cell_type": "markdown",
      "metadata": {
        "id": "o3GjvYoC74n_"
      },
      "source": [
        "Solution 3 for our sum of squares problem demonstrates a very powerful Python feature allowing for extremely compact (and sometimes quite indecipherable) code. It's called a *list comprehension* and it's a way to generate a list based on set of conditions and iterators.This expression:"
      ]
    },
    {
      "cell_type": "code",
      "execution_count": null,
      "metadata": {
        "id": "F7ktDiKPzhSr",
        "colab": {
          "base_uri": "https://localhost:8080/"
        },
        "outputId": "720acda6-744e-4c6c-8c64-685d046d345b"
      },
      "outputs": [
        {
          "output_type": "execute_result",
          "data": {
            "text/plain": [
              "30"
            ]
          },
          "metadata": {},
          "execution_count": 74
        }
      ],
      "source": [
        "sum([x*x for x in range(5)])\n"
      ]
    },
    {
      "cell_type": "markdown",
      "metadata": {
        "id": "eAinwqBq9NLx"
      },
      "source": [
        "literally means \"for every x in the interval from 0 to 4, compute the squres of x and form a list with them\". When we apply the `sum` built-in function to the list of squares, we get the total sum as intended."
      ]
    },
    {
      "cell_type": "code",
      "source": [],
      "metadata": {
        "id": "RpMFa11BkI9O"
      },
      "execution_count": null,
      "outputs": []
    },
    {
      "cell_type": "markdown",
      "source": [
        "**HANDS-ON:** Create a function called \"mean\" that returns the mean value of a list of numbers."
      ],
      "metadata": {
        "id": "6mKvr4NekLY5"
      }
    },
    {
      "cell_type": "code",
      "source": [
        "L = [6, 1, 7, 6]"
      ],
      "metadata": {
        "id": "Xfs-H2hzdTJ8"
      },
      "execution_count": null,
      "outputs": []
    },
    {
      "cell_type": "code",
      "source": [
        "l"
      ],
      "metadata": {
        "colab": {
          "base_uri": "https://localhost:8080/",
          "height": 141
        },
        "id": "c2RUhR7yeKOK",
        "outputId": "6c7bb99e-9040-4f9d-ad55-59874f28f194"
      },
      "execution_count": null,
      "outputs": [
        {
          "output_type": "error",
          "ename": "NameError",
          "evalue": "name 'l' is not defined",
          "traceback": [
            "\u001b[0;31m---------------------------------------------------------------------------\u001b[0m",
            "\u001b[0;31mNameError\u001b[0m                                 Traceback (most recent call last)",
            "\u001b[0;32m<ipython-input-85-cde25b5e10ad>\u001b[0m in \u001b[0;36m<cell line: 1>\u001b[0;34m()\u001b[0m\n\u001b[0;32m----> 1\u001b[0;31m \u001b[0ml\u001b[0m\u001b[0;34m\u001b[0m\u001b[0;34m\u001b[0m\u001b[0m\n\u001b[0m",
            "\u001b[0;31mNameError\u001b[0m: name 'l' is not defined"
          ]
        }
      ]
    },
    {
      "cell_type": "code",
      "source": [
        "def mean(l):\n",
        "\n",
        "  return sum(l)/len(l)\n"
      ],
      "metadata": {
        "id": "AJNEb5-GT72W"
      },
      "execution_count": null,
      "outputs": []
    },
    {
      "cell_type": "code",
      "source": [
        "mean(L)"
      ],
      "metadata": {
        "colab": {
          "base_uri": "https://localhost:8080/"
        },
        "id": "cDQNYSntd12i",
        "outputId": "b2d04627-c921-43bf-f474-0628af0261ca"
      },
      "execution_count": null,
      "outputs": [
        {
          "output_type": "execute_result",
          "data": {
            "text/plain": [
              "5.0"
            ]
          },
          "metadata": {},
          "execution_count": 87
        }
      ]
    },
    {
      "cell_type": "markdown",
      "source": [
        "**ADVANCED HANDS-ON:** Create fuction named \"variance\" that computes the *variance* of a list of numbers. The variance formula is:\n",
        "\n",
        "$$ s^2(X) = \\frac{1}{n-1}\\sum_{i=1}^{n}(x_i - \\bar{x})^2 $$\n",
        "\n",
        "where $X$ is your sample (the list in this case), $x_i$ is the $i$-th element of the list, and $\\bar{x}$ is the sample mean.\n",
        "\n",
        "*Hint:* Use your previously defined function \"mean\" to compute the sample mean inside your \"variance\" function."
      ],
      "metadata": {
        "id": "gnAAXUinkX2H"
      }
    },
    {
      "cell_type": "code",
      "source": [
        "def variance(l):\n",
        "  sum = 0\n",
        "  for p in l :\n",
        "    sum = sum + (p-mean(l))**2\n",
        "\n",
        "  return sum/(len(l)-1)\n"
      ],
      "metadata": {
        "id": "ZGpzozrsfVrt"
      },
      "execution_count": null,
      "outputs": []
    },
    {
      "cell_type": "code",
      "source": [
        "sum(L)/len(L)"
      ],
      "metadata": {
        "colab": {
          "base_uri": "https://localhost:8080/"
        },
        "id": "L8ntd7JFgLrs",
        "outputId": "5a76cd6e-a4a4-4377-8b02-fb0fd6ec6e18"
      },
      "execution_count": null,
      "outputs": [
        {
          "output_type": "execute_result",
          "data": {
            "text/plain": [
              "5.0"
            ]
          },
          "metadata": {},
          "execution_count": 96
        }
      ]
    },
    {
      "cell_type": "code",
      "source": [
        "import statistics\n",
        "statistics.variance(L)"
      ],
      "metadata": {
        "colab": {
          "base_uri": "https://localhost:8080/"
        },
        "id": "lepztPdigRXr",
        "outputId": "514cdfd8-e132-4e8f-8b29-c5c7efeb4f6b"
      },
      "execution_count": null,
      "outputs": [
        {
          "output_type": "execute_result",
          "data": {
            "text/plain": [
              "7.333333333333333"
            ]
          },
          "metadata": {},
          "execution_count": 95
        }
      ]
    },
    {
      "cell_type": "markdown",
      "metadata": {
        "id": "sjOqIarpJ9Cg"
      },
      "source": [
        "**ADVANCED HANDS-ON:** Create a function named `isfloat` that will return `True` for each string argument representing a valide `float`, and `False` otherwise. Use that function to create a new version of the square root program from the previous section.\n",
        "\n"
      ]
    },
    {
      "cell_type": "markdown",
      "metadata": {
        "id": "jcb8mnnKhGgf"
      },
      "source": [
        "### 11. **Classes and OOP (Object Oriented Programming):**"
      ]
    },
    {
      "cell_type": "markdown",
      "metadata": {
        "id": "suPP1sgAhGgf"
      },
      "source": [
        "The most advanced and flexible object type in Python is the *class*. Classes can *encapsulate* data (like numbers, lists or strings) and functions in a single object. This provides a very powerful and flexible way of programming. Unfortunately, it can be a bit daunting for the beginner programmer. However, some understanding of the concept is required if we are to use Python in any pratical context, like *accessing software tools, databases and scientific libraries*. What we intend here is to provide a very basic understanding of classes and how they can be used to achieve pratical results.\n",
        "\n",
        "Let's start with a very simple example. Run the cell below with SHIFT+ENTER:\n"
      ]
    },
    {
      "cell_type": "code",
      "execution_count": null,
      "metadata": {
        "id": "4u9eIU1AhGgg"
      },
      "outputs": [],
      "source": [
        "class Rectangle :\n",
        "\n",
        "    def __init__(self,a,b):\n",
        "        self.sideA = a\n",
        "        self.sideB = b\n",
        "    def area(self):\n",
        "        return self.sideA*self.sideB\n",
        "    def perimeter(self):\n",
        "        return 2 * (self.sideA + self.sideB)\n",
        "\n"
      ]
    },
    {
      "cell_type": "markdown",
      "metadata": {
        "id": "vEIUpAJFhGgi"
      },
      "source": [
        "What's happening here ?...  \n",
        "\n",
        "First, we declare a class name `Rectangle`, and inside the class we use the `def` command to define two functions.  \n",
        "\n",
        "1. The first, called `__init__`, is a special function that get's called *every time* a new object of type `Rectangle` is created. Notice that this function accepts 3 arguments:\n",
        "    - The first, `self` is a special argument that we always have to include when declaring *methods* for an object.\n",
        "    - The variables `a` and `b` are the lengths of the two sides of the rectangle (we will see shortly how these arguments are passed). Inside the `__init__` function, the values of `a` and `b` are assigned to the two variables `self.sideA` and `self.sideB`. This way, the sides of the rectangle are stored in the object.\n",
        "\n",
        "2. Then we define a second *method*, called `area`. This method will *return the area of the rectangle*, which is simply the product of the length of its sides."
      ]
    },
    {
      "cell_type": "markdown",
      "metadata": {
        "id": "1wRi1RzvhGgi"
      },
      "source": [
        "But, how do we use a class ?... Firstly, we need to create one or more objects belongin to the newly defined class. Creating an object from a class is called ***instantiating*** the class, and each created object is an ***instance***. So for example:"
      ]
    },
    {
      "cell_type": "code",
      "execution_count": null,
      "metadata": {
        "id": "Oc7FydbkhGgj"
      },
      "outputs": [],
      "source": [
        "myR = Rectangle(2,3)  # \"myR\" is an instance of the Rectangle class, with sides of lenght 2 and 3"
      ]
    },
    {
      "cell_type": "markdown",
      "source": [
        "\"myR\" is an *instance* of the `Rectangle` class. As such, it contains two variables with the length of its sides, `sideA` and `sideB`:"
      ],
      "metadata": {
        "id": "NZmYcRI8n4KD"
      }
    },
    {
      "cell_type": "code",
      "source": [
        "myR.sideA, myR.sideB"
      ],
      "metadata": {
        "id": "QCJcfoKGoP3Q",
        "colab": {
          "base_uri": "https://localhost:8080/"
        },
        "outputId": "6de49fec-eb05-4196-916a-68a8b4f955c4"
      },
      "execution_count": null,
      "outputs": [
        {
          "output_type": "execute_result",
          "data": {
            "text/plain": [
              "(2, 3)"
            ]
          },
          "metadata": {},
          "execution_count": 116
        }
      ]
    },
    {
      "cell_type": "markdown",
      "source": [
        "If also contains a *method* to compute the instance's area:"
      ],
      "metadata": {
        "id": "t9z46t3ZoT8V"
      }
    },
    {
      "cell_type": "code",
      "execution_count": null,
      "metadata": {
        "id": "zSirKPTxhGgk",
        "colab": {
          "base_uri": "https://localhost:8080/"
        },
        "outputId": "a1f63334-3e36-4dc3-cf96-dbd7930ad8e2"
      },
      "outputs": [
        {
          "output_type": "execute_result",
          "data": {
            "text/plain": [
              "6"
            ]
          },
          "metadata": {},
          "execution_count": 117
        }
      ],
      "source": [
        "myR.area() # if we call the \"area\" method on the instance object, it returns myR's area"
      ]
    },
    {
      "cell_type": "code",
      "source": [
        "myR.perimeter()"
      ],
      "metadata": {
        "colab": {
          "base_uri": "https://localhost:8080/"
        },
        "id": "Mi4zLK-ao_Bz",
        "outputId": "4db49506-daf6-4c4b-c847-d93a067f2c37"
      },
      "execution_count": null,
      "outputs": [
        {
          "output_type": "execute_result",
          "data": {
            "text/plain": [
              "10"
            ]
          },
          "metadata": {},
          "execution_count": 131
        }
      ]
    },
    {
      "cell_type": "markdown",
      "metadata": {
        "id": "HrYRb-t8J9Cg"
      },
      "source": [
        "Our object mR is like a \"bag\" containing the value of its sides and the function (method) to calculate its area. It is important to understand that, while all instances of the class share the same structure (in this case, having variables `sideA` and `SideB` and a method clalled `Area`), the particular values of the variables can change for *different instances. So, if we create some more instances of `Rectangle` :"
      ]
    },
    {
      "cell_type": "code",
      "execution_count": null,
      "metadata": {
        "id": "SvxO7cd_hGgl"
      },
      "outputs": [],
      "source": [
        "myS = Rectangle(23,11)\n",
        "myT = Rectangle(10,20)\n",
        "myU = Rectangle(1,1) # that's square, which just a particular case of a rectangle"
      ]
    },
    {
      "cell_type": "markdown",
      "source": [
        "... they sides will have difference sizes, according to values of the two paramenters that have been passed to each instance. Therefore, the areas of each rectangle will also be different:"
      ],
      "metadata": {
        "id": "Uwky7_0RpQHq"
      }
    },
    {
      "cell_type": "markdown",
      "metadata": {
        "id": "ja8xJt_NhGgm"
      },
      "source": [
        "Now let's print the areas of those rectangles:"
      ]
    },
    {
      "cell_type": "code",
      "execution_count": null,
      "metadata": {
        "id": "y_1gijFLhGgm",
        "colab": {
          "base_uri": "https://localhost:8080/"
        },
        "outputId": "5f520369-05c5-4bc1-87bb-1d2ded5b5bf5"
      },
      "outputs": [
        {
          "output_type": "stream",
          "name": "stdout",
          "text": [
            "253 200 1\n"
          ]
        }
      ],
      "source": [
        "print(myS.area(),myT.area(),myU.area())"
      ]
    },
    {
      "cell_type": "markdown",
      "metadata": {
        "id": "xtGCVi8UhGgn"
      },
      "source": [
        "It is important to realize that all data types in Python are in fact *classes*. Many of these classes have *methods* that can be called exactly in the same way as the *area method* of our *Rectangle class*. For example, `list` objects have many *methods*, one of them being `sort` . Let's see it in action:"
      ]
    },
    {
      "cell_type": "code",
      "execution_count": null,
      "metadata": {
        "id": "g1H9NRrzhGgo",
        "colab": {
          "base_uri": "https://localhost:8080/"
        },
        "outputId": "4aacaa79-0a40-4aee-9891-24f958cd0d42"
      },
      "outputs": [
        {
          "output_type": "stream",
          "name": "stdout",
          "text": [
            "Unsorted:  [4, 2, 8, 5, 7, 9, 42, 1, 13]\n",
            "Sorted:  [1, 2, 4, 5, 7, 8, 9, 13, 42]\n"
          ]
        }
      ],
      "source": [
        "myList = [4,2,8,5,7,9,42,1,13]\n",
        "print(\"Unsorted: \", myList)\n",
        "myList.sort()\n",
        "print(\"Sorted: \", myList)"
      ]
    },
    {
      "cell_type": "markdown",
      "metadata": {
        "id": "2EoZighqhGgo"
      },
      "source": [
        "The *method* `sort` re-arranged the elements in the list in ascending order."
      ]
    },
    {
      "cell_type": "markdown",
      "metadata": {
        "id": "4mDlvYjuhGgp"
      },
      "source": [
        "Strings also have methods. For example:"
      ]
    },
    {
      "cell_type": "code",
      "execution_count": null,
      "metadata": {
        "id": "DjopoSFPhGgp",
        "colab": {
          "base_uri": "https://localhost:8080/"
        },
        "outputId": "cfaa0cd8-1fb1-4a8a-c0bb-9710501c7e1a"
      },
      "outputs": [
        {
          "output_type": "stream",
          "name": "stdout",
          "text": [
            "THIS IS A STRING\n",
            "this is a string\n"
          ]
        }
      ],
      "source": [
        "myString = \"this is a string\"\n",
        "print(myString.upper())   # the \"upper\" method converts all letters to upper case (CAPITALS)\n",
        "print(myString)"
      ]
    },
    {
      "cell_type": "markdown",
      "metadata": {
        "id": "xob1m0rihGgp"
      },
      "source": [
        "**HANDS-ON:** Try to spot one very important difference between the previous example and the one with the list object. (*Hint:* Think about what the final value of our variable is in each case.)"
      ]
    },
    {
      "cell_type": "markdown",
      "metadata": {
        "id": "WqryAwahhGgp"
      },
      "source": [
        "**HANDS-ON:** Go back to our `Rectangle` classe example and add a method named `perimeter` that returns the perimeter of a rectangle. Write the new method in the cell below, and test it with a few examples."
      ]
    },
    {
      "cell_type": "code",
      "execution_count": null,
      "metadata": {
        "id": "g6ot_OWVmkXD",
        "cellView": "form"
      },
      "outputs": [],
      "source": [
        "#@title SOLUTION\n",
        "class Rectangle :\n",
        "    def __init__(self,a,b):\n",
        "        self.sideA = a\n",
        "        self.sideB = b\n",
        "    def area(self):\n",
        "        return self.sideA*self.sideB\n",
        "    def perimeter(self):\n",
        "        return 2 * (self.sideA + self.sideB)"
      ]
    },
    {
      "cell_type": "markdown",
      "metadata": {
        "id": "I0INGTLe_Vu9"
      },
      "source": [
        "We can use the \"dir\" command to list the contents of our class, same way  as we did it for other Python objects:"
      ]
    },
    {
      "cell_type": "code",
      "execution_count": null,
      "metadata": {
        "id": "E4MJbjxLo_zi",
        "colab": {
          "base_uri": "https://localhost:8080/"
        },
        "outputId": "d5bfaeb0-c06e-464a-e1e2-4c08fb1c03a6"
      },
      "outputs": [
        {
          "output_type": "execute_result",
          "data": {
            "text/plain": [
              "['__class__',\n",
              " '__delattr__',\n",
              " '__dict__',\n",
              " '__dir__',\n",
              " '__doc__',\n",
              " '__eq__',\n",
              " '__format__',\n",
              " '__ge__',\n",
              " '__getattribute__',\n",
              " '__gt__',\n",
              " '__hash__',\n",
              " '__init__',\n",
              " '__init_subclass__',\n",
              " '__le__',\n",
              " '__lt__',\n",
              " '__module__',\n",
              " '__ne__',\n",
              " '__new__',\n",
              " '__reduce__',\n",
              " '__reduce_ex__',\n",
              " '__repr__',\n",
              " '__setattr__',\n",
              " '__sizeof__',\n",
              " '__str__',\n",
              " '__subclasshook__',\n",
              " '__weakref__',\n",
              " 'area',\n",
              " 'perimeter']"
            ]
          },
          "metadata": {},
          "execution_count": 132
        }
      ],
      "source": [
        "dir(Rectangle)"
      ]
    },
    {
      "cell_type": "markdown",
      "metadata": {
        "id": "_wgOm-ZJ_eRs"
      },
      "source": [
        "Compare this with using dir on the \"str\" class:"
      ]
    },
    {
      "cell_type": "code",
      "execution_count": null,
      "metadata": {
        "id": "rZCHaGM-pLzp",
        "colab": {
          "base_uri": "https://localhost:8080/"
        },
        "outputId": "f61b89a4-a794-49b0-c9c4-fcc6ee27b22c"
      },
      "outputs": [
        {
          "output_type": "execute_result",
          "data": {
            "text/plain": [
              "['__add__',\n",
              " '__class__',\n",
              " '__contains__',\n",
              " '__delattr__',\n",
              " '__dir__',\n",
              " '__doc__',\n",
              " '__eq__',\n",
              " '__format__',\n",
              " '__ge__',\n",
              " '__getattribute__',\n",
              " '__getitem__',\n",
              " '__getnewargs__',\n",
              " '__gt__',\n",
              " '__hash__',\n",
              " '__init__',\n",
              " '__init_subclass__',\n",
              " '__iter__',\n",
              " '__le__',\n",
              " '__len__',\n",
              " '__lt__',\n",
              " '__mod__',\n",
              " '__mul__',\n",
              " '__ne__',\n",
              " '__new__',\n",
              " '__reduce__',\n",
              " '__reduce_ex__',\n",
              " '__repr__',\n",
              " '__rmod__',\n",
              " '__rmul__',\n",
              " '__setattr__',\n",
              " '__sizeof__',\n",
              " '__str__',\n",
              " '__subclasshook__',\n",
              " 'capitalize',\n",
              " 'casefold',\n",
              " 'center',\n",
              " 'count',\n",
              " 'encode',\n",
              " 'endswith',\n",
              " 'expandtabs',\n",
              " 'find',\n",
              " 'format',\n",
              " 'format_map',\n",
              " 'index',\n",
              " 'isalnum',\n",
              " 'isalpha',\n",
              " 'isascii',\n",
              " 'isdecimal',\n",
              " 'isdigit',\n",
              " 'isidentifier',\n",
              " 'islower',\n",
              " 'isnumeric',\n",
              " 'isprintable',\n",
              " 'isspace',\n",
              " 'istitle',\n",
              " 'isupper',\n",
              " 'join',\n",
              " 'ljust',\n",
              " 'lower',\n",
              " 'lstrip',\n",
              " 'maketrans',\n",
              " 'partition',\n",
              " 'removeprefix',\n",
              " 'removesuffix',\n",
              " 'replace',\n",
              " 'rfind',\n",
              " 'rindex',\n",
              " 'rjust',\n",
              " 'rpartition',\n",
              " 'rsplit',\n",
              " 'rstrip',\n",
              " 'split',\n",
              " 'splitlines',\n",
              " 'startswith',\n",
              " 'strip',\n",
              " 'swapcase',\n",
              " 'title',\n",
              " 'translate',\n",
              " 'upper',\n",
              " 'zfill']"
            ]
          },
          "metadata": {},
          "execution_count": 133
        }
      ],
      "source": [
        "dir(str)"
      ]
    },
    {
      "cell_type": "markdown",
      "metadata": {
        "id": "YIXKQsRO_yhQ"
      },
      "source": [
        "The methos with names starting with `__` are internal methods, not supposed to be called directly by user programs. Notice they are similar in both our class and the `str`class, but the latter has many more public methods.\n",
        "\n",
        "Check the list of all public string methods here: https://www.programiz.com/python-programming/methods/string"
      ]
    },
    {
      "cell_type": "markdown",
      "source": [
        "**HANDS-ON:** Create a class \"Circle\" that will define instances by passing the argument \"radius\" and also having methods \"area\" and \"perimeter\".\n",
        "\n",
        "*Hint:* You can import the number Pi from the `math` module with:\n",
        "\n",
        "```\n",
        "from math import pi\n",
        "```\n"
      ],
      "metadata": {
        "id": "5NtNXalKqIGN"
      }
    },
    {
      "cell_type": "markdown",
      "metadata": {
        "id": "RSpHhulohGgq"
      },
      "source": [
        "### 12. **Reading and Writing Files**"
      ]
    },
    {
      "cell_type": "markdown",
      "metadata": {
        "id": "FaBmM7XihGgq"
      },
      "source": [
        "So far we have seen only the simplest ways to interact with program code: by providing data in input boxes (with the `input` command) and by writing out data to the cell output. If these were the only ways to *input* and *output* data, programming languages wouldn't be very useful - how would we feed a program with the entire gene sequence of an organism, for instance ?... Or how would one save the output of program consisting of *thousands* of lines ?\n",
        "\n",
        "Fortunately, programming languages provide the necessary mechanisms to read and write data to and from *files*. A file is just a piece of information stored on a computer - it could be the text of a book, a computer program, a sound file, a video file or many other things. No matter what the actual content is, all files are the same: collections of bytes stored in more or less permanent memory. Each file is referred by a *name*, which allows us to retrieve its contents when needed. The Python programming language provides various mechanisms to read from and write data to files. Let's learn the simplest one, starting with a motivating example.\n",
        "\n",
        "Suppose we wanted to compute a table with the cosinuses  of angles between 0 and 360. We could simply do:"
      ]
    },
    {
      "cell_type": "code",
      "execution_count": null,
      "metadata": {
        "id": "I8h8c0yZhGgq",
        "colab": {
          "base_uri": "https://localhost:8080/"
        },
        "outputId": "82600766-03e5-4b08-c462-27a05f8e239c"
      },
      "outputs": [
        {
          "output_type": "stream",
          "name": "stdout",
          "text": [
            "   0  1.0000\n",
            "   1  0.9998\n",
            "   2  0.9994\n",
            "   3  0.9986\n",
            "   4  0.9976\n",
            "   5  0.9962\n",
            "   6  0.9945\n",
            "   7  0.9925\n",
            "   8  0.9903\n",
            "   9  0.9877\n",
            "  10  0.9848\n",
            "  11  0.9816\n",
            "  12  0.9781\n",
            "  13  0.9744\n",
            "  14  0.9703\n",
            "  15  0.9659\n",
            "  16  0.9613\n",
            "  17  0.9563\n",
            "  18  0.9511\n",
            "  19  0.9455\n",
            "  20  0.9397\n",
            "  21  0.9336\n",
            "  22  0.9272\n",
            "  23  0.9205\n",
            "  24  0.9135\n",
            "  25  0.9063\n",
            "  26  0.8988\n",
            "  27  0.8910\n",
            "  28  0.8829\n",
            "  29  0.8746\n",
            "  30  0.8660\n",
            "  31  0.8572\n",
            "  32  0.8480\n",
            "  33  0.8387\n",
            "  34  0.8290\n",
            "  35  0.8192\n",
            "  36  0.8090\n",
            "  37  0.7986\n",
            "  38  0.7880\n",
            "  39  0.7771\n",
            "  40  0.7660\n",
            "  41  0.7547\n",
            "  42  0.7431\n",
            "  43  0.7314\n",
            "  44  0.7193\n",
            "  45  0.7071\n",
            "  46  0.6947\n",
            "  47  0.6820\n",
            "  48  0.6691\n",
            "  49  0.6561\n",
            "  50  0.6428\n",
            "  51  0.6293\n",
            "  52  0.6157\n",
            "  53  0.6018\n",
            "  54  0.5878\n",
            "  55  0.5736\n",
            "  56  0.5592\n",
            "  57  0.5446\n",
            "  58  0.5299\n",
            "  59  0.5150\n",
            "  60  0.5000\n",
            "  61  0.4848\n",
            "  62  0.4695\n",
            "  63  0.4540\n",
            "  64  0.4384\n",
            "  65  0.4226\n",
            "  66  0.4067\n",
            "  67  0.3907\n",
            "  68  0.3746\n",
            "  69  0.3584\n",
            "  70  0.3420\n",
            "  71  0.3256\n",
            "  72  0.3090\n",
            "  73  0.2924\n",
            "  74  0.2756\n",
            "  75  0.2588\n",
            "  76  0.2419\n",
            "  77  0.2250\n",
            "  78  0.2079\n",
            "  79  0.1908\n",
            "  80  0.1736\n",
            "  81  0.1564\n",
            "  82  0.1392\n",
            "  83  0.1219\n",
            "  84  0.1045\n",
            "  85  0.0872\n",
            "  86  0.0698\n",
            "  87  0.0523\n",
            "  88  0.0349\n",
            "  89  0.0175\n",
            "  90  0.0000\n",
            "  91 -0.0175\n",
            "  92 -0.0349\n",
            "  93 -0.0523\n",
            "  94 -0.0698\n",
            "  95 -0.0872\n",
            "  96 -0.1045\n",
            "  97 -0.1219\n",
            "  98 -0.1392\n",
            "  99 -0.1564\n",
            " 100 -0.1736\n",
            " 101 -0.1908\n",
            " 102 -0.2079\n",
            " 103 -0.2250\n",
            " 104 -0.2419\n",
            " 105 -0.2588\n",
            " 106 -0.2756\n",
            " 107 -0.2924\n",
            " 108 -0.3090\n",
            " 109 -0.3256\n",
            " 110 -0.3420\n",
            " 111 -0.3584\n",
            " 112 -0.3746\n",
            " 113 -0.3907\n",
            " 114 -0.4067\n",
            " 115 -0.4226\n",
            " 116 -0.4384\n",
            " 117 -0.4540\n",
            " 118 -0.4695\n",
            " 119 -0.4848\n",
            " 120 -0.5000\n",
            " 121 -0.5150\n",
            " 122 -0.5299\n",
            " 123 -0.5446\n",
            " 124 -0.5592\n",
            " 125 -0.5736\n",
            " 126 -0.5878\n",
            " 127 -0.6018\n",
            " 128 -0.6157\n",
            " 129 -0.6293\n",
            " 130 -0.6428\n",
            " 131 -0.6561\n",
            " 132 -0.6691\n",
            " 133 -0.6820\n",
            " 134 -0.6947\n",
            " 135 -0.7071\n",
            " 136 -0.7193\n",
            " 137 -0.7314\n",
            " 138 -0.7431\n",
            " 139 -0.7547\n",
            " 140 -0.7660\n",
            " 141 -0.7771\n",
            " 142 -0.7880\n",
            " 143 -0.7986\n",
            " 144 -0.8090\n",
            " 145 -0.8192\n",
            " 146 -0.8290\n",
            " 147 -0.8387\n",
            " 148 -0.8480\n",
            " 149 -0.8572\n",
            " 150 -0.8660\n",
            " 151 -0.8746\n",
            " 152 -0.8829\n",
            " 153 -0.8910\n",
            " 154 -0.8988\n",
            " 155 -0.9063\n",
            " 156 -0.9135\n",
            " 157 -0.9205\n",
            " 158 -0.9272\n",
            " 159 -0.9336\n",
            " 160 -0.9397\n",
            " 161 -0.9455\n",
            " 162 -0.9511\n",
            " 163 -0.9563\n",
            " 164 -0.9613\n",
            " 165 -0.9659\n",
            " 166 -0.9703\n",
            " 167 -0.9744\n",
            " 168 -0.9781\n",
            " 169 -0.9816\n",
            " 170 -0.9848\n",
            " 171 -0.9877\n",
            " 172 -0.9903\n",
            " 173 -0.9925\n",
            " 174 -0.9945\n",
            " 175 -0.9962\n",
            " 176 -0.9976\n",
            " 177 -0.9986\n",
            " 178 -0.9994\n",
            " 179 -0.9998\n",
            " 180 -1.0000\n",
            " 181 -0.9998\n",
            " 182 -0.9994\n",
            " 183 -0.9986\n",
            " 184 -0.9976\n",
            " 185 -0.9962\n",
            " 186 -0.9945\n",
            " 187 -0.9925\n",
            " 188 -0.9903\n",
            " 189 -0.9877\n",
            " 190 -0.9848\n",
            " 191 -0.9816\n",
            " 192 -0.9781\n",
            " 193 -0.9744\n",
            " 194 -0.9703\n",
            " 195 -0.9659\n",
            " 196 -0.9613\n",
            " 197 -0.9563\n",
            " 198 -0.9511\n",
            " 199 -0.9455\n",
            " 200 -0.9397\n",
            " 201 -0.9336\n",
            " 202 -0.9272\n",
            " 203 -0.9205\n",
            " 204 -0.9135\n",
            " 205 -0.9063\n",
            " 206 -0.8988\n",
            " 207 -0.8910\n",
            " 208 -0.8829\n",
            " 209 -0.8746\n",
            " 210 -0.8660\n",
            " 211 -0.8572\n",
            " 212 -0.8480\n",
            " 213 -0.8387\n",
            " 214 -0.8290\n",
            " 215 -0.8192\n",
            " 216 -0.8090\n",
            " 217 -0.7986\n",
            " 218 -0.7880\n",
            " 219 -0.7771\n",
            " 220 -0.7660\n",
            " 221 -0.7547\n",
            " 222 -0.7431\n",
            " 223 -0.7314\n",
            " 224 -0.7193\n",
            " 225 -0.7071\n",
            " 226 -0.6947\n",
            " 227 -0.6820\n",
            " 228 -0.6691\n",
            " 229 -0.6561\n",
            " 230 -0.6428\n",
            " 231 -0.6293\n",
            " 232 -0.6157\n",
            " 233 -0.6018\n",
            " 234 -0.5878\n",
            " 235 -0.5736\n",
            " 236 -0.5592\n",
            " 237 -0.5446\n",
            " 238 -0.5299\n",
            " 239 -0.5150\n",
            " 240 -0.5000\n",
            " 241 -0.4848\n",
            " 242 -0.4695\n",
            " 243 -0.4540\n",
            " 244 -0.4384\n",
            " 245 -0.4226\n",
            " 246 -0.4067\n",
            " 247 -0.3907\n",
            " 248 -0.3746\n",
            " 249 -0.3584\n",
            " 250 -0.3420\n",
            " 251 -0.3256\n",
            " 252 -0.3090\n",
            " 253 -0.2924\n",
            " 254 -0.2756\n",
            " 255 -0.2588\n",
            " 256 -0.2419\n",
            " 257 -0.2250\n",
            " 258 -0.2079\n",
            " 259 -0.1908\n",
            " 260 -0.1736\n",
            " 261 -0.1564\n",
            " 262 -0.1392\n",
            " 263 -0.1219\n",
            " 264 -0.1045\n",
            " 265 -0.0872\n",
            " 266 -0.0698\n",
            " 267 -0.0523\n",
            " 268 -0.0349\n",
            " 269 -0.0175\n",
            " 270 -0.0000\n",
            " 271  0.0175\n",
            " 272  0.0349\n",
            " 273  0.0523\n",
            " 274  0.0698\n",
            " 275  0.0872\n",
            " 276  0.1045\n",
            " 277  0.1219\n",
            " 278  0.1392\n",
            " 279  0.1564\n",
            " 280  0.1736\n",
            " 281  0.1908\n",
            " 282  0.2079\n",
            " 283  0.2250\n",
            " 284  0.2419\n",
            " 285  0.2588\n",
            " 286  0.2756\n",
            " 287  0.2924\n",
            " 288  0.3090\n",
            " 289  0.3256\n",
            " 290  0.3420\n",
            " 291  0.3584\n",
            " 292  0.3746\n",
            " 293  0.3907\n",
            " 294  0.4067\n",
            " 295  0.4226\n",
            " 296  0.4384\n",
            " 297  0.4540\n",
            " 298  0.4695\n",
            " 299  0.4848\n",
            " 300  0.5000\n",
            " 301  0.5150\n",
            " 302  0.5299\n",
            " 303  0.5446\n",
            " 304  0.5592\n",
            " 305  0.5736\n",
            " 306  0.5878\n",
            " 307  0.6018\n",
            " 308  0.6157\n",
            " 309  0.6293\n",
            " 310  0.6428\n",
            " 311  0.6561\n",
            " 312  0.6691\n",
            " 313  0.6820\n",
            " 314  0.6947\n",
            " 315  0.7071\n",
            " 316  0.7193\n",
            " 317  0.7314\n",
            " 318  0.7431\n",
            " 319  0.7547\n",
            " 320  0.7660\n",
            " 321  0.7771\n",
            " 322  0.7880\n",
            " 323  0.7986\n",
            " 324  0.8090\n",
            " 325  0.8192\n",
            " 326  0.8290\n",
            " 327  0.8387\n",
            " 328  0.8480\n",
            " 329  0.8572\n",
            " 330  0.8660\n",
            " 331  0.8746\n",
            " 332  0.8829\n",
            " 333  0.8910\n",
            " 334  0.8988\n",
            " 335  0.9063\n",
            " 336  0.9135\n",
            " 337  0.9205\n",
            " 338  0.9272\n",
            " 339  0.9336\n",
            " 340  0.9397\n",
            " 341  0.9455\n",
            " 342  0.9511\n",
            " 343  0.9563\n",
            " 344  0.9613\n",
            " 345  0.9659\n",
            " 346  0.9703\n",
            " 347  0.9744\n",
            " 348  0.9781\n",
            " 349  0.9816\n",
            " 350  0.9848\n",
            " 351  0.9877\n",
            " 352  0.9903\n",
            " 353  0.9925\n",
            " 354  0.9945\n",
            " 355  0.9962\n",
            " 356  0.9976\n",
            " 357  0.9986\n",
            " 358  0.9994\n",
            " 359  0.9998\n"
          ]
        }
      ],
      "source": [
        "from math import cos, pi\n",
        "for angle in range(360):\n",
        "    rad_angle = angle*2*pi/360. # convert degrees to radians\n",
        "    print(\"{:>4} {:7.4f}\".format(angle, cos(rad_angle))) # the formatter \":>4\" outputs number on a 4 space and right-idented"
      ]
    },
    {
      "cell_type": "markdown",
      "metadata": {
        "id": "GeRO8AcghGgs"
      },
      "source": [
        "That's rather a long list, isn't it ? Not very pratical to use in the browser, and what if we wanted to save it for later ?... One way is to save the result into a *file*. Let's see how one creates files in Python. That's what the `open` comand is for:"
      ]
    },
    {
      "cell_type": "code",
      "execution_count": null,
      "metadata": {
        "id": "VM4O1PlJhGgs"
      },
      "outputs": [],
      "source": [
        "f = open(\"myfile.dat\",\"w\")"
      ]
    },
    {
      "cell_type": "markdown",
      "metadata": {
        "id": "PXtHz87dhGgs"
      },
      "source": [
        "The previous command has just opened the file `myfile.dat` for writing (hence the \"w\" as second argument in the `open` function). It returns a value, the *file descriptor*, which we assigned to `f`. This variable `f` will work like a handle that we can use to operate on our file. Before we do anything, let's check that this file was indeed created. To do this,  we need to go beyond the notebook enviroment and have look at the contents of the folder workspace in the machine running underneath - there are different ways to accomplish this. <!-- One way is to open the File Manager Inteface of the Jupyter Hub environment (check the tutorial \"Introduction to Jupyter Hub\"). There you should see a newly create file with the name \"myfile.dat\". A second way  is to open a terminal on the Jupyter Hub interface and type the command `ls`. A third -->Perhaps the simplest is by using another of the `%` notebook magic commands, in this case `%ls` :"
      ]
    },
    {
      "cell_type": "code",
      "execution_count": null,
      "metadata": {
        "id": "Nd2RP7-NuIFC",
        "colab": {
          "base_uri": "https://localhost:8080/"
        },
        "outputId": "b96c866c-3e7f-4745-926b-e00d56fbdf49"
      },
      "outputs": [
        {
          "output_type": "stream",
          "name": "stdout",
          "text": [
            "myfile.dat  \u001b[0m\u001b[01;34msample_data\u001b[0m/\n"
          ]
        }
      ],
      "source": [
        "%ls"
      ]
    },
    {
      "cell_type": "markdown",
      "metadata": {
        "id": "jnDUv8iUBtkI"
      },
      "source": [
        "The `%ls` command lists files in the current folder of the Linux machine running the Jupyter Hub system.  As you can see, the `open` command created a `myfile.dat` file, which should be among the listed files. Let's try to browse its contents with the `%cat` magic command:"
      ]
    },
    {
      "cell_type": "code",
      "execution_count": null,
      "metadata": {
        "id": "KNa0V-dTqMIZ"
      },
      "outputs": [],
      "source": [
        "%cat myfile.dat"
      ]
    },
    {
      "cell_type": "markdown",
      "metadata": {
        "id": "bTT3Iy9xuNg6"
      },
      "source": [
        "Not surprisingly, this file is empty - we haven't written anything in it yet!\n",
        "\n",
        "Let's try and write something on `myfile.dat`, using the `write` method of the file descriptor `f`:"
      ]
    },
    {
      "cell_type": "code",
      "execution_count": null,
      "metadata": {
        "id": "UO_MyCQahGgt",
        "colab": {
          "base_uri": "https://localhost:8080/"
        },
        "outputId": "21bfa95e-7cd0-42ee-b78c-e0570a730065"
      },
      "outputs": [
        {
          "output_type": "execute_result",
          "data": {
            "text/plain": [
              "34"
            ]
          },
          "metadata": {},
          "execution_count": 138
        }
      ],
      "source": [
        "f.write(\"This is the first line of my file.\")"
      ]
    },
    {
      "cell_type": "code",
      "execution_count": null,
      "metadata": {
        "id": "FnNwsn_WhGgv",
        "colab": {
          "base_uri": "https://localhost:8080/"
        },
        "outputId": "0aadfc2d-3c22-4b8b-ce6c-47316150a5f3"
      },
      "outputs": [
        {
          "output_type": "execute_result",
          "data": {
            "text/plain": [
              "39"
            ]
          },
          "metadata": {},
          "execution_count": 139
        }
      ],
      "source": [
        "f.write(\"And this is the second line of my file.\")"
      ]
    },
    {
      "cell_type": "markdown",
      "metadata": {
        "id": "9hRoygWnhGgw"
      },
      "source": [
        "Notice that each `write` command returns the number of characters written to the file. (Do you know an easy to check that his is true?).\n",
        "\n",
        "Let's inspect the contents of `myfile.dat` again:"
      ]
    },
    {
      "cell_type": "code",
      "execution_count": null,
      "metadata": {
        "id": "8qNJitqaoAkD"
      },
      "outputs": [],
      "source": [
        "%cat myfile.dat"
      ]
    },
    {
      "cell_type": "markdown",
      "metadata": {
        "id": "kxyo7zQYoBiO"
      },
      "source": [
        "We might have guessed that the `cat`command would return the two lines you've just written to the file, but it came out empyt instead! Why ? ... Because file output is *buffered*, meaning that data is stored on a temporary buffer in memory before actually being saved to a disk file (this is meant to speed up file operatins, since memory access is way faster than disk access). To flush the buffer to disk,  we need to call the `close` function of the file descriptor `f` (we could also say we are calling the method `close` on the file object named `f`):"
      ]
    },
    {
      "cell_type": "code",
      "execution_count": null,
      "metadata": {
        "id": "eVLu85oShGgw"
      },
      "outputs": [],
      "source": [
        "f.close()"
      ]
    },
    {
      "cell_type": "markdown",
      "metadata": {
        "id": "2sh3NKpvpPRT"
      },
      "source": [
        "Now let's try  and dump the contents again:"
      ]
    },
    {
      "cell_type": "code",
      "execution_count": null,
      "metadata": {
        "id": "z78cxLgdwucQ",
        "colab": {
          "base_uri": "https://localhost:8080/"
        },
        "outputId": "fe2a4fcb-d73f-4e07-d0fc-103bbac827de"
      },
      "outputs": [
        {
          "output_type": "stream",
          "name": "stdout",
          "text": [
            "This is the first line of my file.And this is the second line of my file."
          ]
        }
      ],
      "source": [
        "%cat myfile.dat"
      ]
    },
    {
      "cell_type": "markdown",
      "metadata": {
        "id": "lQAAW4u1hGgx"
      },
      "source": [
        "Now the data is stored in the file! But wait... we intended to have each string on a separate line, but instead the two strings are glued together in a single long line. That is because the `f.write()` command outputs exactly what we place between the brackets, and does not add a *line break* after the last character of the string argument. Without line breaks, the file will be a long unbroken line of characters. Now, this may or may not be what we want, but most likely it's *not*. Particularly if the file is meant as a human readable text or table.\n",
        "\n",
        "We can fix it by telling the `write` command where our line breaks are - in this case, at the end of each string. Let's write the complete new code on a single cell:"
      ]
    },
    {
      "cell_type": "code",
      "execution_count": null,
      "metadata": {
        "id": "QMzkKCmjhGgx",
        "colab": {
          "base_uri": "https://localhost:8080/"
        },
        "outputId": "34f72c02-07ab-445d-f8a1-1a335587415b"
      },
      "outputs": [
        {
          "output_type": "stream",
          "name": "stdout",
          "text": [
            "This is the first line of my file.\n",
            "And this is the second line of my file.\n"
          ]
        }
      ],
      "source": [
        "f = open(\"myfile.dat\",\"w\")\n",
        "f.write(\"This is the first line of my file.\\n\")\n",
        "f.write(\"And this is the second line of my file.\\n\")\n",
        "f.close()\n",
        "%cat myfile.dat"
      ]
    },
    {
      "cell_type": "markdown",
      "metadata": {
        "id": "WTtCSBcThGgy"
      },
      "source": [
        "We added a `\\n`  at the end of each line. Why?... While there are two characters in the `\\n` string, the Python language intrepreter reads it as single, special, \"newline character\". Printing (or `write`ing) this character does not output any visible symbols to the screen or file. Instead, it causes a line change (this is similar to the hidden end-of-paragraph symbols in Microsoft Word, for instance).\n",
        "\n",
        "\n",
        "**N.B.:** Notice that the original content of \"myfile.dat\" (the single long line) is entirely replaced with the new content. Every time we open a file for *writing* (using \"w\" as the second argument to the `open` commmand), its contents will be erased and replaced with the new data. Be careful with the \"w\" mode!"
      ]
    },
    {
      "cell_type": "markdown",
      "metadata": {
        "id": "gjyN8EVdhGg0"
      },
      "source": [
        "Now that we have properly written our file, closed it and checked the integrity of its contents, we may try to read it using Python commands. The \"`open`\" command comes again to our rescue, but now its second argument will be an \"r\" (for *read*), like this:"
      ]
    },
    {
      "cell_type": "code",
      "execution_count": null,
      "metadata": {
        "id": "FLbN1_FHhGg0"
      },
      "outputs": [],
      "source": [
        "f = open(\"myfile.dat\",\"r\")  # the \"r\" mode can be used safely, it won't erase the file!"
      ]
    },
    {
      "cell_type": "markdown",
      "metadata": {
        "id": "qhs-T_XfhGg1"
      },
      "source": [
        "Now let's read the file in one go, using the `read` method:"
      ]
    },
    {
      "cell_type": "code",
      "execution_count": null,
      "metadata": {
        "id": "HoY-3N1hhGg1"
      },
      "outputs": [],
      "source": [
        "contents = f.read()  # the .read() method reads the whole file at once."
      ]
    },
    {
      "cell_type": "code",
      "execution_count": null,
      "metadata": {
        "id": "0l49DqxHhGg2"
      },
      "outputs": [],
      "source": [
        "f.close() # strictly speaking, we did not need to close the file, but it is a good practice..."
      ]
    },
    {
      "cell_type": "code",
      "execution_count": null,
      "metadata": {
        "id": "Zt8Ns-q7hGg4",
        "colab": {
          "base_uri": "https://localhost:8080/"
        },
        "outputId": "078d341a-5594-4329-989e-c6fedb1a1c0a"
      },
      "outputs": [
        {
          "output_type": "stream",
          "name": "stdout",
          "text": [
            "This is the first line of my file.\n",
            "And this is the second line of my file.\n",
            "\n"
          ]
        }
      ],
      "source": [
        "print(contents)"
      ]
    },
    {
      "cell_type": "markdown",
      "metadata": {
        "id": "ChUjnPa0hGg5"
      },
      "source": [
        "The ouput is nicely formmated because the `print` command knows how to interpret the \"\\n\" characters. Let's see what really is the file, by evaluating it directly in the cell:"
      ]
    },
    {
      "cell_type": "code",
      "execution_count": null,
      "metadata": {
        "id": "pG4Jcp24hGg5",
        "colab": {
          "base_uri": "https://localhost:8080/"
        },
        "outputId": "77600415-c832-4d63-cba1-996f98cdde56"
      },
      "outputs": [
        {
          "output_type": "execute_result",
          "data": {
            "text/plain": [
              "['This is the first line of my file.',\n",
              " 'And this is the second line of my file.']"
            ]
          },
          "metadata": {},
          "execution_count": 153
        }
      ],
      "source": [
        "contents.splitlines()"
      ]
    },
    {
      "cell_type": "markdown",
      "metadata": {
        "id": "qigFzZVehGg7"
      },
      "source": [
        "We can clearly see the location of each new line character in the file."
      ]
    },
    {
      "cell_type": "markdown",
      "metadata": {
        "id": "PZB2s00dhGg7"
      },
      "source": [
        "Now let's go back to our cos table problem and rewrite the code to produce a file with the data:"
      ]
    },
    {
      "cell_type": "code",
      "execution_count": null,
      "metadata": {
        "id": "I4MW1_TdhGg8"
      },
      "outputs": [],
      "source": [
        "from math import cos\n",
        "f = open(\"cos_table.dat\",\"w\")\n",
        "for angle in range(360):\n",
        "    rad_angle = angle*2*pi/360. # convert degrees to radian\n",
        "    f.write(\"{} {:7.4f}\\n\".format(angle, cos(rad_angle))) # notice the \"\\n\" at the end of the string!\n",
        "f.close()"
      ]
    },
    {
      "cell_type": "markdown",
      "metadata": {
        "id": "qhrRsOx9J9Cj"
      },
      "source": [
        "Now let's check the contente of our newly created file (ovewritten by the \"r\" mode):"
      ]
    },
    {
      "cell_type": "code",
      "execution_count": null,
      "metadata": {
        "id": "eR_I-p0IhGg9",
        "colab": {
          "base_uri": "https://localhost:8080/"
        },
        "outputId": "f95383b1-faeb-407e-f923-bbf39d18a6c0"
      },
      "outputs": [
        {
          "output_type": "stream",
          "name": "stdout",
          "text": [
            "0  1.0000\n",
            "1  0.9998\n",
            "2  0.9994\n",
            "3  0.9986\n",
            "4  0.9976\n",
            "5  0.9962\n",
            "6  0.9945\n",
            "7  0.9925\n",
            "8  0.9903\n",
            "9  0.9877\n",
            "10  0.9848\n",
            "11  0.9816\n",
            "12  0.9781\n",
            "13  0.9744\n",
            "14  0.9703\n",
            "15  0.9659\n",
            "16  0.9613\n",
            "17  0.9563\n",
            "18  0.9511\n",
            "19  0.9455\n",
            "20  0.9397\n",
            "21  0.9336\n",
            "22  0.9272\n",
            "23  0.9205\n",
            "24  0.9135\n",
            "25  0.9063\n",
            "26  0.8988\n",
            "27  0.8910\n",
            "28  0.8829\n",
            "29  0.8746\n",
            "30  0.8660\n",
            "31  0.8572\n",
            "32  0.8480\n",
            "33  0.8387\n",
            "34  0.8290\n",
            "35  0.8192\n",
            "36  0.8090\n",
            "37  0.7986\n",
            "38  0.7880\n",
            "39  0.7771\n",
            "40  0.7660\n",
            "41  0.7547\n",
            "42  0.7431\n",
            "43  0.7314\n",
            "44  0.7193\n",
            "45  0.7071\n",
            "46  0.6947\n",
            "47  0.6820\n",
            "48  0.6691\n",
            "49  0.6561\n",
            "50  0.6428\n",
            "51  0.6293\n",
            "52  0.6157\n",
            "53  0.6018\n",
            "54  0.5878\n",
            "55  0.5736\n",
            "56  0.5592\n",
            "57  0.5446\n",
            "58  0.5299\n",
            "59  0.5150\n",
            "60  0.5000\n",
            "61  0.4848\n",
            "62  0.4695\n",
            "63  0.4540\n",
            "64  0.4384\n",
            "65  0.4226\n",
            "66  0.4067\n",
            "67  0.3907\n",
            "68  0.3746\n",
            "69  0.3584\n",
            "70  0.3420\n",
            "71  0.3256\n",
            "72  0.3090\n",
            "73  0.2924\n",
            "74  0.2756\n",
            "75  0.2588\n",
            "76  0.2419\n",
            "77  0.2250\n",
            "78  0.2079\n",
            "79  0.1908\n",
            "80  0.1736\n",
            "81  0.1564\n",
            "82  0.1392\n",
            "83  0.1219\n",
            "84  0.1045\n",
            "85  0.0872\n",
            "86  0.0698\n",
            "87  0.0523\n",
            "88  0.0349\n",
            "89  0.0175\n",
            "90  0.0000\n",
            "91 -0.0175\n",
            "92 -0.0349\n",
            "93 -0.0523\n",
            "94 -0.0698\n",
            "95 -0.0872\n",
            "96 -0.1045\n",
            "97 -0.1219\n",
            "98 -0.1392\n",
            "99 -0.1564\n",
            "100 -0.1736\n",
            "101 -0.1908\n",
            "102 -0.2079\n",
            "103 -0.2250\n",
            "104 -0.2419\n",
            "105 -0.2588\n",
            "106 -0.2756\n",
            "107 -0.2924\n",
            "108 -0.3090\n",
            "109 -0.3256\n",
            "110 -0.3420\n",
            "111 -0.3584\n",
            "112 -0.3746\n",
            "113 -0.3907\n",
            "114 -0.4067\n",
            "115 -0.4226\n",
            "116 -0.4384\n",
            "117 -0.4540\n",
            "118 -0.4695\n",
            "119 -0.4848\n",
            "120 -0.5000\n",
            "121 -0.5150\n",
            "122 -0.5299\n",
            "123 -0.5446\n",
            "124 -0.5592\n",
            "125 -0.5736\n",
            "126 -0.5878\n",
            "127 -0.6018\n",
            "128 -0.6157\n",
            "129 -0.6293\n",
            "130 -0.6428\n",
            "131 -0.6561\n",
            "132 -0.6691\n",
            "133 -0.6820\n",
            "134 -0.6947\n",
            "135 -0.7071\n",
            "136 -0.7193\n",
            "137 -0.7314\n",
            "138 -0.7431\n",
            "139 -0.7547\n",
            "140 -0.7660\n",
            "141 -0.7771\n",
            "142 -0.7880\n",
            "143 -0.7986\n",
            "144 -0.8090\n",
            "145 -0.8192\n",
            "146 -0.8290\n",
            "147 -0.8387\n",
            "148 -0.8480\n",
            "149 -0.8572\n",
            "150 -0.8660\n",
            "151 -0.8746\n",
            "152 -0.8829\n",
            "153 -0.8910\n",
            "154 -0.8988\n",
            "155 -0.9063\n",
            "156 -0.9135\n",
            "157 -0.9205\n",
            "158 -0.9272\n",
            "159 -0.9336\n",
            "160 -0.9397\n",
            "161 -0.9455\n",
            "162 -0.9511\n",
            "163 -0.9563\n",
            "164 -0.9613\n",
            "165 -0.9659\n",
            "166 -0.9703\n",
            "167 -0.9744\n",
            "168 -0.9781\n",
            "169 -0.9816\n",
            "170 -0.9848\n",
            "171 -0.9877\n",
            "172 -0.9903\n",
            "173 -0.9925\n",
            "174 -0.9945\n",
            "175 -0.9962\n",
            "176 -0.9976\n",
            "177 -0.9986\n",
            "178 -0.9994\n",
            "179 -0.9998\n",
            "180 -1.0000\n",
            "181 -0.9998\n",
            "182 -0.9994\n",
            "183 -0.9986\n",
            "184 -0.9976\n",
            "185 -0.9962\n",
            "186 -0.9945\n",
            "187 -0.9925\n",
            "188 -0.9903\n",
            "189 -0.9877\n",
            "190 -0.9848\n",
            "191 -0.9816\n",
            "192 -0.9781\n",
            "193 -0.9744\n",
            "194 -0.9703\n",
            "195 -0.9659\n",
            "196 -0.9613\n",
            "197 -0.9563\n",
            "198 -0.9511\n",
            "199 -0.9455\n",
            "200 -0.9397\n",
            "201 -0.9336\n",
            "202 -0.9272\n",
            "203 -0.9205\n",
            "204 -0.9135\n",
            "205 -0.9063\n",
            "206 -0.8988\n",
            "207 -0.8910\n",
            "208 -0.8829\n",
            "209 -0.8746\n",
            "210 -0.8660\n",
            "211 -0.8572\n",
            "212 -0.8480\n",
            "213 -0.8387\n",
            "214 -0.8290\n",
            "215 -0.8192\n",
            "216 -0.8090\n",
            "217 -0.7986\n",
            "218 -0.7880\n",
            "219 -0.7771\n",
            "220 -0.7660\n",
            "221 -0.7547\n",
            "222 -0.7431\n",
            "223 -0.7314\n",
            "224 -0.7193\n",
            "225 -0.7071\n",
            "226 -0.6947\n",
            "227 -0.6820\n",
            "228 -0.6691\n",
            "229 -0.6561\n",
            "230 -0.6428\n",
            "231 -0.6293\n",
            "232 -0.6157\n",
            "233 -0.6018\n",
            "234 -0.5878\n",
            "235 -0.5736\n",
            "236 -0.5592\n",
            "237 -0.5446\n",
            "238 -0.5299\n",
            "239 -0.5150\n",
            "240 -0.5000\n",
            "241 -0.4848\n",
            "242 -0.4695\n",
            "243 -0.4540\n",
            "244 -0.4384\n",
            "245 -0.4226\n",
            "246 -0.4067\n",
            "247 -0.3907\n",
            "248 -0.3746\n",
            "249 -0.3584\n",
            "250 -0.3420\n",
            "251 -0.3256\n",
            "252 -0.3090\n",
            "253 -0.2924\n",
            "254 -0.2756\n",
            "255 -0.2588\n",
            "256 -0.2419\n",
            "257 -0.2250\n",
            "258 -0.2079\n",
            "259 -0.1908\n",
            "260 -0.1736\n",
            "261 -0.1564\n",
            "262 -0.1392\n",
            "263 -0.1219\n",
            "264 -0.1045\n",
            "265 -0.0872\n",
            "266 -0.0698\n",
            "267 -0.0523\n",
            "268 -0.0349\n",
            "269 -0.0175\n",
            "270 -0.0000\n",
            "271  0.0175\n",
            "272  0.0349\n",
            "273  0.0523\n",
            "274  0.0698\n",
            "275  0.0872\n",
            "276  0.1045\n",
            "277  0.1219\n",
            "278  0.1392\n",
            "279  0.1564\n",
            "280  0.1736\n",
            "281  0.1908\n",
            "282  0.2079\n",
            "283  0.2250\n",
            "284  0.2419\n",
            "285  0.2588\n",
            "286  0.2756\n",
            "287  0.2924\n",
            "288  0.3090\n",
            "289  0.3256\n",
            "290  0.3420\n",
            "291  0.3584\n",
            "292  0.3746\n",
            "293  0.3907\n",
            "294  0.4067\n",
            "295  0.4226\n",
            "296  0.4384\n",
            "297  0.4540\n",
            "298  0.4695\n",
            "299  0.4848\n",
            "300  0.5000\n",
            "301  0.5150\n",
            "302  0.5299\n",
            "303  0.5446\n",
            "304  0.5592\n",
            "305  0.5736\n",
            "306  0.5878\n",
            "307  0.6018\n",
            "308  0.6157\n",
            "309  0.6293\n",
            "310  0.6428\n",
            "311  0.6561\n",
            "312  0.6691\n",
            "313  0.6820\n",
            "314  0.6947\n",
            "315  0.7071\n",
            "316  0.7193\n",
            "317  0.7314\n",
            "318  0.7431\n",
            "319  0.7547\n",
            "320  0.7660\n",
            "321  0.7771\n",
            "322  0.7880\n",
            "323  0.7986\n",
            "324  0.8090\n",
            "325  0.8192\n",
            "326  0.8290\n",
            "327  0.8387\n",
            "328  0.8480\n",
            "329  0.8572\n",
            "330  0.8660\n",
            "331  0.8746\n",
            "332  0.8829\n",
            "333  0.8910\n",
            "334  0.8988\n",
            "335  0.9063\n",
            "336  0.9135\n",
            "337  0.9205\n",
            "338  0.9272\n",
            "339  0.9336\n",
            "340  0.9397\n",
            "341  0.9455\n",
            "342  0.9511\n",
            "343  0.9563\n",
            "344  0.9613\n",
            "345  0.9659\n",
            "346  0.9703\n",
            "347  0.9744\n",
            "348  0.9781\n",
            "349  0.9816\n",
            "350  0.9848\n",
            "351  0.9877\n",
            "352  0.9903\n",
            "353  0.9925\n",
            "354  0.9945\n",
            "355  0.9962\n",
            "356  0.9976\n",
            "357  0.9986\n",
            "358  0.9994\n",
            "359  0.9998\n"
          ]
        }
      ],
      "source": [
        "%cat cos_table.dat"
      ]
    },
    {
      "cell_type": "markdown",
      "metadata": {
        "id": "j-PUdRUGhGg9"
      },
      "source": [
        "**HANDS-ON:** Write a program to read the \"cos_table.dat\" and output its content (don't open it with the \"w\" mode, or you will erase its contents!)"
      ]
    },
    {
      "cell_type": "code",
      "execution_count": null,
      "metadata": {
        "id": "noUnXszqhGg_",
        "colab": {
          "base_uri": "https://localhost:8080/"
        },
        "outputId": "9d6731bb-6264-413b-e9b7-cf093968b10c"
      },
      "outputs": [
        {
          "output_type": "stream",
          "name": "stdout",
          "text": [
            "0  1.0000\n",
            "1  0.9998\n",
            "2  0.9994\n",
            "3  0.9986\n",
            "4  0.9976\n",
            "5  0.9962\n",
            "6  0.9945\n",
            "7  0.9925\n",
            "8  0.9903\n",
            "9  0.9877\n",
            "10  0.9848\n",
            "11  0.9816\n",
            "12  0.9781\n",
            "13  0.9744\n",
            "14  0.9703\n",
            "15  0.9659\n",
            "16  0.9613\n",
            "17  0.9563\n",
            "18  0.9511\n",
            "19  0.9455\n",
            "20  0.9397\n",
            "21  0.9336\n",
            "22  0.9272\n",
            "23  0.9205\n",
            "24  0.9135\n",
            "25  0.9063\n",
            "26  0.8988\n",
            "27  0.8910\n",
            "28  0.8829\n",
            "29  0.8746\n",
            "30  0.8660\n",
            "31  0.8572\n",
            "32  0.8480\n",
            "33  0.8387\n",
            "34  0.8290\n",
            "35  0.8192\n",
            "36  0.8090\n",
            "37  0.7986\n",
            "38  0.7880\n",
            "39  0.7771\n",
            "40  0.7660\n",
            "41  0.7547\n",
            "42  0.7431\n",
            "43  0.7314\n",
            "44  0.7193\n",
            "45  0.7071\n",
            "46  0.6947\n",
            "47  0.6820\n",
            "48  0.6691\n",
            "49  0.6561\n",
            "50  0.6428\n",
            "51  0.6293\n",
            "52  0.6157\n",
            "53  0.6018\n",
            "54  0.5878\n",
            "55  0.5736\n",
            "56  0.5592\n",
            "57  0.5446\n",
            "58  0.5299\n",
            "59  0.5150\n",
            "60  0.5000\n",
            "61  0.4848\n",
            "62  0.4695\n",
            "63  0.4540\n",
            "64  0.4384\n",
            "65  0.4226\n",
            "66  0.4067\n",
            "67  0.3907\n",
            "68  0.3746\n",
            "69  0.3584\n",
            "70  0.3420\n",
            "71  0.3256\n",
            "72  0.3090\n",
            "73  0.2924\n",
            "74  0.2756\n",
            "75  0.2588\n",
            "76  0.2419\n",
            "77  0.2250\n",
            "78  0.2079\n",
            "79  0.1908\n",
            "80  0.1736\n",
            "81  0.1564\n",
            "82  0.1392\n",
            "83  0.1219\n",
            "84  0.1045\n",
            "85  0.0872\n",
            "86  0.0698\n",
            "87  0.0523\n",
            "88  0.0349\n",
            "89  0.0175\n",
            "90  0.0000\n",
            "91 -0.0175\n",
            "92 -0.0349\n",
            "93 -0.0523\n",
            "94 -0.0698\n",
            "95 -0.0872\n",
            "96 -0.1045\n",
            "97 -0.1219\n",
            "98 -0.1392\n",
            "99 -0.1564\n",
            "100 -0.1736\n",
            "101 -0.1908\n",
            "102 -0.2079\n",
            "103 -0.2250\n",
            "104 -0.2419\n",
            "105 -0.2588\n",
            "106 -0.2756\n",
            "107 -0.2924\n",
            "108 -0.3090\n",
            "109 -0.3256\n",
            "110 -0.3420\n",
            "111 -0.3584\n",
            "112 -0.3746\n",
            "113 -0.3907\n",
            "114 -0.4067\n",
            "115 -0.4226\n",
            "116 -0.4384\n",
            "117 -0.4540\n",
            "118 -0.4695\n",
            "119 -0.4848\n",
            "120 -0.5000\n",
            "121 -0.5150\n",
            "122 -0.5299\n",
            "123 -0.5446\n",
            "124 -0.5592\n",
            "125 -0.5736\n",
            "126 -0.5878\n",
            "127 -0.6018\n",
            "128 -0.6157\n",
            "129 -0.6293\n",
            "130 -0.6428\n",
            "131 -0.6561\n",
            "132 -0.6691\n",
            "133 -0.6820\n",
            "134 -0.6947\n",
            "135 -0.7071\n",
            "136 -0.7193\n",
            "137 -0.7314\n",
            "138 -0.7431\n",
            "139 -0.7547\n",
            "140 -0.7660\n",
            "141 -0.7771\n",
            "142 -0.7880\n",
            "143 -0.7986\n",
            "144 -0.8090\n",
            "145 -0.8192\n",
            "146 -0.8290\n",
            "147 -0.8387\n",
            "148 -0.8480\n",
            "149 -0.8572\n",
            "150 -0.8660\n",
            "151 -0.8746\n",
            "152 -0.8829\n",
            "153 -0.8910\n",
            "154 -0.8988\n",
            "155 -0.9063\n",
            "156 -0.9135\n",
            "157 -0.9205\n",
            "158 -0.9272\n",
            "159 -0.9336\n",
            "160 -0.9397\n",
            "161 -0.9455\n",
            "162 -0.9511\n",
            "163 -0.9563\n",
            "164 -0.9613\n",
            "165 -0.9659\n",
            "166 -0.9703\n",
            "167 -0.9744\n",
            "168 -0.9781\n",
            "169 -0.9816\n",
            "170 -0.9848\n",
            "171 -0.9877\n",
            "172 -0.9903\n",
            "173 -0.9925\n",
            "174 -0.9945\n",
            "175 -0.9962\n",
            "176 -0.9976\n",
            "177 -0.9986\n",
            "178 -0.9994\n",
            "179 -0.9998\n",
            "180 -1.0000\n",
            "181 -0.9998\n",
            "182 -0.9994\n",
            "183 -0.9986\n",
            "184 -0.9976\n",
            "185 -0.9962\n",
            "186 -0.9945\n",
            "187 -0.9925\n",
            "188 -0.9903\n",
            "189 -0.9877\n",
            "190 -0.9848\n",
            "191 -0.9816\n",
            "192 -0.9781\n",
            "193 -0.9744\n",
            "194 -0.9703\n",
            "195 -0.9659\n",
            "196 -0.9613\n",
            "197 -0.9563\n",
            "198 -0.9511\n",
            "199 -0.9455\n",
            "200 -0.9397\n",
            "201 -0.9336\n",
            "202 -0.9272\n",
            "203 -0.9205\n",
            "204 -0.9135\n",
            "205 -0.9063\n",
            "206 -0.8988\n",
            "207 -0.8910\n",
            "208 -0.8829\n",
            "209 -0.8746\n",
            "210 -0.8660\n",
            "211 -0.8572\n",
            "212 -0.8480\n",
            "213 -0.8387\n",
            "214 -0.8290\n",
            "215 -0.8192\n",
            "216 -0.8090\n",
            "217 -0.7986\n",
            "218 -0.7880\n",
            "219 -0.7771\n",
            "220 -0.7660\n",
            "221 -0.7547\n",
            "222 -0.7431\n",
            "223 -0.7314\n",
            "224 -0.7193\n",
            "225 -0.7071\n",
            "226 -0.6947\n",
            "227 -0.6820\n",
            "228 -0.6691\n",
            "229 -0.6561\n",
            "230 -0.6428\n",
            "231 -0.6293\n",
            "232 -0.6157\n",
            "233 -0.6018\n",
            "234 -0.5878\n",
            "235 -0.5736\n",
            "236 -0.5592\n",
            "237 -0.5446\n",
            "238 -0.5299\n",
            "239 -0.5150\n",
            "240 -0.5000\n",
            "241 -0.4848\n",
            "242 -0.4695\n",
            "243 -0.4540\n",
            "244 -0.4384\n",
            "245 -0.4226\n",
            "246 -0.4067\n",
            "247 -0.3907\n",
            "248 -0.3746\n",
            "249 -0.3584\n",
            "250 -0.3420\n",
            "251 -0.3256\n",
            "252 -0.3090\n",
            "253 -0.2924\n",
            "254 -0.2756\n",
            "255 -0.2588\n",
            "256 -0.2419\n",
            "257 -0.2250\n",
            "258 -0.2079\n",
            "259 -0.1908\n",
            "260 -0.1736\n",
            "261 -0.1564\n",
            "262 -0.1392\n",
            "263 -0.1219\n",
            "264 -0.1045\n",
            "265 -0.0872\n",
            "266 -0.0698\n",
            "267 -0.0523\n",
            "268 -0.0349\n",
            "269 -0.0175\n",
            "270 -0.0000\n",
            "271  0.0175\n",
            "272  0.0349\n",
            "273  0.0523\n",
            "274  0.0698\n",
            "275  0.0872\n",
            "276  0.1045\n",
            "277  0.1219\n",
            "278  0.1392\n",
            "279  0.1564\n",
            "280  0.1736\n",
            "281  0.1908\n",
            "282  0.2079\n",
            "283  0.2250\n",
            "284  0.2419\n",
            "285  0.2588\n",
            "286  0.2756\n",
            "287  0.2924\n",
            "288  0.3090\n",
            "289  0.3256\n",
            "290  0.3420\n",
            "291  0.3584\n",
            "292  0.3746\n",
            "293  0.3907\n",
            "294  0.4067\n",
            "295  0.4226\n",
            "296  0.4384\n",
            "297  0.4540\n",
            "298  0.4695\n",
            "299  0.4848\n",
            "300  0.5000\n",
            "301  0.5150\n",
            "302  0.5299\n",
            "303  0.5446\n",
            "304  0.5592\n",
            "305  0.5736\n",
            "306  0.5878\n",
            "307  0.6018\n",
            "308  0.6157\n",
            "309  0.6293\n",
            "310  0.6428\n",
            "311  0.6561\n",
            "312  0.6691\n",
            "313  0.6820\n",
            "314  0.6947\n",
            "315  0.7071\n",
            "316  0.7193\n",
            "317  0.7314\n",
            "318  0.7431\n",
            "319  0.7547\n",
            "320  0.7660\n",
            "321  0.7771\n",
            "322  0.7880\n",
            "323  0.7986\n",
            "324  0.8090\n",
            "325  0.8192\n",
            "326  0.8290\n",
            "327  0.8387\n",
            "328  0.8480\n",
            "329  0.8572\n",
            "330  0.8660\n",
            "331  0.8746\n",
            "332  0.8829\n",
            "333  0.8910\n",
            "334  0.8988\n",
            "335  0.9063\n",
            "336  0.9135\n",
            "337  0.9205\n",
            "338  0.9272\n",
            "339  0.9336\n",
            "340  0.9397\n",
            "341  0.9455\n",
            "342  0.9511\n",
            "343  0.9563\n",
            "344  0.9613\n",
            "345  0.9659\n",
            "346  0.9703\n",
            "347  0.9744\n",
            "348  0.9781\n",
            "349  0.9816\n",
            "350  0.9848\n",
            "351  0.9877\n",
            "352  0.9903\n",
            "353  0.9925\n",
            "354  0.9945\n",
            "355  0.9962\n",
            "356  0.9976\n",
            "357  0.9986\n",
            "358  0.9994\n",
            "359  0.9998\n"
          ]
        }
      ],
      "source": [
        "#@title SOLUTION\n",
        "f = open(\"cos_table.dat\",\"r\")\n",
        "for a in f.read().splitlines():\n",
        "    print(a)\n",
        "f.close()"
      ]
    },
    {
      "cell_type": "code",
      "source": [
        "from google.colab import drive\n",
        "drive.mount('/content/drive')"
      ],
      "metadata": {
        "colab": {
          "base_uri": "https://localhost:8080/"
        },
        "id": "1hXc3juvtGql",
        "outputId": "9172a588-2095-4721-9b53-d3aa8931e39f"
      },
      "execution_count": null,
      "outputs": [
        {
          "output_type": "stream",
          "name": "stdout",
          "text": [
            "Mounted at /content/drive\n"
          ]
        }
      ]
    },
    {
      "cell_type": "markdown",
      "metadata": {
        "id": "1UftG_9wq9pm"
      },
      "source": [
        "You should now be able to see `cos_table.dat` on the file manager interface. If you click the small checkbox on the left side of its name, a number of options will pop up on the menu above. You can use \"Download\" to trander the file to your computer, or \"Edit\" to view and modify the contents of the file using the Jupyter Hub Editor interface."
      ]
    },
    {
      "cell_type": "markdown",
      "metadata": {
        "id": "UQKysv09J9Cj"
      },
      "source": [
        "**ADVANCED HANDS-ON:** FASTA is a widely used format for storing protein and nucleic acid sequences, consisting of an header line starting with a `>` character, follow by multiple lines containing the one-letter codes of the protein or nucleic acid sequences. Examle of a FASTA file:\n",
        "\n",
        "```\n",
        ">sp|P01308|INS_HUMAN Insulin OS=Homo sapiens OX=9606 GN=INS PE=1 SV=1\n",
        "MALWMRLLPLLALLALWGPDPAAAFVNQHLCGSHLVEALYLVCGERGFFYTPKTRREAED\n",
        "LQVGQVELGGGPGAGSLQPLALEGSLQKRGIVEQCCTSICSLYQLENYCN\n",
        "```\n",
        "\n",
        "Write a small code that can read and write FASTA sequences. Upon reading, store the header contents (without the leading `>`) on a variable named \"Header\", and store the sequence contents (without line breaks) on variable called \"Sequence\". You can then use those variables to write another FASTA file with the same header and sequence. **HINT:** Use the `read` method of file descriptor to read the entire file to a string variable. Use the `splitlines` method of the `str` class to break the file into a list containing as elements the lines of the original file.\n"
      ]
    },
    {
      "cell_type": "code",
      "source": [
        "#@title SOLUTION (reading)\n",
        "f = open(\"insulin_human.fasta\",\"r\")\n",
        "lines = f.read().splitlines()\n",
        "header = lines[0][1:]\n",
        "#sequence = ''.join(lines[1:])\n",
        "f.close()\n",
        "print(\">\"+header)\n",
        "for line in lines[1:]:\n",
        "  print(line)"
      ],
      "metadata": {
        "id": "3E8ZZhWNvwzH",
        "colab": {
          "base_uri": "https://localhost:8080/"
        },
        "outputId": "679fed9d-9d9a-4fe6-abd7-2c40f21f93f0"
      },
      "execution_count": null,
      "outputs": [
        {
          "output_type": "stream",
          "name": "stdout",
          "text": [
            ">sp|P01308|INS_HUMAN Insulin OS=Homo sapiens OX=9606 GN=INS PE=1 SV=1\n",
            "MALWMRLLPLLALLALWGPDPAAAFVNQHLCGSHLVEALYLVCGERGFFYTPKTRREAED\n",
            "LQVGQVELGGGPGAGSLQPLALEGSLQKRGIVEQCCTSICSLYQLENYCN\n"
          ]
        }
      ]
    },
    {
      "cell_type": "code",
      "source": [
        "#@title SOLUTION (writing)\n",
        "f = open(\"my_seq_file.fasta\", \"w\")\n",
        "f.write(\">\"+header+\"\\n\")\n",
        "for line in lines[1:]:\n",
        "  f.write(line+\"\\n\")\n",
        "f.close()"
      ],
      "metadata": {
        "id": "UZLGLQafy6zU"
      },
      "execution_count": null,
      "outputs": []
    },
    {
      "cell_type": "code",
      "source": [
        "%cat my_seq_file.fasta"
      ],
      "metadata": {
        "id": "-S-kdE4Jz3TD",
        "colab": {
          "base_uri": "https://localhost:8080/"
        },
        "outputId": "da48f49b-ff75-424e-f1d8-179661424cd0"
      },
      "execution_count": null,
      "outputs": [
        {
          "output_type": "stream",
          "name": "stdout",
          "text": [
            ">sp|P01308|INS_HUMAN Insulin OS=Homo sapiens OX=9606 GN=INS PE=1 SV=1\n",
            "MALWMRLLPLLALLALWGPDPAAAFVNQHLCGSHLVEALYLVCGERGFFYTPKTRREAED\n",
            "LQVGQVELGGGPGAGSLQPLALEGSLQKRGIVEQCCTSICSLYQLENYCN\n"
          ]
        }
      ]
    },
    {
      "cell_type": "code",
      "execution_count": null,
      "metadata": {
        "id": "eCiOvYj9J9Cj"
      },
      "outputs": [],
      "source": [
        "Sequence = ''\n",
        "for line in lines[1:]:\n",
        "    Sequence = Sequence + line"
      ]
    },
    {
      "cell_type": "markdown",
      "metadata": {
        "id": "nGk9ypsIMmQY"
      },
      "source": [
        "### 13. **Dictionaries and Data association**"
      ]
    },
    {
      "cell_type": "markdown",
      "metadata": {
        "id": "qZby0_cqM7FU"
      },
      "source": [
        "When organizing a collection of structured data, there is often the need to recollect that data based on some property. Let's say we have a  list of common and scientific names for some species of trees, and we want to retrieve the scientific name based on the common name. One way to do this in Pytnon would be to create two lists, one with common tree names and the other with the corresponding scientific names:"
      ]
    },
    {
      "cell_type": "code",
      "execution_count": null,
      "metadata": {
        "id": "M01xXMwkOC_3"
      },
      "outputs": [],
      "source": [
        "tree_common = ['willow','pine','oak','maple']\n",
        "tree_scientific = ['Salix alba','Pinus sylvestris','Quercus faginea','Acer saccharum']"
      ]
    },
    {
      "cell_type": "markdown",
      "metadata": {
        "id": "6jEgFTbVRAOe"
      },
      "source": [
        "Now, if we wanted to retrieve a scientific name based on the common name, we would need to find the position of that common name on the first list, and retrieve the element in the same position on the second list:"
      ]
    },
    {
      "cell_type": "code",
      "execution_count": null,
      "metadata": {
        "id": "QHZKOve5RnCO",
        "colab": {
          "base_uri": "https://localhost:8080/",
          "height": 35
        },
        "outputId": "d6a583da-b325-445f-9135-d7ba8beecd83"
      },
      "outputs": [
        {
          "output_type": "execute_result",
          "data": {
            "text/plain": [
              "'Pinus sylvestris'"
            ],
            "application/vnd.google.colaboratory.intrinsic+json": {
              "type": "string"
            }
          },
          "metadata": {},
          "execution_count": 2
        }
      ],
      "source": [
        "# retrieving the \"pine\" scientific name\n",
        "tree_scientific[1]  # pine is in position 1 on the first list"
      ]
    },
    {
      "cell_type": "markdown",
      "metadata": {
        "id": "NfQ8_VHgTQzn"
      },
      "source": [
        "This is quick to do when the list has just 4 elements, easily viewed on the screen. If we had a list of thousands of tree species it wouldn't be so easy... how would we find the position of our common tree name in the first list? ... We could use the list method \"index\" , thus:"
      ]
    },
    {
      "cell_type": "code",
      "execution_count": null,
      "metadata": {
        "id": "Mmj13WVgSA6a"
      },
      "outputs": [],
      "source": [
        "index = tree_common.index('pine')\n",
        "print(index)\n",
        "tree_scientific[index]"
      ]
    },
    {
      "cell_type": "markdown",
      "metadata": {
        "id": "xBDo3tAuUDrG"
      },
      "source": [
        "This works, but it's raher cumbersome. For one thing we need to keep two lists, and the order must match preciscely or the associations will get scrambled. If we insert one item on the first list, for example, all the associations from that point on will be lost. And if we want to add a new tree to our dataset, the we have to update *two* lists, like so:"
      ]
    },
    {
      "cell_type": "code",
      "execution_count": null,
      "metadata": {
        "id": "G_ZHsA5VUnkC"
      },
      "outputs": [],
      "source": [
        "tree_common.append('aspen')\n",
        "tree_scientific.append('Populus tremuloides')"
      ]
    },
    {
      "cell_type": "markdown",
      "metadata": {
        "id": "PoCdVEo1VA_Q"
      },
      "source": [
        "There is a far better way to deal with data associations in Python, using a specialilized data type known as **dicitionary** (`dict`). Dictionaries are oredered (they were unordered before Python 3.7) lists of key/data pairs, allowing for simple retrieval, insertion and deletion of new items. A dictionary is represented between {} (curly brackets), as a series of key/data pairs separated by colons (:)\n",
        "```python\n",
        "{key1:data1, key2:data2, key3:data3, ....}\n",
        "```\n",
        "\n",
        "Let's rewrite our previous example using a `dict` variable:"
      ]
    },
    {
      "cell_type": "code",
      "execution_count": null,
      "metadata": {
        "id": "7W3V1glfWNn1"
      },
      "outputs": [],
      "source": [
        "tree_catalogue = {'willow':'Salix alba','pine':'Pinus Sylvestris','oak':'Quercus faginea','maple':'Acer saccharum'}"
      ]
    },
    {
      "cell_type": "markdown",
      "metadata": {
        "id": "L-Flidf_WyoL"
      },
      "source": [
        "To retrieve the scientific name of the pine tree, all we need to do is:"
      ]
    },
    {
      "cell_type": "code",
      "execution_count": null,
      "metadata": {
        "id": "2jvcmoMgU_VA",
        "colab": {
          "base_uri": "https://localhost:8080/",
          "height": 35
        },
        "outputId": "934e2301-5e59-41ac-cced-48562e31b8fd"
      },
      "outputs": [
        {
          "output_type": "execute_result",
          "data": {
            "text/plain": [
              "'Pinus Sylvestris'"
            ],
            "application/vnd.google.colaboratory.intrinsic+json": {
              "type": "string"
            }
          },
          "metadata": {},
          "execution_count": 4
        }
      ],
      "source": [
        "tree_catalogue['pine']"
      ]
    },
    {
      "cell_type": "markdown",
      "metadata": {
        "id": "jCFXV92NXGvu"
      },
      "source": [
        "Even better, to add a new entry to our catalogue all we need to do is:"
      ]
    },
    {
      "cell_type": "code",
      "execution_count": null,
      "metadata": {
        "id": "QuMbpw9fXQzU"
      },
      "outputs": [],
      "source": [
        "tree_catalogue['aspen'] = 'Populus tremuloides'"
      ]
    },
    {
      "cell_type": "markdown",
      "metadata": {
        "id": "i0b-zpOeXeTj"
      },
      "source": [
        "If we inspect the `dict` object now:"
      ]
    },
    {
      "cell_type": "code",
      "execution_count": null,
      "metadata": {
        "id": "XcxbDhVqXhOX",
        "colab": {
          "base_uri": "https://localhost:8080/"
        },
        "outputId": "cecb5557-3f12-485f-857f-c372e1cc844c"
      },
      "outputs": [
        {
          "output_type": "execute_result",
          "data": {
            "text/plain": [
              "{'willow': 'Salix alba',\n",
              " 'pine': 'Pinus Sylvestris',\n",
              " 'oak': 'Quercus faginea',\n",
              " 'maple': 'Acer saccharum'}"
            ]
          },
          "metadata": {},
          "execution_count": 5
        }
      ],
      "source": [
        "tree_catalogue"
      ]
    },
    {
      "cell_type": "markdown",
      "metadata": {
        "id": "LnAX6s6YXxIp"
      },
      "source": [
        "The new entry is there. Notice, however, that it doesn't appear to have been appended as the last element, like in our previous example with a `list` object. The rease for this is that dictionaries are *unsorted* collections of data, and so the key/value pairs are not guaranteed to be stored in any specific order. But this is just as well - dictionaries are meant to be used to retrieve data by *key*, not by *index*. So if we try to do this:"
      ]
    },
    {
      "cell_type": "code",
      "execution_count": null,
      "metadata": {
        "id": "oKz2k5CAYluF",
        "colab": {
          "base_uri": "https://localhost:8080/",
          "height": 141
        },
        "outputId": "5f7844b8-3834-49db-f66e-48fb66738110"
      },
      "outputs": [
        {
          "output_type": "error",
          "ename": "KeyError",
          "evalue": "3",
          "traceback": [
            "\u001b[0;31m---------------------------------------------------------------------------\u001b[0m",
            "\u001b[0;31mKeyError\u001b[0m                                  Traceback (most recent call last)",
            "\u001b[0;32m<ipython-input-6-f9bfd9382354>\u001b[0m in \u001b[0;36m<cell line: 1>\u001b[0;34m()\u001b[0m\n\u001b[0;32m----> 1\u001b[0;31m \u001b[0mtree_catalogue\u001b[0m\u001b[0;34m[\u001b[0m\u001b[0;36m3\u001b[0m\u001b[0;34m]\u001b[0m\u001b[0;34m\u001b[0m\u001b[0;34m\u001b[0m\u001b[0m\n\u001b[0m",
            "\u001b[0;31mKeyError\u001b[0m: 3"
          ]
        }
      ],
      "source": [
        "tree_catalogue[3]"
      ]
    },
    {
      "cell_type": "markdown",
      "metadata": {
        "id": "3B184lxCYqy_"
      },
      "source": [
        "We did not get the expected ( 'pine': 'Pinus Sylvestris') pair, as one could expect. Instead, it produces a *KeyError*, because \"3\" is not one of the keys in our `dict`variable. To list the keys of a dict variable we can use the `keys` method:"
      ]
    },
    {
      "cell_type": "code",
      "execution_count": null,
      "metadata": {
        "id": "CFqdcZQtZSrf",
        "colab": {
          "base_uri": "https://localhost:8080/"
        },
        "outputId": "5aaaea03-fb68-47ae-cb26-1f403a47ad41"
      },
      "outputs": [
        {
          "output_type": "execute_result",
          "data": {
            "text/plain": [
              "dict_keys(['willow', 'pine', 'oak', 'maple'])"
            ]
          },
          "metadata": {},
          "execution_count": 7
        }
      ],
      "source": [
        "tree_catalogue.keys()"
      ]
    },
    {
      "cell_type": "markdown",
      "metadata": {
        "id": "HkSNm-EfZXzE"
      },
      "source": [
        "And to list the values:"
      ]
    },
    {
      "cell_type": "code",
      "execution_count": null,
      "metadata": {
        "id": "RygEgSJTZZ9D",
        "colab": {
          "base_uri": "https://localhost:8080/"
        },
        "outputId": "a6aa0cda-4300-4015-d277-2744ff549b24"
      },
      "outputs": [
        {
          "output_type": "execute_result",
          "data": {
            "text/plain": [
              "dict_values(['Salix alba', 'Pinus Sylvestris', 'Quercus faginea', 'Acer saccharum'])"
            ]
          },
          "metadata": {},
          "execution_count": 8
        }
      ],
      "source": [
        "tree_catalogue.values()"
      ]
    },
    {
      "cell_type": "markdown",
      "metadata": {
        "id": "Tkp6mqYrZkFZ"
      },
      "source": [
        "We can also loop through the dictionary with a \"for\" command, using the `items` method:"
      ]
    },
    {
      "cell_type": "code",
      "execution_count": null,
      "metadata": {
        "id": "s6Pq6So0ZpvA",
        "colab": {
          "base_uri": "https://localhost:8080/"
        },
        "outputId": "867a23df-606e-490d-a796-a0340a2673fa"
      },
      "outputs": [
        {
          "output_type": "stream",
          "name": "stdout",
          "text": [
            "willow Salix alba\n",
            "pine Pinus Sylvestris\n",
            "oak Quercus faginea\n",
            "maple Acer saccharum\n"
          ]
        }
      ],
      "source": [
        "for key, value in tree_catalogue.items():\n",
        "  print(key,value)"
      ]
    },
    {
      "cell_type": "code",
      "execution_count": null,
      "metadata": {
        "id": "y51tKZSCaOr2"
      },
      "outputs": [],
      "source": [
        "tree_catalogue.items()"
      ]
    },
    {
      "cell_type": "markdown",
      "metadata": {
        "id": "BI7BtsbtalYN"
      },
      "source": [
        "Note that we can use other data types as key/value pairs in a dict variable, not just strings. For example;"
      ]
    },
    {
      "cell_type": "code",
      "execution_count": null,
      "metadata": {
        "id": "gP33jbC7a3T6"
      },
      "outputs": [],
      "source": [
        "weights = {'john':65,'adam':72,'robert':80,'william':75}"
      ]
    },
    {
      "cell_type": "code",
      "execution_count": null,
      "metadata": {
        "id": "YBwESlsDJ9Cn",
        "colab": {
          "base_uri": "https://localhost:8080/"
        },
        "outputId": "19e852d0-e6e1-494c-9068-9524c9150ef1"
      },
      "outputs": [
        {
          "output_type": "stream",
          "name": "stdout",
          "text": [
            "Help on built-in function popitem:\n",
            "\n",
            "popitem() method of builtins.dict instance\n",
            "    Remove and return a (key, value) pair as a 2-tuple.\n",
            "    \n",
            "    Pairs are returned in LIFO (last-in, first-out) order.\n",
            "    Raises KeyError if the dict is empty.\n",
            "\n"
          ]
        }
      ],
      "source": [
        "help(weights.popitem)"
      ]
    },
    {
      "cell_type": "code",
      "source": [
        "weights.popitem()"
      ],
      "metadata": {
        "colab": {
          "base_uri": "https://localhost:8080/"
        },
        "id": "O8uNpKBYGyqa",
        "outputId": "b8dd2f47-0d4a-447e-db1a-eeaee676df03"
      },
      "execution_count": null,
      "outputs": [
        {
          "output_type": "execute_result",
          "data": {
            "text/plain": [
              "('william', 75)"
            ]
          },
          "metadata": {},
          "execution_count": 13
        }
      ]
    },
    {
      "cell_type": "code",
      "execution_count": null,
      "metadata": {
        "id": "Aln7TSn6J9Cn",
        "colab": {
          "base_uri": "https://localhost:8080/"
        },
        "outputId": "dae7dc79-6011-4db4-fd7d-3117fc419579"
      },
      "outputs": [
        {
          "output_type": "execute_result",
          "data": {
            "text/plain": [
              "{'john': 65, 'adam': 72, 'robert': 80}"
            ]
          },
          "metadata": {},
          "execution_count": 14
        }
      ],
      "source": [
        "weights"
      ]
    },
    {
      "cell_type": "markdown",
      "metadata": {
        "id": "IzLEgA7Nbyhw"
      },
      "source": [
        "Dict variables have the following methods availabe to them:\n",
        "\n",
        "- **clear** - remove all entries of a dict\n",
        "- **copy** - make a copy a dictionary\n",
        "- **fromkeys** - return a new dictionary with keys from an iterable and default value\n",
        "- **get** - get an element from a dictionary with optional default value\n",
        "- **items** - return a complete list of the (key, value) pairs in a dictionary\n",
        "- **keys** - return list of keys in a dictionary\n",
        "- **pop** - remove and return an element from a dictionary, with default value\n",
        "- **popitem** - remove and return one (key, value) pair from the dictionary\n",
        "- **setdefault** - get an element from a dictionary and set to default if key not found\n",
        "- **update** - make dictionary from another dictionary or list of (key,value)  pairs\n",
        "-  **values** - return list of values in a dictionary\n",
        "\n"
      ]
    },
    {
      "cell_type": "markdown",
      "metadata": {
        "id": "58LmWLkjZ8BJ"
      },
      "source": [
        "**HANDS-ON:** Try adding and deleting  elements to the \"tree_catalogue\" dictionary. Experiment with the different methods."
      ]
    },
    {
      "cell_type": "markdown",
      "metadata": {
        "id": "Ul4EFdPPJ9Cn"
      },
      "source": [
        "**ADVANCED HANDS-ON:** Adapt the previous FASTA file reading code to count the frequencies of each aminoacid in a protein FASTA file. **HINT:** loop through the sequence with something like `for amino in Sequence:` and used a `dict` variable to store the counts of each aminoacid."
      ]
    },
    {
      "cell_type": "code",
      "execution_count": null,
      "metadata": {
        "id": "ArSKXiaBJ9Cn",
        "colab": {
          "base_uri": "https://localhost:8080/"
        },
        "outputId": "5a84144b-69fd-464c-acc4-422dad166fd9"
      },
      "outputs": [
        {
          "output_type": "execute_result",
          "data": {
            "text/plain": [
              "{'A': 10,\n",
              " 'C': 6,\n",
              " 'D': 2,\n",
              " 'E': 8,\n",
              " 'F': 3,\n",
              " 'G': 12,\n",
              " 'H': 2,\n",
              " 'I': 2,\n",
              " 'K': 2,\n",
              " 'L': 20,\n",
              " 'M': 2,\n",
              " 'N': 3,\n",
              " 'P': 6,\n",
              " 'Q': 7,\n",
              " 'R': 5,\n",
              " 'S': 5,\n",
              " 'T': 3,\n",
              " 'V': 6,\n",
              " 'W': 2,\n",
              " 'Y': 4}"
            ]
          },
          "metadata": {},
          "execution_count": 18
        }
      ],
      "source": [
        "#@title SOLUTION (writing)\n",
        "\n",
        "f = open(\"insulin_human.fasta\",\"r\")\n",
        "Aminos = 'ACDEFGHIKLMNPQRSTVWY'\n",
        "lines = f.read()\n",
        "lines = lines.splitlines()\n",
        "Header = lines[0]\n",
        "Header = Header[1:]\n",
        "Sequence = ''\n",
        "for line in lines[1:]:\n",
        "    Sequence = Sequence + line\n",
        "f.close()\n",
        "Counts = {}\n",
        "for amino in Aminos:\n",
        "    Counts[amino] = Sequence.count(amino)\n",
        "Counts"
      ]
    },
    {
      "cell_type": "code",
      "source": [
        "help(print)"
      ],
      "metadata": {
        "colab": {
          "base_uri": "https://localhost:8080/"
        },
        "id": "EIem7ZoLJeQ4",
        "outputId": "f5436b2a-b1cb-4158-fada-03e8d5ea0327"
      },
      "execution_count": null,
      "outputs": [
        {
          "output_type": "stream",
          "name": "stdout",
          "text": [
            "Help on built-in function print in module builtins:\n",
            "\n",
            "print(...)\n",
            "    print(value, ..., sep=' ', end='\\n', file=sys.stdout, flush=False)\n",
            "    \n",
            "    Prints the values to a stream, or to sys.stdout by default.\n",
            "    Optional keyword arguments:\n",
            "    file:  a file-like object (stream); defaults to the current sys.stdout.\n",
            "    sep:   string inserted between values, default a space.\n",
            "    end:   string appended after the last value, default a newline.\n",
            "    flush: whether to forcibly flush the stream.\n",
            "\n"
          ]
        }
      ]
    },
    {
      "cell_type": "code",
      "source": [
        "for amino in Aminos:\n",
        "  print(amino, end=', ')"
      ],
      "metadata": {
        "colab": {
          "base_uri": "https://localhost:8080/"
        },
        "id": "GRz6syAdIt19",
        "outputId": "84d57853-ce74-4744-cb9c-08c4f8f5aba3"
      },
      "execution_count": null,
      "outputs": [
        {
          "output_type": "stream",
          "name": "stdout",
          "text": [
            "A, C, D, E, F, G, H, I, K, L, M, N, P, Q, R, S, T, V, W, Y, "
          ]
        }
      ]
    },
    {
      "cell_type": "markdown",
      "metadata": {
        "id": "KsrixTxQhGhA"
      },
      "source": [
        "### 15. **Plotting Data**"
      ]
    },
    {
      "cell_type": "markdown",
      "metadata": {
        "id": "OwPqbIrghGhA"
      },
      "source": [
        "Plotting data is a central activity to doing science. So, any language with an ambition of being relevant for scientific programming must have a plotting mechanism. Python has several, but we will briefly focus on the one that is by far the most popular: the `matplolib` library.\n",
        "\n",
        "To exemplify the use of `matplotlib`, let's first get some data:"
      ]
    },
    {
      "cell_type": "code",
      "execution_count": null,
      "metadata": {
        "id": "aC8-_hKGhGhA"
      },
      "outputs": [],
      "source": [
        "# Genebank Statistics\n",
        "Years = [1985,1990,1995,2000,2005,2010,2015]\n",
        "GenBankEntries = [4954, 35100, 425211, 7077491, 45236251, 120604423, 185019352]"
      ]
    },
    {
      "cell_type": "markdown",
      "metadata": {
        "id": "yMUjByePhGhB"
      },
      "source": [
        "These two lists, `Years` and `GenBankEntries` will be the `x` and `y` data points in our graph. What we want is to plot `GenBankEntries` as a function of `Years`. This can be done with `matplotlib` in the simplest possible way with just two lines of code:"
      ]
    },
    {
      "cell_type": "code",
      "execution_count": null,
      "metadata": {
        "id": "BWjjuIhZhGhB",
        "colab": {
          "base_uri": "https://localhost:8080/",
          "height": 462
        },
        "outputId": "5dbfdfe3-492b-4995-c3b9-232fee2d2833"
      },
      "outputs": [
        {
          "output_type": "execute_result",
          "data": {
            "text/plain": [
              "[<matplotlib.lines.Line2D at 0x79b30c11a590>]"
            ]
          },
          "metadata": {},
          "execution_count": 27
        },
        {
          "output_type": "display_data",
          "data": {
            "text/plain": [
              "<Figure size 640x480 with 1 Axes>"
            ],
            "image/png": "[encoded data removed]"
          },
          "metadata": {}
        }
      ],
      "source": [
        "# Lets import the module matplolib.pyplot\n",
        "import matplotlib.pyplot as plt   # this line imports the library and allows it to be called plt (for brevity)\n",
        "plt.plot(Years, GenBankEntries)"
      ]
    },
    {
      "cell_type": "markdown",
      "metadata": {
        "id": "kFJ72LRXhGhC"
      },
      "source": [
        "We got a plot, but it is really *raw*. With just a few more lines of code, we can make it look a lot better:"
      ]
    },
    {
      "cell_type": "code",
      "execution_count": null,
      "metadata": {
        "id": "cHdyTrdXhGhC",
        "colab": {
          "base_uri": "https://localhost:8080/",
          "height": 489
        },
        "outputId": "fc884362-ec57-4d8e-9492-b6688cf46687"
      },
      "outputs": [
        {
          "output_type": "execute_result",
          "data": {
            "text/plain": [
              "[<matplotlib.lines.Line2D at 0x79b2d85b8190>]"
            ]
          },
          "metadata": {},
          "execution_count": 32
        },
        {
          "output_type": "display_data",
          "data": {
            "text/plain": [
              "<Figure size 640x480 with 1 Axes>"
            ],
            "image/png": "[encoded data removed]"
          },
          "metadata": {}
        }
      ],
      "source": [
        "# We first import the matplotlib.pyplot module as \"plt\"\n",
        "import matplotlib.pyplot as plt\n",
        "plt.title(\"Genebank Growth\")          # set the title graph\n",
        "plt.xlabel(\"Years\")                   # set the x axis title\n",
        "plt.ylabel(\"Number of Entries\")       # set the y axis title\n",
        "plt.plot(Years, GenBankEntries,'ro-') # plot with red lines and circle markers\n"
      ]
    },
    {
      "cell_type": "markdown",
      "metadata": {
        "id": "43FRolH-hGhE"
      },
      "source": [
        "Notice the argument \"ro-\" to the `plot` command - \"r\" is for red, \"o\" for circle markers and \"-\" for lines.\n",
        "\n",
        "**HANDS-ON:** Guess what happens if 'ro-' is replaced with 'g+--'. Check it.\n",
        "\n",
        "This plot should probably have bars rather than points:"
      ]
    },
    {
      "cell_type": "code",
      "execution_count": null,
      "metadata": {
        "id": "0oTZq2sehGhE",
        "colab": {
          "base_uri": "https://localhost:8080/",
          "height": 494
        },
        "outputId": "e7a5784f-1097-4a26-a752-fbe53c75b07a"
      },
      "outputs": [
        {
          "output_type": "execute_result",
          "data": {
            "text/plain": [
              "<BarContainer object of 7 artists>"
            ]
          },
          "metadata": {},
          "execution_count": 33
        },
        {
          "output_type": "display_data",
          "data": {
            "text/plain": [
              "<Figure size 640x480 with 1 Axes>"
            ],
            "image/png": "[encoded data removed]"
          },
          "metadata": {}
        }
      ],
      "source": [
        "# We first import the matplotlib.pyplot module as \"plt\"\n",
        "import matplotlib.pyplot as plt\n",
        "plt.style.use(\"ggplot\") # using a non-standard plotstyle\n",
        "plt.title(\"Genebank Growth\")        # set the title graph\n",
        "plt.xlabel(\"Years\")                 # set the x axis title\n",
        "plt.ylabel(\"Number of Entries\")     # set the y axis title\n",
        "plt.bar(Years, GenBankEntries, width=3) # plot bars with a width of 3"
      ]
    },
    {
      "cell_type": "markdown",
      "metadata": {
        "id": "kxHXJKf-hGhF"
      },
      "source": [
        "(The bar width can be ajusted with the \"width\" parameter. Try it.)"
      ]
    },
    {
      "cell_type": "markdown",
      "metadata": {
        "id": "RgONYHYZhGhF"
      },
      "source": [
        "Different colors for lines and points can be used:"
      ]
    },
    {
      "cell_type": "code",
      "source": [
        "help(plt.plot)"
      ],
      "metadata": {
        "colab": {
          "base_uri": "https://localhost:8080/"
        },
        "id": "poq0Zb1-L7MT",
        "outputId": "06489348-deb2-403b-b8d6-bd2487c71393"
      },
      "execution_count": null,
      "outputs": [
        {
          "output_type": "stream",
          "name": "stdout",
          "text": [
            "Help on function plot in module matplotlib.pyplot:\n",
            "\n",
            "plot(*args, scalex=True, scaley=True, data=None, **kwargs)\n",
            "    Plot y versus x as lines and/or markers.\n",
            "    \n",
            "    Call signatures::\n",
            "    \n",
            "        plot([x], y, [fmt], *, data=None, **kwargs)\n",
            "        plot([x], y, [fmt], [x2], y2, [fmt2], ..., **kwargs)\n",
            "    \n",
            "    The coordinates of the points or line nodes are given by *x*, *y*.\n",
            "    \n",
            "    The optional parameter *fmt* is a convenient way for defining basic\n",
            "    formatting like color, marker and linestyle. It's a shortcut string\n",
            "    notation described in the *Notes* section below.\n",
            "    \n",
            "    >>> plot(x, y)        # plot x and y using default line style and color\n",
            "    >>> plot(x, y, 'bo')  # plot x and y using blue circle markers\n",
            "    >>> plot(y)           # plot y using x as index array 0..N-1\n",
            "    >>> plot(y, 'r+')     # ditto, but with red plusses\n",
            "    \n",
            "    You can use `.Line2D` properties as keyword arguments for more\n",
            "    control on the appearance. Line properties and *fmt* can be mixed.\n",
            "    The following two calls yield identical results:\n",
            "    \n",
            "    >>> plot(x, y, 'go--', linewidth=2, markersize=12)\n",
            "    >>> plot(x, y, color='green', marker='o', linestyle='dashed',\n",
            "    ...      linewidth=2, markersize=12)\n",
            "    \n",
            "    When conflicting with *fmt*, keyword arguments take precedence.\n",
            "    \n",
            "    \n",
            "    **Plotting labelled data**\n",
            "    \n",
            "    There's a convenient way for plotting objects with labelled data (i.e.\n",
            "    data that can be accessed by index ``obj['y']``). Instead of giving\n",
            "    the data in *x* and *y*, you can provide the object in the *data*\n",
            "    parameter and just give the labels for *x* and *y*::\n",
            "    \n",
            "    >>> plot('xlabel', 'ylabel', data=obj)\n",
            "    \n",
            "    All indexable objects are supported. This could e.g. be a `dict`, a\n",
            "    `pandas.DataFrame` or a structured numpy array.\n",
            "    \n",
            "    \n",
            "    **Plotting multiple sets of data**\n",
            "    \n",
            "    There are various ways to plot multiple sets of data.\n",
            "    \n",
            "    - The most straight forward way is just to call `plot` multiple times.\n",
            "      Example:\n",
            "    \n",
            "      >>> plot(x1, y1, 'bo')\n",
            "      >>> plot(x2, y2, 'go')\n",
            "    \n",
            "    - If *x* and/or *y* are 2D arrays a separate data set will be drawn\n",
            "      for every column. If both *x* and *y* are 2D, they must have the\n",
            "      same shape. If only one of them is 2D with shape (N, m) the other\n",
            "      must have length N and will be used for every data set m.\n",
            "    \n",
            "      Example:\n",
            "    \n",
            "      >>> x = [1, 2, 3]\n",
            "      >>> y = np.array([[1, 2], [3, 4], [5, 6]])\n",
            "      >>> plot(x, y)\n",
            "    \n",
            "      is equivalent to:\n",
            "    \n",
            "      >>> for col in range(y.shape[1]):\n",
            "      ...     plot(x, y[:, col])\n",
            "    \n",
            "    - The third way is to specify multiple sets of *[x]*, *y*, *[fmt]*\n",
            "      groups::\n",
            "    \n",
            "      >>> plot(x1, y1, 'g^', x2, y2, 'g-')\n",
            "    \n",
            "      In this case, any additional keyword argument applies to all\n",
            "      datasets. Also, this syntax cannot be combined with the *data*\n",
            "      parameter.\n",
            "    \n",
            "    By default, each line is assigned a different style specified by a\n",
            "    'style cycle'. The *fmt* and line property parameters are only\n",
            "    necessary if you want explicit deviations from these defaults.\n",
            "    Alternatively, you can also change the style cycle using\n",
            "    :rc:`axes.prop_cycle`.\n",
            "    \n",
            "    \n",
            "    Parameters\n",
            "    ----------\n",
            "    x, y : array-like or scalar\n",
            "        The horizontal / vertical coordinates of the data points.\n",
            "        *x* values are optional and default to ``range(len(y))``.\n",
            "    \n",
            "        Commonly, these parameters are 1D arrays.\n",
            "    \n",
            "        They can also be scalars, or two-dimensional (in that case, the\n",
            "        columns represent separate data sets).\n",
            "    \n",
            "        These arguments cannot be passed as keywords.\n",
            "    \n",
            "    fmt : str, optional\n",
            "        A format string, e.g. 'ro' for red circles. See the *Notes*\n",
            "        section for a full description of the format strings.\n",
            "    \n",
            "        Format strings are just an abbreviation for quickly setting\n",
            "        basic line properties. All of these and more can also be\n",
            "        controlled by keyword arguments.\n",
            "    \n",
            "        This argument cannot be passed as keyword.\n",
            "    \n",
            "    data : indexable object, optional\n",
            "        An object with labelled data. If given, provide the label names to\n",
            "        plot in *x* and *y*.\n",
            "    \n",
            "        .. note::\n",
            "            Technically there's a slight ambiguity in calls where the\n",
            "            second label is a valid *fmt*. ``plot('n', 'o', data=obj)``\n",
            "            could be ``plt(x, y)`` or ``plt(y, fmt)``. In such cases,\n",
            "            the former interpretation is chosen, but a warning is issued.\n",
            "            You may suppress the warning by adding an empty format string\n",
            "            ``plot('n', 'o', '', data=obj)``.\n",
            "    \n",
            "    Returns\n",
            "    -------\n",
            "    list of `.Line2D`\n",
            "        A list of lines representing the plotted data.\n",
            "    \n",
            "    Other Parameters\n",
            "    ----------------\n",
            "    scalex, scaley : bool, default: True\n",
            "        These parameters determine if the view limits are adapted to the\n",
            "        data limits. The values are passed on to\n",
            "        `~.axes.Axes.autoscale_view`.\n",
            "    \n",
            "    **kwargs : `.Line2D` properties, optional\n",
            "        *kwargs* are used to specify properties like a line label (for\n",
            "        auto legends), linewidth, antialiasing, marker face color.\n",
            "        Example::\n",
            "    \n",
            "        >>> plot([1, 2, 3], [1, 2, 3], 'go-', label='line 1', linewidth=2)\n",
            "        >>> plot([1, 2, 3], [1, 4, 9], 'rs', label='line 2')\n",
            "    \n",
            "        If you specify multiple lines with one plot call, the kwargs apply\n",
            "        to all those lines. In case the label object is iterable, each\n",
            "        element is used as labels for each set of data.\n",
            "    \n",
            "        Here is a list of available `.Line2D` properties:\n",
            "    \n",
            "        Properties:\n",
            "        agg_filter: a filter function, which takes a (m, n, 3) float array and a dpi value, and returns a (m, n, 3) array and two offsets from the bottom left corner of the image\n",
            "        alpha: scalar or None\n",
            "        animated: bool\n",
            "        antialiased or aa: bool\n",
            "        clip_box: `.Bbox`\n",
            "        clip_on: bool\n",
            "        clip_path: Patch or (Path, Transform) or None\n",
            "        color or c: color\n",
            "        dash_capstyle: `.CapStyle` or {'butt', 'projecting', 'round'}\n",
            "        dash_joinstyle: `.JoinStyle` or {'miter', 'round', 'bevel'}\n",
            "        dashes: sequence of floats (on/off ink in points) or (None, None)\n",
            "        data: (2, N) array or two 1D arrays\n",
            "        drawstyle or ds: {'default', 'steps', 'steps-pre', 'steps-mid', 'steps-post'}, default: 'default'\n",
            "        figure: `.Figure`\n",
            "        fillstyle: {'full', 'left', 'right', 'bottom', 'top', 'none'}\n",
            "        gapcolor: color or None\n",
            "        gid: str\n",
            "        in_layout: bool\n",
            "        label: object\n",
            "        linestyle or ls: {'-', '--', '-.', ':', '', (offset, on-off-seq), ...}\n",
            "        linewidth or lw: float\n",
            "        marker: marker style string, `~.path.Path` or `~.markers.MarkerStyle`\n",
            "        markeredgecolor or mec: color\n",
            "        markeredgewidth or mew: float\n",
            "        markerfacecolor or mfc: color\n",
            "        markerfacecoloralt or mfcalt: color\n",
            "        markersize or ms: float\n",
            "        markevery: None or int or (int, int) or slice or list[int] or float or (float, float) or list[bool]\n",
            "        mouseover: bool\n",
            "        path_effects: `.AbstractPathEffect`\n",
            "        picker: float or callable[[Artist, Event], tuple[bool, dict]]\n",
            "        pickradius: unknown\n",
            "        rasterized: bool\n",
            "        sketch_params: (scale: float, length: float, randomness: float)\n",
            "        snap: bool or None\n",
            "        solid_capstyle: `.CapStyle` or {'butt', 'projecting', 'round'}\n",
            "        solid_joinstyle: `.JoinStyle` or {'miter', 'round', 'bevel'}\n",
            "        transform: unknown\n",
            "        url: str\n",
            "        visible: bool\n",
            "        xdata: 1D array\n",
            "        ydata: 1D array\n",
            "        zorder: float\n",
            "    \n",
            "    See Also\n",
            "    --------\n",
            "    scatter : XY scatter plot with markers of varying size and/or color (\n",
            "        sometimes also called bubble chart).\n",
            "    \n",
            "    Notes\n",
            "    -----\n",
            "    **Format Strings**\n",
            "    \n",
            "    A format string consists of a part for color, marker and line::\n",
            "    \n",
            "        fmt = '[marker][line][color]'\n",
            "    \n",
            "    Each of them is optional. If not provided, the value from the style\n",
            "    cycle is used. Exception: If ``line`` is given, but no ``marker``,\n",
            "    the data will be a line without markers.\n",
            "    \n",
            "    Other combinations such as ``[color][marker][line]`` are also\n",
            "    supported, but note that their parsing may be ambiguous.\n",
            "    \n",
            "    **Markers**\n",
            "    \n",
            "    =============   ===============================\n",
            "    character       description\n",
            "    =============   ===============================\n",
            "    ``'.'``         point marker\n",
            "    ``','``         pixel marker\n",
            "    ``'o'``         circle marker\n",
            "    ``'v'``         triangle_down marker\n",
            "    ``'^'``         triangle_up marker\n",
            "    ``'<'``         triangle_left marker\n",
            "    ``'>'``         triangle_right marker\n",
            "    ``'1'``         tri_down marker\n",
            "    ``'2'``         tri_up marker\n",
            "    ``'3'``         tri_left marker\n",
            "    ``'4'``         tri_right marker\n",
            "    ``'8'``         octagon marker\n",
            "    ``'s'``         square marker\n",
            "    ``'p'``         pentagon marker\n",
            "    ``'P'``         plus (filled) marker\n",
            "    ``'*'``         star marker\n",
            "    ``'h'``         hexagon1 marker\n",
            "    ``'H'``         hexagon2 marker\n",
            "    ``'+'``         plus marker\n",
            "    ``'x'``         x marker\n",
            "    ``'X'``         x (filled) marker\n",
            "    ``'D'``         diamond marker\n",
            "    ``'d'``         thin_diamond marker\n",
            "    ``'|'``         vline marker\n",
            "    ``'_'``         hline marker\n",
            "    =============   ===============================\n",
            "    \n",
            "    **Line Styles**\n",
            "    \n",
            "    =============    ===============================\n",
            "    character        description\n",
            "    =============    ===============================\n",
            "    ``'-'``          solid line style\n",
            "    ``'--'``         dashed line style\n",
            "    ``'-.'``         dash-dot line style\n",
            "    ``':'``          dotted line style\n",
            "    =============    ===============================\n",
            "    \n",
            "    Example format strings::\n",
            "    \n",
            "        'b'    # blue markers with default shape\n",
            "        'or'   # red circles\n",
            "        '-g'   # green solid line\n",
            "        '--'   # dashed line with default color\n",
            "        '^k:'  # black triangle_up markers connected by a dotted line\n",
            "    \n",
            "    **Colors**\n",
            "    \n",
            "    The supported color abbreviations are the single letter codes\n",
            "    \n",
            "    =============    ===============================\n",
            "    character        color\n",
            "    =============    ===============================\n",
            "    ``'b'``          blue\n",
            "    ``'g'``          green\n",
            "    ``'r'``          red\n",
            "    ``'c'``          cyan\n",
            "    ``'m'``          magenta\n",
            "    ``'y'``          yellow\n",
            "    ``'k'``          black\n",
            "    ``'w'``          white\n",
            "    =============    ===============================\n",
            "    \n",
            "    and the ``'CN'`` colors that index into the default property cycle.\n",
            "    \n",
            "    If the color is the only part of the format string, you can\n",
            "    additionally use any  `matplotlib.colors` spec, e.g. full names\n",
            "    (``'green'``) or hex strings (``'#008000'``).\n",
            "\n"
          ]
        }
      ]
    },
    {
      "cell_type": "code",
      "execution_count": null,
      "metadata": {
        "id": "MvrCGjC8hGhF",
        "colab": {
          "base_uri": "https://localhost:8080/",
          "height": 477
        },
        "outputId": "2b939a3b-e196-410c-ab94-8a1740ce756d"
      },
      "outputs": [
        {
          "output_type": "display_data",
          "data": {
            "text/plain": [
              "<Figure size 640x480 with 1 Axes>"
            ],
            "image/png": "[encoded data removed]"
          },
          "metadata": {}
        }
      ],
      "source": [
        "# We first import the matplotlib.pyplot module as \"plt\"\n",
        "import matplotlib.pyplot as plt\n",
        "plt.style.use(\"ggplot\")\n",
        "plt.title(\"Genebank Growth\")         # set the title graph\n",
        "plt.xlabel(\"Years\")                  # set the x axis title\n",
        "plt.ylabel(\"Number of Entries\")      # set the y axis title\n",
        "plt.plot(Years, GenBankEntries,'g--') # plot with green dashed lines\n",
        "plt.plot(Years, GenBankEntries,'rv')  # plot with red circle markers\n",
        "plt.savefig(\"plot.png\") # This will save your plot to the \"plot.png\" file\n",
        "\n"
      ]
    },
    {
      "cell_type": "markdown",
      "source": [
        "**HANDS-ON:** Repeat the previous example, but first create a `dict` object out of the `Years` and `GeneBankEntries` lists and use that object in the `plot`command."
      ],
      "metadata": {
        "id": "cWud4Lm_zLhB"
      }
    },
    {
      "cell_type": "markdown",
      "source": [
        "**HANDS-ON:** Change the aminoacid counting code in the previous ssection to produce a bar plot of the aminoacid counts."
      ],
      "metadata": {
        "id": "tPbolJG3NpL_"
      }
    },
    {
      "cell_type": "code",
      "source": [
        "#@title SOLUTION\n",
        "import matplotlib.pyplot as plt\n",
        "# The ticker module provides control of ticks the x and y axes\n",
        "from matplotlib.ticker import MaxNLocator, MultipleLocator\n",
        "\n",
        "f = open(\"insulin_human.fasta\",\"r\")\n",
        "Aminos = 'ACDEFGHIKLMNPQRSTVWY'\n",
        "lines = f.read()\n",
        "lines = lines.splitlines()\n",
        "Header = lines[0]\n",
        "Header = Header[1:]\n",
        "Sequence = ''\n",
        "for line in lines[1:]:\n",
        "    Sequence = Sequence + line\n",
        "f.close()\n",
        "Counts = {}\n",
        "for amino in Aminos:\n",
        "    Counts[amino] = Sequence.count(amino)\n",
        "Counts\n",
        "# Create the plot\n",
        "#ax = plt.figure().gca()\n",
        "#plt.grid(visible=True, which='both')\n",
        "#ax.yaxis.set_major_locator(MaxNLocator(integer=True))\n",
        "#ax.yaxis.set_major_locator(MultipleLocator(base=5)) # frequency of major ticks\n",
        "#ax.yaxis.set_minor_locator(MultipleLocator(base=1)) # frequency of minor ticks\n",
        "\n",
        "plt.title(\"Aminoacid counts\")         # set the title graph\n",
        "plt.xlabel(\"Aminoacid\")                  # set the x axis title\n",
        "plt.ylabel(\"Count\")      # set the y axis title\n",
        "_ = plt.bar(Counts.keys(), Counts.values())"
      ],
      "metadata": {
        "id": "CkMwaVROOEw9",
        "colab": {
          "base_uri": "https://localhost:8080/",
          "height": 477
        },
        "outputId": "b2506083-8a90-4664-87e0-aa7bc86bb71b"
      },
      "execution_count": null,
      "outputs": [
        {
          "output_type": "display_data",
          "data": {
            "text/plain": [
              "<Figure size 640x480 with 1 Axes>"
            ],
            "image/png": "[encoded data removed]"
          },
          "metadata": {}
        }
      ]
    },
    {
      "cell_type": "markdown",
      "metadata": {
        "id": "eRrfQjjihGhG"
      },
      "source": [
        "### 13. **Where to go from here**"
      ]
    },
    {
      "cell_type": "markdown",
      "metadata": {
        "id": "EqmjA1JZhGhG"
      },
      "source": [
        "This tutorial was meant as a generic introduction to the basic features of the Python programming language and the notebook environment. It was also\n",
        "meant as a first acquaintance with the world of computer programming. As such, many topics had to be lightly covered, and some not covered at all.\n",
        "However, it is hoped this is a good starting point for further exploration of the Python language.\n",
        "\n",
        "Here are a few essential aspects of the language core that haven't been covered:\n",
        "\n",
        "- list compreensions\n",
        "- named arguments and variable number of arguments in functions\n",
        "- iterators and generators\n",
        "- lambda functions and functional programming\n",
        "- error handling with try / except\n",
        "\n",
        "Here are a few Python libraries that are absolutely essential for scientific programming:\n",
        "\n",
        "- `numpy` (numerical python)\n",
        "- `scipy` (scientific python)\n",
        "- `pandas` (data manipulation and analysis library)\n",
        "\n",
        "For producing plots and many types of scientific visualizations:\n",
        "\n",
        "- `seaborn`\n",
        "- `plotly`\n",
        "- `bokeh`\n",
        "- `altair`\n",
        "\n",
        "For machine learning/deep learning:\n",
        "\n",
        "- `sklearn`\n",
        "- `tensor flow`\n",
        "- `pytorch`\n",
        "\n",
        "For harnessing the power of the GPU within Python programs:\n",
        "\n",
        "- `pycuda`\n",
        "\n",
        "For accessing many bioinformaticas databases, tools and resources:\n",
        "\n",
        "- `biopython`\n",
        "\n",
        "I hope this tutorial offered a little insight on the basics of Python and its usage. However, we barely scratched the surface of what is possible, and how to make it work in real case scenarios. The only way to truly learn a programming language is by using it over and over and over again, until all its ins and outs become second nature. That was not the purpose of this tutorial, but rather to provide you with a basis for further development, and also with the ability to grasp the basics of simple Python code snippets that will be used in the next classes.\n",
        "\n",
        "\n",
        "--Paulo Martel, 2024"
      ]
    },
    {
      "cell_type": "code",
      "source": [],
      "metadata": {
        "id": "4kKBa_FdmBn3"
      },
      "execution_count": null,
      "outputs": []
    }
  ],
  "metadata": {
    "colab": {
      "provenance": [],
      "collapsed_sections": [
        "02HvDIeyhGdj",
        "drP0fEF6hGdu",
        "NlqFqGyshGd-",
        "2JxGrxmthGeW",
        "hAzWoqhChGeu",
        "Gbbxq38NJ9CY",
        "WbmLHEuqhGfl",
        "5sLCyX4uhGf6",
        "LUA49dslhGgI",
        "hKjVeUd4hGgR",
        "jcb8mnnKhGgf",
        "RSpHhulohGgq",
        "nGk9ypsIMmQY",
        "KsrixTxQhGhA"
      ],
      "include_colab_link": true
    },
    "kernelspec": {
      "display_name": "Python 3 (ipykernel)",
      "language": "python",
      "name": "python3"
    },
    "language_info": {
      "codemirror_mode": {
        "name": "ipython",
        "version": 3
      },
      "file_extension": ".py",
      "mimetype": "text/x-python",
      "name": "python",
      "nbconvert_exporter": "python",
      "pygments_lexer": "ipython3",
      "version": "3.9.7"
    },
    "toc": {
      "base_numbering": 1,
      "nav_menu": {},
      "number_sections": false,
      "sideBar": true,
      "skip_h1_title": true,
      "title_cell": "Table of Contents",
      "title_sidebar": "Contents",
      "toc_cell": false,
      "toc_position": {
        "height": "330.35px",
        "left": "24px",
        "top": "110.909px",
        "width": "235.989px"
      },
      "toc_section_display": true,
      "toc_window_display": true
    }
  },
  "nbformat": 4,
  "nbformat_minor": 0
}