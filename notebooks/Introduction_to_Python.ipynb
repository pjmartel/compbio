{
 "cells": [
  {
   "cell_type": "markdown",
   "metadata": {
    "colab_type": "text",
    "id": "gIRfyehLhGdi"
   },
   "source": [
    "### 0. Introduction"
   ]
  },
  {
   "cell_type": "markdown",
   "metadata": {
    "colab_type": "text",
    "id": "j-jbz6hVhGdj"
   },
   "source": [
    "This document is in a special format called *Jupyter Notebook* that allows **Python Code** and **Text** to be mixed in the same page.\n",
    "The document is made of *cells*, where each can be either a *code* or *text* cell. At this very moment you are reading a text cell, \n",
    "but below you will find Python code cells intermingled with text cells. Each text cell can have one or several lines of text, and each code\n",
    "cell can have one or more lines of Python code. <del>You will notice a small \"play\" button  beside each code cell. Pressing this button will cause\n",
    "the code cell to be *evaluated*, meaning that the Python code therein will be run, and some output *may* be produced.</del>  You can also use the keyboard shortcut SHIFT+ENTER to evaluate a cell. To edit text cells, just double-click on them, and the *unformatted* content will be made available. Text cells don't have a \"play\" button, \n",
    "but doing SHIFT+ENTER on them will close the edit mode and move the cursor over to the next cell.\n",
    "\n",
    "You have two modes to operate on cells, *command mode* and *edit mode* - to swtich beteen them use the 'ESC' and 'ENTER' keys respectively. Presse 'ESC' to enter command mode, and then 'H' to open up a panel containing the shortcuts for all notebooks commands. While in command mode you can create, edit, copy, paste or delete cells, and do other things like chaning cell type between *code* and *markdown* (with the Y and M commands), saving the notebook or restarting the notebook kernel. Now press \"Enter\" (or click on a cell) to enter edit mode - in thbis mode you can edit the text in the cells, execute cells (with SHIFT+ENTER) or execute and create cell bellow (ALT+ENTER). \n",
    "\n",
    "Before we start, keep in mind that the code on each cell can affect the results of any other cell (for instance, if you *declare* a variable\n",
    "with a certain value, that variable will automatically be known to every other cell in the notebook). Also, even though the cells in this notebook\n",
    "are laid out in a logical learning progression, they don't need to be run on any specific order -  at any moment you can run any given cell by pressing 'SHIFT+ENTER' on it. However, it may be that the cell requires some data declaration or initialization coded on a previous cell -  in that case,  the cell will likely produce an error mesages, fail to execute the code or produce a wrong result.\n",
    "\n",
    "Every time you execute a code cell, the *result* of running it will be made available on a window immediately below the code cell. To clear the output of cell, which may be useful for instance\n",
    "when cells produce a large amount of unwanted data or error messages, press ESC to enter command mode and then 'O' to toggle the ouput of the current cell (the current cell is the one with the green rectangle around it). If you want to clear the output of *all* cells, got to the top menu entry \"Cell\", then \"All Outputs\", then \"Clear\". \n",
    "\n",
    "Whenever you need to open a new cell in the notebook (for instance to test some code or check variable values), you can use the keyboard shortuct\n",
    "ALT + ENTER on a given cell: il will evaluate  the cell (like SHIFT+ENTER) and open a new empty code cell below it. You can also go into command mode by pressing ESC and then use the A or B keys to insert cells (A)bove or (B)elow the current cell. <del>You can also mouse over\n",
    "the space between two cells - if you linger the cursor, two buttons labelled \"+ code\" and \"+ data\" will appear. Pressing them will respectivelye create code and text\n",
    "cellsz</del>. \n",
    "\n",
    "The notebook will automatically save every few minutes, but you if you want to save at a specific time, you can got into command mode with ESC and then press the S key. Alternative, click on the \"File\" entry on the top menu and choose the entry \"Save and Checkpoint\". \n",
    "\n",
    "The notebook is divided in various sections, showing different features of the Python language and Jupyter Notebooks.\n",
    "Simply go through it, reading the text cells, evaluating the Python cells, whatching the output, and editing/re-running when appropriate. At same points there are \"Hands-On\" sections - these are small exercises meant that you should try and solve on your own. "
   ]
  },
  {
   "cell_type": "markdown",
   "metadata": {
    "colab_type": "text",
    "id": "02HvDIeyhGdj"
   },
   "source": [
    "### 1. **Arithmetic expressions and data types**\n",
    "\n",
    "Simple arithmetic expressions can be evaluated - try to change the expression below using the `+`, `-`, `*` and `/`. Expressions can be of different *data types* including `int` (integer) or  `float`(floating point or real number). The result of evaluating an expression can be of the same or a different data type from its arguments.  (Use SHIT + ENTER on each cell to evaluate it and move to the cell below)"
   ]
  },
  {
   "cell_type": "code",
   "execution_count": 3,
   "metadata": {
    "colab": {},
    "colab_type": "code",
    "id": "pY6RA51EMPAk"
   },
   "outputs": [
    {
     "data": {
      "text/plain": [
       "20736"
      ]
     },
     "execution_count": 3,
     "metadata": {},
     "output_type": "execute_result"
    }
   ],
   "source": [
    "12**4"
   ]
  },
  {
   "cell_type": "code",
   "execution_count": 4,
   "metadata": {
    "colab": {},
    "colab_type": "code",
    "id": "wFIuOxjHhGdm"
   },
   "outputs": [
    {
     "data": {
      "text/plain": [
       "9"
      ]
     },
     "execution_count": 4,
     "metadata": {},
     "output_type": "execute_result"
    }
   ],
   "source": [
    "5 + 4   # you can write a comment like this, after a \"#\" (hash) sign"
   ]
  },
  {
   "cell_type": "code",
   "execution_count": 5,
   "metadata": {
    "colab": {},
    "colab_type": "code",
    "id": "duEix7KthGdo"
   },
   "outputs": [
    {
     "data": {
      "text/plain": [
       "1"
      ]
     },
     "execution_count": 5,
     "metadata": {},
     "output_type": "execute_result"
    }
   ],
   "source": [
    "5 // 3 # integer division"
   ]
  },
  {
   "cell_type": "code",
   "execution_count": 6,
   "metadata": {
    "colab": {},
    "colab_type": "code",
    "id": "FrVa4SBEhGdp"
   },
   "outputs": [
    {
     "data": {
      "text/plain": [
       "1.6666666666666667"
      ]
     },
     "execution_count": 6,
     "metadata": {},
     "output_type": "execute_result"
    }
   ],
   "source": [
    "5 / 3 # non integer division, the result is a real number, also called a \"floating point number\""
   ]
  },
  {
   "cell_type": "code",
   "execution_count": 7,
   "metadata": {
    "colab": {},
    "colab_type": "code",
    "id": "jOR5AtXghGdr"
   },
   "outputs": [
    {
     "data": {
      "text/plain": [
       "125"
      ]
     },
     "execution_count": 7,
     "metadata": {},
     "output_type": "execute_result"
    }
   ],
   "source": [
    "5**3 # exponentiation"
   ]
  },
  {
   "cell_type": "code",
   "execution_count": 8,
   "metadata": {
    "colab": {},
    "colab_type": "code",
    "id": "YxmgKlBhhGdt"
   },
   "outputs": [
    {
     "data": {
      "text/plain": [
       "1"
      ]
     },
     "execution_count": 8,
     "metadata": {},
     "output_type": "execute_result"
    }
   ],
   "source": [
    "5 % 2  # remainder function (modulus)"
   ]
  },
  {
   "cell_type": "markdown",
   "metadata": {
    "colab_type": "text",
    "id": "1KXvZ143YDn6"
   },
   "source": [
    "Built-in `divmod` function does the sames as \"//\" and \"%\". "
   ]
  },
  {
   "cell_type": "code",
   "execution_count": 9,
   "metadata": {
    "colab": {},
    "colab_type": "code",
    "id": "CmRrgg_SX-iW"
   },
   "outputs": [
    {
     "data": {
      "text/plain": [
       "(2, 1)"
      ]
     },
     "execution_count": 9,
     "metadata": {},
     "output_type": "execute_result"
    }
   ],
   "source": [
    "divmod(5,2)"
   ]
  },
  {
   "cell_type": "markdown",
   "metadata": {
    "colab_type": "text",
    "id": "drP0fEF6hGdu"
   },
   "source": [
    "### 2. **Declaring variables**\n",
    "\n",
    "A *variable* is a way of storing a number for later usage. Variable names can have one or mores letters or numbers. A value is assigned to a variable by using the `=` sign. Examples:"
   ]
  },
  {
   "cell_type": "code",
   "execution_count": 10,
   "metadata": {
    "colab": {},
    "colab_type": "code",
    "id": "uCLl21tqhGdv"
   },
   "outputs": [],
   "source": [
    "a = 3    # the variable \"a\" has now the value 3"
   ]
  },
  {
   "cell_type": "code",
   "execution_count": 11,
   "metadata": {
    "colab": {},
    "colab_type": "code",
    "id": "9Mi4S0mLhGdy"
   },
   "outputs": [],
   "source": [
    "b = 1.345 # the variable \"b\" has now the value 1.345"
   ]
  },
  {
   "cell_type": "code",
   "execution_count": 12,
   "metadata": {
    "colab": {},
    "colab_type": "code",
    "id": "9myS1dUGhGd0"
   },
   "outputs": [],
   "source": [
    "distance = a + 2   # Guess what the value of \"distance\" is"
   ]
  },
  {
   "cell_type": "markdown",
   "metadata": {
    "colab_type": "text",
    "id": "irix8SCqcIML"
   },
   "source": [
    "Evaluate \"distance\" in the below cell:"
   ]
  },
  {
   "cell_type": "code",
   "execution_count": 13,
   "metadata": {
    "colab": {},
    "colab_type": "code",
    "id": "q5HPz3-XhGd2"
   },
   "outputs": [
    {
     "data": {
      "text/plain": [
       "5"
      ]
     },
     "execution_count": 13,
     "metadata": {},
     "output_type": "execute_result"
    }
   ],
   "source": [
    "distance"
   ]
  },
  {
   "cell_type": "markdown",
   "metadata": {},
   "source": [
    "You can use the \"print\" command to produce formatted output. But many times you won't need it, because code cells by default produce as output the result of evaluating their last line. Check the examples below."
   ]
  },
  {
   "cell_type": "code",
   "execution_count": 14,
   "metadata": {
    "colab": {},
    "colab_type": "code",
    "id": "M-mp7nG-hGd3"
   },
   "outputs": [
    {
     "name": "stdout",
     "output_type": "stream",
     "text": [
      "The value is:  5.6899999999999995\n"
     ]
    }
   ],
   "source": [
    "print(\"The value is: \",2*b+3)"
   ]
  },
  {
   "cell_type": "code",
   "execution_count": 15,
   "metadata": {
    "colab": {},
    "colab_type": "code",
    "id": "IdOIasXbPxLk"
   },
   "outputs": [
    {
     "data": {
      "text/plain": [
       "('The value is: ', 5.6899999999999995)"
      ]
     },
     "execution_count": 15,
     "metadata": {},
     "output_type": "execute_result"
    }
   ],
   "source": [
    "\"The value is: \",2*b+3"
   ]
  },
  {
   "cell_type": "code",
   "execution_count": 16,
   "metadata": {
    "colab": {},
    "colab_type": "code",
    "id": "LJwIGJbfhGd5"
   },
   "outputs": [
    {
     "data": {
      "text/plain": [
       "5.6899999999999995"
      ]
     },
     "execution_count": 16,
     "metadata": {},
     "output_type": "execute_result"
    }
   ],
   "source": [
    "2*b+3"
   ]
  },
  {
   "cell_type": "markdown",
   "metadata": {},
   "source": [
    "The type of variables and expressions can be checked with the `type` function: "
   ]
  },
  {
   "cell_type": "code",
   "execution_count": 17,
   "metadata": {},
   "outputs": [
    {
     "data": {
      "text/plain": [
       "int"
      ]
     },
     "execution_count": 17,
     "metadata": {},
     "output_type": "execute_result"
    }
   ],
   "source": [
    "type(a)"
   ]
  },
  {
   "cell_type": "code",
   "execution_count": 18,
   "metadata": {},
   "outputs": [
    {
     "data": {
      "text/plain": [
       "float"
      ]
     },
     "execution_count": 18,
     "metadata": {},
     "output_type": "execute_result"
    }
   ],
   "source": [
    "type(b)"
   ]
  },
  {
   "cell_type": "code",
   "execution_count": 19,
   "metadata": {},
   "outputs": [
    {
     "data": {
      "text/plain": [
       "int"
      ]
     },
     "execution_count": 19,
     "metadata": {},
     "output_type": "execute_result"
    }
   ],
   "source": [
    "type(distance)"
   ]
  },
  {
   "cell_type": "markdown",
   "metadata": {},
   "source": [
    "There are some rules and restrictions concerning the naming of variables:"
   ]
  },
  {
   "cell_type": "code",
   "execution_count": 20,
   "metadata": {
    "colab": {},
    "colab_type": "code",
    "id": "JLiEr4eKhGd7"
   },
   "outputs": [
    {
     "ename": "SyntaxError",
     "evalue": "invalid syntax (<ipython-input-20-4c2dd860cd29>, line 1)",
     "output_type": "error",
     "traceback": [
      "\u001b[0;36m  File \u001b[0;32m\"<ipython-input-20-4c2dd860cd29>\"\u001b[0;36m, line \u001b[0;32m1\u001b[0m\n\u001b[0;31m    3bas = 2  # variable names cannot start with a number\u001b[0m\n\u001b[0m       ^\u001b[0m\n\u001b[0;31mSyntaxError\u001b[0m\u001b[0;31m:\u001b[0m invalid syntax\n"
     ]
    }
   ],
   "source": [
    "3bas = 2  # variable names cannot start with a number"
   ]
  },
  {
   "cell_type": "code",
   "execution_count": 21,
   "metadata": {
    "colab": {},
    "colab_type": "code",
    "id": "gyiS3SRwhGd8"
   },
   "outputs": [
    {
     "ename": "SyntaxError",
     "evalue": "invalid syntax (<ipython-input-21-c9208bd2163d>, line 1)",
     "output_type": "error",
     "traceback": [
      "\u001b[0;36m  File \u001b[0;32m\"<ipython-input-21-c9208bd2163d>\"\u001b[0;36m, line \u001b[0;32m1\u001b[0m\n\u001b[0;31m    ba! = 3   # `!#$%&/(){}[]`cannot be used on a variable name\u001b[0m\n\u001b[0m      ^\u001b[0m\n\u001b[0;31mSyntaxError\u001b[0m\u001b[0;31m:\u001b[0m invalid syntax\n"
     ]
    }
   ],
   "source": [
    "ba! = 3   # `!#$%&/(){}[]`cannot be used on a variable name"
   ]
  },
  {
   "cell_type": "markdown",
   "metadata": {
    "colab_type": "text",
    "id": "qExCGCsXY3rr"
   },
   "source": [
    "DO NOT declare a variable with  the name of a built-function. Here's what may happen:"
   ]
  },
  {
   "cell_type": "code",
   "execution_count": 22,
   "metadata": {
    "colab": {},
    "colab_type": "code",
    "id": "0dBqMUkoQghR"
   },
   "outputs": [],
   "source": [
    "print = 3"
   ]
  },
  {
   "cell_type": "code",
   "execution_count": 23,
   "metadata": {
    "colab": {},
    "colab_type": "code",
    "id": "PCuICIEGZHtA"
   },
   "outputs": [
    {
     "ename": "TypeError",
     "evalue": "'int' object is not callable",
     "output_type": "error",
     "traceback": [
      "\u001b[0;31m---------------------------------------------------------------------------\u001b[0m",
      "\u001b[0;31mTypeError\u001b[0m                                 Traceback (most recent call last)",
      "\u001b[0;32m<ipython-input-23-ebef8289f476>\u001b[0m in \u001b[0;36m<module>\u001b[0;34m\u001b[0m\n\u001b[0;32m----> 1\u001b[0;31m \u001b[0mprint\u001b[0m\u001b[0;34m(\u001b[0m\u001b[0;34m\"asdfsdf\"\u001b[0m\u001b[0;34m)\u001b[0m\u001b[0;34m\u001b[0m\u001b[0;34m\u001b[0m\u001b[0m\n\u001b[0m",
      "\u001b[0;31mTypeError\u001b[0m: 'int' object is not callable"
     ]
    }
   ],
   "source": [
    "print(\"asdfsdf\")"
   ]
  },
  {
   "cell_type": "markdown",
   "metadata": {
    "colab_type": "text",
    "id": "xBhn4dngcYtv"
   },
   "source": [
    "The above error message is produced because Python no longer recognizes `print` as an in-built python function - you obliterated the original meaning with the `print` variable definition. So you are in fact trying to call what is now an integer variable as a function, hence the \"int object is not callable\" message. \n",
    "\n",
    "We can fix this by erasing your `print` variable definition with the `del` command:"
   ]
  },
  {
   "cell_type": "code",
   "execution_count": 24,
   "metadata": {
    "colab": {},
    "colab_type": "code",
    "id": "eqJVQWGCZRuR"
   },
   "outputs": [],
   "source": [
    "del print"
   ]
  },
  {
   "cell_type": "markdown",
   "metadata": {},
   "source": [
    "...and now \"print\" works again as a function:"
   ]
  },
  {
   "cell_type": "code",
   "execution_count": 25,
   "metadata": {
    "colab": {},
    "colab_type": "code",
    "id": "n8LsH6dOZXiK"
   },
   "outputs": [
    {
     "name": "stdout",
     "output_type": "stream",
     "text": [
      "sdfsf\n"
     ]
    }
   ],
   "source": [
    "print(\"sdfsf\")"
   ]
  },
  {
   "cell_type": "markdown",
   "metadata": {
    "colab_type": "text",
    "id": "Tq1nuVNUc6Nz"
   },
   "source": [
    "It would be good to know what names cannot be used for variables, so here's a way to list all reserved keywords in the Python language:"
   ]
  },
  {
   "cell_type": "code",
   "execution_count": 27,
   "metadata": {
    "colab": {},
    "colab_type": "code",
    "id": "Ahhc3KMtZinq"
   },
   "outputs": [
    {
     "data": {
      "text/plain": [
       "['False',\n",
       " 'None',\n",
       " 'True',\n",
       " 'and',\n",
       " 'as',\n",
       " 'assert',\n",
       " 'break',\n",
       " 'class',\n",
       " 'continue',\n",
       " 'def',\n",
       " 'del',\n",
       " 'elif',\n",
       " 'else',\n",
       " 'except',\n",
       " 'finally',\n",
       " 'for',\n",
       " 'from',\n",
       " 'global',\n",
       " 'if',\n",
       " 'import',\n",
       " 'in',\n",
       " 'is',\n",
       " 'lambda',\n",
       " 'nonlocal',\n",
       " 'not',\n",
       " 'or',\n",
       " 'pass',\n",
       " 'raise',\n",
       " 'return',\n",
       " 'try',\n",
       " 'while',\n",
       " 'with',\n",
       " 'yield']"
      ]
     },
     "execution_count": 27,
     "metadata": {},
     "output_type": "execute_result"
    }
   ],
   "source": [
    "import keyword\n",
    "keyword.kwlist"
   ]
  },
  {
   "cell_type": "markdown",
   "metadata": {
    "colab_type": "text",
    "id": "NlqFqGyshGd-"
   },
   "source": [
    "### 3. **Variables and their data types** \n",
    "\n",
    "Variables can be of different types like `int` (integer), `float` (real number), `str` (string, a chain of characters lie a word or pharse, etc.) and other types we will discuss later. Not all types can be combined in an expression. Float and integer can be combined, but not integer and string."
   ]
  },
  {
   "cell_type": "code",
   "execution_count": 29,
   "metadata": {
    "colab": {},
    "colab_type": "code",
    "id": "kqucWiQghGd_"
   },
   "outputs": [
    {
     "data": {
      "text/plain": [
       "1"
      ]
     },
     "execution_count": 29,
     "metadata": {},
     "output_type": "execute_result"
    }
   ],
   "source": [
    "5 // 3   # the result of this expression is integer (integer division)"
   ]
  },
  {
   "cell_type": "code",
   "execution_count": 30,
   "metadata": {
    "colab": {},
    "colab_type": "code",
    "id": "tXV-CL6mhGeA"
   },
   "outputs": [
    {
     "data": {
      "text/plain": [
       "1.6666666666666667"
      ]
     },
     "execution_count": 30,
     "metadata": {},
     "output_type": "execute_result"
    }
   ],
   "source": [
    "5 / 3 # the result of this expression is float (floating point division)"
   ]
  },
  {
   "cell_type": "code",
   "execution_count": 31,
   "metadata": {
    "colab": {},
    "colab_type": "code",
    "id": "SF7fYO38hGeC"
   },
   "outputs": [
    {
     "data": {
      "text/plain": [
       "3"
      ]
     },
     "execution_count": 31,
     "metadata": {},
     "output_type": "execute_result"
    }
   ],
   "source": [
    "6 // 2   # Notice the difference between this..."
   ]
  },
  {
   "cell_type": "code",
   "execution_count": 32,
   "metadata": {
    "colab": {},
    "colab_type": "code",
    "id": "Nf2YA61ohGeE"
   },
   "outputs": [
    {
     "data": {
      "text/plain": [
       "3.0"
      ]
     },
     "execution_count": 32,
     "metadata": {},
     "output_type": "execute_result"
    }
   ],
   "source": [
    "6 / 2    #.... and this"
   ]
  },
  {
   "cell_type": "markdown",
   "metadata": {
    "colab_type": "text",
    "id": "bUsqwmMYhGeG"
   },
   "source": [
    "Floats and integers can be added together,  and the result is float.  \n",
    "\n",
    "**HANDS-ON:** Guess (and check it editing the below cell), what are the results of adding `int` with `int` or `float` with `float`. Float numbers will be printed with decimal point, and integers not."
   ]
  },
  {
   "cell_type": "code",
   "execution_count": 33,
   "metadata": {
    "colab": {},
    "colab_type": "code",
    "id": "bkaKHex1hGeH"
   },
   "outputs": [
    {
     "data": {
      "text/plain": [
       "16.0"
      ]
     },
     "execution_count": 33,
     "metadata": {},
     "output_type": "execute_result"
    }
   ],
   "source": [
    "3.0 + 13 "
   ]
  },
  {
   "cell_type": "markdown",
   "metadata": {
    "colab_type": "text",
    "id": "2guo6AeEG0HN"
   },
   "source": [
    "**String variables** are used to store *text* rather than numbers. They data type is called `str` and single (') or double (\") quotes can be used to enclose a string variable"
   ]
  },
  {
   "cell_type": "code",
   "execution_count": 34,
   "metadata": {
    "colab": {},
    "colab_type": "code",
    "id": "p6095grPhGeK"
   },
   "outputs": [
    {
     "data": {
      "text/plain": [
       "'aaa'"
      ]
     },
     "execution_count": 34,
     "metadata": {},
     "output_type": "execute_result"
    }
   ],
   "source": [
    "\"aaa\" # strings are represented between '' or \"\""
   ]
  },
  {
   "cell_type": "code",
   "execution_count": 35,
   "metadata": {
    "colab": {},
    "colab_type": "code",
    "id": "-42kqzuGhGeL"
   },
   "outputs": [
    {
     "data": {
      "text/plain": [
       "'aaabbb'"
      ]
     },
     "execution_count": 35,
     "metadata": {},
     "output_type": "execute_result"
    }
   ],
   "source": [
    "\"aaa\"+\"bbb\" # strings can be added together (concatenation)"
   ]
  },
  {
   "cell_type": "code",
   "execution_count": 36,
   "metadata": {
    "colab": {},
    "colab_type": "code",
    "id": "rlG7jJtnhGeN"
   },
   "outputs": [
    {
     "ename": "TypeError",
     "evalue": "must be str, not int",
     "output_type": "error",
     "traceback": [
      "\u001b[0;31m---------------------------------------------------------------------------\u001b[0m",
      "\u001b[0;31mTypeError\u001b[0m                                 Traceback (most recent call last)",
      "\u001b[0;32m<ipython-input-36-f511c5c65e56>\u001b[0m in \u001b[0;36m<module>\u001b[0;34m\u001b[0m\n\u001b[0;32m----> 1\u001b[0;31m \u001b[0;34m\"aaa\"\u001b[0m\u001b[0;34m+\u001b[0m\u001b[0;36m123\u001b[0m \u001b[0;31m# strings cannot be combined with integers\u001b[0m\u001b[0;34m\u001b[0m\u001b[0;34m\u001b[0m\u001b[0m\n\u001b[0m",
      "\u001b[0;31mTypeError\u001b[0m: must be str, not int"
     ]
    }
   ],
   "source": [
    "\"aaa\"+123 # strings cannot be combined with integers"
   ]
  },
  {
   "cell_type": "markdown",
   "metadata": {
    "colab_type": "text",
    "id": "z5aQkLDWHnBv"
   },
   "source": [
    "**Remember**: \"123\" and 123 are **NOT** the same"
   ]
  },
  {
   "cell_type": "code",
   "execution_count": 37,
   "metadata": {
    "colab": {},
    "colab_type": "code",
    "id": "tseEJkipIAc6"
   },
   "outputs": [
    {
     "ename": "TypeError",
     "evalue": "unsupported operand type(s) for +: 'int' and 'str'",
     "output_type": "error",
     "traceback": [
      "\u001b[0;31m---------------------------------------------------------------------------\u001b[0m",
      "\u001b[0;31mTypeError\u001b[0m                                 Traceback (most recent call last)",
      "\u001b[0;32m<ipython-input-37-a752e60be039>\u001b[0m in \u001b[0;36m<module>\u001b[0;34m\u001b[0m\n\u001b[0;32m----> 1\u001b[0;31m \u001b[0;36m123\u001b[0m\u001b[0;34m+\u001b[0m\u001b[0;34m\"123\"\u001b[0m\u001b[0;34m\u001b[0m\u001b[0;34m\u001b[0m\u001b[0m\n\u001b[0m",
      "\u001b[0;31mTypeError\u001b[0m: unsupported operand type(s) for +: 'int' and 'str'"
     ]
    }
   ],
   "source": [
    "123+\"123\""
   ]
  },
  {
   "cell_type": "markdown",
   "metadata": {
    "colab_type": "text",
    "id": "9_XS8y9SIF4G"
   },
   "source": [
    "Sring variables are declared just like any other variable:"
   ]
  },
  {
   "cell_type": "code",
   "execution_count": 38,
   "metadata": {
    "colab": {},
    "colab_type": "code",
    "id": "YxWPng_OIKFp"
   },
   "outputs": [],
   "source": [
    "first_name=\"James\"\n",
    "last_name=\"Bond\""
   ]
  },
  {
   "cell_type": "code",
   "execution_count": 39,
   "metadata": {
    "colab": {},
    "colab_type": "code",
    "id": "Wx6E9C21IY51"
   },
   "outputs": [
    {
     "name": "stdout",
     "output_type": "stream",
     "text": [
      "James\n"
     ]
    }
   ],
   "source": [
    "print(first_name)"
   ]
  },
  {
   "cell_type": "code",
   "execution_count": 40,
   "metadata": {
    "colab": {},
    "colab_type": "code",
    "id": "VGeQF2UeIbFX"
   },
   "outputs": [
    {
     "name": "stdout",
     "output_type": "stream",
     "text": [
      "My name is Bond James Bond\n"
     ]
    }
   ],
   "source": [
    "print(\"My name is\",last_name,first_name,last_name)"
   ]
  },
  {
   "cell_type": "code",
   "execution_count": 41,
   "metadata": {
    "colab": {},
    "colab_type": "code",
    "id": "j0mbBnspI4tI"
   },
   "outputs": [],
   "source": [
    "full_name = first_name+\" \"+last_name"
   ]
  },
  {
   "cell_type": "markdown",
   "metadata": {
    "colab_type": "text",
    "id": "lRZOeQtIJFdN"
   },
   "source": [
    "In the above cell, why do we need the \" \" between first and last name ?"
   ]
  },
  {
   "cell_type": "code",
   "execution_count": 42,
   "metadata": {
    "colab": {},
    "colab_type": "code",
    "id": "KcmrBFltJAYt"
   },
   "outputs": [
    {
     "name": "stdout",
     "output_type": "stream",
     "text": [
      "James Bond\n"
     ]
    }
   ],
   "source": [
    "print(full_name)"
   ]
  },
  {
   "cell_type": "markdown",
   "metadata": {
    "colab_type": "text",
    "id": "BhapoAYkJN4u"
   },
   "source": [
    "You may wonder why we use the \"print\" statement at all. If we type:"
   ]
  },
  {
   "cell_type": "code",
   "execution_count": 43,
   "metadata": {
    "colab": {},
    "colab_type": "code",
    "id": "5J4feQhQJT1z"
   },
   "outputs": [
    {
     "data": {
      "text/plain": [
       "'James Bond'"
      ]
     },
     "execution_count": 43,
     "metadata": {},
     "output_type": "execute_result"
    }
   ],
   "source": [
    "full_name"
   ]
  },
  {
   "cell_type": "markdown",
   "metadata": {
    "colab_type": "text",
    "id": "Z88xxS30JbGP"
   },
   "source": [
    "... the cell evaluates to the contents of our \"full_name\" variable and displays it. But when you require your output to be properly *formatted*, this won't do. You will see plenty of examples below! Also, you may want to produce more than one ouput in your cell, for instance:"
   ]
  },
  {
   "cell_type": "code",
   "execution_count": 44,
   "metadata": {
    "colab": {},
    "colab_type": "code",
    "id": "-I-vAJed6RHb"
   },
   "outputs": [
    {
     "name": "stdout",
     "output_type": "stream",
     "text": [
      "1\n",
      "2\n",
      "3\n"
     ]
    }
   ],
   "source": [
    "print(1)\n",
    "print(2)\n",
    "print(3)"
   ]
  },
  {
   "cell_type": "markdown",
   "metadata": {},
   "source": [
    "Compare the above with the ouput of the following cell:"
   ]
  },
  {
   "cell_type": "code",
   "execution_count": 45,
   "metadata": {},
   "outputs": [
    {
     "data": {
      "text/plain": [
       "3"
      ]
     },
     "execution_count": 45,
     "metadata": {},
     "output_type": "execute_result"
    }
   ],
   "source": [
    "1\n",
    "2\n",
    "3"
   ]
  },
  {
   "cell_type": "markdown",
   "metadata": {
    "colab_type": "text",
    "id": "qvBmjx90hGeO"
   },
   "source": [
    "The built-in `str` function converts `integer` to `string` or `float` to `string`. Notice how strigs are written within ''."
   ]
  },
  {
   "cell_type": "code",
   "execution_count": 46,
   "metadata": {
    "colab": {},
    "colab_type": "code",
    "id": "-yK3uZEZhGeP"
   },
   "outputs": [
    {
     "data": {
      "text/plain": [
       "'123'"
      ]
     },
     "execution_count": 46,
     "metadata": {},
     "output_type": "execute_result"
    }
   ],
   "source": [
    "str(123)  "
   ]
  },
  {
   "cell_type": "code",
   "execution_count": 47,
   "metadata": {
    "colab": {},
    "colab_type": "code",
    "id": "3EtFk8d5hGeR"
   },
   "outputs": [
    {
     "data": {
      "text/plain": [
       "'3.1416'"
      ]
     },
     "execution_count": 47,
     "metadata": {},
     "output_type": "execute_result"
    }
   ],
   "source": [
    "str(3.1416)"
   ]
  },
  {
   "cell_type": "markdown",
   "metadata": {
    "colab_type": "text",
    "id": "y29cEy1ehGeS"
   },
   "source": [
    "The built-in `float` function converts `string` to `float` or `int` to `float`"
   ]
  },
  {
   "cell_type": "code",
   "execution_count": 48,
   "metadata": {
    "colab": {},
    "colab_type": "code",
    "id": "_Jyfv0-XhGeT"
   },
   "outputs": [
    {
     "data": {
      "text/plain": [
       "1.333"
      ]
     },
     "execution_count": 48,
     "metadata": {},
     "output_type": "execute_result"
    }
   ],
   "source": [
    "float(\"1.333\") # the built-in float function converts \"str\" to \"float\""
   ]
  },
  {
   "cell_type": "code",
   "execution_count": 49,
   "metadata": {
    "colab": {},
    "colab_type": "code",
    "id": "4JZTntHIhGeU"
   },
   "outputs": [
    {
     "data": {
      "text/plain": [
       "123.0"
      ]
     },
     "execution_count": 49,
     "metadata": {},
     "output_type": "execute_result"
    }
   ],
   "source": [
    "float(123)"
   ]
  },
  {
   "cell_type": "markdown",
   "metadata": {
    "colab_type": "text",
    "id": "E8dLeVUTQqJq"
   },
   "source": [
    "This doesn't work:"
   ]
  },
  {
   "cell_type": "code",
   "execution_count": 50,
   "metadata": {
    "colab": {},
    "colab_type": "code",
    "id": "vBFq2wlJQtO3"
   },
   "outputs": [
    {
     "ename": "TypeError",
     "evalue": "must be str, not float",
     "output_type": "error",
     "traceback": [
      "\u001b[0;31m---------------------------------------------------------------------------\u001b[0m",
      "\u001b[0;31mTypeError\u001b[0m                                 Traceback (most recent call last)",
      "\u001b[0;32m<ipython-input-50-591164c162a5>\u001b[0m in \u001b[0;36m<module>\u001b[0;34m\u001b[0m\n\u001b[0;32m----> 1\u001b[0;31m \u001b[0;34m\"42\"\u001b[0m\u001b[0;34m+\u001b[0m\u001b[0;36m10.0\u001b[0m\u001b[0;34m\u001b[0m\u001b[0;34m\u001b[0m\u001b[0m\n\u001b[0m",
      "\u001b[0;31mTypeError\u001b[0m: must be str, not float"
     ]
    }
   ],
   "source": [
    "\"42\"+10.0"
   ]
  },
  {
   "cell_type": "markdown",
   "metadata": {
    "colab_type": "text",
    "id": "VFDf4XwWQ1cq"
   },
   "source": [
    "Bu this works:"
   ]
  },
  {
   "cell_type": "code",
   "execution_count": 51,
   "metadata": {
    "colab": {},
    "colab_type": "code",
    "id": "D6FqsBE0Q0X9"
   },
   "outputs": [
    {
     "data": {
      "text/plain": [
       "52.0"
      ]
     },
     "execution_count": 51,
     "metadata": {},
     "output_type": "execute_result"
    }
   ],
   "source": [
    "float(\"42\")+10"
   ]
  },
  {
   "cell_type": "markdown",
   "metadata": {},
   "source": [
    "**Magig commands** are special commands starting with the '%'. These are not part of the Python language, but rather they belong to the notebook system and do specific notebook functions. The '%who' notebook command is very useful to know all the variables we have defined on owr notebook name space (a name space contains the set of all defined variables on our current Python code. "
   ]
  },
  {
   "cell_type": "code",
   "execution_count": 52,
   "metadata": {
    "colab": {},
    "colab_type": "code",
    "id": "i1ai2hOvUrjs"
   },
   "outputs": [
    {
     "name": "stdout",
     "output_type": "stream",
     "text": [
      "a\t b\t distance\t first_name\t full_name\t keyword\t last_name\t \n"
     ]
    }
   ],
   "source": [
    "# Magic command to list python varibales defined in the notebooks\n",
    "%who"
   ]
  },
  {
   "cell_type": "markdown",
   "metadata": {
    "colab_type": "text",
    "id": "2JxGrxmthGeW"
   },
   "source": [
    "### 4. **Mathematical functions** \n",
    "\n",
    "We have just met two functions,  `float` and `str` that are an integral part of the Python language. These functions are called *built-in* because they don't require any additional commands or external modules to make them available to the programmer. Here's a list of the Python built-in functions:\n",
    "\n",
    "\n",
    "\n",
    "```\n",
    "['abs', 'all', 'any', 'ascii', 'bin', 'callable', 'chr', 'compile',\n",
    "       'delattr', 'dir', 'divmod', 'eval', 'exec', 'format', 'getattr',\n",
    "       'globals', 'hasattr', 'hash', 'hex', 'id', 'isinstance',\n",
    "       'issubclass', 'iter', 'len', 'locals', 'max', 'min', 'next', 'oct',\n",
    "       'ord', 'pow', 'print', 'repr', 'round', 'setattr', 'sorted', 'sum',\n",
    "       'vars', 'open']\n",
    "```\n",
    "\n",
    "\n",
    "\n",
    "However, the large majority of functions that we may ever want to use in Python do not fall in this category - rather than being built-in, they need to be **imported** from a Python **module**. The common mathematical functions, including `sqrt`, `sin`, `cos`, `log` and `exp` all need to be imported from the `math` module. "
   ]
  },
  {
   "cell_type": "markdown",
   "metadata": {
    "colab_type": "text",
    "id": "ACQwTAbmhGeW"
   },
   "source": [
    "Go ahead and try to use the `cos` function, as if it were a built-in function: "
   ]
  },
  {
   "cell_type": "code",
   "execution_count": 53,
   "metadata": {
    "colab": {},
    "colab_type": "code",
    "id": "IUamscYThGeX"
   },
   "outputs": [
    {
     "ename": "NameError",
     "evalue": "name 'cos' is not defined",
     "output_type": "error",
     "traceback": [
      "\u001b[0;31m---------------------------------------------------------------------------\u001b[0m",
      "\u001b[0;31mNameError\u001b[0m                                 Traceback (most recent call last)",
      "\u001b[0;32m<ipython-input-53-8c17db5a20a5>\u001b[0m in \u001b[0;36m<module>\u001b[0;34m\u001b[0m\n\u001b[0;32m----> 1\u001b[0;31m \u001b[0mcos\u001b[0m\u001b[0;34m(\u001b[0m\u001b[0;36m0.656\u001b[0m\u001b[0;34m)\u001b[0m\u001b[0;34m\u001b[0m\u001b[0;34m\u001b[0m\u001b[0m\n\u001b[0m",
      "\u001b[0;31mNameError\u001b[0m: name 'cos' is not defined"
     ]
    }
   ],
   "source": [
    "cos(0.656)"
   ]
  },
  {
   "cell_type": "markdown",
   "metadata": {
    "colab_type": "text",
    "id": "AnDRcarfN5to"
   },
   "source": [
    "Since `cos` is not built-in and you did not previously import it from a module, Python doesn't know about it (hence the \"NameError\")"
   ]
  },
  {
   "cell_type": "markdown",
   "metadata": {
    "colab_type": "text",
    "id": "zSjKFXdQhGeZ"
   },
   "source": [
    "In order to use the `cos` function, we will need to do this:"
   ]
  },
  {
   "cell_type": "code",
   "execution_count": 54,
   "metadata": {
    "colab": {},
    "colab_type": "code",
    "id": "ZKNztLeZhGeZ"
   },
   "outputs": [],
   "source": [
    "from math import cos"
   ]
  },
  {
   "cell_type": "markdown",
   "metadata": {
    "colab_type": "text",
    "id": "14zgIqithGeb"
   },
   "source": [
    "The previous command tells the Python interpreter to fetch (import) the `cos` function from the `math` library. Now let's try again:"
   ]
  },
  {
   "cell_type": "code",
   "execution_count": 55,
   "metadata": {
    "colab": {},
    "colab_type": "code",
    "id": "g820DjnDhGeb"
   },
   "outputs": [
    {
     "data": {
      "text/plain": [
       "0.7924383724359255"
      ]
     },
     "execution_count": 55,
     "metadata": {},
     "output_type": "execute_result"
    }
   ],
   "source": [
    "cos(0.656)"
   ]
  },
  {
   "cell_type": "markdown",
   "metadata": {
    "colab_type": "text",
    "id": "tT5tY67YhGeh"
   },
   "source": [
    "**HANDS-ON:** Now try to edit the previous two cells in order to calculate the square root of 2. The square root function is named `sqrt`"
   ]
  },
  {
   "cell_type": "markdown",
   "metadata": {
    "colab_type": "text",
    "id": "B1OOZx0shGej"
   },
   "source": [
    "Instead of importing a specific function, we could also import the entire `math` **module**, like this:"
   ]
  },
  {
   "cell_type": "code",
   "execution_count": 57,
   "metadata": {
    "colab": {},
    "colab_type": "code",
    "id": "W3fQoSSohGek"
   },
   "outputs": [],
   "source": [
    "import math"
   ]
  },
  {
   "cell_type": "markdown",
   "metadata": {
    "colab_type": "text",
    "id": "Uf9Z3-6jhGem"
   },
   "source": [
    "and now let's say we want to assign the `sine` of 0.23 to the variable name \"csin\""
   ]
  },
  {
   "cell_type": "code",
   "execution_count": 58,
   "metadata": {
    "colab": {},
    "colab_type": "code",
    "id": "uYTDrIbqhGem"
   },
   "outputs": [],
   "source": [
    "csin = math.sin(0.23)"
   ]
  },
  {
   "cell_type": "code",
   "execution_count": 59,
   "metadata": {
    "colab": {},
    "colab_type": "code",
    "id": "OquX3FnthGen"
   },
   "outputs": [
    {
     "name": "stdout",
     "output_type": "stream",
     "text": [
      "0.2279775235351884\n"
     ]
    }
   ],
   "source": [
    "print(csin) # The print function is used to write output in nicer ways than simply entering the variable in the cell"
   ]
  },
  {
   "cell_type": "markdown",
   "metadata": {
    "colab_type": "text",
    "id": "h-X8qaoQhGep"
   },
   "source": [
    "Now *every* function available in the `math` library can be called by prepending the word \"math.\" to its name. But what functions are there to call?? We can find them by using the `dir` built-in function:"
   ]
  },
  {
   "cell_type": "code",
   "execution_count": 60,
   "metadata": {
    "colab": {},
    "colab_type": "code",
    "id": "CqRaakRrhGep"
   },
   "outputs": [
    {
     "data": {
      "text/plain": [
       "['__doc__',\n",
       " '__loader__',\n",
       " '__name__',\n",
       " '__package__',\n",
       " '__spec__',\n",
       " 'acos',\n",
       " 'acosh',\n",
       " 'asin',\n",
       " 'asinh',\n",
       " 'atan',\n",
       " 'atan2',\n",
       " 'atanh',\n",
       " 'ceil',\n",
       " 'copysign',\n",
       " 'cos',\n",
       " 'cosh',\n",
       " 'degrees',\n",
       " 'e',\n",
       " 'erf',\n",
       " 'erfc',\n",
       " 'exp',\n",
       " 'expm1',\n",
       " 'fabs',\n",
       " 'factorial',\n",
       " 'floor',\n",
       " 'fmod',\n",
       " 'frexp',\n",
       " 'fsum',\n",
       " 'gamma',\n",
       " 'gcd',\n",
       " 'hypot',\n",
       " 'inf',\n",
       " 'isclose',\n",
       " 'isfinite',\n",
       " 'isinf',\n",
       " 'isnan',\n",
       " 'ldexp',\n",
       " 'lgamma',\n",
       " 'log',\n",
       " 'log10',\n",
       " 'log1p',\n",
       " 'log2',\n",
       " 'modf',\n",
       " 'nan',\n",
       " 'pi',\n",
       " 'pow',\n",
       " 'radians',\n",
       " 'sin',\n",
       " 'sinh',\n",
       " 'sqrt',\n",
       " 'tan',\n",
       " 'tanh',\n",
       " 'tau',\n",
       " 'trunc']"
      ]
     },
     "execution_count": 60,
     "metadata": {},
     "output_type": "execute_result"
    }
   ],
   "source": [
    "dir(math)"
   ]
  },
  {
   "cell_type": "markdown",
   "metadata": {
    "colab_type": "text",
    "id": "8nqNhu-KhGeq"
   },
   "source": [
    "The output of the `dir` command is a `list` (another data type, see below), containing a `str` for each function or variable in the `math` module (never mind the first five strings, they denote special module variables that are not meant to be called directly).\n",
    "\n",
    "So, for instance the decimal logarithm can be calculated using the `log10` function just like this:"
   ]
  },
  {
   "cell_type": "code",
   "execution_count": 61,
   "metadata": {
    "colab": {},
    "colab_type": "code",
    "id": "5M8SeljmhGer"
   },
   "outputs": [
    {
     "data": {
      "text/plain": [
       "0.47712125471966244"
      ]
     },
     "execution_count": 61,
     "metadata": {},
     "output_type": "execute_result"
    }
   ],
   "source": [
    "math.log10(3)"
   ]
  },
  {
   "cell_type": "markdown",
   "metadata": {
    "colab_type": "text",
    "id": "1SnZMLsXhGet"
   },
   "source": [
    "**HANDS-ON:** Try changing the above cell to compute different math functions."
   ]
  },
  {
   "cell_type": "markdown",
   "metadata": {
    "colab_type": "text",
    "id": "CTOIX6BqGz5C"
   },
   "source": [
    "There is another way to import all functions in a module, but it is generally best to avoid it. You can do this: "
   ]
  },
  {
   "cell_type": "code",
   "execution_count": 62,
   "metadata": {
    "colab": {},
    "colab_type": "code",
    "id": "bH-oNLvYel27"
   },
   "outputs": [],
   "source": [
    "from math import *"
   ]
  },
  {
   "cell_type": "markdown",
   "metadata": {
    "colab_type": "text",
    "id": "TsvGwReCHJcA"
   },
   "source": [
    "From this point on, all functions in the math module are part of the notebook's *name space*, meaning they can be called without prepending anythin to the function name. Let's use the %who magic command to see which symbols are currently defined in our name space:"
   ]
  },
  {
   "cell_type": "code",
   "execution_count": 63,
   "metadata": {
    "colab": {},
    "colab_type": "code",
    "id": "KS3ciWJBeoi3"
   },
   "outputs": [
    {
     "name": "stdout",
     "output_type": "stream",
     "text": [
      "a\t acos\t acosh\t asin\t asinh\t atan\t atan2\t atanh\t b\t \n",
      "ceil\t copysign\t cos\t cosh\t csin\t degrees\t distance\t e\t erf\t \n",
      "erfc\t exp\t expm1\t fabs\t factorial\t first_name\t floor\t fmod\t frexp\t \n",
      "fsum\t full_name\t gamma\t gcd\t hypot\t inf\t isclose\t isfinite\t isinf\t \n",
      "isnan\t keyword\t last_name\t ldexp\t lgamma\t log\t log10\t log1p\t log2\t \n",
      "math\t modf\t nan\t pi\t pow\t radians\t sin\t sinh\t sqrt\t \n",
      "tan\t tanh\t tau\t trunc\t \n"
     ]
    }
   ],
   "source": [
    "%who"
   ]
  },
  {
   "cell_type": "markdown",
   "metadata": {
    "colab_type": "text",
    "id": "qbC3s7H0Hmgk"
   },
   "source": [
    "As you see, **all** functions in the math module are now in the name space, so for instance if you want to compute an arc tangent, you can just do this: "
   ]
  },
  {
   "cell_type": "code",
   "execution_count": 64,
   "metadata": {
    "colab": {},
    "colab_type": "code",
    "id": "C54ANZCTeuMG"
   },
   "outputs": [
    {
     "data": {
      "text/plain": [
       "1.1071487177940904"
      ]
     },
     "execution_count": 64,
     "metadata": {},
     "output_type": "execute_result"
    }
   ],
   "source": [
    "atan(2)"
   ]
  },
  {
   "cell_type": "markdown",
   "metadata": {
    "colab_type": "text",
    "id": "um1e-VilH60j"
   },
   "source": [
    "Why is this a bad approach ?.... Because an imported module can define *hundreds* of functions, objects  and attributes whose names you cannot know in advance. It may very well happen that some of those names collide with identifiers that you have yourself previously defined, and these will be overwritten by the new module defintions, wreaking havoc in your code - it's a very dangerous thing to do. The only scenario where this acceptable is if you are just playing around with very small snippets of non-reusable code having defined a very minimal set of variables."
   ]
  },
  {
   "cell_type": "markdown",
   "metadata": {
    "colab_type": "text",
    "id": "hAzWoqhChGeu"
   },
   "source": [
    "### 5. **List Objects**\n",
    "\n",
    "Lists are what the name indicates: ordered collections of objects that can be of the same or different types.\n",
    "\n",
    "Lists are enclosed in rectangular brackets `[]`:"
   ]
  },
  {
   "cell_type": "code",
   "execution_count": 65,
   "metadata": {
    "colab": {},
    "colab_type": "code",
    "id": "0OcpcHgHhGeu"
   },
   "outputs": [
    {
     "data": {
      "text/plain": [
       "[1, 2, 4, 6, 9]"
      ]
     },
     "execution_count": 65,
     "metadata": {},
     "output_type": "execute_result"
    }
   ],
   "source": [
    "[1,2,4,6,9] # is a list of integers"
   ]
  },
  {
   "cell_type": "markdown",
   "metadata": {
    "colab_type": "text",
    "id": "TnrLkg1SJpSe"
   },
   "source": [
    "List can combine elements of different types:"
   ]
  },
  {
   "cell_type": "code",
   "execution_count": 66,
   "metadata": {
    "colab": {},
    "colab_type": "code",
    "id": "2-DRy704hGex"
   },
   "outputs": [
    {
     "data": {
      "text/plain": [
       "[1, 'dfdf', 3.454]"
      ]
     },
     "execution_count": 66,
     "metadata": {},
     "output_type": "execute_result"
    }
   ],
   "source": [
    "[1,\"dfdf\",3.454] #  is a list of integers, floats and strings"
   ]
  },
  {
   "cell_type": "markdown",
   "metadata": {
    "colab_type": "text",
    "id": "pzJhaGeZJyrM"
   },
   "source": [
    "In particular, lists can contain other lists as elements:"
   ]
  },
  {
   "cell_type": "code",
   "execution_count": 67,
   "metadata": {
    "colab": {},
    "colab_type": "code",
    "id": "zqnjqgBGhGez"
   },
   "outputs": [
    {
     "data": {
      "text/plain": [
       "[1, 2, [3, 2]]"
      ]
     },
     "execution_count": 67,
     "metadata": {},
     "output_type": "execute_result"
    }
   ],
   "source": [
    "[1, 2, [3, 2]]  # a list with elements of type list (nested lists)"
   ]
  },
  {
   "cell_type": "markdown",
   "metadata": {
    "colab_type": "text",
    "id": "E9EucU_xhGe2"
   },
   "source": [
    "Let's declare a variable of type `list` "
   ]
  },
  {
   "cell_type": "code",
   "execution_count": 68,
   "metadata": {
    "colab": {},
    "colab_type": "code",
    "id": "Oau6orE-hGe2"
   },
   "outputs": [],
   "source": [
    "myList = [2, 3, 5, 7, 11, 13, 17, 19, 21]"
   ]
  },
  {
   "cell_type": "markdown",
   "metadata": {
    "colab_type": "text",
    "id": "2iyrc02ohGe5"
   },
   "source": [
    "A given element of this list can be accessed by index:"
   ]
  },
  {
   "cell_type": "code",
   "execution_count": 69,
   "metadata": {
    "colab": {},
    "colab_type": "code",
    "id": "ToarVKZmhGe5"
   },
   "outputs": [
    {
     "data": {
      "text/plain": [
       "7"
      ]
     },
     "execution_count": 69,
     "metadata": {},
     "output_type": "execute_result"
    }
   ],
   "source": [
    "myList[3]"
   ]
  },
  {
   "cell_type": "markdown",
   "metadata": {
    "colab_type": "text",
    "id": "Pw-5niOJhGe9"
   },
   "source": [
    "**IMPORTANT: Notice that indices start at zero (not 1 like in R and other programming languages); that is, in Python the 4th number (7) has index 3 and not 4**"
   ]
  },
  {
   "cell_type": "markdown",
   "metadata": {
    "colab_type": "text",
    "id": "Z-JbQeFShGe-"
   },
   "source": [
    "Consider the following **code** (a set of instructions in Python Language):"
   ]
  },
  {
   "cell_type": "code",
   "execution_count": 70,
   "metadata": {
    "colab": {},
    "colab_type": "code",
    "id": "y1OgPshMhGe-"
   },
   "outputs": [],
   "source": [
    "a = myList[4]\n",
    "b = a + 5"
   ]
  },
  {
   "cell_type": "markdown",
   "metadata": {
    "colab_type": "text",
    "id": "F1GwI7NwhGe_"
   },
   "source": [
    "**HANDS-ON**: What do you think the value of \"b\" will be ? After making you guess, execute the next cell to find out."
   ]
  },
  {
   "cell_type": "code",
   "execution_count": 72,
   "metadata": {
    "colab": {},
    "colab_type": "code",
    "id": "80ID1HYghGe_"
   },
   "outputs": [
    {
     "name": "stdout",
     "output_type": "stream",
     "text": [
      "16\n"
     ]
    }
   ],
   "source": [
    "print(b) # This is the Python print function, for now does the same as typing the variable itself"
   ]
  },
  {
   "cell_type": "markdown",
   "metadata": {
    "colab_type": "text",
    "id": "CLWKECmHhGfB"
   },
   "source": [
    "It is also possible to refer to a **range** of values within a list (it's called a \"slice\" in Python):"
   ]
  },
  {
   "cell_type": "code",
   "execution_count": 73,
   "metadata": {
    "colab": {},
    "colab_type": "code",
    "id": "YwASWPTFhGfB"
   },
   "outputs": [
    {
     "data": {
      "text/plain": [
       "[11, 13, 17, 19]"
      ]
     },
     "execution_count": 73,
     "metadata": {},
     "output_type": "execute_result"
    }
   ],
   "source": [
    "myList[4:8]"
   ]
  },
  {
   "cell_type": "markdown",
   "metadata": {
    "colab_type": "text",
    "id": "LDH4NOt2hGfF"
   },
   "source": [
    "The result is a list containing the elements of myList from position 4 to position 7.   \n",
    "\n",
    "**IMPORTANT NOTE**: notice that the element number 8 is not included, even though it's used as upper value in the range. That's just how Python works, you will have to get used to it. \n",
    "\n",
    "General form of slice notation:\n",
    "\n",
    "\n",
    "```\n",
    "a[start:end:step]\n",
    "```\n",
    "means elements from \"start\" (included) to \"end\" (excluded) with a spacing of \"step\" elements (\"step\" is 1 by default)\n"
   ]
  },
  {
   "cell_type": "code",
   "execution_count": 74,
   "metadata": {
    "colab": {},
    "colab_type": "code",
    "id": "1iJbYlEQLEPz"
   },
   "outputs": [
    {
     "data": {
      "text/plain": [
       "[3, 7, 13]"
      ]
     },
     "execution_count": 74,
     "metadata": {},
     "output_type": "execute_result"
    }
   ],
   "source": [
    "myList[1:7:2]  # from element 1 to 6, skipping 1"
   ]
  },
  {
   "cell_type": "markdown",
   "metadata": {
    "colab_type": "text",
    "id": "5YOt3kVrhGfF"
   },
   "source": [
    "Lists are dynamic, we can add elements to or remove elements from them after they are created. For that, we need a set of special functions called *string methods*. Let's see how the `append` method works."
   ]
  },
  {
   "cell_type": "code",
   "execution_count": 75,
   "metadata": {
    "colab": {},
    "colab_type": "code",
    "id": "zA5mxWOrhGfF"
   },
   "outputs": [],
   "source": [
    "myList.append(23)  # methods are separated from the variable name by a \".\""
   ]
  },
  {
   "cell_type": "code",
   "execution_count": 76,
   "metadata": {
    "colab": {},
    "colab_type": "code",
    "id": "hMEBuZcIhGfG"
   },
   "outputs": [
    {
     "name": "stdout",
     "output_type": "stream",
     "text": [
      "[2, 3, 5, 7, 11, 13, 17, 19, 21, 23]\n"
     ]
    }
   ],
   "source": [
    "print(myList)"
   ]
  },
  {
   "cell_type": "markdown",
   "metadata": {
    "colab_type": "text",
    "id": "NF6BUTe6hGfJ"
   },
   "source": [
    "As you see, our list has another element at the end, the number 23. What about removing an element ? Let's do it whith the method `pop`"
   ]
  },
  {
   "cell_type": "code",
   "execution_count": 77,
   "metadata": {
    "colab": {},
    "colab_type": "code",
    "id": "OlAWWt7JhGfK"
   },
   "outputs": [
    {
     "data": {
      "text/plain": [
       "23"
      ]
     },
     "execution_count": 77,
     "metadata": {},
     "output_type": "execute_result"
    }
   ],
   "source": [
    "myList.pop()"
   ]
  },
  {
   "cell_type": "markdown",
   "metadata": {
    "colab_type": "text",
    "id": "FCfPDTXKhGfL"
   },
   "source": [
    "Notice the `pop` method *returned* a value, which was print as the ouput of the command. Compare this with the `append` command, which returned nothing. Let's check our list again. "
   ]
  },
  {
   "cell_type": "code",
   "execution_count": 78,
   "metadata": {
    "colab": {},
    "colab_type": "code",
    "id": "LyoLHvtVhGfL",
    "scrolled": true
   },
   "outputs": [
    {
     "name": "stdout",
     "output_type": "stream",
     "text": [
      "[2, 3, 5, 7, 11, 13, 17, 19, 21]\n"
     ]
    }
   ],
   "source": [
    "print(myList)"
   ]
  },
  {
   "cell_type": "markdown",
   "metadata": {
    "colab_type": "text",
    "id": "ZpCDz-tThGfN"
   },
   "source": [
    "The last element was removed, and the list is back to its original form."
   ]
  },
  {
   "cell_type": "markdown",
   "metadata": {
    "colab_type": "text",
    "id": "YpRxedULhGfN"
   },
   "source": [
    "**HANDS-ON**: Now, try to guess what's happening here:"
   ]
  },
  {
   "cell_type": "code",
   "execution_count": 79,
   "metadata": {
    "colab": {},
    "colab_type": "code",
    "id": "zpkNtx7NhGfO"
   },
   "outputs": [],
   "source": [
    "a = myList.pop()"
   ]
  },
  {
   "cell_type": "markdown",
   "metadata": {
    "colab_type": "text",
    "id": "ddPsJwFahGfP"
   },
   "source": [
    "**HANDS-ON**: What is the value of \"a\" ? Try inserting a cell below this one using the `ALT+ENTER` command, and print the value of variable `a` using that cell."
   ]
  },
  {
   "cell_type": "markdown",
   "metadata": {
    "colab_type": "text",
    "id": "RFMK8-18hGfS"
   },
   "source": [
    "That's right, variable `a` contains the value 21, i.e. the removed last element of our list. This is what the *return* value is for: something to be assigned to a variable, or printed.  Our \"myList\" object now contains one fewer element:"
   ]
  },
  {
   "cell_type": "code",
   "execution_count": 80,
   "metadata": {
    "colab": {},
    "colab_type": "code",
    "id": "OYX5HL5_hGfP"
   },
   "outputs": [
    {
     "name": "stdout",
     "output_type": "stream",
     "text": [
      "[2, 3, 5, 7, 11, 13, 17, 19]\n"
     ]
    }
   ],
   "source": [
    "print(myList)"
   ]
  },
  {
   "cell_type": "markdown",
   "metadata": {
    "colab_type": "text",
    "id": "h7YzX8P7hGfS"
   },
   "source": [
    "That's great, but what if we want to insert or remove a variable in any position other than the last ? That's what the `insert` and `remove` methods are for:"
   ]
  },
  {
   "cell_type": "code",
   "execution_count": 81,
   "metadata": {
    "colab": {},
    "colab_type": "code",
    "id": "8VCUXY_4hGfT"
   },
   "outputs": [],
   "source": [
    "myList.insert(4,100)"
   ]
  },
  {
   "cell_type": "code",
   "execution_count": 83,
   "metadata": {
    "colab": {},
    "colab_type": "code",
    "id": "NMR5T2gshGfU"
   },
   "outputs": [
    {
     "data": {
      "text/plain": [
       "[2, 3, 5, 7, 100, 11, 13, 17, 19]"
      ]
     },
     "execution_count": 83,
     "metadata": {},
     "output_type": "execute_result"
    }
   ],
   "source": [
    "myList"
   ]
  },
  {
   "cell_type": "markdown",
   "metadata": {
    "colab_type": "text",
    "id": "DmC0lOjvhGfX"
   },
   "source": [
    "**Explanation:** The value \"100\" is inserted *after* the fourth element."
   ]
  },
  {
   "cell_type": "code",
   "execution_count": 84,
   "metadata": {
    "colab": {},
    "colab_type": "code",
    "id": "S2zERxbwhGfX"
   },
   "outputs": [],
   "source": [
    "a = myList.pop(4)"
   ]
  },
  {
   "cell_type": "code",
   "execution_count": 85,
   "metadata": {
    "colab": {},
    "colab_type": "code",
    "id": "9LeKNqvIhGfY"
   },
   "outputs": [
    {
     "data": {
      "text/plain": [
       "100"
      ]
     },
     "execution_count": 85,
     "metadata": {},
     "output_type": "execute_result"
    }
   ],
   "source": [
    "a"
   ]
  },
  {
   "cell_type": "markdown",
   "metadata": {
    "colab_type": "text",
    "id": "Y0gvDkKKhGfZ"
   },
   "source": [
    "Notice the `pop` method now has a number between the round brackets. This number is called an *argument* to the `pop` method. In this case, it indicates the position of the number to be *popped* (i.e. removed). "
   ]
  },
  {
   "cell_type": "code",
   "execution_count": 86,
   "metadata": {
    "colab": {},
    "colab_type": "code",
    "id": "ZpGPvi6ahGfa"
   },
   "outputs": [
    {
     "data": {
      "text/plain": [
       "[2, 3, 5, 7, 11, 13, 17, 19]"
      ]
     },
     "execution_count": 86,
     "metadata": {},
     "output_type": "execute_result"
    }
   ],
   "source": [
    "myList"
   ]
  },
  {
   "cell_type": "markdown",
   "metadata": {
    "colab_type": "text",
    "id": "kFd1JnrVhGfb"
   },
   "source": [
    "The Python Language has several other *list methods*, you can check them at https://www.programiz.com/python-programming/methods/list"
   ]
  },
  {
   "cell_type": "markdown",
   "metadata": {
    "colab_type": "text",
    "id": "GrVdU4SUhGfc"
   },
   "source": [
    "We can use the `dir` function to list all the methods available to the `str` type."
   ]
  },
  {
   "cell_type": "code",
   "execution_count": 87,
   "metadata": {
    "colab": {},
    "colab_type": "code",
    "id": "ekXJQ_-Ln-Bc"
   },
   "outputs": [
    {
     "data": {
      "text/plain": [
       "['__add__',\n",
       " '__class__',\n",
       " '__contains__',\n",
       " '__delattr__',\n",
       " '__dir__',\n",
       " '__doc__',\n",
       " '__eq__',\n",
       " '__format__',\n",
       " '__ge__',\n",
       " '__getattribute__',\n",
       " '__getitem__',\n",
       " '__getnewargs__',\n",
       " '__gt__',\n",
       " '__hash__',\n",
       " '__init__',\n",
       " '__init_subclass__',\n",
       " '__iter__',\n",
       " '__le__',\n",
       " '__len__',\n",
       " '__lt__',\n",
       " '__mod__',\n",
       " '__mul__',\n",
       " '__ne__',\n",
       " '__new__',\n",
       " '__reduce__',\n",
       " '__reduce_ex__',\n",
       " '__repr__',\n",
       " '__rmod__',\n",
       " '__rmul__',\n",
       " '__setattr__',\n",
       " '__sizeof__',\n",
       " '__str__',\n",
       " '__subclasshook__',\n",
       " 'capitalize',\n",
       " 'casefold',\n",
       " 'center',\n",
       " 'count',\n",
       " 'encode',\n",
       " 'endswith',\n",
       " 'expandtabs',\n",
       " 'find',\n",
       " 'format',\n",
       " 'format_map',\n",
       " 'index',\n",
       " 'isalnum',\n",
       " 'isalpha',\n",
       " 'isdecimal',\n",
       " 'isdigit',\n",
       " 'isidentifier',\n",
       " 'islower',\n",
       " 'isnumeric',\n",
       " 'isprintable',\n",
       " 'isspace',\n",
       " 'istitle',\n",
       " 'isupper',\n",
       " 'join',\n",
       " 'ljust',\n",
       " 'lower',\n",
       " 'lstrip',\n",
       " 'maketrans',\n",
       " 'partition',\n",
       " 'replace',\n",
       " 'rfind',\n",
       " 'rindex',\n",
       " 'rjust',\n",
       " 'rpartition',\n",
       " 'rsplit',\n",
       " 'rstrip',\n",
       " 'split',\n",
       " 'splitlines',\n",
       " 'startswith',\n",
       " 'strip',\n",
       " 'swapcase',\n",
       " 'title',\n",
       " 'translate',\n",
       " 'upper',\n",
       " 'zfill']"
      ]
     },
     "execution_count": 87,
     "metadata": {},
     "output_type": "execute_result"
    }
   ],
   "source": [
    "dir(str)"
   ]
  },
  {
   "cell_type": "markdown",
   "metadata": {
    "colab_type": "text",
    "id": "GA0vF-BehGfe"
   },
   "source": [
    "A very useful buiilt-in Python function that we can use with `list` objects is `len` (for length). It simply returns the number of elements in the list:"
   ]
  },
  {
   "cell_type": "code",
   "execution_count": 88,
   "metadata": {
    "colab": {},
    "colab_type": "code",
    "id": "pB9jlewAhGfe"
   },
   "outputs": [
    {
     "data": {
      "text/plain": [
       "8"
      ]
     },
     "execution_count": 88,
     "metadata": {},
     "output_type": "execute_result"
    }
   ],
   "source": [
    "len(myList)"
   ]
  },
  {
   "cell_type": "markdown",
   "metadata": {
    "colab_type": "text",
    "id": "-WMgaTUxhGff"
   },
   "source": [
    "And by the way, we can also use `len` with strings. Not surprisingly, it returns the number of characters, i.e. the length of a string in characters (notice that spaces are also characters):"
   ]
  },
  {
   "cell_type": "code",
   "execution_count": 89,
   "metadata": {
    "colab": {},
    "colab_type": "code",
    "id": "DOhZzYqEhGfg"
   },
   "outputs": [
    {
     "data": {
      "text/plain": [
       "16"
      ]
     },
     "execution_count": 89,
     "metadata": {},
     "output_type": "execute_result"
    }
   ],
   "source": [
    "myString= \"This is a string\"\n",
    "len(myString)"
   ]
  },
  {
   "cell_type": "markdown",
   "metadata": {
    "colab_type": "text",
    "id": "XIR4tNCEhGfh"
   },
   "source": [
    "In actual fact, string objects are somewhat like lists (with a big difference we'll discuss later) in that they can be *indexed* much in the same way:"
   ]
  },
  {
   "cell_type": "code",
   "execution_count": 90,
   "metadata": {
    "colab": {},
    "colab_type": "code",
    "id": "8g3ad9IqhGfh"
   },
   "outputs": [
    {
     "data": {
      "text/plain": [
       "'s'"
      ]
     },
     "execution_count": 90,
     "metadata": {},
     "output_type": "execute_result"
    }
   ],
   "source": [
    "myString[3]"
   ]
  },
  {
   "cell_type": "code",
   "execution_count": 91,
   "metadata": {
    "colab": {},
    "colab_type": "code",
    "id": "AVpKnZ9QhGfj"
   },
   "outputs": [
    {
     "data": {
      "text/plain": [
       "'a string'"
      ]
     },
     "execution_count": 91,
     "metadata": {},
     "output_type": "execute_result"
    }
   ],
   "source": [
    "myString[8:16]"
   ]
  },
  {
   "cell_type": "markdown",
   "metadata": {
    "colab_type": "text",
    "id": "OIuPFZbKhGfl"
   },
   "source": [
    "In Python, we say that data types like `str` and `list` are ***iterables*** because they can be indexed in this way. "
   ]
  },
  {
   "cell_type": "markdown",
   "metadata": {
    "colab_type": "text",
    "id": "WbmLHEuqhGfl"
   },
   "source": [
    "### 6. **Iteration and Programming**"
   ]
  },
  {
   "cell_type": "markdown",
   "metadata": {
    "colab_type": "text",
    "id": "Q479mZVYhGfm"
   },
   "source": [
    "Python is a programming language. However, it would be a long shot to call what we did so far \"programming\". Programs are sets of computer instructions that are to be executed in a specific order depending on a number of conditions. What we did was to print the value of some Python objects, to assign values to variables and to look at the effect of some functions and their return values. That is **not** programming.\n",
    "\n",
    "But wait... maybe we did something akin to programming, when we wrote cells containing more than one Python instruction. Consider the following cell:"
   ]
  },
  {
   "cell_type": "code",
   "execution_count": 93,
   "metadata": {
    "colab": {},
    "colab_type": "code",
    "id": "DX0yOQdyhGfm"
   },
   "outputs": [
    {
     "name": "stdout",
     "output_type": "stream",
     "text": [
      "3\n"
     ]
    }
   ],
   "source": [
    "a = 1\n",
    "b = 2\n",
    "c = a + b\n",
    "print(c)"
   ]
  },
  {
   "cell_type": "markdown",
   "metadata": {
    "colab_type": "text",
    "id": "BT6K6ZedhGfn"
   },
   "source": [
    "The previous cell contains a ***sequence*** of instructions that the Python interpreter executes in turn. First the value 1 is assigned to variable `a`, then the value 2 is assigned to variable `b`, then the sum of variables `a` and `b` is assigned to variable `c`, then value of `c` is printed. This *\"then, then, then, ...\"* is what programming is about, *executing series of instructions in sequence*. However, programming would be very unpractical (and useless) if we had to **explicitly** write down every instruction we want our program to execute. \n",
    "\n",
    "To better apreciate this crucial point, consider the following problem. We have a list of product prices that we have stored in a Python object of type... list, of course:"
   ]
  },
  {
   "cell_type": "code",
   "execution_count": 96,
   "metadata": {
    "colab": {},
    "colab_type": "code",
    "id": "hdeFTu7ohGfo"
   },
   "outputs": [],
   "source": [
    "Prices = [24.04, 12.22, 21.43, 26.11, 11.01, 27.59, 31.15, 18.91, 19.58, 17.66, 17.6, 12.96, 17.26, 4.76, 19.62]"
   ]
  },
  {
   "cell_type": "markdown",
   "metadata": {
    "colab_type": "text",
    "id": "tULe7CohhGfo"
   },
   "source": [
    "And we want to update the list by adding a 23% VAT to each price. We could go like this:"
   ]
  },
  {
   "cell_type": "code",
   "execution_count": 95,
   "metadata": {
    "colab": {},
    "colab_type": "code",
    "id": "yD5GSV5uhGfp"
   },
   "outputs": [],
   "source": [
    "Prices[0] = Prices[0] * 1.23\n",
    "Prices[1] = Prices[1] * 1.23\n",
    "Prices[2] = Prices[2] * 1.23\n",
    "Prices[3] = Prices[3] * 1.23\n",
    "# and so on until Prices[14] since there are 15 elements in our list."
   ]
  },
  {
   "cell_type": "markdown",
   "metadata": {
    "colab_type": "text",
    "id": "_-RyJmyDhGfp"
   },
   "source": [
    "Ok, we could do this in a short time. But suppose we had 1000 prices ? There must be a better way to tell the computer to perform those 1000 instructions, but without having to *explicitly* type them.\n",
    "\n",
    "That's where the real programming starts. We need to tell the computer to *iterate over the full list and update each price in turn*. Here's one way we could do it with Python: "
   ]
  },
  {
   "cell_type": "code",
   "execution_count": null,
   "metadata": {
    "colab": {},
    "colab_type": "code",
    "id": "KlaSmoz2hGfq"
   },
   "outputs": [],
   "source": [
    "for i in range(15): # there are 15 elements in our price list\n",
    "    Prices[i] = Prices[i] * 1.23  # this line  is an _indended_ block (one \"Tab\" to the righ)"
   ]
  },
  {
   "cell_type": "markdown",
   "metadata": {
    "colab_type": "text",
    "id": "_tAKdIqFhGfq"
   },
   "source": [
    "So, what's going on here ? Let's try to break it down in steps:\n",
    "1. We have a line starting with `for`... this is a Python command used to create `for` loops. It tells the Python interpreter to assign the variable `i` to *each* value in range(15)\n",
    "2. What is range(15)? It's just a kind of shortand for the list `[0,1,2,3,4,5,6,7,8,9,10,11,12,13,14]` so that the computer will assign to `i` the values from 0 to 14 each in turn. (NOTE: as with index slices, the upper value in range is 1 above the limit, so in this case it stops at 14)\n",
    "3. For each value of `i`, execute the line inside the loop (notice that the line after the instruction `for` is *indented*, meaning that the line is moved to the right). It will do:   \n",
    "`i=0, Prices[0] = Prices[0] * 1.23`, *then* `i=1, Prices[1] = Prices[1] * 1.23`, and so on until 14. "
   ]
  },
  {
   "cell_type": "markdown",
   "metadata": {
    "colab_type": "text",
    "id": "ljRkLcE8hGfr"
   },
   "source": [
    "Let's check that the \"Prices\" list now contains the updated values:"
   ]
  },
  {
   "cell_type": "code",
   "execution_count": 100,
   "metadata": {
    "colab": {},
    "colab_type": "code",
    "id": "3_J8zDq_hGfr"
   },
   "outputs": [
    {
     "name": "stdout",
     "output_type": "stream",
     "text": [
      "[24.04, 12.22, 21.43, 26.11, 11.01, 27.59, 31.15, 18.91, 19.58, 17.66, 17.6, 12.96, 17.26, 4.76, 19.62]\n"
     ]
    }
   ],
   "source": [
    "print(Prices)"
   ]
  },
  {
   "cell_type": "markdown",
   "metadata": {
    "colab_type": "text",
    "id": "Amsx0mKWhGft"
   },
   "source": [
    "Notice that `range(15)` is like a list (to be precise it is not a list, but let's leave that for now), so it may be that we could use any list on our `for` loop. For instance:"
   ]
  },
  {
   "cell_type": "code",
   "execution_count": 101,
   "metadata": {
    "colab": {},
    "colab_type": "code",
    "id": "uZxGyMzDhGft"
   },
   "outputs": [
    {
     "name": "stdout",
     "output_type": "stream",
     "text": [
      "2404.0\n",
      "1222.0\n",
      "2143.0\n",
      "2611.0\n",
      "1101.0\n",
      "2759.0\n",
      "3115.0\n",
      "1891.0\n",
      "1957.9999999999998\n",
      "1766.0\n",
      "1760.0000000000002\n",
      "1296.0\n",
      "1726.0000000000002\n",
      "476.0\n",
      "1962.0\n"
     ]
    }
   ],
   "source": [
    "for p in Prices:\n",
    "    print(p*100)"
   ]
  },
  {
   "cell_type": "markdown",
   "metadata": {
    "colab_type": "text",
    "id": "Csafoq6GhGfu"
   },
   "source": [
    "The `for` loop assigns each value of \"Prices\" to the variable \"p\" in turn, and prints the result of multiplying that value by 100. "
   ]
  },
  {
   "cell_type": "markdown",
   "metadata": {
    "colab_type": "text",
    "id": "iwFinrjrkcvT"
   },
   "source": [
    "The general form of a Python for loop is\n",
    "\n",
    "```\n",
    "for variable(s) in iterable:\n",
    "            statement(s)\n",
    "```\n",
    "\n",
    "where \"iterable\" is any expression than can return successive values, like a list or a str.  Note that \"statement(s)\" must be indendented to make them part of the for loop (and at the same level, or an error will ensue)."
   ]
  },
  {
   "cell_type": "markdown",
   "metadata": {
    "colab_type": "text",
    "id": "JpQ6yLpnhGfu"
   },
   "source": [
    "The printed values are hard to read, because there are a lot of digits after the decimal point - they are *unformatted*. We can format them with the Python `format` string method:"
   ]
  },
  {
   "cell_type": "code",
   "execution_count": 106,
   "metadata": {
    "colab": {},
    "colab_type": "code",
    "id": "sV8AfWd3hGfv"
   },
   "outputs": [
    {
     "name": "stdout",
     "output_type": "stream",
     "text": [
      "2404.00\n",
      "1222.00\n",
      "2143.00\n",
      "2611.00\n",
      "1101.00\n",
      "2759.00\n",
      "3115.00\n",
      "1891.00\n",
      "1958.00\n",
      "1766.00\n",
      "1760.00\n",
      "1296.00\n",
      "1726.00\n",
      " 476.00\n",
      "1962.00\n"
     ]
    }
   ],
   "source": [
    "for price in Prices:\n",
    "    print(\"{:7.2f}\".format(price*100))"
   ]
  },
  {
   "cell_type": "markdown",
   "metadata": {
    "colab_type": "text",
    "id": "0TXQddTPhGfy"
   },
   "source": [
    "The result looks much better. The code `{:7.2f}` indicates that whatever is *inside* the format command should be printed with 2 digits after the decimal point on a field that is 7 characters wide. This allows us to print nicely formatted and aligned tables. Let's go back to our original price list:"
   ]
  },
  {
   "cell_type": "code",
   "execution_count": 107,
   "metadata": {
    "colab": {},
    "colab_type": "code",
    "id": "_n1VHAf7hGf2"
   },
   "outputs": [],
   "source": [
    "Prices = [24.04, 12.22, 21.43, 26.11, 11.01, 27.59, 31.15, 18.91, 19.58, 17.66, 17.6, 12.96, 17.26, 4.76, 19.62]"
   ]
  },
  {
   "cell_type": "markdown",
   "metadata": {
    "colab_type": "text",
    "id": "ZjB5tIgChGf3"
   },
   "source": [
    "Suppose we want to print a table with two columns, one for the original prices, and the other for the VAT-adjusted prices. We could do:"
   ]
  },
  {
   "cell_type": "code",
   "execution_count": 108,
   "metadata": {
    "colab": {},
    "colab_type": "code",
    "id": "Lbid1V88hGf4"
   },
   "outputs": [
    {
     "name": "stdout",
     "output_type": "stream",
     "text": [
      "  24.04   29.57\n",
      "  12.22   15.03\n",
      "  21.43   26.36\n",
      "  26.11   32.12\n",
      "  11.01   13.54\n",
      "  27.59   33.94\n",
      "  31.15   38.31\n",
      "  18.91   23.26\n",
      "  19.58   24.08\n",
      "  17.66   21.72\n",
      "  17.60   21.65\n",
      "  12.96   15.94\n",
      "  17.26   21.23\n",
      "   4.76    5.85\n",
      "  19.62   24.13\n"
     ]
    }
   ],
   "source": [
    "for p in Prices:\n",
    "    print(\"{:7.2f} {:7.2f}\".format(p,p*1.23))"
   ]
  },
  {
   "cell_type": "markdown",
   "metadata": {
    "colab_type": "text",
    "id": "wD63TErwhGf6"
   },
   "source": [
    "Notice that the `format` method accepts two arguments, `p` and `p*1.23`, and the string contatins *two* copies of the format code `{:7.2f}` - the two must match in number. "
   ]
  },
  {
   "cell_type": "markdown",
   "metadata": {
    "colab_type": "text",
    "id": "5sLCyX4uhGf6"
   },
   "source": [
    "### 7. **Making decisions: conditional programming**"
   ]
  },
  {
   "cell_type": "markdown",
   "metadata": {
    "colab_type": "text",
    "id": "wxqzUApUhGf7"
   },
   "source": [
    "So now we know how to write programs that repeat statements many times, without us having to type all the stuff the program does. These programs have one important limitation: they will always do the same, no matter what the initial conditions are. Programming becomes really powerful when we introduce *decisions* to be made based on specific circustances, e.g. input values. \n",
    "\n",
    "Let's run the following piece of code:"
   ]
  },
  {
   "cell_type": "code",
   "execution_count": 110,
   "metadata": {
    "colab": {},
    "colab_type": "code",
    "id": "PhkAPzfuhGf7"
   },
   "outputs": [
    {
     "name": "stdout",
     "output_type": "stream",
     "text": [
      "Please insert a number in this box: -2\n"
     ]
    },
    {
     "ename": "ValueError",
     "evalue": "math domain error",
     "output_type": "error",
     "traceback": [
      "\u001b[0;31m---------------------------------------------------------------------------\u001b[0m",
      "\u001b[0;31mValueError\u001b[0m                                Traceback (most recent call last)",
      "\u001b[0;32m<ipython-input-110-4d9e9872114b>\u001b[0m in \u001b[0;36m<module>\u001b[0;34m\u001b[0m\n\u001b[1;32m      2\u001b[0m \u001b[0ma\u001b[0m \u001b[0;34m=\u001b[0m \u001b[0minput\u001b[0m\u001b[0;34m(\u001b[0m\u001b[0;34m\"Please insert a number in this box: \"\u001b[0m\u001b[0;34m)\u001b[0m\u001b[0;34m\u001b[0m\u001b[0;34m\u001b[0m\u001b[0m\n\u001b[1;32m      3\u001b[0m \u001b[0ma\u001b[0m \u001b[0;34m=\u001b[0m \u001b[0mfloat\u001b[0m\u001b[0;34m(\u001b[0m\u001b[0ma\u001b[0m\u001b[0;34m)\u001b[0m\u001b[0;34m\u001b[0m\u001b[0;34m\u001b[0m\u001b[0m\n\u001b[0;32m----> 4\u001b[0;31m \u001b[0mprint\u001b[0m\u001b[0;34m(\u001b[0m\u001b[0;34m\"The square root of {} is {}\"\u001b[0m\u001b[0;34m.\u001b[0m\u001b[0mformat\u001b[0m\u001b[0;34m(\u001b[0m\u001b[0ma\u001b[0m\u001b[0;34m,\u001b[0m\u001b[0msqrt\u001b[0m\u001b[0;34m(\u001b[0m\u001b[0ma\u001b[0m\u001b[0;34m)\u001b[0m\u001b[0;34m)\u001b[0m\u001b[0;34m)\u001b[0m\u001b[0;34m\u001b[0m\u001b[0;34m\u001b[0m\u001b[0m\n\u001b[0m",
      "\u001b[0;31mValueError\u001b[0m: math domain error"
     ]
    }
   ],
   "source": [
    "from math import sqrt\n",
    "a = input(\"Please insert a number in this box: \")\n",
    "a = float(a)\n",
    "print(\"The square root of {} is {}\".format(a,sqrt(a)))"
   ]
  },
  {
   "cell_type": "markdown",
   "metadata": {
    "colab_type": "text",
    "id": "rhuQmu-qhGf8"
   },
   "source": [
    "Fist, notice we introduced a new *function*, called `input`. This function will prompt the user with a message, and wait for some value to be typed, after which the user must press the ENTER key. The inserted value will be assigned to the variable `a` as a *string*. This last point is really important, and it explains the need for the next line in the code, `a = float(a)`, which replaces the string by it's value as a `float` number (for instance, \"3\" is replaced with 3. Without this line, the call to the `sqrt` function in the next line would produce an error. \n",
    "\n",
    "**HANDS-ON:** Run the cell with SHIT+ENTER, try different values in the box and observe the ouput. Try removing the line `a = float(a)`, run the program again and notice the error it produces. \n",
    "\n",
    "Have you tried to input a negative value, like -2? ... Try it now, and see what happens - you will get a `ValueError: math domain error` message. This is understandable, because the *real-valued* square root function is not defined for negative arguments. What could we do to prevent a negative user input from producing this ugly error??... That's where *decision* programming comes in. What we want to do is: \"IF the user inputs a negative number, then don't try to calculate the `sqrt` function, but instead produce a warning to the user\". We can do this with the appropriately named **if** statement:"
   ]
  },
  {
   "cell_type": "code",
   "execution_count": 129,
   "metadata": {
    "colab": {},
    "colab_type": "code",
    "id": "xGcNnm_shGf8"
   },
   "outputs": [
    {
     "name": "stdout",
     "output_type": "stream",
     "text": [
      "Please insert a number in this box: -2\n",
      "WARNING: Invalid user input. Removing the negative sign.\n",
      "The square root of 2.0 is 1.4142135623730951\n"
     ]
    }
   ],
   "source": [
    "from math import sqrt\n",
    "a = input(\"Please insert a number in this box: \")\n",
    "a = float(a)\n",
    "if a < 0 :\n",
    "    print(\"WARNING: Invalid user input. Removing the negative sign.\")\n",
    "    a = -a\n",
    "print(\"The square root of {} is {}\".format(a,sqrt(a)))"
   ]
  },
  {
   "cell_type": "markdown",
   "metadata": {
    "colab_type": "text",
    "id": "eQcSQ8sxhGf8"
   },
   "source": [
    "The general form is\n",
    "```\n",
    "if condition :\n",
    "    statement(s)\n",
    "```\n",
    "Meaning that the *statement(s)* will only execute if the condition is **True**. \n",
    "\n",
    "Conditions are *logical* expressions whose value can either be *True* or *False*. Some examples:\n",
    "\n",
    "- a > b (a greater than b)\n",
    "- a < b (a smaller than b)\n",
    "- a >= b (a greater or equal to b)\n",
    "- a <= (a smaller or equal to b)\n",
    "- a == b (a is equal to b)\n",
    "- a != b (a is different from b)\n",
    "\n",
    "Let's try and evaluate a logical expression in a notebook cell:"
   ]
  },
  {
   "cell_type": "code",
   "execution_count": 111,
   "metadata": {
    "colab": {},
    "colab_type": "code",
    "id": "H4k8YERVhGf9"
   },
   "outputs": [
    {
     "data": {
      "text/plain": [
       "True"
      ]
     },
     "execution_count": 111,
     "metadata": {},
     "output_type": "execute_result"
    }
   ],
   "source": [
    "5 > 4"
   ]
  },
  {
   "cell_type": "markdown",
   "metadata": {
    "colab_type": "text",
    "id": "KAGU6pIIhGf9"
   },
   "source": [
    "5 is indeed greater than 4, so the result value of this cell is \"True\".\n",
    "\n",
    "**HANDS-ON**: Try to change the above expression in different ways, producing values that are either \"True\" or \"False\"."
   ]
  },
  {
   "cell_type": "markdown",
   "metadata": {
    "colab_type": "text",
    "id": "Axo94SXWhGf9"
   },
   "source": [
    "In fact, we can assign the resulting \"True\" or \"False\" value to a variable. Run the following code:"
   ]
  },
  {
   "cell_type": "code",
   "execution_count": 112,
   "metadata": {
    "colab": {},
    "colab_type": "code",
    "id": "UjS5aY-ThGf-"
   },
   "outputs": [
    {
     "name": "stdout",
     "output_type": "stream",
     "text": [
      "True\n"
     ]
    }
   ],
   "source": [
    "a = 5 > 3\n",
    "print(a)"
   ]
  },
  {
   "cell_type": "markdown",
   "metadata": {
    "colab_type": "text",
    "id": "3vYyao4RhGf_"
   },
   "source": [
    "The return value of the expression `5 > 3` has been assigned to `a`. That is a new data type, which can only be \"True\" or \"False\", and it is called a `bool` (short for \"boolean\"). \n",
    "\n",
    "Check this:"
   ]
  },
  {
   "cell_type": "code",
   "execution_count": 113,
   "metadata": {
    "colab": {},
    "colab_type": "code",
    "id": "2Lu_ftFdhGgA"
   },
   "outputs": [
    {
     "data": {
      "text/plain": [
       "bool"
      ]
     },
     "execution_count": 113,
     "metadata": {},
     "output_type": "execute_result"
    }
   ],
   "source": [
    "type(a)"
   ]
  },
  {
   "cell_type": "markdown",
   "metadata": {
    "colab_type": "text",
    "id": "uMBNVETOhGgB"
   },
   "source": [
    "The `type` function is a very useful tool to find out the type of a variable or data object. It can be applied to many different kinds of objects:"
   ]
  },
  {
   "cell_type": "code",
   "execution_count": 114,
   "metadata": {
    "colab": {},
    "colab_type": "code",
    "id": "A--AMZB3hGgB"
   },
   "outputs": [
    {
     "data": {
      "text/plain": [
       "int"
      ]
     },
     "execution_count": 114,
     "metadata": {},
     "output_type": "execute_result"
    }
   ],
   "source": [
    "type(3)"
   ]
  },
  {
   "cell_type": "code",
   "execution_count": 115,
   "metadata": {
    "colab": {},
    "colab_type": "code",
    "id": "KYsFM5NmhGgC"
   },
   "outputs": [
    {
     "data": {
      "text/plain": [
       "float"
      ]
     },
     "execution_count": 115,
     "metadata": {},
     "output_type": "execute_result"
    }
   ],
   "source": [
    "type(3.1416)"
   ]
  },
  {
   "cell_type": "code",
   "execution_count": 116,
   "metadata": {
    "colab": {},
    "colab_type": "code",
    "id": "GtXftnVZhGgD"
   },
   "outputs": [
    {
     "data": {
      "text/plain": [
       "str"
      ]
     },
     "execution_count": 116,
     "metadata": {},
     "output_type": "execute_result"
    }
   ],
   "source": [
    "type('this is a string')"
   ]
  },
  {
   "cell_type": "code",
   "execution_count": 117,
   "metadata": {},
   "outputs": [
    {
     "data": {
      "text/plain": [
       "list"
      ]
     },
     "execution_count": 117,
     "metadata": {},
     "output_type": "execute_result"
    }
   ],
   "source": [
    "type([1,2,3,4])"
   ]
  },
  {
   "cell_type": "code",
   "execution_count": 118,
   "metadata": {},
   "outputs": [
    {
     "data": {
      "text/plain": [
       "builtin_function_or_method"
      ]
     },
     "execution_count": 118,
     "metadata": {},
     "output_type": "execute_result"
    }
   ],
   "source": [
    "type(print)"
   ]
  },
  {
   "cell_type": "code",
   "execution_count": 119,
   "metadata": {},
   "outputs": [
    {
     "data": {
      "text/plain": [
       "builtin_function_or_method"
      ]
     },
     "execution_count": 119,
     "metadata": {},
     "output_type": "execute_result"
    }
   ],
   "source": [
    "type(sqrt)"
   ]
  },
  {
   "cell_type": "code",
   "execution_count": 120,
   "metadata": {},
   "outputs": [
    {
     "data": {
      "text/plain": [
       "module"
      ]
     },
     "execution_count": 120,
     "metadata": {},
     "output_type": "execute_result"
    }
   ],
   "source": [
    "type(math)"
   ]
  },
  {
   "cell_type": "markdown",
   "metadata": {
    "colab_type": "text",
    "id": "GW_24AwyhGgE"
   },
   "source": [
    "Boolean expressions can be combined with the operators `and`, `or` and `not`:"
   ]
  },
  {
   "cell_type": "code",
   "execution_count": 121,
   "metadata": {
    "colab": {},
    "colab_type": "code",
    "id": "rqBbEUqrhGgE"
   },
   "outputs": [
    {
     "data": {
      "text/plain": [
       "True"
      ]
     },
     "execution_count": 121,
     "metadata": {},
     "output_type": "execute_result"
    }
   ],
   "source": [
    "(5 > 3) or (2 > 7)"
   ]
  },
  {
   "cell_type": "markdown",
   "metadata": {
    "colab_type": "text",
    "id": "w1PBZ9DyhGgF"
   },
   "source": [
    "The \"`a or b`\" expression is True when either \"`a`\" or \"`b`\" are True (or both). In this case `(5 > 3)` is True, so event if `(2 > 7)` is False the returned result will be true . because one of the expressions is true (5 > 3) - the `or` operator will produce True  in the case of `True or False`. On the other hand, the following expression using  the  \"`and`\" operator will only evaluate to True if **all** its member expressions are true:"
   ]
  },
  {
   "cell_type": "code",
   "execution_count": 122,
   "metadata": {
    "colab": {},
    "colab_type": "code",
    "id": "fTvGCS4ihGgF"
   },
   "outputs": [
    {
     "data": {
      "text/plain": [
       "False"
      ]
     },
     "execution_count": 122,
     "metadata": {},
     "output_type": "execute_result"
    }
   ],
   "source": [
    "(5 > 3) and (2 > 7)"
   ]
  },
  {
   "cell_type": "markdown",
   "metadata": {
    "colab_type": "text",
    "id": "NnGj3XHZhGgF"
   },
   "source": [
    "In this case, since 2 is not greater than 7, the results is `False`.\n",
    "\n",
    "With logical expressions we can produce very complex conditions based on the values of variables. \n",
    "\n",
    "**HANDS-ON:** Look at the cell below and try to guess what the logical result of running it will be:"
   ]
  },
  {
   "cell_type": "code",
   "execution_count": 123,
   "metadata": {
    "colab": {},
    "colab_type": "code",
    "id": "n7u1R9PuhGgG"
   },
   "outputs": [
    {
     "data": {
      "text/plain": [
       "True"
      ]
     },
     "execution_count": 123,
     "metadata": {},
     "output_type": "execute_result"
    }
   ],
   "source": [
    "a = 3\n",
    "b = 7\n",
    "c = 2\n",
    "x = 9.0\n",
    "((a > b) and not (c > x)) or (x == 9.0)"
   ]
  },
  {
   "cell_type": "markdown",
   "metadata": {},
   "source": [
    "**NOTE**: It's important to avoid confusing the `=` and `==` operators in Python.\n",
    "\n",
    "The `=` is the *assignment* operator, and it will assign the *variable* on the left-hand side to the *value* on the right-hand side:"
   ]
  },
  {
   "cell_type": "code",
   "execution_count": 127,
   "metadata": {},
   "outputs": [],
   "source": [
    "m=3"
   ]
  },
  {
   "cell_type": "markdown",
   "metadata": {},
   "source": [
    "The `==` is the logical *equality* operator and it will return True if the left and right-hand side *evaluate* to the same value,and return False otherwise:"
   ]
  },
  {
   "cell_type": "code",
   "execution_count": 126,
   "metadata": {},
   "outputs": [
    {
     "data": {
      "text/plain": [
       "True"
      ]
     },
     "execution_count": 126,
     "metadata": {},
     "output_type": "execute_result"
    }
   ],
   "source": [
    "m==3"
   ]
  },
  {
   "cell_type": "markdown",
   "metadata": {
    "colab_type": "text",
    "id": "0sPa4KZPhGgG"
   },
   "source": [
    "Often, the `if` instruction is not enough to express the *logic* of our program. Suppose we want to do something **if** a condition is `True`, and do something **else** if the condition is false. The Python \"`else`\" statement can be combined with `if` like this:\n",
    "\n",
    "```\n",
    "if condition :\n",
    "    statement(s)\n",
    "else :\n",
    "    statement(s)\n",
    "```\n",
    "\n",
    "Let's see it in action. We will go back to our `sqrt` program and change it slightly:"
   ]
  },
  {
   "cell_type": "code",
   "execution_count": 128,
   "metadata": {
    "colab": {},
    "colab_type": "code",
    "id": "bC-hY59ehGgH"
   },
   "outputs": [
    {
     "name": "stdout",
     "output_type": "stream",
     "text": [
      "Please insert a number in this box: -2\n",
      "Cannot compute the square root of a negative number.\n"
     ]
    }
   ],
   "source": [
    "from math import sqrt\n",
    "a = input(\"Please insert a number in this box: \")\n",
    "a = float(a)\n",
    "if a >= 0 :\n",
    "    print(\"The square root of {} is {}\".format(a,sqrt(a)))\n",
    "else:\n",
    "    print(\"Cannot compute the square root of a negative number.\")\n"
   ]
  },
  {
   "cell_type": "markdown",
   "metadata": {
    "colab_type": "text",
    "id": "PaFWHTvFhGgH"
   },
   "source": [
    "Now our simple program just refuses to compute the square root of a negative number, rather than changing its sign (this is probably what we would want in a real application)."
   ]
  },
  {
   "cell_type": "markdown",
   "metadata": {
    "colab_type": "text",
    "id": "LUA49dslhGgI"
   },
   "source": [
    "### 8. **More iterations: while**"
   ]
  },
  {
   "cell_type": "markdown",
   "metadata": {
    "colab_type": "text",
    "id": "5pF5eRbLhGgI"
   },
   "source": [
    "So far we know only one way of automatically repeating program statements, the `for` loop. There is another statement that can do the same sort of thing. It's called `while`, and it is used in this way:\n",
    "\n",
    "```\n",
    "while condition :\n",
    "    statement(s)\n",
    "```\n",
    "\n",
    "Once again, statement(s) must be indented to be part of the block that repeats within the while loop ! \n",
    "\n",
    "**HANDS-ON:** Try to guess what the following program does:"
   ]
  },
  {
   "cell_type": "code",
   "execution_count": 131,
   "metadata": {
    "colab": {},
    "colab_type": "code",
    "id": "2f5YdYRxhGgI"
   },
   "outputs": [
    {
     "name": "stdout",
     "output_type": "stream",
     "text": [
      "9\n",
      "8\n",
      "7\n",
      "6\n",
      "5\n",
      "4\n",
      "3\n",
      "2\n",
      "1\n",
      "0\n"
     ]
    }
   ],
   "source": [
    "i = 10\n",
    "while i >0 :\n",
    "    i = i -1 \n",
    "    print(i)"
   ]
  },
  {
   "cell_type": "markdown",
   "metadata": {
    "colab_type": "text",
    "id": "Ifwz3TPuhGgJ"
   },
   "source": [
    "The variable `i` works as a *counter* allowing us to repeat what is inside the `while` loop as many times as the initial value (10 in this case)."
   ]
  },
  {
   "cell_type": "markdown",
   "metadata": {
    "colab_type": "text",
    "id": "dex-neOuhGgK"
   },
   "source": [
    "In fact, `while` loops don't have to systematically go through a list of values like a `for` loop. What a `while` does is to keep executing whatever is inside the loop **while** the condition is `True`. If, for same reason, the condition is always `True` then the loop will *never* stop.   \n",
    "Guess what the following code will do:\n",
    "\n",
    "```\n",
    "while True :\n",
    "    print(\"I will never stop!\")\n",
    "```\n",
    "\n",
    "You guessed it right... it will keep printing \"I will never stop!\", line after line. That's because the condition in the loop is `True`, and obviously `True` can never be `False`! "
   ]
  },
  {
   "cell_type": "markdown",
   "metadata": {
    "colab_type": "text",
    "id": "mLh7wASrhGgK"
   },
   "source": [
    "Let's use one of these \"always `True`\" to make our square root program more interactive. The program will accept values, validete the input and produce its square root, in a never ending loop:"
   ]
  },
  {
   "cell_type": "code",
   "execution_count": 132,
   "metadata": {
    "colab": {},
    "colab_type": "code",
    "id": "MUITopCChGgK"
   },
   "outputs": [
    {
     "name": "stdout",
     "output_type": "stream",
     "text": [
      "Please insert a number in this box: 3\n",
      "The square root of 3.0 is 1.7320508075688772\n",
      "Please insert a number in this box: -2\n",
      "Cannot compute the square root of a negative number.\n",
      "Please insert a number in this box: 3\n",
      "The square root of 3.0 is 1.7320508075688772\n",
      "Please insert a number in this box: 5\n",
      "The square root of 5.0 is 2.23606797749979\n",
      "Please insert a number in this box: 10\n",
      "The square root of 10.0 is 3.1622776601683795\n"
     ]
    },
    {
     "ename": "KeyboardInterrupt",
     "evalue": "Interrupted by user",
     "output_type": "error",
     "traceback": [
      "\u001b[0;31m---------------------------------------------------------------------------\u001b[0m",
      "\u001b[0;31mKeyboardInterrupt\u001b[0m                         Traceback (most recent call last)",
      "\u001b[0;32m<ipython-input-132-96f2ba12ba78>\u001b[0m in \u001b[0;36m<module>\u001b[0;34m\u001b[0m\n\u001b[1;32m      1\u001b[0m \u001b[0;32mfrom\u001b[0m \u001b[0mmath\u001b[0m \u001b[0;32mimport\u001b[0m \u001b[0msqrt\u001b[0m\u001b[0;34m\u001b[0m\u001b[0;34m\u001b[0m\u001b[0m\n\u001b[1;32m      2\u001b[0m \u001b[0;32mwhile\u001b[0m \u001b[0;32mTrue\u001b[0m \u001b[0;34m:\u001b[0m\u001b[0;34m\u001b[0m\u001b[0;34m\u001b[0m\u001b[0m\n\u001b[0;32m----> 3\u001b[0;31m     \u001b[0ma\u001b[0m \u001b[0;34m=\u001b[0m \u001b[0minput\u001b[0m\u001b[0;34m(\u001b[0m\u001b[0;34m\"Please insert a number in this box: \"\u001b[0m\u001b[0;34m)\u001b[0m\u001b[0;34m\u001b[0m\u001b[0;34m\u001b[0m\u001b[0m\n\u001b[0m\u001b[1;32m      4\u001b[0m     \u001b[0ma\u001b[0m \u001b[0;34m=\u001b[0m \u001b[0mfloat\u001b[0m\u001b[0;34m(\u001b[0m\u001b[0ma\u001b[0m\u001b[0;34m)\u001b[0m\u001b[0;34m\u001b[0m\u001b[0;34m\u001b[0m\u001b[0m\n\u001b[1;32m      5\u001b[0m     \u001b[0;32mif\u001b[0m \u001b[0ma\u001b[0m \u001b[0;34m>=\u001b[0m \u001b[0;36m0\u001b[0m \u001b[0;34m:\u001b[0m\u001b[0;34m\u001b[0m\u001b[0;34m\u001b[0m\u001b[0m\n",
      "\u001b[0;32m~/py3cuda/lib/python3.6/site-packages/ipykernel/kernelbase.py\u001b[0m in \u001b[0;36mraw_input\u001b[0;34m(self, prompt)\u001b[0m\n\u001b[1;32m    861\u001b[0m             \u001b[0mself\u001b[0m\u001b[0;34m.\u001b[0m\u001b[0m_parent_ident\u001b[0m\u001b[0;34m,\u001b[0m\u001b[0;34m\u001b[0m\u001b[0;34m\u001b[0m\u001b[0m\n\u001b[1;32m    862\u001b[0m             \u001b[0mself\u001b[0m\u001b[0;34m.\u001b[0m\u001b[0m_parent_header\u001b[0m\u001b[0;34m,\u001b[0m\u001b[0;34m\u001b[0m\u001b[0;34m\u001b[0m\u001b[0m\n\u001b[0;32m--> 863\u001b[0;31m             \u001b[0mpassword\u001b[0m\u001b[0;34m=\u001b[0m\u001b[0;32mFalse\u001b[0m\u001b[0;34m,\u001b[0m\u001b[0;34m\u001b[0m\u001b[0;34m\u001b[0m\u001b[0m\n\u001b[0m\u001b[1;32m    864\u001b[0m         )\n\u001b[1;32m    865\u001b[0m \u001b[0;34m\u001b[0m\u001b[0m\n",
      "\u001b[0;32m~/py3cuda/lib/python3.6/site-packages/ipykernel/kernelbase.py\u001b[0m in \u001b[0;36m_input_request\u001b[0;34m(self, prompt, ident, parent, password)\u001b[0m\n\u001b[1;32m    891\u001b[0m             \u001b[0;32mexcept\u001b[0m \u001b[0mKeyboardInterrupt\u001b[0m\u001b[0;34m:\u001b[0m\u001b[0;34m\u001b[0m\u001b[0;34m\u001b[0m\u001b[0m\n\u001b[1;32m    892\u001b[0m                 \u001b[0;31m# re-raise KeyboardInterrupt, to truncate traceback\u001b[0m\u001b[0;34m\u001b[0m\u001b[0;34m\u001b[0m\u001b[0;34m\u001b[0m\u001b[0m\n\u001b[0;32m--> 893\u001b[0;31m                 \u001b[0;32mraise\u001b[0m \u001b[0mKeyboardInterrupt\u001b[0m\u001b[0;34m(\u001b[0m\u001b[0;34m\"Interrupted by user\"\u001b[0m\u001b[0;34m)\u001b[0m \u001b[0;32mfrom\u001b[0m \u001b[0;32mNone\u001b[0m\u001b[0;34m\u001b[0m\u001b[0;34m\u001b[0m\u001b[0m\n\u001b[0m\u001b[1;32m    894\u001b[0m             \u001b[0;32melse\u001b[0m\u001b[0;34m:\u001b[0m\u001b[0;34m\u001b[0m\u001b[0;34m\u001b[0m\u001b[0m\n\u001b[1;32m    895\u001b[0m                 \u001b[0;32mbreak\u001b[0m\u001b[0;34m\u001b[0m\u001b[0;34m\u001b[0m\u001b[0m\n",
      "\u001b[0;31mKeyboardInterrupt\u001b[0m: Interrupted by user"
     ]
    }
   ],
   "source": [
    "from math import sqrt\n",
    "while True :\n",
    "    a = input(\"Please insert a number in this box: \")\n",
    "    a = float(a)\n",
    "    if a >= 0 :\n",
    "        print(\"The square root of {} is {}\".format(a,sqrt(a)))\n",
    "    else:\n",
    "        print(\"Cannot compute the square root of a negative number.\")\n"
   ]
  },
  {
   "cell_type": "markdown",
   "metadata": {
    "colab_type": "text",
    "id": "XIYvN3QGhGgO"
   },
   "source": [
    "<del>See the rotating line around thecell's play button ?</del> See the `*` inside the `In [*]` label left of the cell ? It tells us the cell is *busy* running code.  If you try to execute the following cell:"
   ]
  },
  {
   "cell_type": "code",
   "execution_count": 133,
   "metadata": {
    "colab": {},
    "colab_type": "code",
    "id": "fSoeFhaRhGgO"
   },
   "outputs": [
    {
     "data": {
      "text/plain": [
       "2"
      ]
     },
     "execution_count": 133,
     "metadata": {},
     "output_type": "execute_result"
    }
   ],
   "source": [
    "1+1"
   ]
  },
  {
   "cell_type": "markdown",
   "metadata": {
    "colab_type": "text",
    "id": "H18XEzQthGgP"
   },
   "source": [
    "... it becomes stuck - this is  because the notebook cannot run two cells at the same time. \n",
    "\n",
    "<del>To stop the first cell, press the  button next to it -  it now displays an appopriate \"Stop\" symbol (you can also use the menu entry \"Runtime -> Interrup execution\" or the keyboard shortcut Ctl-M I ).</del>\n",
    "To stop the cell, if you have the *interrupt* the notebook *kernel* (a sort of engine that runs under the hood to execute your Python code), and you can do it in two ways: press ESC and tap \"i\" twice, or select the option \"Interrupt\" from the notebook top menu entry \"Kernel\".\n",
    "\n",
    "Never mind the ugly messages output by the cell, it's just the Python interpreter complaining about being rudely stopped. The  previous `1+1` cell can now be executed."
   ]
  },
  {
   "cell_type": "markdown",
   "metadata": {
    "colab_type": "text",
    "id": "tlxkJKKFhGgP"
   },
   "source": [
    "One way to avoid this type of situation is to provide our program with a way of **stopping** on user request. We could, for example, define that if the user types \"q\" instead of a number, the program will quit. Let's try it:"
   ]
  },
  {
   "cell_type": "code",
   "execution_count": 135,
   "metadata": {
    "colab": {},
    "colab_type": "code",
    "id": "b-R0_SM7hGgQ"
   },
   "outputs": [
    {
     "name": "stdout",
     "output_type": "stream",
     "text": [
      "Please insert a number in this box: b\n"
     ]
    },
    {
     "ename": "ValueError",
     "evalue": "could not convert string to float: 'b'",
     "output_type": "error",
     "traceback": [
      "\u001b[0;31m---------------------------------------------------------------------------\u001b[0m",
      "\u001b[0;31mValueError\u001b[0m                                Traceback (most recent call last)",
      "\u001b[0;32m<ipython-input-135-91baa699c08a>\u001b[0m in \u001b[0;36m<module>\u001b[0;34m\u001b[0m\n\u001b[1;32m      5\u001b[0m         \u001b[0mprint\u001b[0m\u001b[0;34m(\u001b[0m\u001b[0;34m\"Goodbye.\"\u001b[0m\u001b[0;34m)\u001b[0m\u001b[0;34m\u001b[0m\u001b[0;34m\u001b[0m\u001b[0m\n\u001b[1;32m      6\u001b[0m         \u001b[0;32mbreak\u001b[0m\u001b[0;34m\u001b[0m\u001b[0;34m\u001b[0m\u001b[0m\n\u001b[0;32m----> 7\u001b[0;31m     \u001b[0ma\u001b[0m \u001b[0;34m=\u001b[0m \u001b[0mfloat\u001b[0m\u001b[0;34m(\u001b[0m\u001b[0ma\u001b[0m\u001b[0;34m)\u001b[0m\u001b[0;34m\u001b[0m\u001b[0;34m\u001b[0m\u001b[0m\n\u001b[0m\u001b[1;32m      8\u001b[0m     \u001b[0;32mif\u001b[0m \u001b[0ma\u001b[0m \u001b[0;34m>=\u001b[0m \u001b[0;36m0\u001b[0m\u001b[0;34m:\u001b[0m\u001b[0;34m\u001b[0m\u001b[0;34m\u001b[0m\u001b[0m\n\u001b[1;32m      9\u001b[0m         \u001b[0mprint\u001b[0m\u001b[0;34m(\u001b[0m\u001b[0;34m\"The square root of {} is {}\"\u001b[0m\u001b[0;34m.\u001b[0m\u001b[0mformat\u001b[0m\u001b[0;34m(\u001b[0m\u001b[0ma\u001b[0m\u001b[0;34m,\u001b[0m\u001b[0msqrt\u001b[0m\u001b[0;34m(\u001b[0m\u001b[0ma\u001b[0m\u001b[0;34m)\u001b[0m\u001b[0;34m)\u001b[0m\u001b[0;34m)\u001b[0m\u001b[0;34m\u001b[0m\u001b[0;34m\u001b[0m\u001b[0m\n",
      "\u001b[0;31mValueError\u001b[0m: could not convert string to float: 'b'"
     ]
    }
   ],
   "source": [
    "from math import sqrt\n",
    "while True :\n",
    "    a = input(\"Please insert a number in this box: \")\n",
    "    if a == \"q\" :\n",
    "        print(\"Goodbye.\")\n",
    "        break\n",
    "    a = float(a)\n",
    "    if a >= 0:\n",
    "        print(\"The square root of {} is {}\".format(a,sqrt(a)))\n",
    "    else:\n",
    "        print(\"Cannot compute the square root of a negative number.\")\n"
   ]
  },
  {
   "cell_type": "markdown",
   "metadata": {
    "colab_type": "text",
    "id": "K0UttADVhGgR"
   },
   "source": [
    "Well, that fixes the stuck (infinite) loop problem. However, there is still a problem with this program. It's very easy to make it crash.\n",
    "\n",
    "**HANDS-ON:** Can you figure out how to make this program exit with an error message? *Hint: What type of invalid input is not accounted for by our program?*\n"
   ]
  },
  {
   "cell_type": "markdown",
   "metadata": {
    "colab_type": "text",
    "id": "PQI3BNeixYYA"
   },
   "source": [
    "Python has quite advanced ways to deal with error conditions. In fact, any error condition that you have seen making a cell stop could have been *trapped* and bound to a user action, instead of the program abruptly stopping with a screenful of errors. It is good programming practive to try and catch as many error conditions as possible, so that the error handling is done by the coder and not by the Python interpreter or the underlying operating system.,\n",
    "\n",
    "As an example of more advanced error handling, here is a version our square root program than can catch format conversion errors and act appropriately. It uses the \"try/except\" pair of commands and no matter what you type at it, the program won't crash. "
   ]
  },
  {
   "cell_type": "code",
   "execution_count": 136,
   "metadata": {
    "cellView": "both",
    "colab": {},
    "colab_type": "code",
    "id": "fwYJl5vMkA-4"
   },
   "outputs": [
    {
     "name": "stdout",
     "output_type": "stream",
     "text": [
      "Please insert a number in this box: adsfasdf\n",
      "Cannot convert input to float.\n",
      "Please insert a number in this box: -23434\n",
      "Cannot compute the square root of a negative number.\n",
      "Please insert a number in this box: [1,2,3]\n",
      "Cannot convert input to float.\n",
      "Please insert a number in this box: print\n",
      "Cannot convert input to float.\n",
      "Please insert a number in this box: q\n",
      "Goodbye.\n"
     ]
    }
   ],
   "source": [
    "from math import sqrt\n",
    "while True :\n",
    "    a = input(\"Please insert a number in this box: \")\n",
    "    if a == \"q\" :\n",
    "        print(\"Goodbye.\")\n",
    "        break\n",
    "    try:     \n",
    "      a = float(a)\n",
    "    except:\n",
    "      print(\"Cannot convert input to float.\")\n",
    "      continue \n",
    "    if a >= 0:\n",
    "        print(\"The square root of {} is {}\".format(a,sqrt(a)))\n",
    "    else:\n",
    "        print(\"Cannot compute the square root of a negative number.\")\n"
   ]
  },
  {
   "cell_type": "markdown",
   "metadata": {
    "colab_type": "text",
    "id": "hKjVeUd4hGgR"
   },
   "source": [
    "### 9. **Defining our own functions**"
   ]
  },
  {
   "cell_type": "markdown",
   "metadata": {
    "colab_type": "text",
    "id": "7Kj4xUoDhGgS"
   },
   "source": [
    "We have already learned enough statements (`if`, `else`, `for`, `while`) to do some real programming. However, the serious fun starts when we begin creating our own *functions*. So far we have used a few functions that are Python \"built-ins\" or part of the `math` library. To call the `cos` function, for instance, we do:"
   ]
  },
  {
   "cell_type": "code",
   "execution_count": null,
   "metadata": {
    "colab": {},
    "colab_type": "code",
    "id": "r_Ji3QO1hGgS"
   },
   "outputs": [],
   "source": [
    "from math import cos\n",
    "print(cos(3))"
   ]
  },
  {
   "cell_type": "markdown",
   "metadata": {
    "colab_type": "text",
    "id": "XrSSl09vhGgT"
   },
   "source": [
    "For built-in functions like `len` we don't even have to import anything:"
   ]
  },
  {
   "cell_type": "code",
   "execution_count": null,
   "metadata": {
    "colab": {},
    "colab_type": "code",
    "id": "htxVWdFKhGgT"
   },
   "outputs": [],
   "source": [
    "len(\"this is a string\")"
   ]
  },
  {
   "cell_type": "markdown",
   "metadata": {
    "colab_type": "text",
    "id": "3rXCO2xLhGgU"
   },
   "source": [
    "In both cases, the function is a *name* followed by a pair of round brackets enclosing some *argument*. The `cos` function takes a number as argument and *returns* a value, the *cosine* of that number. The `len` function takes a string as argument, and returns its length. Now suppose we want to fashion a new function for some specific purpose. For instance, let's say we wanted to create a function that would add 10 to every number. Assuming the function is called `add_ten`, it would work like this:\n",
    "\n",
    "```python\n",
    "In [1]: add_ten(3)\n",
    "Out[2]: 13\n",
    "```"
   ]
  },
  {
   "cell_type": "markdown",
   "metadata": {
    "colab_type": "text",
    "id": "5CvFZiyFhGgV"
   },
   "source": [
    "We can indeed create our own functions, using the built-in command `def`. Here is how we would define our \"add_ten\" function:"
   ]
  },
  {
   "cell_type": "code",
   "execution_count": 137,
   "metadata": {
    "colab": {},
    "colab_type": "code",
    "id": "1zCpX_VchGgV"
   },
   "outputs": [],
   "source": [
    "def add_ten(x):\n",
    "    return 10+x"
   ]
  },
  {
   "cell_type": "markdown",
   "metadata": {
    "colab_type": "text",
    "id": "H_PmJuQnhGgX"
   },
   "source": [
    "The `x` variable is our *argument*, and the `return` command indicates what the function should return, in this case it is just our argument plus 10. "
   ]
  },
  {
   "cell_type": "markdown",
   "metadata": {
    "colab_type": "text",
    "id": "gkqSDopohGgX"
   },
   "source": [
    "Now that we have defined it, we can use it everywhere."
   ]
  },
  {
   "cell_type": "code",
   "execution_count": 138,
   "metadata": {
    "colab": {},
    "colab_type": "code",
    "id": "-RlnrLXahGgX"
   },
   "outputs": [
    {
     "data": {
      "text/plain": [
       "44"
      ]
     },
     "execution_count": 138,
     "metadata": {},
     "output_type": "execute_result"
    }
   ],
   "source": [
    "add_ten(34)"
   ]
  },
  {
   "cell_type": "code",
   "execution_count": 139,
   "metadata": {
    "colab": {},
    "colab_type": "code",
    "id": "XPjkhiEThGgY"
   },
   "outputs": [
    {
     "data": {
      "text/plain": [
       "44.0"
      ]
     },
     "execution_count": 139,
     "metadata": {},
     "output_type": "execute_result"
    }
   ],
   "source": [
    "add_ten(34.)"
   ]
  },
  {
   "cell_type": "markdown",
   "metadata": {
    "colab_type": "text",
    "id": "1_HIkE_1hGgZ"
   },
   "source": [
    "**Note:** Functions can have more than one argument. Suppose we wish to create a function that returns the sum of the squares of two numbers:"
   ]
  },
  {
   "cell_type": "code",
   "execution_count": 140,
   "metadata": {
    "colab": {},
    "colab_type": "code",
    "id": "MVrCsQ-thGgZ"
   },
   "outputs": [],
   "source": [
    "def sum_squares(a,b) : \n",
    "    return a*a+b*b"
   ]
  },
  {
   "cell_type": "code",
   "execution_count": 141,
   "metadata": {
    "colab": {},
    "colab_type": "code",
    "id": "R6OS245ihGga"
   },
   "outputs": [
    {
     "data": {
      "text/plain": [
       "25"
      ]
     },
     "execution_count": 141,
     "metadata": {},
     "output_type": "execute_result"
    }
   ],
   "source": [
    "sum_squares(3,4)"
   ]
  },
  {
   "cell_type": "markdown",
   "metadata": {
    "colab_type": "text",
    "id": "S2UlYj7zhGgb"
   },
   "source": [
    "**HANDS-ON:** Write a function that returns **the sum of the squares of all numbers from 1 to n**. (*Hint*: use a `for` loop with a `range` command inside the function.) Write it in the cell below:"
   ]
  },
  {
   "cell_type": "code",
   "execution_count": null,
   "metadata": {
    "colab": {},
    "colab_type": "code",
    "id": "Z5U68TMjqGux"
   },
   "outputs": [],
   "source": []
  },
  {
   "cell_type": "code",
   "execution_count": null,
   "metadata": {
    "cellView": "form",
    "colab": {},
    "colab_type": "code",
    "id": "eWFQcpRe6zk5"
   },
   "outputs": [],
   "source": [
    "#@title ####SOLUTION 1\n",
    "def sum_squares_one_to_n(n):\n",
    "  sum = 0     \n",
    "  for i in range(n) : # ranges run from 0 to n-1 by default\n",
    "    sum = sum + (i+1)**2\n",
    "  return sum"
   ]
  },
  {
   "cell_type": "code",
   "execution_count": null,
   "metadata": {
    "cellView": "form",
    "colab": {},
    "colab_type": "code",
    "id": "Mf_8bx7ghGgc"
   },
   "outputs": [],
   "source": [
    "#@title ####SOLUTION 2\n",
    "def sum_squares_one_to_n(n):\n",
    "  for i in range(1,n+1) : # ranges run from 0 to n-1 by default\n",
    "    n = n + i*i\n",
    "  return n-i"
   ]
  },
  {
   "cell_type": "code",
   "execution_count": null,
   "metadata": {
    "cellView": "both",
    "colab": {},
    "colab_type": "code",
    "id": "03AuBjC07I7Q"
   },
   "outputs": [],
   "source": [
    "#@title ####SOLUTION 3\n",
    "def sum_squares_one_to_n(n):\n",
    "  return sum([x*x for x in range(1,n+1)])  "
   ]
  },
  {
   "cell_type": "code",
   "execution_count": null,
   "metadata": {
    "cellView": "both",
    "colab": {},
    "colab_type": "code",
    "id": "CuI46503hGge"
   },
   "outputs": [],
   "source": [
    "sum_squares_one_to_n(4)"
   ]
  },
  {
   "cell_type": "markdown",
   "metadata": {
    "colab_type": "text",
    "id": "o3GjvYoC74n_"
   },
   "source": [
    "Solution 3 for our sum of squares problem demonstrates a very powerful Python feature allowing for extremely compact (and sometimes quite indecipherable) code. It's called a *list comprehension* and it's a way to generate a list based on set of conditions and iterators.This expression:"
   ]
  },
  {
   "cell_type": "code",
   "execution_count": 142,
   "metadata": {
    "colab": {},
    "colab_type": "code",
    "id": "F7ktDiKPzhSr"
   },
   "outputs": [
    {
     "data": {
      "text/plain": [
       "[0, 1, 4, 9, 16]"
      ]
     },
     "execution_count": 142,
     "metadata": {},
     "output_type": "execute_result"
    }
   ],
   "source": [
    "[x*x for x in range(5)]\n"
   ]
  },
  {
   "cell_type": "markdown",
   "metadata": {
    "colab_type": "text",
    "id": "eAinwqBq9NLx"
   },
   "source": [
    "literally means \"for every x in the interval from 0 to 4, compute the squres of x and form a list with them\"."
   ]
  },
  {
   "cell_type": "markdown",
   "metadata": {
    "colab_type": "text",
    "id": "jcb8mnnKhGgf"
   },
   "source": [
    "### 10. **Classes and OOP (Object Oriented Programming):**"
   ]
  },
  {
   "cell_type": "markdown",
   "metadata": {
    "colab_type": "text",
    "id": "suPP1sgAhGgf"
   },
   "source": [
    "The most advanced and flexible object type in Python is the *class*. Classes can *encapsulate* data (like numbers, lists or strings) and functions in a single object. This provides a very powerful and flexible way of programming. Unfortunately, it can be a bit daunting for the beginner programmer. However, some understanding of the concept is required if we are to use Python in any pratical context, like *accessing software tools, databases and scientific libraries*. What we intend here is to provide a very basic understanding of classes and how they can be used to achieve pratical results.\n",
    "\n",
    "Let's start with a very simple example. Run the cell below with SHIFT+ENTER:\n"
   ]
  },
  {
   "cell_type": "code",
   "execution_count": 144,
   "metadata": {
    "colab": {},
    "colab_type": "code",
    "id": "4u9eIU1AhGgg"
   },
   "outputs": [],
   "source": [
    "class Rectangle :\n",
    "    \n",
    "    def __init__(self,a,b):\n",
    "        self.sideA = a\n",
    "        self.sideB = b\n",
    "    def area(self):\n",
    "        return self.sideA*self.sideB\n",
    "\n",
    "        "
   ]
  },
  {
   "cell_type": "markdown",
   "metadata": {
    "colab_type": "text",
    "id": "vEIUpAJFhGgi"
   },
   "source": [
    "What's happening here ?...  \n",
    "\n",
    "First, we declare a class name `Rectangle`, and inside the class we use the `def` command to define two functions.  \n",
    "\n",
    "1. The first, called `__init__`, is a special function that get's called *every time* a new object of *type rectangle* is created. Notice that this function accepts 3 arguments:\n",
    "    - The first, `self` is a special argument that we always have to include when declaring *methods* for an object.\n",
    "    - The variables `a` and `b` are the lengths of the two sides of the rectangle (we will see shortly how this arguments are passed). Inside the `__init__` function, the values of `a` and `b` are assigned to the two variables `self.sideA` and `self.sideB`. This way, the sides of the rectangle are stored in the object.\n",
    "\n",
    "2. Then we define a second *method*, called `area`. This method will *return the area of the rectangle*, which is simply the product of the length of its sides."
   ]
  },
  {
   "cell_type": "markdown",
   "metadata": {
    "colab_type": "text",
    "id": "1wRi1RzvhGgi"
   },
   "source": [
    "But, how do we use a class ?... We have to create one or more objects of the created type. Creating an object from a class is called ***instantiating*** the class, and each created object is an ***instance***. So for example:"
   ]
  },
  {
   "cell_type": "code",
   "execution_count": 145,
   "metadata": {
    "colab": {},
    "colab_type": "code",
    "id": "Oc7FydbkhGgj"
   },
   "outputs": [],
   "source": [
    "myR = Rectangle(2,3)  # \"myR\" is an instance of the Rectangle class, with sides of lenght 2 and 3"
   ]
  },
  {
   "cell_type": "code",
   "execution_count": 146,
   "metadata": {
    "colab": {},
    "colab_type": "code",
    "id": "zSirKPTxhGgk"
   },
   "outputs": [
    {
     "data": {
      "text/plain": [
       "6"
      ]
     },
     "execution_count": 146,
     "metadata": {},
     "output_type": "execute_result"
    }
   ],
   "source": [
    "myR.area() # if we call the \"area\" method on the instance object, it returns myR's area"
   ]
  },
  {
   "cell_type": "markdown",
   "metadata": {},
   "source": [
    "We can also print the sides of our rectangle \"myR\":"
   ]
  },
  {
   "cell_type": "code",
   "execution_count": 148,
   "metadata": {},
   "outputs": [
    {
     "data": {
      "text/plain": [
       "(2, 3)"
      ]
     },
     "execution_count": 148,
     "metadata": {},
     "output_type": "execute_result"
    }
   ],
   "source": [
    "myR.sideA, myR.sideB"
   ]
  },
  {
   "cell_type": "markdown",
   "metadata": {},
   "source": [
    "Our object mR is like a \"bag\" containing the value of its sides and the function (method) to calculate its area."
   ]
  },
  {
   "cell_type": "markdown",
   "metadata": {
    "colab_type": "text",
    "id": "j8PIpIPphGgl"
   },
   "source": [
    "We can create as many instances of the class `Rectangle` as we want:"
   ]
  },
  {
   "cell_type": "code",
   "execution_count": 149,
   "metadata": {
    "colab": {},
    "colab_type": "code",
    "id": "SvxO7cd_hGgl"
   },
   "outputs": [],
   "source": [
    "myS = Rectangle(23,11)\n",
    "myT = Rectangle(10,20)\n",
    "myU = Rectangle(1,1) # that's square, which just a particular case of a rectangle"
   ]
  },
  {
   "cell_type": "markdown",
   "metadata": {
    "colab_type": "text",
    "id": "ja8xJt_NhGgm"
   },
   "source": [
    "Now let's print the areas of those rectangles:"
   ]
  },
  {
   "cell_type": "code",
   "execution_count": 150,
   "metadata": {
    "colab": {},
    "colab_type": "code",
    "id": "y_1gijFLhGgm"
   },
   "outputs": [
    {
     "name": "stdout",
     "output_type": "stream",
     "text": [
      "253 200 1\n"
     ]
    }
   ],
   "source": [
    "print(myS.area(),myT.area(),myU.area())"
   ]
  },
  {
   "cell_type": "markdown",
   "metadata": {
    "colab_type": "text",
    "id": "xtGCVi8UhGgn"
   },
   "source": [
    "It is important to realize that all data types in Python are in fact *classes*. Many of these classes have *methods* that can be called exactly in the same way as the *area method* of our *Rectangle class*. For example, `list` objects have many *methods*, one of them being `sort` . Let's see it in action:"
   ]
  },
  {
   "cell_type": "code",
   "execution_count": 151,
   "metadata": {
    "colab": {},
    "colab_type": "code",
    "id": "g1H9NRrzhGgo"
   },
   "outputs": [
    {
     "name": "stdout",
     "output_type": "stream",
     "text": [
      "Unsorted:  [4, 2, 8, 5, 7, 9, 42, 1, 13]\n",
      "Sorted:  [1, 2, 4, 5, 7, 8, 9, 13, 42]\n"
     ]
    }
   ],
   "source": [
    "myList = [4,2,8,5,7,9,42,1,13]\n",
    "print(\"Unsorted: \", myList)\n",
    "myList.sort()\n",
    "print(\"Sorted: \", myList)"
   ]
  },
  {
   "cell_type": "markdown",
   "metadata": {
    "colab_type": "text",
    "id": "2EoZighqhGgo"
   },
   "source": [
    "The *method* `sort` re-arranged the elements in the list in ascending order. "
   ]
  },
  {
   "cell_type": "markdown",
   "metadata": {
    "colab_type": "text",
    "id": "4mDlvYjuhGgp"
   },
   "source": [
    "Strings also have methods. For example:"
   ]
  },
  {
   "cell_type": "code",
   "execution_count": 152,
   "metadata": {
    "colab": {},
    "colab_type": "code",
    "id": "DjopoSFPhGgp"
   },
   "outputs": [
    {
     "name": "stdout",
     "output_type": "stream",
     "text": [
      "THIS IS A STRING\n",
      "this is a string\n"
     ]
    }
   ],
   "source": [
    "myString = \"this is a string\"\n",
    "print(myString.upper())   # the \"upper\" method converts all letters to upper case (CAPITALS)  \n",
    "print(myString)"
   ]
  },
  {
   "cell_type": "markdown",
   "metadata": {
    "colab_type": "text",
    "id": "xob1m0rihGgp"
   },
   "source": [
    "**HANDS-ON:** Try to spot one very important difference between the previous example and the one with the list object. (*Hint:* Think about what the final value of our variable is in each case.)"
   ]
  },
  {
   "cell_type": "markdown",
   "metadata": {
    "colab_type": "text",
    "id": "WqryAwahhGgp"
   },
   "source": [
    "**HANDS-ON:** Go back to our `Rectangle` classe example and add a method named `perimeter` that returns the perimeter of a rectangle. Write the new method in the cell below, and test it with a few examples. "
   ]
  },
  {
   "cell_type": "code",
   "execution_count": null,
   "metadata": {},
   "outputs": [],
   "source": []
  },
  {
   "cell_type": "code",
   "execution_count": 153,
   "metadata": {
    "cellView": "both",
    "colab": {},
    "colab_type": "code",
    "id": "g6ot_OWVmkXD"
   },
   "outputs": [],
   "source": [
    "#@title SOLUTION\n",
    "class Rectangle :\n",
    "    def __init__(self,a,b):\n",
    "        self.sideA = a\n",
    "        self.sideB = b\n",
    "    def area(self):\n",
    "        return self.sideA*self.sideB\n",
    "    def perimeter(self):\n",
    "        return 2 * (self.sideA + self.sideB)"
   ]
  },
  {
   "cell_type": "code",
   "execution_count": 154,
   "metadata": {
    "colab": {},
    "colab_type": "code",
    "id": "HqGIo9VvoFre"
   },
   "outputs": [],
   "source": [
    "R = Rectangle(20,34)"
   ]
  },
  {
   "cell_type": "code",
   "execution_count": 155,
   "metadata": {
    "colab": {},
    "colab_type": "code",
    "id": "4BIZjYKyogkE"
   },
   "outputs": [
    {
     "data": {
      "text/plain": [
       "(20, 34)"
      ]
     },
     "execution_count": 155,
     "metadata": {},
     "output_type": "execute_result"
    }
   ],
   "source": [
    "R.sideA, R.sideB"
   ]
  },
  {
   "cell_type": "markdown",
   "metadata": {
    "colab_type": "text",
    "id": "I0INGTLe_Vu9"
   },
   "source": [
    "We can use the \"dir\" command to list the contents of our class, same way  as we did it for other Python objects:"
   ]
  },
  {
   "cell_type": "code",
   "execution_count": 156,
   "metadata": {
    "colab": {},
    "colab_type": "code",
    "id": "E4MJbjxLo_zi"
   },
   "outputs": [
    {
     "data": {
      "text/plain": [
       "['__class__',\n",
       " '__delattr__',\n",
       " '__dict__',\n",
       " '__dir__',\n",
       " '__doc__',\n",
       " '__eq__',\n",
       " '__format__',\n",
       " '__ge__',\n",
       " '__getattribute__',\n",
       " '__gt__',\n",
       " '__hash__',\n",
       " '__init__',\n",
       " '__init_subclass__',\n",
       " '__le__',\n",
       " '__lt__',\n",
       " '__module__',\n",
       " '__ne__',\n",
       " '__new__',\n",
       " '__reduce__',\n",
       " '__reduce_ex__',\n",
       " '__repr__',\n",
       " '__setattr__',\n",
       " '__sizeof__',\n",
       " '__str__',\n",
       " '__subclasshook__',\n",
       " '__weakref__',\n",
       " 'area',\n",
       " 'perimeter']"
      ]
     },
     "execution_count": 156,
     "metadata": {},
     "output_type": "execute_result"
    }
   ],
   "source": [
    "dir(Rectangle)"
   ]
  },
  {
   "cell_type": "markdown",
   "metadata": {
    "colab_type": "text",
    "id": "_wgOm-ZJ_eRs"
   },
   "source": [
    "Compare this with using dir on the \"str\" class:"
   ]
  },
  {
   "cell_type": "code",
   "execution_count": 157,
   "metadata": {
    "colab": {},
    "colab_type": "code",
    "id": "rZCHaGM-pLzp"
   },
   "outputs": [
    {
     "data": {
      "text/plain": [
       "['__add__',\n",
       " '__class__',\n",
       " '__contains__',\n",
       " '__delattr__',\n",
       " '__dir__',\n",
       " '__doc__',\n",
       " '__eq__',\n",
       " '__format__',\n",
       " '__ge__',\n",
       " '__getattribute__',\n",
       " '__getitem__',\n",
       " '__getnewargs__',\n",
       " '__gt__',\n",
       " '__hash__',\n",
       " '__init__',\n",
       " '__init_subclass__',\n",
       " '__iter__',\n",
       " '__le__',\n",
       " '__len__',\n",
       " '__lt__',\n",
       " '__mod__',\n",
       " '__mul__',\n",
       " '__ne__',\n",
       " '__new__',\n",
       " '__reduce__',\n",
       " '__reduce_ex__',\n",
       " '__repr__',\n",
       " '__rmod__',\n",
       " '__rmul__',\n",
       " '__setattr__',\n",
       " '__sizeof__',\n",
       " '__str__',\n",
       " '__subclasshook__',\n",
       " 'capitalize',\n",
       " 'casefold',\n",
       " 'center',\n",
       " 'count',\n",
       " 'encode',\n",
       " 'endswith',\n",
       " 'expandtabs',\n",
       " 'find',\n",
       " 'format',\n",
       " 'format_map',\n",
       " 'index',\n",
       " 'isalnum',\n",
       " 'isalpha',\n",
       " 'isdecimal',\n",
       " 'isdigit',\n",
       " 'isidentifier',\n",
       " 'islower',\n",
       " 'isnumeric',\n",
       " 'isprintable',\n",
       " 'isspace',\n",
       " 'istitle',\n",
       " 'isupper',\n",
       " 'join',\n",
       " 'ljust',\n",
       " 'lower',\n",
       " 'lstrip',\n",
       " 'maketrans',\n",
       " 'partition',\n",
       " 'replace',\n",
       " 'rfind',\n",
       " 'rindex',\n",
       " 'rjust',\n",
       " 'rpartition',\n",
       " 'rsplit',\n",
       " 'rstrip',\n",
       " 'split',\n",
       " 'splitlines',\n",
       " 'startswith',\n",
       " 'strip',\n",
       " 'swapcase',\n",
       " 'title',\n",
       " 'translate',\n",
       " 'upper',\n",
       " 'zfill']"
      ]
     },
     "execution_count": 157,
     "metadata": {},
     "output_type": "execute_result"
    }
   ],
   "source": [
    "dir(str)"
   ]
  },
  {
   "cell_type": "markdown",
   "metadata": {
    "colab_type": "text",
    "id": "YIXKQsRO_yhQ"
   },
   "source": [
    "The methos with names starting with \"__\" are internal methods, not supposed to be called directly by user programs. Notice they are similar in both our class and the \"str\", but the latter has many more public methods. "
   ]
  },
  {
   "cell_type": "markdown",
   "metadata": {
    "colab_type": "text",
    "id": "RSpHhulohGgq"
   },
   "source": [
    "### 11. **Reading and Writing Files**"
   ]
  },
  {
   "cell_type": "markdown",
   "metadata": {
    "colab_type": "text",
    "id": "FaBmM7XihGgq"
   },
   "source": [
    "So far we have seen only the simplest ways to interact with program code: by providing data in input boxes (with the `input` command) and by writing out data to the cell output. If these were the only ways to *input* and *output* data, programming languages wouldn't be very useful - how would we feed a program with the entire gene sequence of an organism, for instance ?... Or how would one save the output of program consisting of *thousands* of lines ?\n",
    "\n",
    "Fortunately, programming languages provide the necessary mechanisms to read and write data to and from *files*. A file is just a piece of information stored on a computer - it could be the text of a book, a computer program, a sound file, a video file or many other things. No matter what the actual content is, all files are the same: collections of bytes stored in more or less permanent memory. Each file is referred by a *name*, which allows us to retrieve its contents when needed. The Python programming language provides various mechanisms to read and write data from files. Let's learn the simplest one, starting with a motivating example. \n",
    "\n",
    "Suppose we wanted to compute a table with the cosinuses  of angles between 0 and 360. We could simply do:"
   ]
  },
  {
   "cell_type": "code",
   "execution_count": 162,
   "metadata": {
    "colab": {},
    "colab_type": "code",
    "id": "I8h8c0yZhGgq"
   },
   "outputs": [
    {
     "name": "stdout",
     "output_type": "stream",
     "text": [
      "   0  1.0000\n",
      "   1  0.9998\n",
      "   2  0.9994\n",
      "   3  0.9986\n",
      "   4  0.9976\n",
      "   5  0.9962\n",
      "   6  0.9945\n",
      "   7  0.9925\n",
      "   8  0.9903\n",
      "   9  0.9877\n",
      "  10  0.9848\n",
      "  11  0.9816\n",
      "  12  0.9781\n",
      "  13  0.9744\n",
      "  14  0.9703\n",
      "  15  0.9659\n",
      "  16  0.9613\n",
      "  17  0.9563\n",
      "  18  0.9511\n",
      "  19  0.9455\n",
      "  20  0.9397\n",
      "  21  0.9336\n",
      "  22  0.9272\n",
      "  23  0.9205\n",
      "  24  0.9135\n",
      "  25  0.9063\n",
      "  26  0.8988\n",
      "  27  0.8910\n",
      "  28  0.8829\n",
      "  29  0.8746\n",
      "  30  0.8660\n",
      "  31  0.8572\n",
      "  32  0.8480\n",
      "  33  0.8387\n",
      "  34  0.8290\n",
      "  35  0.8192\n",
      "  36  0.8090\n",
      "  37  0.7986\n",
      "  38  0.7880\n",
      "  39  0.7771\n",
      "  40  0.7660\n",
      "  41  0.7547\n",
      "  42  0.7431\n",
      "  43  0.7314\n",
      "  44  0.7193\n",
      "  45  0.7071\n",
      "  46  0.6947\n",
      "  47  0.6820\n",
      "  48  0.6691\n",
      "  49  0.6561\n",
      "  50  0.6428\n",
      "  51  0.6293\n",
      "  52  0.6157\n",
      "  53  0.6018\n",
      "  54  0.5878\n",
      "  55  0.5736\n",
      "  56  0.5592\n",
      "  57  0.5446\n",
      "  58  0.5299\n",
      "  59  0.5150\n",
      "  60  0.5000\n",
      "  61  0.4848\n",
      "  62  0.4695\n",
      "  63  0.4540\n",
      "  64  0.4384\n",
      "  65  0.4226\n",
      "  66  0.4067\n",
      "  67  0.3907\n",
      "  68  0.3746\n",
      "  69  0.3584\n",
      "  70  0.3420\n",
      "  71  0.3256\n",
      "  72  0.3090\n",
      "  73  0.2924\n",
      "  74  0.2756\n",
      "  75  0.2588\n",
      "  76  0.2419\n",
      "  77  0.2250\n",
      "  78  0.2079\n",
      "  79  0.1908\n",
      "  80  0.1736\n",
      "  81  0.1564\n",
      "  82  0.1392\n",
      "  83  0.1219\n",
      "  84  0.1045\n",
      "  85  0.0872\n",
      "  86  0.0698\n",
      "  87  0.0523\n",
      "  88  0.0349\n",
      "  89  0.0175\n",
      "  90  0.0000\n",
      "  91 -0.0175\n",
      "  92 -0.0349\n",
      "  93 -0.0523\n",
      "  94 -0.0698\n",
      "  95 -0.0872\n",
      "  96 -0.1045\n",
      "  97 -0.1219\n",
      "  98 -0.1392\n",
      "  99 -0.1564\n",
      " 100 -0.1736\n",
      " 101 -0.1908\n",
      " 102 -0.2079\n",
      " 103 -0.2250\n",
      " 104 -0.2419\n",
      " 105 -0.2588\n",
      " 106 -0.2756\n",
      " 107 -0.2924\n",
      " 108 -0.3090\n",
      " 109 -0.3256\n",
      " 110 -0.3420\n",
      " 111 -0.3584\n",
      " 112 -0.3746\n",
      " 113 -0.3907\n",
      " 114 -0.4067\n",
      " 115 -0.4226\n",
      " 116 -0.4384\n",
      " 117 -0.4540\n",
      " 118 -0.4695\n",
      " 119 -0.4848\n",
      " 120 -0.5000\n",
      " 121 -0.5150\n",
      " 122 -0.5299\n",
      " 123 -0.5446\n",
      " 124 -0.5592\n",
      " 125 -0.5736\n",
      " 126 -0.5878\n",
      " 127 -0.6018\n",
      " 128 -0.6157\n",
      " 129 -0.6293\n",
      " 130 -0.6428\n",
      " 131 -0.6561\n",
      " 132 -0.6691\n",
      " 133 -0.6820\n",
      " 134 -0.6947\n",
      " 135 -0.7071\n",
      " 136 -0.7193\n",
      " 137 -0.7314\n",
      " 138 -0.7431\n",
      " 139 -0.7547\n",
      " 140 -0.7660\n",
      " 141 -0.7771\n",
      " 142 -0.7880\n",
      " 143 -0.7986\n",
      " 144 -0.8090\n",
      " 145 -0.8192\n",
      " 146 -0.8290\n",
      " 147 -0.8387\n",
      " 148 -0.8480\n",
      " 149 -0.8572\n",
      " 150 -0.8660\n",
      " 151 -0.8746\n",
      " 152 -0.8829\n",
      " 153 -0.8910\n",
      " 154 -0.8988\n",
      " 155 -0.9063\n",
      " 156 -0.9135\n",
      " 157 -0.9205\n",
      " 158 -0.9272\n",
      " 159 -0.9336\n",
      " 160 -0.9397\n",
      " 161 -0.9455\n",
      " 162 -0.9511\n",
      " 163 -0.9563\n",
      " 164 -0.9613\n",
      " 165 -0.9659\n",
      " 166 -0.9703\n",
      " 167 -0.9744\n",
      " 168 -0.9781\n",
      " 169 -0.9816\n",
      " 170 -0.9848\n",
      " 171 -0.9877\n",
      " 172 -0.9903\n",
      " 173 -0.9925\n",
      " 174 -0.9945\n",
      " 175 -0.9962\n",
      " 176 -0.9976\n",
      " 177 -0.9986\n",
      " 178 -0.9994\n",
      " 179 -0.9998\n",
      " 180 -1.0000\n",
      " 181 -0.9998\n",
      " 182 -0.9994\n",
      " 183 -0.9986\n",
      " 184 -0.9976\n",
      " 185 -0.9962\n",
      " 186 -0.9945\n",
      " 187 -0.9925\n",
      " 188 -0.9903\n",
      " 189 -0.9877\n",
      " 190 -0.9848\n",
      " 191 -0.9816\n",
      " 192 -0.9781\n",
      " 193 -0.9744\n",
      " 194 -0.9703\n",
      " 195 -0.9659\n",
      " 196 -0.9613\n",
      " 197 -0.9563\n",
      " 198 -0.9511\n",
      " 199 -0.9455\n",
      " 200 -0.9397\n",
      " 201 -0.9336\n",
      " 202 -0.9272\n",
      " 203 -0.9205\n",
      " 204 -0.9135\n",
      " 205 -0.9063\n",
      " 206 -0.8988\n",
      " 207 -0.8910\n",
      " 208 -0.8829\n",
      " 209 -0.8746\n",
      " 210 -0.8660\n",
      " 211 -0.8572\n",
      " 212 -0.8480\n",
      " 213 -0.8387\n",
      " 214 -0.8290\n",
      " 215 -0.8192\n",
      " 216 -0.8090\n",
      " 217 -0.7986\n",
      " 218 -0.7880\n",
      " 219 -0.7771\n",
      " 220 -0.7660\n",
      " 221 -0.7547\n",
      " 222 -0.7431\n",
      " 223 -0.7314\n",
      " 224 -0.7193\n",
      " 225 -0.7071\n",
      " 226 -0.6947\n",
      " 227 -0.6820\n",
      " 228 -0.6691\n",
      " 229 -0.6561\n",
      " 230 -0.6428\n",
      " 231 -0.6293\n",
      " 232 -0.6157\n",
      " 233 -0.6018\n",
      " 234 -0.5878\n",
      " 235 -0.5736\n",
      " 236 -0.5592\n",
      " 237 -0.5446\n",
      " 238 -0.5299\n",
      " 239 -0.5150\n",
      " 240 -0.5000\n",
      " 241 -0.4848\n",
      " 242 -0.4695\n",
      " 243 -0.4540\n",
      " 244 -0.4384\n",
      " 245 -0.4226\n",
      " 246 -0.4067\n",
      " 247 -0.3907\n",
      " 248 -0.3746\n",
      " 249 -0.3584\n",
      " 250 -0.3420\n",
      " 251 -0.3256\n",
      " 252 -0.3090\n",
      " 253 -0.2924\n",
      " 254 -0.2756\n",
      " 255 -0.2588\n",
      " 256 -0.2419\n",
      " 257 -0.2250\n",
      " 258 -0.2079\n",
      " 259 -0.1908\n",
      " 260 -0.1736\n",
      " 261 -0.1564\n",
      " 262 -0.1392\n",
      " 263 -0.1219\n",
      " 264 -0.1045\n",
      " 265 -0.0872\n",
      " 266 -0.0698\n",
      " 267 -0.0523\n",
      " 268 -0.0349\n",
      " 269 -0.0175\n",
      " 270 -0.0000\n",
      " 271  0.0175\n",
      " 272  0.0349\n",
      " 273  0.0523\n",
      " 274  0.0698\n",
      " 275  0.0872\n",
      " 276  0.1045\n",
      " 277  0.1219\n",
      " 278  0.1392\n",
      " 279  0.1564\n",
      " 280  0.1736\n",
      " 281  0.1908\n",
      " 282  0.2079\n",
      " 283  0.2250\n",
      " 284  0.2419\n",
      " 285  0.2588\n",
      " 286  0.2756\n",
      " 287  0.2924\n",
      " 288  0.3090\n",
      " 289  0.3256\n",
      " 290  0.3420\n",
      " 291  0.3584\n",
      " 292  0.3746\n",
      " 293  0.3907\n",
      " 294  0.4067\n",
      " 295  0.4226\n",
      " 296  0.4384\n",
      " 297  0.4540\n",
      " 298  0.4695\n",
      " 299  0.4848\n",
      " 300  0.5000\n",
      " 301  0.5150\n",
      " 302  0.5299\n",
      " 303  0.5446\n",
      " 304  0.5592\n",
      " 305  0.5736\n",
      " 306  0.5878\n",
      " 307  0.6018\n",
      " 308  0.6157\n",
      " 309  0.6293\n",
      " 310  0.6428\n",
      " 311  0.6561\n",
      " 312  0.6691\n",
      " 313  0.6820\n",
      " 314  0.6947\n",
      " 315  0.7071\n",
      " 316  0.7193\n",
      " 317  0.7314\n",
      " 318  0.7431\n",
      " 319  0.7547\n",
      " 320  0.7660\n",
      " 321  0.7771\n",
      " 322  0.7880\n",
      " 323  0.7986\n",
      " 324  0.8090\n",
      " 325  0.8192\n",
      " 326  0.8290\n",
      " 327  0.8387\n",
      " 328  0.8480\n",
      " 329  0.8572\n",
      " 330  0.8660\n",
      " 331  0.8746\n",
      " 332  0.8829\n",
      " 333  0.8910\n",
      " 334  0.8988\n",
      " 335  0.9063\n",
      " 336  0.9135\n",
      " 337  0.9205\n",
      " 338  0.9272\n",
      " 339  0.9336\n",
      " 340  0.9397\n",
      " 341  0.9455\n",
      " 342  0.9511\n",
      " 343  0.9563\n",
      " 344  0.9613\n",
      " 345  0.9659\n",
      " 346  0.9703\n",
      " 347  0.9744\n",
      " 348  0.9781\n",
      " 349  0.9816\n",
      " 350  0.9848\n",
      " 351  0.9877\n",
      " 352  0.9903\n",
      " 353  0.9925\n",
      " 354  0.9945\n",
      " 355  0.9962\n",
      " 356  0.9976\n",
      " 357  0.9986\n",
      " 358  0.9994\n",
      " 359  0.9998\n"
     ]
    }
   ],
   "source": [
    "from math import cos, pi\n",
    "for angle in range(360):\n",
    "    rad_angle = angle*2*pi/360. # convert degrees to radians\n",
    "    print(\"{:>4} {:7.4f}\".format(angle, cos(rad_angle)))"
   ]
  },
  {
   "cell_type": "markdown",
   "metadata": {
    "colab_type": "text",
    "id": "GeRO8AcghGgs"
   },
   "source": [
    "That's rather a long list, isn't it ? Not very pratical to use in the browser, and what if we wanted to save it for later ?... One way is to save the result into a *file*. Let's see how one creates files in Python. That's what the `open` comand is for:"
   ]
  },
  {
   "cell_type": "code",
   "execution_count": 169,
   "metadata": {},
   "outputs": [
    {
     "name": "stdout",
     "output_type": "stream",
     "text": [
      "myfile.dat\r\n"
     ]
    }
   ],
   "source": [
    "!ls *.dat"
   ]
  },
  {
   "cell_type": "code",
   "execution_count": 168,
   "metadata": {
    "colab": {},
    "colab_type": "code",
    "id": "VM4O1PlJhGgs"
   },
   "outputs": [],
   "source": [
    "f = open(\"myfile.dat\",\"w\")"
   ]
  },
  {
   "cell_type": "markdown",
   "metadata": {
    "colab_type": "text",
    "id": "PXtHz87dhGgs"
   },
   "source": [
    "The previous command has just opened the file \"myfile.dat\" for writing (hence the \"w\" as second argument in the `open` function). It returns a value, the *file descriptor*, which we assigned to `f`. This variable `f` will work like a handle that we can use to operate on our file. Before we do anything, let's check that this file was indeed created.  At this point we have to go beyond the  notebook enviroment and look at the contents of the folder workspace in the machine running underneath <del>(in the case of Google Colab, that is a *virtual machine*)</del>. To do this, we need to use another of the `%` magic commands, in this case `%ls` :"
   ]
  },
  {
   "cell_type": "code",
   "execution_count": 170,
   "metadata": {
    "colab": {},
    "colab_type": "code",
    "id": "Nd2RP7-NuIFC"
   },
   "outputs": [
    {
     "name": "stdout",
     "output_type": "stream",
     "text": [
      "672px-Aspirin-skeletal.svg.png  pandas_tests.ipynb\r\n",
      "Aspirin-skeletal.svg            Python_Short_Tutorial_v5.ipynb\r\n",
      "cell_0.py                       Python_test.ipynb\r\n",
      "download.mp4                    The_Theoretical_Minimum_What_You_Need_to.pdf\r\n",
      "Introduction_to_Python.ipynb    Untitled1.ipynb\r\n",
      "Juilia_test.ipynb               Untitled2.ipynb\r\n",
      "Mathematica_test.ipynb          Untitled3.ipynb\r\n",
      "myfile.dat                      Untitled4.ipynb\r\n",
      "numpy_trics.py                  Untitled.ipynb\r\n"
     ]
    }
   ],
   "source": [
    "%ls"
   ]
  },
  {
   "cell_type": "markdown",
   "metadata": {
    "colab_type": "text",
    "id": "jnDUv8iUBtkI"
   },
   "source": [
    "The \"%ls\" command lists files in the current folder of our virtual Linux machine.  As you can see, the \"open\" command created a \"myfile.dat\" file, which should be among the listed files. Let's try to browse its contents with the `%cat` magic command:"
   ]
  },
  {
   "cell_type": "code",
   "execution_count": 172,
   "metadata": {
    "colab": {},
    "colab_type": "code",
    "id": "KNa0V-dTqMIZ"
   },
   "outputs": [],
   "source": [
    "%cat myfile.dat"
   ]
  },
  {
   "cell_type": "markdown",
   "metadata": {
    "colab_type": "text",
    "id": "bTT3Iy9xuNg6"
   },
   "source": [
    "Not surprisingly, this file is empty - we haven't written anything in it yet!\n",
    "\n",
    "Commands starting with \"%\" are called *magic commands*, and they are not part of the Python language. The \"%ls\" command will list all files in the work space of your virtual machine. In this you will see the \"myfile.dat\" file, because the `open` command *created* it. For now, the file is open but also empty, because we haven't written anything on it! Let's write a couple of lines to our file:"
   ]
  },
  {
   "cell_type": "code",
   "execution_count": 173,
   "metadata": {
    "colab": {},
    "colab_type": "code",
    "id": "UO_MyCQahGgt"
   },
   "outputs": [
    {
     "data": {
      "text/plain": [
       "34"
      ]
     },
     "execution_count": 173,
     "metadata": {},
     "output_type": "execute_result"
    }
   ],
   "source": [
    "f.write(\"This is the first line of my file.\")"
   ]
  },
  {
   "cell_type": "code",
   "execution_count": 174,
   "metadata": {
    "colab": {},
    "colab_type": "code",
    "id": "FnNwsn_WhGgv"
   },
   "outputs": [
    {
     "data": {
      "text/plain": [
       "39"
      ]
     },
     "execution_count": 174,
     "metadata": {},
     "output_type": "execute_result"
    }
   ],
   "source": [
    "f.write(\"And this is the second line of my file.\")"
   ]
  },
  {
   "cell_type": "markdown",
   "metadata": {
    "colab_type": "text",
    "id": "9hRoygWnhGgw"
   },
   "source": [
    "Assuming that's all we wanted to write to the file, we now need to *close* it, to ensure the data is physically tranferred to disk. If we try to inspect our newly created file now, with the `%cat` magic command, it will appear to be empty:"
   ]
  },
  {
   "cell_type": "code",
   "execution_count": null,
   "metadata": {
    "colab": {},
    "colab_type": "code",
    "id": "8qNJitqaoAkD"
   },
   "outputs": [],
   "source": [
    "%cat myfile.dat"
   ]
  },
  {
   "cell_type": "markdown",
   "metadata": {
    "colab_type": "text",
    "id": "kxyo7zQYoBiO"
   },
   "source": [
    "The \"cat\" command should have dumped the contents of our file to the cell output, but nothing came out! Why ? ... Because file output is *buffered*, meaning that data is stored on a temporary buffer in memory before actually being saved to a disk file. To flush the buffer and do the disk write,  we need to call the close function of the descriptor f (we could also say we are calling the method \"close\" on the file object named by \"f\"):"
   ]
  },
  {
   "cell_type": "code",
   "execution_count": 175,
   "metadata": {
    "colab": {},
    "colab_type": "code",
    "id": "eVLu85oShGgw"
   },
   "outputs": [],
   "source": [
    "f.close()"
   ]
  },
  {
   "cell_type": "markdown",
   "metadata": {
    "colab_type": "text",
    "id": "2sh3NKpvpPRT"
   },
   "source": [
    "Now let's try  and dump the contents again:"
   ]
  },
  {
   "cell_type": "code",
   "execution_count": 176,
   "metadata": {
    "colab": {},
    "colab_type": "code",
    "id": "z78cxLgdwucQ"
   },
   "outputs": [
    {
     "name": "stdout",
     "output_type": "stream",
     "text": [
      "This is the first line of my file.And this is the second line of my file."
     ]
    }
   ],
   "source": [
    "%cat myfile.dat"
   ]
  },
  {
   "cell_type": "markdown",
   "metadata": {
    "colab_type": "text",
    "id": "lQAAW4u1hGgx"
   },
   "source": [
    "Now the data is stored in the file! But wait... we intended to have each string on a separate line, but instead the two strings are glued together in a single long line. That is because the `f.write()` command outputs exactly what we place between the brackets, and does not add a *line break* after the last character of the string argument. Without line breaks, the file will be a long unbroken line of characters. Now, this may or may not be what we want, but most likely it's *not*. Particularly if the file is meant as a human readable text or table. \n",
    "\n",
    "We can fix it by telling the `write` command where our line breaks are - in this case, at the end of each string. Let's write the complete new code on a single cell:"
   ]
  },
  {
   "cell_type": "code",
   "execution_count": 177,
   "metadata": {
    "colab": {},
    "colab_type": "code",
    "id": "QMzkKCmjhGgx"
   },
   "outputs": [
    {
     "name": "stdout",
     "output_type": "stream",
     "text": [
      "This is the first line of my file.\r\n",
      "And this is the second line of my file.\r\n"
     ]
    }
   ],
   "source": [
    "f = open(\"myfile.dat\",\"w\")\n",
    "f.write(\"This is the first line of my file.\\n\")\n",
    "f.write(\"And this is the second line of my file.\\n\")\n",
    "f.close()\n",
    "%cat myfile.dat"
   ]
  },
  {
   "cell_type": "markdown",
   "metadata": {
    "colab_type": "text",
    "id": "WTtCSBcThGgy"
   },
   "source": [
    "We added a \"\\n\" at the end of each line. Why?... While there are two characters in the \"\\n\" string, the Python language intrepreter reads it as single, special, \"newline character\". Printing (or `write`ing) this character does not output any visible symbols to the screen or file. Instead, it causes a line change (this is similar to the hidden end-of-paragraph symbols in Microsoft Word, for instance). \n",
    "\n",
    "\n",
    "**N.B.:** Notice that the original content of \"myfile.dat\" (the single long line) is entirely replaced with the new content. Every time we open a file for *writing* (using \"w\" as the second argument to the `open` commmand), its contents will be erased and replaced with the new data. Be careful with the \"w\" mode!"
   ]
  },
  {
   "cell_type": "markdown",
   "metadata": {
    "colab_type": "text",
    "id": "gjyN8EVdhGg0"
   },
   "source": [
    "Now that we have properly written our file, closed it and checked the integrity of its contents, we may try to read it using Python commands. The \"`open`\" command comes again to our rescue, but now its second argument will be an \"r\" (for *read*), like this:"
   ]
  },
  {
   "cell_type": "code",
   "execution_count": 178,
   "metadata": {
    "colab": {},
    "colab_type": "code",
    "id": "FLbN1_FHhGg0"
   },
   "outputs": [],
   "source": [
    "f = open(\"myfile.dat\",\"r\")  # the \"r\" mode can be used safely, it won't erase the file!"
   ]
  },
  {
   "cell_type": "markdown",
   "metadata": {
    "colab_type": "text",
    "id": "qhs-T_XfhGg1"
   },
   "source": [
    "Now let's read the file in one go, using the `read` method:"
   ]
  },
  {
   "cell_type": "code",
   "execution_count": 179,
   "metadata": {
    "colab": {},
    "colab_type": "code",
    "id": "HoY-3N1hhGg1"
   },
   "outputs": [],
   "source": [
    "contents = f.read()  # the .read() method reads the whole file at once."
   ]
  },
  {
   "cell_type": "code",
   "execution_count": 180,
   "metadata": {
    "colab": {},
    "colab_type": "code",
    "id": "0l49DqxHhGg2"
   },
   "outputs": [],
   "source": [
    "f.close() # strictly speaking, we did not need to close the file, but it is a good practice..."
   ]
  },
  {
   "cell_type": "code",
   "execution_count": 181,
   "metadata": {
    "colab": {},
    "colab_type": "code",
    "id": "Zt8Ns-q7hGg4"
   },
   "outputs": [
    {
     "name": "stdout",
     "output_type": "stream",
     "text": [
      "This is the first line of my file.\n",
      "And this is the second line of my file.\n",
      "\n"
     ]
    }
   ],
   "source": [
    "print(contents)"
   ]
  },
  {
   "cell_type": "markdown",
   "metadata": {
    "colab_type": "text",
    "id": "ChUjnPa0hGg5"
   },
   "source": [
    "The ouput is nicely formmated because the `print` command knows how to interpret the \"\\n\" characters. Let's see what really is the file, by evaluating it directly in the cell:"
   ]
  },
  {
   "cell_type": "code",
   "execution_count": 182,
   "metadata": {
    "colab": {},
    "colab_type": "code",
    "id": "pG4Jcp24hGg5"
   },
   "outputs": [
    {
     "data": {
      "text/plain": [
       "'This is the first line of my file.\\nAnd this is the second line of my file.\\n'"
      ]
     },
     "execution_count": 182,
     "metadata": {},
     "output_type": "execute_result"
    }
   ],
   "source": [
    "contents"
   ]
  },
  {
   "cell_type": "markdown",
   "metadata": {
    "colab_type": "text",
    "id": "qigFzZVehGg7"
   },
   "source": [
    "We can clearly see the location of each new line character in the file."
   ]
  },
  {
   "cell_type": "markdown",
   "metadata": {
    "colab_type": "text",
    "id": "PZB2s00dhGg7"
   },
   "source": [
    "Now let's go back to our cos table problem and rewrite the code to produce a file with the data:"
   ]
  },
  {
   "cell_type": "code",
   "execution_count": 183,
   "metadata": {
    "colab": {},
    "colab_type": "code",
    "id": "I4MW1_TdhGg8"
   },
   "outputs": [],
   "source": [
    "from math import cos\n",
    "f = open(\"cos_table.dat\",\"w\")\n",
    "for angle in range(360):\n",
    "    rad_angle = angle*2*pi/360. # convert degrees to radian\n",
    "    f.write(\"{} {:7.4f}\\n\".format(angle, cos(rad_angle))) # notice the \"\\n\" at the end of the string! \n",
    "f.close()"
   ]
  },
  {
   "cell_type": "markdown",
   "metadata": {},
   "source": [
    "Now let's check the contente of our newly created file (ovewritten by the \"r\" mode):"
   ]
  },
  {
   "cell_type": "code",
   "execution_count": 184,
   "metadata": {
    "colab": {},
    "colab_type": "code",
    "id": "eR_I-p0IhGg9"
   },
   "outputs": [
    {
     "name": "stdout",
     "output_type": "stream",
     "text": [
      "0  1.0000\r\n",
      "1  0.9998\r\n",
      "2  0.9994\r\n",
      "3  0.9986\r\n",
      "4  0.9976\r\n",
      "5  0.9962\r\n",
      "6  0.9945\r\n",
      "7  0.9925\r\n",
      "8  0.9903\r\n",
      "9  0.9877\r\n",
      "10  0.9848\r\n",
      "11  0.9816\r\n",
      "12  0.9781\r\n",
      "13  0.9744\r\n",
      "14  0.9703\r\n",
      "15  0.9659\r\n",
      "16  0.9613\r\n",
      "17  0.9563\r\n",
      "18  0.9511\r\n",
      "19  0.9455\r\n",
      "20  0.9397\r\n",
      "21  0.9336\r\n",
      "22  0.9272\r\n",
      "23  0.9205\r\n",
      "24  0.9135\r\n",
      "25  0.9063\r\n",
      "26  0.8988\r\n",
      "27  0.8910\r\n",
      "28  0.8829\r\n",
      "29  0.8746\r\n",
      "30  0.8660\r\n",
      "31  0.8572\r\n",
      "32  0.8480\r\n",
      "33  0.8387\r\n",
      "34  0.8290\r\n",
      "35  0.8192\r\n",
      "36  0.8090\r\n",
      "37  0.7986\r\n",
      "38  0.7880\r\n",
      "39  0.7771\r\n",
      "40  0.7660\r\n",
      "41  0.7547\r\n",
      "42  0.7431\r\n",
      "43  0.7314\r\n",
      "44  0.7193\r\n",
      "45  0.7071\r\n",
      "46  0.6947\r\n",
      "47  0.6820\r\n",
      "48  0.6691\r\n",
      "49  0.6561\r\n",
      "50  0.6428\r\n",
      "51  0.6293\r\n",
      "52  0.6157\r\n",
      "53  0.6018\r\n",
      "54  0.5878\r\n",
      "55  0.5736\r\n",
      "56  0.5592\r\n",
      "57  0.5446\r\n",
      "58  0.5299\r\n",
      "59  0.5150\r\n",
      "60  0.5000\r\n",
      "61  0.4848\r\n",
      "62  0.4695\r\n",
      "63  0.4540\r\n",
      "64  0.4384\r\n",
      "65  0.4226\r\n",
      "66  0.4067\r\n",
      "67  0.3907\r\n",
      "68  0.3746\r\n",
      "69  0.3584\r\n",
      "70  0.3420\r\n",
      "71  0.3256\r\n",
      "72  0.3090\r\n",
      "73  0.2924\r\n",
      "74  0.2756\r\n",
      "75  0.2588\r\n",
      "76  0.2419\r\n",
      "77  0.2250\r\n",
      "78  0.2079\r\n",
      "79  0.1908\r\n",
      "80  0.1736\r\n",
      "81  0.1564\r\n",
      "82  0.1392\r\n",
      "83  0.1219\r\n",
      "84  0.1045\r\n",
      "85  0.0872\r\n",
      "86  0.0698\r\n",
      "87  0.0523\r\n",
      "88  0.0349\r\n",
      "89  0.0175\r\n",
      "90  0.0000\r\n",
      "91 -0.0175\r\n",
      "92 -0.0349\r\n",
      "93 -0.0523\r\n",
      "94 -0.0698\r\n",
      "95 -0.0872\r\n",
      "96 -0.1045\r\n",
      "97 -0.1219\r\n",
      "98 -0.1392\r\n",
      "99 -0.1564\r\n",
      "100 -0.1736\r\n",
      "101 -0.1908\r\n",
      "102 -0.2079\r\n",
      "103 -0.2250\r\n",
      "104 -0.2419\r\n",
      "105 -0.2588\r\n",
      "106 -0.2756\r\n",
      "107 -0.2924\r\n",
      "108 -0.3090\r\n",
      "109 -0.3256\r\n",
      "110 -0.3420\r\n",
      "111 -0.3584\r\n",
      "112 -0.3746\r\n",
      "113 -0.3907\r\n",
      "114 -0.4067\r\n",
      "115 -0.4226\r\n",
      "116 -0.4384\r\n",
      "117 -0.4540\r\n",
      "118 -0.4695\r\n",
      "119 -0.4848\r\n",
      "120 -0.5000\r\n",
      "121 -0.5150\r\n",
      "122 -0.5299\r\n",
      "123 -0.5446\r\n",
      "124 -0.5592\r\n",
      "125 -0.5736\r\n",
      "126 -0.5878\r\n",
      "127 -0.6018\r\n",
      "128 -0.6157\r\n",
      "129 -0.6293\r\n",
      "130 -0.6428\r\n",
      "131 -0.6561\r\n",
      "132 -0.6691\r\n",
      "133 -0.6820\r\n",
      "134 -0.6947\r\n",
      "135 -0.7071\r\n",
      "136 -0.7193\r\n",
      "137 -0.7314\r\n",
      "138 -0.7431\r\n",
      "139 -0.7547\r\n",
      "140 -0.7660\r\n",
      "141 -0.7771\r\n",
      "142 -0.7880\r\n",
      "143 -0.7986\r\n",
      "144 -0.8090\r\n",
      "145 -0.8192\r\n",
      "146 -0.8290\r\n",
      "147 -0.8387\r\n",
      "148 -0.8480\r\n",
      "149 -0.8572\r\n",
      "150 -0.8660\r\n",
      "151 -0.8746\r\n",
      "152 -0.8829\r\n",
      "153 -0.8910\r\n",
      "154 -0.8988\r\n",
      "155 -0.9063\r\n",
      "156 -0.9135\r\n",
      "157 -0.9205\r\n",
      "158 -0.9272\r\n",
      "159 -0.9336\r\n",
      "160 -0.9397\r\n",
      "161 -0.9455\r\n",
      "162 -0.9511\r\n",
      "163 -0.9563\r\n",
      "164 -0.9613\r\n",
      "165 -0.9659\r\n",
      "166 -0.9703\r\n",
      "167 -0.9744\r\n",
      "168 -0.9781\r\n",
      "169 -0.9816\r\n",
      "170 -0.9848\r\n",
      "171 -0.9877\r\n",
      "172 -0.9903\r\n",
      "173 -0.9925\r\n",
      "174 -0.9945\r\n",
      "175 -0.9962\r\n",
      "176 -0.9976\r\n",
      "177 -0.9986\r\n",
      "178 -0.9994\r\n",
      "179 -0.9998\r\n",
      "180 -1.0000\r\n",
      "181 -0.9998\r\n",
      "182 -0.9994\r\n",
      "183 -0.9986\r\n",
      "184 -0.9976\r\n",
      "185 -0.9962\r\n",
      "186 -0.9945\r\n",
      "187 -0.9925\r\n",
      "188 -0.9903\r\n",
      "189 -0.9877\r\n",
      "190 -0.9848\r\n",
      "191 -0.9816\r\n",
      "192 -0.9781\r\n",
      "193 -0.9744\r\n",
      "194 -0.9703\r\n",
      "195 -0.9659\r\n",
      "196 -0.9613\r\n",
      "197 -0.9563\r\n",
      "198 -0.9511\r\n",
      "199 -0.9455\r\n",
      "200 -0.9397\r\n",
      "201 -0.9336\r\n",
      "202 -0.9272\r\n",
      "203 -0.9205\r\n",
      "204 -0.9135\r\n",
      "205 -0.9063\r\n",
      "206 -0.8988\r\n",
      "207 -0.8910\r\n",
      "208 -0.8829\r\n",
      "209 -0.8746\r\n",
      "210 -0.8660\r\n",
      "211 -0.8572\r\n",
      "212 -0.8480\r\n",
      "213 -0.8387\r\n",
      "214 -0.8290\r\n",
      "215 -0.8192\r\n",
      "216 -0.8090\r\n",
      "217 -0.7986\r\n",
      "218 -0.7880\r\n",
      "219 -0.7771\r\n",
      "220 -0.7660\r\n",
      "221 -0.7547\r\n",
      "222 -0.7431\r\n",
      "223 -0.7314\r\n",
      "224 -0.7193\r\n",
      "225 -0.7071\r\n",
      "226 -0.6947\r\n",
      "227 -0.6820\r\n",
      "228 -0.6691\r\n",
      "229 -0.6561\r\n",
      "230 -0.6428\r\n",
      "231 -0.6293\r\n",
      "232 -0.6157\r\n",
      "233 -0.6018\r\n",
      "234 -0.5878\r\n",
      "235 -0.5736\r\n",
      "236 -0.5592\r\n",
      "237 -0.5446\r\n",
      "238 -0.5299\r\n",
      "239 -0.5150\r\n",
      "240 -0.5000\r\n",
      "241 -0.4848\r\n",
      "242 -0.4695\r\n",
      "243 -0.4540\r\n",
      "244 -0.4384\r\n",
      "245 -0.4226\r\n",
      "246 -0.4067\r\n",
      "247 -0.3907\r\n",
      "248 -0.3746\r\n",
      "249 -0.3584\r\n",
      "250 -0.3420\r\n",
      "251 -0.3256\r\n",
      "252 -0.3090\r\n",
      "253 -0.2924\r\n",
      "254 -0.2756\r\n",
      "255 -0.2588\r\n",
      "256 -0.2419\r\n",
      "257 -0.2250\r\n",
      "258 -0.2079\r\n",
      "259 -0.1908\r\n",
      "260 -0.1736\r\n",
      "261 -0.1564\r\n",
      "262 -0.1392\r\n",
      "263 -0.1219\r\n",
      "264 -0.1045\r\n",
      "265 -0.0872\r\n",
      "266 -0.0698\r\n",
      "267 -0.0523\r\n",
      "268 -0.0349\r\n",
      "269 -0.0175\r\n",
      "270 -0.0000\r\n",
      "271  0.0175\r\n",
      "272  0.0349\r\n",
      "273  0.0523\r\n",
      "274  0.0698\r\n",
      "275  0.0872\r\n",
      "276  0.1045\r\n",
      "277  0.1219\r\n",
      "278  0.1392\r\n",
      "279  0.1564\r\n",
      "280  0.1736\r\n",
      "281  0.1908\r\n",
      "282  0.2079\r\n",
      "283  0.2250\r\n",
      "284  0.2419\r\n",
      "285  0.2588\r\n",
      "286  0.2756\r\n",
      "287  0.2924\r\n",
      "288  0.3090\r\n",
      "289  0.3256\r\n",
      "290  0.3420\r\n",
      "291  0.3584\r\n",
      "292  0.3746\r\n",
      "293  0.3907\r\n",
      "294  0.4067\r\n",
      "295  0.4226\r\n",
      "296  0.4384\r\n",
      "297  0.4540\r\n",
      "298  0.4695\r\n",
      "299  0.4848\r\n",
      "300  0.5000\r\n",
      "301  0.5150\r\n",
      "302  0.5299\r\n",
      "303  0.5446\r\n",
      "304  0.5592\r\n",
      "305  0.5736\r\n",
      "306  0.5878\r\n",
      "307  0.6018\r\n",
      "308  0.6157\r\n",
      "309  0.6293\r\n",
      "310  0.6428\r\n",
      "311  0.6561\r\n",
      "312  0.6691\r\n",
      "313  0.6820\r\n",
      "314  0.6947\r\n",
      "315  0.7071\r\n",
      "316  0.7193\r\n",
      "317  0.7314\r\n",
      "318  0.7431\r\n",
      "319  0.7547\r\n",
      "320  0.7660\r\n",
      "321  0.7771\r\n",
      "322  0.7880\r\n",
      "323  0.7986\r\n",
      "324  0.8090\r\n",
      "325  0.8192\r\n",
      "326  0.8290\r\n",
      "327  0.8387\r\n",
      "328  0.8480\r\n",
      "329  0.8572\r\n",
      "330  0.8660\r\n",
      "331  0.8746\r\n",
      "332  0.8829\r\n",
      "333  0.8910\r\n",
      "334  0.8988\r\n",
      "335  0.9063\r\n",
      "336  0.9135\r\n",
      "337  0.9205\r\n",
      "338  0.9272\r\n",
      "339  0.9336\r\n",
      "340  0.9397\r\n",
      "341  0.9455\r\n",
      "342  0.9511\r\n",
      "343  0.9563\r\n",
      "344  0.9613\r\n",
      "345  0.9659\r\n",
      "346  0.9703\r\n",
      "347  0.9744\r\n",
      "348  0.9781\r\n",
      "349  0.9816\r\n",
      "350  0.9848\r\n",
      "351  0.9877\r\n",
      "352  0.9903\r\n",
      "353  0.9925\r\n",
      "354  0.9945\r\n",
      "355  0.9962\r\n",
      "356  0.9976\r\n",
      "357  0.9986\r\n",
      "358  0.9994\r\n",
      "359  0.9998\r\n"
     ]
    }
   ],
   "source": [
    "%cat cos_table.dat"
   ]
  },
  {
   "cell_type": "markdown",
   "metadata": {
    "colab_type": "text",
    "id": "j-PUdRUGhGg9"
   },
   "source": [
    "**HANDS-ON:** Write a program to read the \"cos_table.dat\" and output its content (don't open it with the \"w\" mode, or you will erase its contents!)"
   ]
  },
  {
   "cell_type": "code",
   "execution_count": null,
   "metadata": {
    "cellView": "form",
    "colab": {},
    "colab_type": "code",
    "id": "noUnXszqhGg_"
   },
   "outputs": [],
   "source": [
    "#@title SOLUTION\n",
    "f = open(\"cos_table.dat\",\"r\")\n",
    "for a in f.read().splitlines():\n",
    "    print(a)\n",
    "f.close()"
   ]
  },
  {
   "cell_type": "markdown",
   "metadata": {
    "colab_type": "text",
    "id": "1UftG_9wq9pm"
   },
   "source": [
    "<del>Now it's a good time to go to the left window in collabs and select \"Files\". This will show you a list of files in your current colab working directory. There should be a file named \"myfile.dat\" (if not, press the refresh button). Right-click on that file and choose \"download\" - you will be asked for a folder in the local machine where to save \"myfile.dat\". A copy of our file is now in the local computer, ready to be loaded in any application (try open it with the notebook editor).</del>"
   ]
  },
  {
   "cell_type": "markdown",
   "metadata": {
    "colab_type": "text",
    "id": "nGk9ypsIMmQY"
   },
   "source": [
    "### 12. **Dictionaries and Data association**"
   ]
  },
  {
   "cell_type": "markdown",
   "metadata": {
    "colab_type": "text",
    "id": "qZby0_cqM7FU"
   },
   "source": [
    "When organizing a collection of structured data, there is often the need to recollect that data based on some property. Let's say we have a  list of common and scientific names for some species of trees, and we want to rerieve the scientific name based on the common name. One way to do this in Pytnon would be to create two lists, one with common tree names and the other with the corresponding scientific names:"
   ]
  },
  {
   "cell_type": "code",
   "execution_count": 185,
   "metadata": {
    "colab": {},
    "colab_type": "code",
    "id": "M01xXMwkOC_3"
   },
   "outputs": [],
   "source": [
    "tree_common = ['willow','pine','oak','maple']\n",
    "tree_scientific = ['Salix alba','Pinus sylvestris','Quercus faginea','Acer saccharum']"
   ]
  },
  {
   "cell_type": "markdown",
   "metadata": {
    "colab_type": "text",
    "id": "6jEgFTbVRAOe"
   },
   "source": [
    "Now, if we wanted to retrieve a scientific name based on the common name, we would need to find the position of that common name on the first list, and retrieve the element in the same position on the second list:"
   ]
  },
  {
   "cell_type": "code",
   "execution_count": null,
   "metadata": {
    "colab": {},
    "colab_type": "code",
    "id": "QHZKOve5RnCO"
   },
   "outputs": [],
   "source": [
    "# retrieving the \"pine\" scientific name\n",
    "tree_scientific[1]  # pine is in position 1 on the first list"
   ]
  },
  {
   "cell_type": "markdown",
   "metadata": {
    "colab_type": "text",
    "id": "NfQ8_VHgTQzn"
   },
   "source": [
    "This is quick to do when the list has just 4 elements, easily viewed on the screen. If we had a list of thousands of tree species it wouldn't be so easy... how would we find the position of our common tree name in the first list? ... We could use the list method \"index\" , thus:"
   ]
  },
  {
   "cell_type": "code",
   "execution_count": null,
   "metadata": {
    "colab": {},
    "colab_type": "code",
    "id": "Mmj13WVgSA6a"
   },
   "outputs": [],
   "source": [
    "index = tree_common.index('pine')\n",
    "tree_scientific[index]"
   ]
  },
  {
   "cell_type": "markdown",
   "metadata": {
    "colab_type": "text",
    "id": "xBDo3tAuUDrG"
   },
   "source": [
    "This works, but it's raher cumbersome. For one thing we need to keep two lists, and the order must match preciscely or the associations will get scrambled. If we insert one item on the first list, for example, all the associations from that point on will be lost. And if we want to add a new tree to our dataset, the we have to update *two* lists, like so:"
   ]
  },
  {
   "cell_type": "code",
   "execution_count": 186,
   "metadata": {
    "colab": {},
    "colab_type": "code",
    "id": "G_ZHsA5VUnkC"
   },
   "outputs": [],
   "source": [
    "tree_common.append('aspen')\n",
    "tree_scientific.append('Populus tremuloides')"
   ]
  },
  {
   "cell_type": "markdown",
   "metadata": {
    "colab_type": "text",
    "id": "PoCdVEo1VA_Q"
   },
   "source": [
    "There is a far better way to deal with data associations in Python, using a specialilized data type known as **dicitionary** (`dict`). Dictionaries are unoredered lists of key/data pairs, allowing for simple retrieval, insertion and deletion of new items. A dictionary is represented between {} (curly brackets), as a series of key/data pairs separated by colons (:)\n",
    "```python\n",
    "{key1:data1, key2:data2, key3:data3, ....}\n",
    "```\n",
    "\n",
    "Let's rewrite our previous example using a `dict` variable:"
   ]
  },
  {
   "cell_type": "code",
   "execution_count": 188,
   "metadata": {
    "colab": {},
    "colab_type": "code",
    "id": "7W3V1glfWNn1"
   },
   "outputs": [],
   "source": [
    "tree_catalogue = {'willow':'Salix alba','pine':'Pinus Sylvestris','oak':'Quercus faginea','maple':'Acer saccharum'}"
   ]
  },
  {
   "cell_type": "markdown",
   "metadata": {
    "colab_type": "text",
    "id": "L-Flidf_WyoL"
   },
   "source": [
    "To retrieve the common name of the pine, all we need to do is:"
   ]
  },
  {
   "cell_type": "code",
   "execution_count": 189,
   "metadata": {
    "colab": {},
    "colab_type": "code",
    "id": "2jvcmoMgU_VA"
   },
   "outputs": [
    {
     "data": {
      "text/plain": [
       "'Pinus Sylvestris'"
      ]
     },
     "execution_count": 189,
     "metadata": {},
     "output_type": "execute_result"
    }
   ],
   "source": [
    "tree_catalogue['pine']"
   ]
  },
  {
   "cell_type": "markdown",
   "metadata": {
    "colab_type": "text",
    "id": "jCFXV92NXGvu"
   },
   "source": [
    "Even better, to add a new entry to our catalogue all we need to do is:"
   ]
  },
  {
   "cell_type": "code",
   "execution_count": 190,
   "metadata": {
    "colab": {},
    "colab_type": "code",
    "id": "QuMbpw9fXQzU"
   },
   "outputs": [],
   "source": [
    "tree_catalogue['aspen'] = 'Populus tremuloides'"
   ]
  },
  {
   "cell_type": "markdown",
   "metadata": {
    "colab_type": "text",
    "id": "i0b-zpOeXeTj"
   },
   "source": [
    "If we inspect the `dict` object now:"
   ]
  },
  {
   "cell_type": "code",
   "execution_count": 191,
   "metadata": {
    "colab": {},
    "colab_type": "code",
    "id": "XcxbDhVqXhOX"
   },
   "outputs": [
    {
     "data": {
      "text/plain": [
       "{'willow': 'Salix alba',\n",
       " 'pine': 'Pinus Sylvestris',\n",
       " 'oak': 'Quercus faginea',\n",
       " 'maple': 'Acer saccharum',\n",
       " 'aspen': 'Populus tremuloides'}"
      ]
     },
     "execution_count": 191,
     "metadata": {},
     "output_type": "execute_result"
    }
   ],
   "source": [
    "tree_catalogue"
   ]
  },
  {
   "cell_type": "markdown",
   "metadata": {
    "colab_type": "text",
    "id": "LnAX6s6YXxIp"
   },
   "source": [
    "The new entry is there. Notice, however, that it doesn't appear to have been appended as the last element, like in our previous example with a `list` object. The rease for this is that dictionaries are *unsorted* collections of data, and so the key/value pairs are not guaranteed to be stored in any specific order. But this is just as well - dictionaries are meant to be used to retrieve data by *key*, not by *index*. So if we try to do this:"
   ]
  },
  {
   "cell_type": "code",
   "execution_count": 192,
   "metadata": {
    "colab": {},
    "colab_type": "code",
    "id": "oKz2k5CAYluF"
   },
   "outputs": [
    {
     "ename": "KeyError",
     "evalue": "3",
     "output_type": "error",
     "traceback": [
      "\u001b[0;31m---------------------------------------------------------------------------\u001b[0m",
      "\u001b[0;31mKeyError\u001b[0m                                  Traceback (most recent call last)",
      "\u001b[0;32m<ipython-input-192-f9bfd9382354>\u001b[0m in \u001b[0;36m<module>\u001b[0;34m\u001b[0m\n\u001b[0;32m----> 1\u001b[0;31m \u001b[0mtree_catalogue\u001b[0m\u001b[0;34m[\u001b[0m\u001b[0;36m3\u001b[0m\u001b[0;34m]\u001b[0m\u001b[0;34m\u001b[0m\u001b[0;34m\u001b[0m\u001b[0m\n\u001b[0m",
      "\u001b[0;31mKeyError\u001b[0m: 3"
     ]
    }
   ],
   "source": [
    "tree_catalogue[3]"
   ]
  },
  {
   "cell_type": "markdown",
   "metadata": {
    "colab_type": "text",
    "id": "3B184lxCYqy_"
   },
   "source": [
    "We did not get the expected ( 'pine': 'Pinus Sylvestris') pair, as one could expect. Instead, it produces a *KeyError*, because \"3\" is not one of the keys in our `dict`variable. To list the keys of a dict variable we can use the `keys` method:"
   ]
  },
  {
   "cell_type": "code",
   "execution_count": 193,
   "metadata": {
    "colab": {},
    "colab_type": "code",
    "id": "CFqdcZQtZSrf"
   },
   "outputs": [
    {
     "data": {
      "text/plain": [
       "dict_keys(['willow', 'pine', 'oak', 'maple', 'aspen'])"
      ]
     },
     "execution_count": 193,
     "metadata": {},
     "output_type": "execute_result"
    }
   ],
   "source": [
    "tree_catalogue.keys()"
   ]
  },
  {
   "cell_type": "markdown",
   "metadata": {
    "colab_type": "text",
    "id": "HkSNm-EfZXzE"
   },
   "source": [
    "And to list the values:"
   ]
  },
  {
   "cell_type": "code",
   "execution_count": 194,
   "metadata": {
    "colab": {},
    "colab_type": "code",
    "id": "RygEgSJTZZ9D"
   },
   "outputs": [
    {
     "data": {
      "text/plain": [
       "dict_values(['Salix alba', 'Pinus Sylvestris', 'Quercus faginea', 'Acer saccharum', 'Populus tremuloides'])"
      ]
     },
     "execution_count": 194,
     "metadata": {},
     "output_type": "execute_result"
    }
   ],
   "source": [
    "tree_catalogue.values()"
   ]
  },
  {
   "cell_type": "markdown",
   "metadata": {
    "colab_type": "text",
    "id": "Tkp6mqYrZkFZ"
   },
   "source": [
    "We can also loop througb the dictionary with a \"for\" command, using the `items` method:"
   ]
  },
  {
   "cell_type": "code",
   "execution_count": 196,
   "metadata": {
    "colab": {},
    "colab_type": "code",
    "id": "s6Pq6So0ZpvA"
   },
   "outputs": [
    {
     "name": "stdout",
     "output_type": "stream",
     "text": [
      "willow Salix alba\n",
      "pine Pinus Sylvestris\n",
      "oak Quercus faginea\n",
      "maple Acer saccharum\n",
      "aspen Populus tremuloides\n"
     ]
    }
   ],
   "source": [
    "for key, value in tree_catalogue.items():\n",
    "  print(key,value)"
   ]
  },
  {
   "cell_type": "code",
   "execution_count": 197,
   "metadata": {
    "colab": {},
    "colab_type": "code",
    "id": "y51tKZSCaOr2"
   },
   "outputs": [
    {
     "data": {
      "text/plain": [
       "dict_items([('willow', 'Salix alba'), ('pine', 'Pinus Sylvestris'), ('oak', 'Quercus faginea'), ('maple', 'Acer saccharum'), ('aspen', 'Populus tremuloides')])"
      ]
     },
     "execution_count": 197,
     "metadata": {},
     "output_type": "execute_result"
    }
   ],
   "source": [
    "tree_catalogue.items()"
   ]
  },
  {
   "cell_type": "markdown",
   "metadata": {
    "colab_type": "text",
    "id": "BI7BtsbtalYN"
   },
   "source": [
    "Note that we can use other data types as key/value pairs in a dict variable, not just strings. For example;"
   ]
  },
  {
   "cell_type": "code",
   "execution_count": 198,
   "metadata": {
    "colab": {},
    "colab_type": "code",
    "id": "gP33jbC7a3T6"
   },
   "outputs": [],
   "source": [
    "weights = {'john':65,'adam':72,'robert':80,'william':75}"
   ]
  },
  {
   "cell_type": "markdown",
   "metadata": {
    "colab_type": "text",
    "id": "IzLEgA7Nbyhw"
   },
   "source": [
    "Dict variables have the following methods availabe to them:\n",
    "\n",
    "- **clear** - remove all entries of a dict\n",
    "- **copy** - make a copy a dictionary\n",
    "- **fromkeys** - return a new dictionary with keys from an iterable and default value\n",
    "- **get** - get an element from a dictionary with optional default value\n",
    "- **items** - return a complete list of the (key, value) pairs in a dictionary\n",
    "- **keys** - return list of keys in a dictionary\n",
    "- **pop** - remove and return an element from a dictionary, with default value\n",
    "- **popitem** - remove and return one (key, value) pair from the dictionary\n",
    "- **setdefault** - get an element from a dictionary and set to default if key not found\n",
    "- **update** - make dictionary from another dictionary or list of (key,value)  pairs\n",
    "-  **values** - return list of values in a dictionary\n",
    "\n"
   ]
  },
  {
   "cell_type": "markdown",
   "metadata": {
    "colab_type": "text",
    "id": "58LmWLkjZ8BJ"
   },
   "source": [
    "**Hands-On:** Try adding and deleting  elements to the \"tree_catalogue\" dictionary. Experiment with the different methods. "
   ]
  },
  {
   "cell_type": "markdown",
   "metadata": {
    "colab_type": "text",
    "id": "KsrixTxQhGhA"
   },
   "source": [
    "### 12. **Plotting Data**"
   ]
  },
  {
   "cell_type": "markdown",
   "metadata": {
    "colab_type": "text",
    "id": "OwPqbIrghGhA"
   },
   "source": [
    "Plotting data is a central activity to doing science. So, any language with an ambition of being relevant for scientific programming must have a plotting mechanism. Python has several, but we will briefly focus on the one that is by far the most popular: the `matplolib` library.\n",
    "\n",
    "To exemplify the use of `matplotlib`, let's first get some data:"
   ]
  },
  {
   "cell_type": "code",
   "execution_count": 199,
   "metadata": {
    "colab": {},
    "colab_type": "code",
    "id": "aC8-_hKGhGhA"
   },
   "outputs": [],
   "source": [
    "# Genebank Statistics\n",
    "Years = [1985,1990,1995,2000,2005,2010,2015]\n",
    "GenBankEntries = [4954, 35100, 425211, 7077491, 45236251, 120604423, 185019352]"
   ]
  },
  {
   "cell_type": "markdown",
   "metadata": {
    "colab_type": "text",
    "id": "yMUjByePhGhB"
   },
   "source": [
    "These two lists, `Years` and `GenBankEntries` will be the `x` and `y` data points in our graph. What we want is to plot `GenBankEntries` as a function of `Years`. This can be done with `matplotlib` in the simplest possible way with just two lines of code:"
   ]
  },
  {
   "cell_type": "code",
   "execution_count": 200,
   "metadata": {
    "colab": {},
    "colab_type": "code",
    "id": "BWjjuIhZhGhB"
   },
   "outputs": [
    {
     "data": {
      "text/plain": [
       "[<matplotlib.lines.Line2D at 0x7f635fce4128>]"
      ]
     },
     "execution_count": 200,
     "metadata": {},
     "output_type": "execute_result"
    },
    {
     "data": {
      "image/png": "[encoded data removed]",
      "text/plain": [
       "<Figure size 432x288 with 1 Axes>"
      ]
     },
     "metadata": {
      "needs_background": "light"
     },
     "output_type": "display_data"
    }
   ],
   "source": [
    "# Lets import the module matplolib.pyplot\n",
    "import matplotlib.pyplot as plt   # this line imports the library and allows it to be called plt (for brevity) \n",
    "plt.plot(Years, GenBankEntries)"
   ]
  },
  {
   "cell_type": "markdown",
   "metadata": {
    "colab_type": "text",
    "id": "kFJ72LRXhGhC"
   },
   "source": [
    "We got a plot, but it is really *raw*. With just a few more lines of code, we can make it look a lot better:"
   ]
  },
  {
   "cell_type": "code",
   "execution_count": 201,
   "metadata": {
    "colab": {},
    "colab_type": "code",
    "id": "cHdyTrdXhGhC"
   },
   "outputs": [
    {
     "data": {
      "text/plain": [
       "[<matplotlib.lines.Line2D at 0x7f635f7fe518>]"
      ]
     },
     "execution_count": 201,
     "metadata": {},
     "output_type": "execute_result"
    },
    {
     "data": {
      "image/png": "[encoded data removed]",
      "text/plain": [
       "<Figure size 432x288 with 1 Axes>"
      ]
     },
     "metadata": {
      "needs_background": "light"
     },
     "output_type": "display_data"
    }
   ],
   "source": [
    "# We first import the matplotlib.pyplot module as \"plt\"\n",
    "import matplotlib.pyplot as plt \n",
    "plt.title(\"Genebank Growth\")          # set the title graph\n",
    "plt.xlabel(\"Years\")                   # set the x axis title\n",
    "plt.ylabel(\"Number of Entries\")       # set the y axis title\n",
    "plt.plot(Years, GenBankEntries,'ro-') # plot with red lines and circle markers\n"
   ]
  },
  {
   "cell_type": "markdown",
   "metadata": {
    "colab_type": "text",
    "id": "43FRolH-hGhE"
   },
   "source": [
    "Notice the argument \"ro-\" to the `plot` command - \"r\" is for red, \"o\" for circle markers and \"-\" for lines. \n",
    "\n",
    "**HANDS-ON:** Guess what happens if 'ro-' is replaced with 'g+--'. Check it. \n",
    "\n",
    "This plot should probably have bars rather than points:"
   ]
  },
  {
   "cell_type": "code",
   "execution_count": 202,
   "metadata": {
    "colab": {},
    "colab_type": "code",
    "id": "0oTZq2sehGhE"
   },
   "outputs": [
    {
     "data": {
      "text/plain": [
       "<BarContainer object of 7 artists>"
      ]
     },
     "execution_count": 202,
     "metadata": {},
     "output_type": "execute_result"
    },
    {
     "data": {
      "image/png": "[encoded data removed]",
      "text/plain": [
       "<Figure size 432x288 with 1 Axes>"
      ]
     },
     "metadata": {},
     "output_type": "display_data"
    }
   ],
   "source": [
    "# We first import the matplotlib.pyplot module as \"plt\"\n",
    "import matplotlib.pyplot as plt \n",
    "plt.style.use(\"ggplot\") # using a non-standard plotstyle\n",
    "plt.title(\"Genebank Growth\")        # set the title graph\n",
    "plt.xlabel(\"Years\")                 # set the x axis title\n",
    "plt.ylabel(\"Number of Entries\")     # set the y axis title\n",
    "plt.bar(Years, GenBankEntries, width=3) # plot bars with a width of 3"
   ]
  },
  {
   "cell_type": "markdown",
   "metadata": {
    "colab_type": "text",
    "id": "kxHXJKf-hGhF"
   },
   "source": [
    "(The bar width can be ajusted with the \"width\" parameter. Try it.)"
   ]
  },
  {
   "cell_type": "markdown",
   "metadata": {
    "colab_type": "text",
    "id": "RgONYHYZhGhF"
   },
   "source": [
    "Different colors for lines and points can be used: "
   ]
  },
  {
   "cell_type": "code",
   "execution_count": 203,
   "metadata": {
    "colab": {},
    "colab_type": "code",
    "id": "MvrCGjC8hGhF"
   },
   "outputs": [
    {
     "data": {
      "image/png": "[encoded data removed]",
      "text/plain": [
       "<Figure size 432x288 with 1 Axes>"
      ]
     },
     "metadata": {},
     "output_type": "display_data"
    }
   ],
   "source": [
    "# We first import the matplotlib.pyplot module as \"plt\"\n",
    "import matplotlib.pyplot as plt \n",
    "plt.style.use(\"ggplot\")\n",
    "plt.title(\"Genebank Growth\")         # set the title graph\n",
    "plt.xlabel(\"Years\")                  # set the x axis title\n",
    "plt.ylabel(\"Number of Entries\")      # set the y axis title\n",
    "plt.plot(Years, GenBankEntries,'g--') # plot with green dashed lines\n",
    "plt.plot(Years, GenBankEntries,'ro')  # plot with red circle markers\n",
    "plt.savefig(\"plot.png\") # This will save your plot to the \"plot.png\" file\n",
    "\n"
   ]
  },
  {
   "cell_type": "markdown",
   "metadata": {
    "colab": {},
    "colab_type": "code",
    "id": "cWud4Lm_zLhB"
   },
   "source": [
    "**HANDS-ON:** Repeat the previous example, but first create a `dict` object out of the `Years` and `GeneBankEntries` lists and use that object in the `plot`command."
   ]
  },
  {
   "cell_type": "markdown",
   "metadata": {
    "colab_type": "text",
    "id": "eRrfQjjihGhG"
   },
   "source": [
    "### 13. **Where to go from here**"
   ]
  },
  {
   "cell_type": "markdown",
   "metadata": {
    "colab_type": "text",
    "id": "EqmjA1JZhGhG"
   },
   "source": [
    "This tutorial was meant as a generic introduction to the basic features of the Python programming language and the notebook environment. It was also\n",
    "meant as a first acquaintance with the world of computer programming. As such, many topics had to be lightly covered, and some not covered at all.\n",
    "However, it is hoped this is a good starting point for further exploration of the Python language. \n",
    "\n",
    "Here are a few essential aspects of the language core that haven't been covered:\n",
    "\n",
    "- list compreensions\n",
    "- named arguments and variable number of arguments in functions\n",
    "- iterators and generators\n",
    "- lambda functions and functional programming\n",
    "- error handling with try / except\n",
    "\n",
    "Here are a few Python libraries that are absolutely essential for scientific programming:\n",
    "\n",
    "- `numpy` (numerical python)\n",
    "- `scipy` (scientific python)\n",
    "- `pandas` (data manipulation and analysis library)\n",
    "\n",
    "For machine learning/deep learning:\n",
    "\n",
    "- `sklearn`\n",
    "- `tensor flow`\n",
    "- `pytorch`\n",
    "\n",
    "For harnessing the power of the GPU within Python programs:\n",
    "\n",
    "- `pycuda`\n",
    "\n",
    "I hope this tutorial offered a little insight on the basics of Python and its usage. However, we barely scratched the surface of what is possible, and how to make it work in real case scenarios. The only way to truly learn a programming language is by using it over and over and over, until all its ins and outs become second nature. That was not the purpose of this tutorial, but rather to provide you with a basis for further development, and also with the ability to grasp the basics of simple Python code snippets that will be used in the next classes.\n",
    "\n",
    "\n",
    "--Paulo Martel, 2021"
   ]
  },
  {
   "cell_type": "code",
   "execution_count": null,
   "metadata": {
    "colab": {},
    "colab_type": "code",
    "id": "JCwhnJ7x_kyZ"
   },
   "outputs": [],
   "source": []
  }
 ],
 "metadata": {
  "colab": {
   "collapsed_sections": [],
   "name": "Introduction_to_Python",
   "provenance": []
  },
  "kernelspec": {
   "display_name": "Python 3",
   "language": "python",
   "name": "python3"
  },
  "language_info": {
   "codemirror_mode": {
    "name": "ipython",
    "version": 3
   },
   "file_extension": ".py",
   "mimetype": "text/x-python",
   "name": "python",
   "nbconvert_exporter": "python",
   "pygments_lexer": "ipython3",
   "version": "3.6.9"
  }
 },
 "nbformat": 4,
 "nbformat_minor": 1
}
